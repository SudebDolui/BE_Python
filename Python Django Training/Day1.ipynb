{
 "cells": [
  {
   "cell_type": "code",
   "execution_count": 3,
   "id": "553505ba",
   "metadata": {},
   "outputs": [
    {
     "data": {
      "text/plain": [
       "51116"
      ]
     },
     "execution_count": 3,
     "metadata": {},
     "output_type": "execute_result"
    }
   ],
   "source": [
    "5+51111"
   ]
  },
  {
   "cell_type": "code",
   "execution_count": 4,
   "id": "848bfd0a",
   "metadata": {},
   "outputs": [
    {
     "data": {
      "text/plain": [
       "'Hello Good morning'"
      ]
     },
     "execution_count": 4,
     "metadata": {},
     "output_type": "execute_result"
    }
   ],
   "source": [
    "'Hello Good morning'"
   ]
  },
  {
   "cell_type": "code",
   "execution_count": 5,
   "id": "7107a33d",
   "metadata": {},
   "outputs": [
    {
     "data": {
      "text/plain": [
       "'Hello Good Mrning'"
      ]
     },
     "execution_count": 5,
     "metadata": {},
     "output_type": "execute_result"
    }
   ],
   "source": [
    "\"Hello Good Mrning\""
   ]
  },
  {
   "cell_type": "code",
   "execution_count": 6,
   "id": "4569c562",
   "metadata": {},
   "outputs": [
    {
     "data": {
      "text/plain": [
       "'Hello'"
      ]
     },
     "execution_count": 6,
     "metadata": {},
     "output_type": "execute_result"
    }
   ],
   "source": [
    "\"\"\"Hello\"\"\""
   ]
  },
  {
   "cell_type": "code",
   "execution_count": 7,
   "id": "40a93200",
   "metadata": {},
   "outputs": [],
   "source": [
    "#Hello this is comment"
   ]
  },
  {
   "cell_type": "markdown",
   "id": "a0153347",
   "metadata": {},
   "source": [
    "# Heading"
   ]
  },
  {
   "cell_type": "code",
   "execution_count": 8,
   "id": "5f121a8d",
   "metadata": {},
   "outputs": [
    {
     "data": {
      "text/plain": [
       "1.3333333333333333"
      ]
     },
     "execution_count": 8,
     "metadata": {},
     "output_type": "execute_result"
    }
   ],
   "source": [
    "8/6"
   ]
  },
  {
   "cell_type": "code",
   "execution_count": 9,
   "id": "f9a70065",
   "metadata": {},
   "outputs": [
    {
     "data": {
      "text/plain": [
       "1"
      ]
     },
     "execution_count": 9,
     "metadata": {},
     "output_type": "execute_result"
    }
   ],
   "source": [
    "8//6"
   ]
  },
  {
   "cell_type": "code",
   "execution_count": 10,
   "id": "cd4cc936",
   "metadata": {},
   "outputs": [
    {
     "data": {
      "text/plain": [
       "9"
      ]
     },
     "execution_count": 10,
     "metadata": {},
     "output_type": "execute_result"
    }
   ],
   "source": [
    "9%99"
   ]
  },
  {
   "cell_type": "code",
   "execution_count": 11,
   "id": "aa50c1a9",
   "metadata": {},
   "outputs": [
    {
     "data": {
      "text/plain": [
       "2"
      ]
     },
     "execution_count": 11,
     "metadata": {},
     "output_type": "execute_result"
    }
   ],
   "source": [
    "8%6"
   ]
  },
  {
   "cell_type": "code",
   "execution_count": 58,
   "id": "f3eb88d8",
   "metadata": {},
   "outputs": [],
   "source": [
    "#% remainder\n",
    "#// floor division\n",
    "#/ True Division"
   ]
  },
  {
   "cell_type": "code",
   "execution_count": 13,
   "id": "342ddd54",
   "metadata": {},
   "outputs": [
    {
     "ename": "TypeError",
     "evalue": "can only concatenate str (not \"int\") to str",
     "output_type": "error",
     "traceback": [
      "\u001b[1;31m---------------------------------------------------------------------------\u001b[0m",
      "\u001b[1;31mTypeError\u001b[0m                                 Traceback (most recent call last)",
      "Input \u001b[1;32mIn [13]\u001b[0m, in \u001b[0;36m<cell line: 1>\u001b[1;34m()\u001b[0m\n\u001b[1;32m----> 1\u001b[0m \u001b[38;5;124;43m\"\u001b[39;49m\u001b[38;5;124;43mdata\u001b[39;49m\u001b[38;5;124;43m\"\u001b[39;49m\u001b[43m \u001b[49m\u001b[38;5;241;43m+\u001b[39;49m\u001b[43m \u001b[49m\u001b[38;5;241;43m50\u001b[39;49m\n",
      "\u001b[1;31mTypeError\u001b[0m: can only concatenate str (not \"int\") to str"
     ]
    }
   ],
   "source": [
    "\"data\" + 50"
   ]
  },
  {
   "cell_type": "code",
   "execution_count": 14,
   "id": "ec4bac1d",
   "metadata": {},
   "outputs": [
    {
     "data": {
      "text/plain": [
       "'data50'"
      ]
     },
     "execution_count": 14,
     "metadata": {},
     "output_type": "execute_result"
    }
   ],
   "source": [
    "\"data\" + str(50)"
   ]
  },
  {
   "cell_type": "code",
   "execution_count": 15,
   "id": "37775eef",
   "metadata": {},
   "outputs": [
    {
     "data": {
      "text/plain": [
       "'data50'"
      ]
     },
     "execution_count": 15,
     "metadata": {},
     "output_type": "execute_result"
    }
   ],
   "source": [
    "\"data\" + \"50\""
   ]
  },
  {
   "cell_type": "code",
   "execution_count": 16,
   "id": "02e06817",
   "metadata": {},
   "outputs": [
    {
     "data": {
      "text/plain": [
       "'datadatadatadatadatadatadatadatadatadata'"
      ]
     },
     "execution_count": 16,
     "metadata": {},
     "output_type": "execute_result"
    }
   ],
   "source": [
    "\"data\" * 10"
   ]
  },
  {
   "cell_type": "code",
   "execution_count": 17,
   "id": "e0a87d0d",
   "metadata": {},
   "outputs": [
    {
     "data": {
      "text/plain": [
       "'data\\ndata\\ndata\\ndata\\ndata\\ndata\\ndata\\ndata\\ndata\\ndata\\n'"
      ]
     },
     "execution_count": 17,
     "metadata": {},
     "output_type": "execute_result"
    }
   ],
   "source": [
    "\"data\\n\"*10"
   ]
  },
  {
   "cell_type": "code",
   "execution_count": 18,
   "id": "a27d7e1e",
   "metadata": {},
   "outputs": [
    {
     "name": "stdout",
     "output_type": "stream",
     "text": [
      "data\n",
      "data\n",
      "data\n",
      "data\n",
      "data\n",
      "data\n",
      "data\n",
      "data\n",
      "data\n",
      "data\n",
      "\n"
     ]
    }
   ],
   "source": [
    "print(\"data\\n\"*10)"
   ]
  },
  {
   "cell_type": "code",
   "execution_count": 19,
   "id": "87c8e51c",
   "metadata": {},
   "outputs": [],
   "source": [
    "#len , type ,int , str ......"
   ]
  },
  {
   "cell_type": "code",
   "execution_count": 21,
   "id": "8554551b",
   "metadata": {},
   "outputs": [
    {
     "name": "stdout",
     "output_type": "stream",
     "text": [
      "['ArithmeticError', 'AssertionError', 'AttributeError', 'BaseException', 'BlockingIOError', 'BrokenPipeError', 'BufferError', 'BytesWarning', 'ChildProcessError', 'ConnectionAbortedError', 'ConnectionError', 'ConnectionRefusedError', 'ConnectionResetError', 'DeprecationWarning', 'EOFError', 'Ellipsis', 'EnvironmentError', 'Exception', 'False', 'FileExistsError', 'FileNotFoundError', 'FloatingPointError', 'FutureWarning', 'GeneratorExit', 'IOError', 'ImportError', 'ImportWarning', 'IndentationError', 'IndexError', 'InterruptedError', 'IsADirectoryError', 'KeyError', 'KeyboardInterrupt', 'LookupError', 'MemoryError', 'ModuleNotFoundError', 'NameError', 'None', 'NotADirectoryError', 'NotImplemented', 'NotImplementedError', 'OSError', 'OverflowError', 'PendingDeprecationWarning', 'PermissionError', 'ProcessLookupError', 'RecursionError', 'ReferenceError', 'ResourceWarning', 'RuntimeError', 'RuntimeWarning', 'StopAsyncIteration', 'StopIteration', 'SyntaxError', 'SyntaxWarning', 'SystemError', 'SystemExit', 'TabError', 'TimeoutError', 'True', 'TypeError', 'UnboundLocalError', 'UnicodeDecodeError', 'UnicodeEncodeError', 'UnicodeError', 'UnicodeTranslateError', 'UnicodeWarning', 'UserWarning', 'ValueError', 'Warning', 'WindowsError', 'ZeroDivisionError', '__IPYTHON__', '__build_class__', '__debug__', '__doc__', '__import__', '__loader__', '__name__', '__package__', '__spec__', 'abs', 'all', 'any', 'ascii', 'bin', 'bool', 'breakpoint', 'bytearray', 'bytes', 'callable', 'chr', 'classmethod', 'compile', 'complex', 'copyright', 'credits', 'delattr', 'dict', 'dir', 'display', 'divmod', 'enumerate', 'eval', 'exec', 'execfile', 'filter', 'float', 'format', 'frozenset', 'get_ipython', 'getattr', 'globals', 'hasattr', 'hash', 'help', 'hex', 'id', 'input', 'int', 'isinstance', 'issubclass', 'iter', 'len', 'license', 'list', 'locals', 'map', 'max', 'memoryview', 'min', 'next', 'object', 'oct', 'open', 'ord', 'pow', 'print', 'property', 'range', 'repr', 'reversed', 'round', 'runfile', 'set', 'setattr', 'slice', 'sorted', 'staticmethod', 'str', 'sum', 'super', 'tuple', 'type', 'vars', 'zip']\n"
     ]
    }
   ],
   "source": [
    "print(dir(__builtins__))"
   ]
  },
  {
   "cell_type": "code",
   "execution_count": 22,
   "id": "4cf9ed41",
   "metadata": {},
   "outputs": [
    {
     "data": {
      "text/plain": [
       "'0b111110100'"
      ]
     },
     "execution_count": 22,
     "metadata": {},
     "output_type": "execute_result"
    }
   ],
   "source": [
    "bin(500)"
   ]
  },
  {
   "cell_type": "code",
   "execution_count": 23,
   "id": "17c3873e",
   "metadata": {},
   "outputs": [
    {
     "data": {
      "text/plain": [
       "'0x1f4'"
      ]
     },
     "execution_count": 23,
     "metadata": {},
     "output_type": "execute_result"
    }
   ],
   "source": [
    "hex(500)"
   ]
  },
  {
   "cell_type": "code",
   "execution_count": 24,
   "id": "8bcab2ed",
   "metadata": {},
   "outputs": [
    {
     "data": {
      "text/plain": [
       "'0o764'"
      ]
     },
     "execution_count": 24,
     "metadata": {},
     "output_type": "execute_result"
    }
   ],
   "source": [
    "oct(500)"
   ]
  },
  {
   "cell_type": "code",
   "execution_count": 25,
   "id": "b34ebfe8",
   "metadata": {},
   "outputs": [
    {
     "name": "stdout",
     "output_type": "stream",
     "text": [
      "Help on built-in function id in module builtins:\n",
      "\n",
      "id(obj, /)\n",
      "    Return the identity of an object.\n",
      "    \n",
      "    This is guaranteed to be unique among simultaneously existing objects.\n",
      "    (CPython uses the object's memory address.)\n",
      "\n"
     ]
    }
   ],
   "source": [
    "help(id)"
   ]
  },
  {
   "cell_type": "code",
   "execution_count": 26,
   "id": "d81dfdd3",
   "metadata": {},
   "outputs": [
    {
     "data": {
      "text/plain": [
       "1944643470960"
      ]
     },
     "execution_count": 26,
     "metadata": {},
     "output_type": "execute_result"
    }
   ],
   "source": [
    "id(\"Shashank\")"
   ]
  },
  {
   "cell_type": "code",
   "execution_count": 27,
   "id": "9916a360",
   "metadata": {},
   "outputs": [
    {
     "data": {
      "text/plain": [
       "1944531351984"
      ]
     },
     "execution_count": 27,
     "metadata": {},
     "output_type": "execute_result"
    }
   ],
   "source": [
    "id(\"Python\")"
   ]
  },
  {
   "cell_type": "code",
   "execution_count": 28,
   "id": "90d6822e",
   "metadata": {},
   "outputs": [
    {
     "data": {
      "text/plain": [
       "1944525559248"
      ]
     },
     "execution_count": 28,
     "metadata": {},
     "output_type": "execute_result"
    }
   ],
   "source": [
    "id(100)"
   ]
  },
  {
   "cell_type": "code",
   "execution_count": 29,
   "id": "cb8dd055",
   "metadata": {},
   "outputs": [],
   "source": [
    "a=100\n",
    "b=a"
   ]
  },
  {
   "cell_type": "code",
   "execution_count": 30,
   "id": "aeb06ce7",
   "metadata": {},
   "outputs": [
    {
     "data": {
      "text/plain": [
       "1944525559248"
      ]
     },
     "execution_count": 30,
     "metadata": {},
     "output_type": "execute_result"
    }
   ],
   "source": [
    "id(a)"
   ]
  },
  {
   "cell_type": "code",
   "execution_count": 31,
   "id": "9d363019",
   "metadata": {},
   "outputs": [
    {
     "data": {
      "text/plain": [
       "1944525559248"
      ]
     },
     "execution_count": 31,
     "metadata": {},
     "output_type": "execute_result"
    }
   ],
   "source": [
    "id(b)"
   ]
  },
  {
   "cell_type": "code",
   "execution_count": 32,
   "id": "3cb623f1",
   "metadata": {},
   "outputs": [
    {
     "name": "stdout",
     "output_type": "stream",
     "text": [
      "Help on built-in function bin in module builtins:\n",
      "\n",
      "bin(number, /)\n",
      "    Return the binary representation of an integer.\n",
      "    \n",
      "    >>> bin(2796202)\n",
      "    '0b1010101010101010101010'\n",
      "\n"
     ]
    }
   ],
   "source": [
    "help(bin)"
   ]
  },
  {
   "cell_type": "code",
   "execution_count": 33,
   "id": "22ddc039",
   "metadata": {
    "collapsed": true
   },
   "outputs": [
    {
     "name": "stdout",
     "output_type": "stream",
     "text": [
      "Help on class slice in module builtins:\n",
      "\n",
      "class slice(object)\n",
      " |  slice(stop)\n",
      " |  slice(start, stop[, step])\n",
      " |  \n",
      " |  Create a slice object.  This is used for extended slicing (e.g. a[0:10:2]).\n",
      " |  \n",
      " |  Methods defined here:\n",
      " |  \n",
      " |  __eq__(self, value, /)\n",
      " |      Return self==value.\n",
      " |  \n",
      " |  __ge__(self, value, /)\n",
      " |      Return self>=value.\n",
      " |  \n",
      " |  __getattribute__(self, name, /)\n",
      " |      Return getattr(self, name).\n",
      " |  \n",
      " |  __gt__(self, value, /)\n",
      " |      Return self>value.\n",
      " |  \n",
      " |  __le__(self, value, /)\n",
      " |      Return self<=value.\n",
      " |  \n",
      " |  __lt__(self, value, /)\n",
      " |      Return self<value.\n",
      " |  \n",
      " |  __ne__(self, value, /)\n",
      " |      Return self!=value.\n",
      " |  \n",
      " |  __reduce__(...)\n",
      " |      Return state information for pickling.\n",
      " |  \n",
      " |  __repr__(self, /)\n",
      " |      Return repr(self).\n",
      " |  \n",
      " |  indices(...)\n",
      " |      S.indices(len) -> (start, stop, stride)\n",
      " |      \n",
      " |      Assuming a sequence of length len, calculate the start and stop\n",
      " |      indices, and the stride length of the extended slice described by\n",
      " |      S. Out of bounds indices are clipped in a manner consistent with the\n",
      " |      handling of normal slices.\n",
      " |  \n",
      " |  ----------------------------------------------------------------------\n",
      " |  Static methods defined here:\n",
      " |  \n",
      " |  __new__(*args, **kwargs) from builtins.type\n",
      " |      Create and return a new object.  See help(type) for accurate signature.\n",
      " |  \n",
      " |  ----------------------------------------------------------------------\n",
      " |  Data descriptors defined here:\n",
      " |  \n",
      " |  start\n",
      " |  \n",
      " |  step\n",
      " |  \n",
      " |  stop\n",
      " |  \n",
      " |  ----------------------------------------------------------------------\n",
      " |  Data and other attributes defined here:\n",
      " |  \n",
      " |  __hash__ = None\n",
      "\n"
     ]
    }
   ],
   "source": [
    "help(slice)"
   ]
  },
  {
   "cell_type": "code",
   "execution_count": 34,
   "id": "21d2a990",
   "metadata": {},
   "outputs": [],
   "source": [
    "name=\"Shashank\""
   ]
  },
  {
   "cell_type": "code",
   "execution_count": 37,
   "id": "d9a79d7a",
   "metadata": {},
   "outputs": [],
   "source": [
    "b=slice(1,4)"
   ]
  },
  {
   "cell_type": "code",
   "execution_count": 38,
   "id": "a2b74fdb",
   "metadata": {},
   "outputs": [
    {
     "data": {
      "text/plain": [
       "'has'"
      ]
     },
     "execution_count": 38,
     "metadata": {},
     "output_type": "execute_result"
    }
   ],
   "source": [
    "name[b]"
   ]
  },
  {
   "cell_type": "code",
   "execution_count": 40,
   "id": "ee48593e",
   "metadata": {},
   "outputs": [],
   "source": [
    "a=10\n",
    "b=20.36\n",
    "c=\"Python\"\n",
    "d=5+3j\n",
    "e=False"
   ]
  },
  {
   "cell_type": "code",
   "execution_count": 42,
   "id": "6348de0f",
   "metadata": {},
   "outputs": [
    {
     "data": {
      "text/plain": [
       "(5+3j)"
      ]
     },
     "execution_count": 42,
     "metadata": {},
     "output_type": "execute_result"
    }
   ],
   "source": [
    "b\n",
    "c\n",
    "e\n",
    "a\n",
    "d"
   ]
  },
  {
   "cell_type": "code",
   "execution_count": 43,
   "id": "d44d7542",
   "metadata": {},
   "outputs": [
    {
     "name": "stdout",
     "output_type": "stream",
     "text": [
      "False\n"
     ]
    },
    {
     "data": {
      "text/plain": [
       "(5+3j)"
      ]
     },
     "execution_count": 43,
     "metadata": {},
     "output_type": "execute_result"
    }
   ],
   "source": [
    "b\n",
    "c\n",
    "print(e)\n",
    "a\n",
    "d"
   ]
  },
  {
   "cell_type": "code",
   "execution_count": 44,
   "id": "ecaf13c1",
   "metadata": {},
   "outputs": [],
   "source": [
    "# Python is T to B Approach"
   ]
  },
  {
   "cell_type": "code",
   "execution_count": 45,
   "id": "e1fceee5",
   "metadata": {},
   "outputs": [
    {
     "data": {
      "text/plain": [
       "'Python'"
      ]
     },
     "execution_count": 45,
     "metadata": {},
     "output_type": "execute_result"
    }
   ],
   "source": [
    "c"
   ]
  },
  {
   "cell_type": "code",
   "execution_count": 52,
   "id": "a6207d7b",
   "metadata": {},
   "outputs": [
    {
     "name": "stdout",
     "output_type": "stream",
     "text": [
      "10.......20.36++++++Python (5+3j) False\n"
     ]
    }
   ],
   "source": [
    "print(a,end=\".......\")\n",
    "print(b,end=\"++++++\")\n",
    "print(c,end=\" \")\n",
    "print(d,end=\" \")\n",
    "print(e)"
   ]
  },
  {
   "cell_type": "code",
   "execution_count": 47,
   "id": "23dcbf66",
   "metadata": {},
   "outputs": [
    {
     "name": "stdout",
     "output_type": "stream",
     "text": [
      "Help on built-in function print in module builtins:\n",
      "\n",
      "print(...)\n",
      "    print(value, ..., sep=' ', end='\\n', file=sys.stdout, flush=False)\n",
      "    \n",
      "    Prints the values to a stream, or to sys.stdout by default.\n",
      "    Optional keyword arguments:\n",
      "    file:  a file-like object (stream); defaults to the current sys.stdout.\n",
      "    sep:   string inserted between values, default a space.\n",
      "    end:   string appended after the last value, default a newline.\n",
      "    flush: whether to forcibly flush the stream.\n",
      "\n"
     ]
    }
   ],
   "source": [
    "help(print)"
   ]
  },
  {
   "cell_type": "code",
   "execution_count": 55,
   "id": "45e8e654",
   "metadata": {},
   "outputs": [
    {
     "name": "stdout",
     "output_type": "stream",
     "text": [
      "10>>>20.36>>>Python>>>(5+3j)>>>False\n"
     ]
    }
   ],
   "source": [
    "print(a,b,c,d,e,sep=\">>>\")"
   ]
  },
  {
   "cell_type": "code",
   "execution_count": 56,
   "id": "6cda6f7c",
   "metadata": {},
   "outputs": [],
   "source": [
    "shashank = print"
   ]
  },
  {
   "cell_type": "code",
   "execution_count": 57,
   "id": "e8ef563c",
   "metadata": {},
   "outputs": [
    {
     "name": "stdout",
     "output_type": "stream",
     "text": [
      "10 20.36 Python (5+3j) False\n"
     ]
    }
   ],
   "source": [
    "shashank(a,b,c,d,e)"
   ]
  },
  {
   "cell_type": "code",
   "execution_count": 59,
   "id": "08fb95f1",
   "metadata": {},
   "outputs": [
    {
     "data": {
      "text/plain": [
       "(10, 20.36, 'Python', (5+3j), False)"
      ]
     },
     "execution_count": 59,
     "metadata": {},
     "output_type": "execute_result"
    }
   ],
   "source": [
    "a,b,c,d,e"
   ]
  },
  {
   "cell_type": "code",
   "execution_count": 61,
   "id": "bff6da05",
   "metadata": {},
   "outputs": [],
   "source": [
    "a=23 "
   ]
  },
  {
   "cell_type": "code",
   "execution_count": 62,
   "id": "bad715bf",
   "metadata": {},
   "outputs": [
    {
     "name": "stdout",
     "output_type": "stream",
     "text": [
      "Square root of 23 is 4.795831523312719\n"
     ]
    }
   ],
   "source": [
    "print(\"Square root of\",a,\"is\",a**0.5)"
   ]
  },
  {
   "cell_type": "code",
   "execution_count": 69,
   "id": "e245a862",
   "metadata": {},
   "outputs": [
    {
     "name": "stdout",
     "output_type": "stream",
     "text": [
      "Square root of 23 is 4.795831523312719\n"
     ]
    }
   ],
   "source": [
    "print(\"Square root of %d is %0.15f\"%(a,a**0.5))"
   ]
  },
  {
   "cell_type": "code",
   "execution_count": 70,
   "id": "6a218595",
   "metadata": {},
   "outputs": [
    {
     "name": "stdout",
     "output_type": "stream",
     "text": [
      "Square root of 23 is 4.795831523312719\n"
     ]
    }
   ],
   "source": [
    "print(f\"Square root of {a} is {a**0.5}\")"
   ]
  },
  {
   "cell_type": "code",
   "execution_count": 72,
   "id": "57c6e18c",
   "metadata": {},
   "outputs": [
    {
     "name": "stdout",
     "output_type": "stream",
     "text": [
      "Square root is 4.795831523312719 of 23\n"
     ]
    }
   ],
   "source": [
    "print(\"Square root is {1} of {0}\".format(a,a**0.5))"
   ]
  },
  {
   "cell_type": "code",
   "execution_count": 73,
   "id": "1ec5614d",
   "metadata": {},
   "outputs": [],
   "source": [
    "#index of array ----- 0"
   ]
  },
  {
   "cell_type": "code",
   "execution_count": 74,
   "id": "52380e3b",
   "metadata": {},
   "outputs": [],
   "source": [
    "#Program for Degree to Radian"
   ]
  },
  {
   "cell_type": "code",
   "execution_count": 92,
   "id": "ba699590",
   "metadata": {},
   "outputs": [
    {
     "name": "stdout",
     "output_type": "stream",
     "text": [
      "500 degree in radian is:  8.7266463\n",
      "500 degree == 8.7266463 radians\n"
     ]
    }
   ],
   "source": [
    "import math\n",
    "a=500\n",
    "print(a, \"degree in radian is: \", round(a*(math.pi)/180,7))\n",
    "\n",
    "print(\"%d degree == %0.7f radians\"%(a,a*(math.pi)/180))"
   ]
  },
  {
   "cell_type": "code",
   "execution_count": 89,
   "id": "e1f8243c",
   "metadata": {},
   "outputs": [
    {
     "data": {
      "text/plain": [
       "3.141592653589793"
      ]
     },
     "execution_count": 89,
     "metadata": {},
     "output_type": "execute_result"
    }
   ],
   "source": [
    "math.pi"
   ]
  },
  {
   "cell_type": "code",
   "execution_count": 103,
   "id": "64f6bee0",
   "metadata": {},
   "outputs": [
    {
     "data": {
      "text/plain": [
       "7.616"
      ]
     },
     "execution_count": 103,
     "metadata": {},
     "output_type": "execute_result"
    }
   ],
   "source": [
    "round(7.6159,3)"
   ]
  },
  {
   "cell_type": "code",
   "execution_count": 104,
   "id": "6d8a0bf4",
   "metadata": {},
   "outputs": [],
   "source": [
    "#name , rollno\n",
    "#Take three subject marks --- Total marks 300\n",
    "#find average , percentage and CGPA\n",
    "#Display name and rollno and above output"
   ]
  },
  {
   "cell_type": "code",
   "execution_count": 108,
   "id": "f8f0d54c",
   "metadata": {},
   "outputs": [
    {
     "name": "stdout",
     "output_type": "stream",
     "text": [
      "Yogesh having roll number\n",
      "14 got average marks as 83.0.\n",
      "He got 83.0% marks.\n",
      "CGPA comes out to be 8.3\n"
     ]
    }
   ],
   "source": [
    "name = \"Yogesh\"\n",
    "roll_no = 14\n",
    "m1=87\n",
    "m2=77\n",
    "m3=85\n",
    "print(f\"{name} having roll number\\n{roll_no} got average marks as {(m1+m2+m3)/3}.\\nHe got {(m1+m2+m3)/3}% marks.\\nCGPA comes out to be {(m1+m2+m3)/3/10}\")"
   ]
  },
  {
   "cell_type": "code",
   "execution_count": 109,
   "id": "a840eda5",
   "metadata": {},
   "outputs": [
    {
     "name": "stdout",
     "output_type": "stream",
     "text": [
      "Average is 60.00, Pecentage is 60.00, CGPA is 6.32\n"
     ]
    }
   ],
   "source": [
    "science = 60\n",
    "english = 30\n",
    "maths = 90\n",
    "total = science+english+maths\n",
    "\n",
    "print(f\"Average is %0.2f, Pecentage is %0.2f, CGPA is %0.2f\"%((total)/3,(total*100/300),(total*100/300)/9.5))"
   ]
  },
  {
   "cell_type": "code",
   "execution_count": 110,
   "id": "34431a44",
   "metadata": {},
   "outputs": [
    {
     "data": {
      "text/plain": [
       "('shashank', 455, 269, 89.66666666666667, 9.43859649122807)"
      ]
     },
     "execution_count": 110,
     "metadata": {},
     "output_type": "execute_result"
    }
   ],
   "source": [
    "name,roll,m1,m2,m3=\"shashank\",455,87,96,86\n",
    "total=m1+m2+m3\n",
    "avg=total/3\n",
    "cgpa=avg/9.5\n",
    "\n",
    "name,roll,total,avg,cgpa"
   ]
  },
  {
   "cell_type": "code",
   "execution_count": 111,
   "id": "0a161027",
   "metadata": {},
   "outputs": [
    {
     "name": "stdout",
     "output_type": "stream",
     "text": [
      "sssss\n",
      "  s\n",
      "sssss\n"
     ]
    }
   ],
   "source": [
    "#Program to print the data\n",
    "\n",
    "a=\"s\"\n",
    "print(a*5)\n",
    "print(\" \", a)\n",
    "print(a*5)"
   ]
  },
  {
   "cell_type": "code",
   "execution_count": 112,
   "id": "d0edd2c3",
   "metadata": {},
   "outputs": [
    {
     "name": "stdout",
     "output_type": "stream",
     "text": [
      "sssss\n",
      "  s\n",
      "sssss\n"
     ]
    }
   ],
   "source": [
    "print('s'*5)\n",
    "print(' '*2+'s')\n",
    "print('s'*5)"
   ]
  },
  {
   "cell_type": "code",
   "execution_count": 113,
   "id": "14a7941c",
   "metadata": {},
   "outputs": [
    {
     "name": "stdout",
     "output_type": "stream",
     "text": [
      "sssss  ppppp\n",
      "  s      p\n",
      "sssss  ppppp\n"
     ]
    }
   ],
   "source": [
    "s = 's'\n",
    "p = 'p'\n",
    "print(s*5+'  '+p*5, ' '*2+s+' '*6+p, s*5+'  '+p*5, sep='\\n')"
   ]
  },
  {
   "cell_type": "code",
   "execution_count": 119,
   "id": "ad63a85b",
   "metadata": {},
   "outputs": [
    {
     "name": "stdout",
     "output_type": "stream",
     "text": [
      "\n",
      "sssss  ppppp   uuuuuuuuuuuuuuuuuuuuu\n",
      "  s      p             777777777\n",
      "sssss  ppppp   vvvvvvvvvvvvvvvvvvvvv \n"
     ]
    }
   ],
   "source": [
    "print(\"\"\"\n",
    "sssss  ppppp   uuuuuuuuuuuuuuuuuuuuu\n",
    "  s      p             777777777\n",
    "sssss  ppppp   vvvvvvvvvvvvvvvvvvvvv \n",
    "\"\"\",end=\"\")"
   ]
  },
  {
   "cell_type": "code",
   "execution_count": null,
   "id": "13478dc1",
   "metadata": {},
   "outputs": [],
   "source": []
  },
  {
   "cell_type": "code",
   "execution_count": null,
   "id": "04b07668",
   "metadata": {},
   "outputs": [],
   "source": []
  }
 ],
 "metadata": {
  "kernelspec": {
   "display_name": "Python 3 (ipykernel)",
   "language": "python",
   "name": "python3"
  },
  "language_info": {
   "codemirror_mode": {
    "name": "ipython",
    "version": 3
   },
   "file_extension": ".py",
   "mimetype": "text/x-python",
   "name": "python",
   "nbconvert_exporter": "python",
   "pygments_lexer": "ipython3",
   "version": "3.9.12"
  }
 },
 "nbformat": 4,
 "nbformat_minor": 5
}
