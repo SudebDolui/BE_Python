{
 "cells": [
  {
   "cell_type": "markdown",
   "id": "0616edd3",
   "metadata": {},
   "source": [
    "# Predefined Modules in Python"
   ]
  },
  {
   "cell_type": "markdown",
   "id": "e6426027",
   "metadata": {},
   "source": [
    "#OS Module "
   ]
  },
  {
   "cell_type": "code",
   "execution_count": 1,
   "id": "ea83557d",
   "metadata": {},
   "outputs": [],
   "source": [
    "import os"
   ]
  },
  {
   "cell_type": "code",
   "execution_count": 3,
   "id": "ece0cc7e",
   "metadata": {},
   "outputs": [
    {
     "name": "stdout",
     "output_type": "stream",
     "text": [
      "Note: you may need to restart the kernel to use updated packages.\n"
     ]
    },
    {
     "name": "stderr",
     "output_type": "stream",
     "text": [
      "ERROR: Could not find a version that satisfies the requirement os (from versions: none)\n",
      "ERROR: No matching distribution found for os\n"
     ]
    }
   ],
   "source": [
    "pip install os"
   ]
  },
  {
   "cell_type": "code",
   "execution_count": 4,
   "id": "01cc7801",
   "metadata": {},
   "outputs": [
    {
     "data": {
      "text/plain": [
       "'nt'"
      ]
     },
     "execution_count": 4,
     "metadata": {},
     "output_type": "execute_result"
    }
   ],
   "source": [
    "os.name"
   ]
  },
  {
   "cell_type": "code",
   "execution_count": 6,
   "id": "999a9a20",
   "metadata": {},
   "outputs": [
    {
     "name": "stdout",
     "output_type": "stream",
     "text": [
      "You are using windows OS\n"
     ]
    }
   ],
   "source": [
    "if os.name=='nt':\n",
    "    print(\"You are using windows OS\")\n",
    "else:\n",
    "    print(\"Not windows\")"
   ]
  },
  {
   "cell_type": "code",
   "execution_count": 7,
   "id": "d51ca67e",
   "metadata": {},
   "outputs": [],
   "source": [
    "import sys"
   ]
  },
  {
   "cell_type": "code",
   "execution_count": 9,
   "id": "fbc96542",
   "metadata": {},
   "outputs": [
    {
     "data": {
      "text/plain": [
       "'win32'"
      ]
     },
     "execution_count": 9,
     "metadata": {},
     "output_type": "execute_result"
    }
   ],
   "source": [
    "sys.platform"
   ]
  },
  {
   "cell_type": "code",
   "execution_count": 11,
   "id": "b00d2acc",
   "metadata": {},
   "outputs": [
    {
     "data": {
      "text/plain": [
       "['.ipynb_checkpoints',\n",
       " 'Day 3.ipynb',\n",
       " 'Day 4.ipynb',\n",
       " 'Day 6.ipynb',\n",
       " 'Day 7.ipynb',\n",
       " 'day2.ipynb',\n",
       " 'Day5.ipynb']"
      ]
     },
     "execution_count": 11,
     "metadata": {},
     "output_type": "execute_result"
    }
   ],
   "source": [
    "#listing current directory files\n",
    "os.listdir()"
   ]
  },
  {
   "cell_type": "code",
   "execution_count": 14,
   "id": "45d2818a",
   "metadata": {},
   "outputs": [
    {
     "data": {
      "text/plain": [
       "['.ipynb_checkpoints',\n",
       " 'Day 3.ipynb',\n",
       " 'Day 4.ipynb',\n",
       " 'Day 6.ipynb',\n",
       " 'Day 7.ipynb',\n",
       " 'day2.ipynb',\n",
       " 'Day5.ipynb',\n",
       " 'Manoj']"
      ]
     },
     "execution_count": 14,
     "metadata": {},
     "output_type": "execute_result"
    }
   ],
   "source": [
    "os.listdir()"
   ]
  },
  {
   "cell_type": "code",
   "execution_count": 16,
   "id": "4c09f877",
   "metadata": {},
   "outputs": [
    {
     "data": {
      "text/plain": [
       "'C:\\\\Users\\\\manoj\\\\Documents\\\\Python Scripts\\\\training'"
      ]
     },
     "execution_count": 16,
     "metadata": {},
     "output_type": "execute_result"
    }
   ],
   "source": [
    "os.getcwd()"
   ]
  },
  {
   "cell_type": "code",
   "execution_count": 17,
   "id": "3661fb9f",
   "metadata": {},
   "outputs": [],
   "source": [
    "os.chdir('C:\\\\Users\\\\manoj\\\\Documents\\\\Python Scripts\\\\training\\\\Manoj')"
   ]
  },
  {
   "cell_type": "code",
   "execution_count": 19,
   "id": "fc0bd809",
   "metadata": {},
   "outputs": [
    {
     "data": {
      "text/plain": [
       "'C:\\\\Users\\\\manoj\\\\Documents\\\\Python Scripts\\\\training\\\\Manoj'"
      ]
     },
     "execution_count": 19,
     "metadata": {},
     "output_type": "execute_result"
    }
   ],
   "source": [
    "os.getcwd()"
   ]
  },
  {
   "cell_type": "code",
   "execution_count": 20,
   "id": "248c3f0d",
   "metadata": {},
   "outputs": [],
   "source": [
    "os.mkdir(\"Another folder in MAnoj\")"
   ]
  },
  {
   "cell_type": "code",
   "execution_count": 21,
   "id": "720afcbe",
   "metadata": {},
   "outputs": [
    {
     "data": {
      "text/plain": [
       "'C:\\\\Users\\\\manoj\\\\Documents\\\\Python Scripts\\\\training\\\\Manoj'"
      ]
     },
     "execution_count": 21,
     "metadata": {},
     "output_type": "execute_result"
    }
   ],
   "source": [
    "os.getcwd()"
   ]
  },
  {
   "cell_type": "code",
   "execution_count": 23,
   "id": "b4d4619a",
   "metadata": {},
   "outputs": [
    {
     "data": {
      "text/plain": [
       "['Another folder in MAnoj']"
      ]
     },
     "execution_count": 23,
     "metadata": {},
     "output_type": "execute_result"
    }
   ],
   "source": [
    "os.listdir()"
   ]
  },
  {
   "cell_type": "code",
   "execution_count": 24,
   "id": "f00f6ea4",
   "metadata": {},
   "outputs": [],
   "source": [
    "os.rename(\"Another folder in MAnoj\", \"Jallaram\")"
   ]
  },
  {
   "cell_type": "code",
   "execution_count": 25,
   "id": "c7c31bc5",
   "metadata": {},
   "outputs": [
    {
     "ename": "PermissionError",
     "evalue": "[WinError 5] Access is denied: 'Jallaram'",
     "output_type": "error",
     "traceback": [
      "\u001b[1;31m---------------------------------------------------------------------------\u001b[0m",
      "\u001b[1;31mPermissionError\u001b[0m                           Traceback (most recent call last)",
      "Input \u001b[1;32mIn [25]\u001b[0m, in \u001b[0;36m<cell line: 1>\u001b[1;34m()\u001b[0m\n\u001b[1;32m----> 1\u001b[0m \u001b[43mos\u001b[49m\u001b[38;5;241;43m.\u001b[39;49m\u001b[43mremove\u001b[49m\u001b[43m(\u001b[49m\u001b[38;5;124;43m\"\u001b[39;49m\u001b[38;5;124;43mJallaram\u001b[39;49m\u001b[38;5;124;43m\"\u001b[39;49m\u001b[43m)\u001b[49m\n",
      "\u001b[1;31mPermissionError\u001b[0m: [WinError 5] Access is denied: 'Jallaram'"
     ]
    }
   ],
   "source": [
    "os.remove(\"Jallaram\")"
   ]
  },
  {
   "cell_type": "code",
   "execution_count": 29,
   "id": "8c18ddf3",
   "metadata": {},
   "outputs": [
    {
     "data": {
      "text/plain": [
       "['Jallaram']"
      ]
     },
     "execution_count": 29,
     "metadata": {},
     "output_type": "execute_result"
    }
   ],
   "source": [
    "os.listdir()"
   ]
  },
  {
   "cell_type": "code",
   "execution_count": 30,
   "id": "55cbbece",
   "metadata": {},
   "outputs": [
    {
     "data": {
      "text/plain": [
       "<module 'ntpath' from 'C:\\\\Users\\\\manoj\\\\anaconda3\\\\lib\\\\ntpath.py'>"
      ]
     },
     "execution_count": 30,
     "metadata": {},
     "output_type": "execute_result"
    }
   ],
   "source": [
    "os.path"
   ]
  },
  {
   "cell_type": "code",
   "execution_count": 36,
   "id": "9813db1c",
   "metadata": {},
   "outputs": [],
   "source": [
    "a= os.path.join('C:\\\\Users\\\\manoj\\\\Documents\\\\Python Scripts\\\\training\\\\Manoj',\"Morning\")"
   ]
  },
  {
   "cell_type": "code",
   "execution_count": 38,
   "id": "51241e15",
   "metadata": {},
   "outputs": [],
   "source": [
    "os.makedirs(a,0o666)"
   ]
  },
  {
   "cell_type": "code",
   "execution_count": 40,
   "id": "25af9c8e",
   "metadata": {},
   "outputs": [],
   "source": [
    "b= os.path.join('C:\\\\Users\\\\manoj\\\\Documents\\\\Python Scripts\\\\training\\\\Manoj',\"Afternoon\")"
   ]
  },
  {
   "cell_type": "code",
   "execution_count": 41,
   "id": "16740bcc",
   "metadata": {},
   "outputs": [],
   "source": [
    "os.makedirs(b,0o061)"
   ]
  },
  {
   "cell_type": "code",
   "execution_count": 43,
   "id": "80367fd6",
   "metadata": {},
   "outputs": [],
   "source": [
    "os.chmod(b,0o000)"
   ]
  },
  {
   "cell_type": "code",
   "execution_count": 44,
   "id": "962cf49c",
   "metadata": {},
   "outputs": [
    {
     "data": {
      "text/plain": [
       "['Afternoon', 'Jallaram', 'Morning']"
      ]
     },
     "execution_count": 44,
     "metadata": {},
     "output_type": "execute_result"
    }
   ],
   "source": [
    "os.listdir()"
   ]
  },
  {
   "cell_type": "code",
   "execution_count": 45,
   "id": "ee463791",
   "metadata": {},
   "outputs": [],
   "source": [
    "os.chdir('C:\\\\Users\\\\manoj\\\\Documents\\\\Python Scripts\\\\training')"
   ]
  },
  {
   "cell_type": "code",
   "execution_count": 46,
   "id": "09009e4a",
   "metadata": {},
   "outputs": [
    {
     "data": {
      "text/plain": [
       "24914"
      ]
     },
     "execution_count": 46,
     "metadata": {},
     "output_type": "execute_result"
    }
   ],
   "source": [
    "os.path.getsize('Day 3.ipynb')"
   ]
  },
  {
   "cell_type": "code",
   "execution_count": 49,
   "id": "9076d229",
   "metadata": {},
   "outputs": [
    {
     "data": {
      "text/plain": [
       "25"
      ]
     },
     "execution_count": 49,
     "metadata": {},
     "output_type": "execute_result"
    }
   ],
   "source": [
    "##file size\n",
    "round(os.path.getsize('Day 3.ipynb')/1000)"
   ]
  },
  {
   "cell_type": "code",
   "execution_count": 54,
   "id": "dbad4ebe",
   "metadata": {},
   "outputs": [
    {
     "data": {
      "text/plain": [
       "False"
      ]
     },
     "execution_count": 54,
     "metadata": {},
     "output_type": "execute_result"
    }
   ],
   "source": [
    "#check file exists in folder\n",
    "os.path.exists('Day 9.ipynb')"
   ]
  },
  {
   "cell_type": "code",
   "execution_count": 55,
   "id": "75775be3",
   "metadata": {},
   "outputs": [
    {
     "data": {
      "text/plain": [
       "True"
      ]
     },
     "execution_count": 55,
     "metadata": {},
     "output_type": "execute_result"
    }
   ],
   "source": [
    "os.access(\"Day 3.ipynb\",os.F_OK)"
   ]
  },
  {
   "cell_type": "markdown",
   "id": "7d72b888",
   "metadata": {},
   "source": [
    "# Date, Time and calendar"
   ]
  },
  {
   "cell_type": "code",
   "execution_count": 56,
   "id": "0e07459c",
   "metadata": {},
   "outputs": [],
   "source": [
    "import time\n",
    "import calendar"
   ]
  },
  {
   "cell_type": "code",
   "execution_count": 57,
   "id": "700c8eb6",
   "metadata": {},
   "outputs": [],
   "source": [
    "import datetime"
   ]
  },
  {
   "cell_type": "code",
   "execution_count": 58,
   "id": "e5990e7d",
   "metadata": {},
   "outputs": [
    {
     "data": {
      "text/plain": [
       "-23400"
      ]
     },
     "execution_count": 58,
     "metadata": {},
     "output_type": "execute_result"
    }
   ],
   "source": [
    "time.altzone"
   ]
  },
  {
   "cell_type": "code",
   "execution_count": 59,
   "id": "6c57e278",
   "metadata": {},
   "outputs": [
    {
     "data": {
      "text/plain": [
       "-19800"
      ]
     },
     "execution_count": 59,
     "metadata": {},
     "output_type": "execute_result"
    }
   ],
   "source": [
    "time.timezone"
   ]
  },
  {
   "cell_type": "code",
   "execution_count": 60,
   "id": "724cdfdf",
   "metadata": {},
   "outputs": [
    {
     "data": {
      "text/plain": [
       "<function time.localtime>"
      ]
     },
     "execution_count": 60,
     "metadata": {},
     "output_type": "execute_result"
    }
   ],
   "source": [
    "time.localtime"
   ]
  },
  {
   "cell_type": "code",
   "execution_count": 62,
   "id": "0a182d3b",
   "metadata": {},
   "outputs": [
    {
     "data": {
      "text/plain": [
       "time.struct_time(tm_year=2022, tm_mon=10, tm_mday=17, tm_hour=8, tm_min=36, tm_sec=52, tm_wday=0, tm_yday=290, tm_isdst=0)"
      ]
     },
     "execution_count": 62,
     "metadata": {},
     "output_type": "execute_result"
    }
   ],
   "source": [
    "time.localtime()"
   ]
  },
  {
   "cell_type": "code",
   "execution_count": 63,
   "id": "91f571ff",
   "metadata": {},
   "outputs": [
    {
     "data": {
      "text/plain": [
       "(2022, 10, 17)"
      ]
     },
     "execution_count": 63,
     "metadata": {},
     "output_type": "execute_result"
    }
   ],
   "source": [
    "time.localtime()[0:3]"
   ]
  },
  {
   "cell_type": "code",
   "execution_count": 64,
   "id": "c2c5f4c0",
   "metadata": {},
   "outputs": [
    {
     "data": {
      "text/plain": [
       "<function time.gmtime>"
      ]
     },
     "execution_count": 64,
     "metadata": {},
     "output_type": "execute_result"
    }
   ],
   "source": [
    "time.gmtime"
   ]
  },
  {
   "cell_type": "code",
   "execution_count": 65,
   "id": "aa2de78a",
   "metadata": {},
   "outputs": [
    {
     "data": {
      "text/plain": [
       "time.struct_time(tm_year=2022, tm_mon=10, tm_mday=17, tm_hour=3, tm_min=9, tm_sec=35, tm_wday=0, tm_yday=290, tm_isdst=0)"
      ]
     },
     "execution_count": 65,
     "metadata": {},
     "output_type": "execute_result"
    }
   ],
   "source": [
    "time.gmtime()"
   ]
  },
  {
   "cell_type": "code",
   "execution_count": 139,
   "id": "6185a4e5",
   "metadata": {},
   "outputs": [
    {
     "data": {
      "text/plain": [
       "1665976356.3190067"
      ]
     },
     "execution_count": 139,
     "metadata": {},
     "output_type": "execute_result"
    }
   ],
   "source": [
    "time.time()"
   ]
  },
  {
   "cell_type": "code",
   "execution_count": 148,
   "id": "4536ad06",
   "metadata": {},
   "outputs": [
    {
     "data": {
      "text/plain": [
       "['Mon', 'Oct', '17', '08:46:29', '2022']"
      ]
     },
     "execution_count": 148,
     "metadata": {},
     "output_type": "execute_result"
    }
   ],
   "source": [
    "time.ctime().split()"
   ]
  },
  {
   "cell_type": "raw",
   "id": "bad63fb6",
   "metadata": {},
   "source": []
  },
  {
   "cell_type": "code",
   "execution_count": 151,
   "id": "ed8003d4",
   "metadata": {},
   "outputs": [
    {
     "name": "stdout",
     "output_type": "stream",
     "text": [
      "Output will cme in 10 seconds\n",
      "Output came\n"
     ]
    }
   ],
   "source": [
    "print(\"Output will cme in 10 seconds\")\n",
    "time.sleep(10)\n",
    "print(\"Output came\")"
   ]
  },
  {
   "cell_type": "code",
   "execution_count": 152,
   "id": "cf3603d4",
   "metadata": {},
   "outputs": [
    {
     "data": {
      "text/plain": [
       "'08 Mon'"
      ]
     },
     "execution_count": 152,
     "metadata": {},
     "output_type": "execute_result"
    }
   ],
   "source": [
    "time.strftime(\"%H %a\")"
   ]
  },
  {
   "cell_type": "code",
   "execution_count": 154,
   "id": "2f67f233",
   "metadata": {},
   "outputs": [
    {
     "data": {
      "text/plain": [
       "'Oct 08 51 22 Mon AM'"
      ]
     },
     "execution_count": 154,
     "metadata": {},
     "output_type": "execute_result"
    }
   ],
   "source": [
    "time.strftime(\"%h %H %M %S %a %p\")"
   ]
  },
  {
   "cell_type": "code",
   "execution_count": 155,
   "id": "cf630d07",
   "metadata": {},
   "outputs": [
    {
     "data": {
      "text/plain": [
       "1970"
      ]
     },
     "execution_count": 155,
     "metadata": {},
     "output_type": "execute_result"
    }
   ],
   "source": [
    "calendar.EPOCH"
   ]
  },
  {
   "cell_type": "code",
   "execution_count": 158,
   "id": "28ffd74c",
   "metadata": {},
   "outputs": [
    {
     "name": "stdout",
     "output_type": "stream",
     "text": [
      "                                  2022\n",
      "\n",
      "      January                   February                   March\n",
      "Mo Tu We Th Fr Sa Su      Mo Tu We Th Fr Sa Su      Mo Tu We Th Fr Sa Su\n",
      "                1  2          1  2  3  4  5  6          1  2  3  4  5  6\n",
      " 3  4  5  6  7  8  9       7  8  9 10 11 12 13       7  8  9 10 11 12 13\n",
      "10 11 12 13 14 15 16      14 15 16 17 18 19 20      14 15 16 17 18 19 20\n",
      "17 18 19 20 21 22 23      21 22 23 24 25 26 27      21 22 23 24 25 26 27\n",
      "24 25 26 27 28 29 30      28                        28 29 30 31\n",
      "31\n",
      "\n",
      "       April                      May                       June\n",
      "Mo Tu We Th Fr Sa Su      Mo Tu We Th Fr Sa Su      Mo Tu We Th Fr Sa Su\n",
      "             1  2  3                         1             1  2  3  4  5\n",
      " 4  5  6  7  8  9 10       2  3  4  5  6  7  8       6  7  8  9 10 11 12\n",
      "11 12 13 14 15 16 17       9 10 11 12 13 14 15      13 14 15 16 17 18 19\n",
      "18 19 20 21 22 23 24      16 17 18 19 20 21 22      20 21 22 23 24 25 26\n",
      "25 26 27 28 29 30         23 24 25 26 27 28 29      27 28 29 30\n",
      "                          30 31\n",
      "\n",
      "        July                     August                  September\n",
      "Mo Tu We Th Fr Sa Su      Mo Tu We Th Fr Sa Su      Mo Tu We Th Fr Sa Su\n",
      "             1  2  3       1  2  3  4  5  6  7                1  2  3  4\n",
      " 4  5  6  7  8  9 10       8  9 10 11 12 13 14       5  6  7  8  9 10 11\n",
      "11 12 13 14 15 16 17      15 16 17 18 19 20 21      12 13 14 15 16 17 18\n",
      "18 19 20 21 22 23 24      22 23 24 25 26 27 28      19 20 21 22 23 24 25\n",
      "25 26 27 28 29 30 31      29 30 31                  26 27 28 29 30\n",
      "\n",
      "      October                   November                  December\n",
      "Mo Tu We Th Fr Sa Su      Mo Tu We Th Fr Sa Su      Mo Tu We Th Fr Sa Su\n",
      "                1  2          1  2  3  4  5  6                1  2  3  4\n",
      " 3  4  5  6  7  8  9       7  8  9 10 11 12 13       5  6  7  8  9 10 11\n",
      "10 11 12 13 14 15 16      14 15 16 17 18 19 20      12 13 14 15 16 17 18\n",
      "17 18 19 20 21 22 23      21 22 23 24 25 26 27      19 20 21 22 23 24 25\n",
      "24 25 26 27 28 29 30      28 29 30                  26 27 28 29 30 31\n",
      "31\n",
      "\n"
     ]
    }
   ],
   "source": [
    "print(calendar.calendar(2022))"
   ]
  },
  {
   "cell_type": "code",
   "execution_count": 163,
   "id": "da7ca901",
   "metadata": {},
   "outputs": [
    {
     "name": "stdout",
     "output_type": "stream",
     "text": [
      "    October 2022\n",
      "Mo Tu We Th Fr Sa Su\n",
      "                1  2\n",
      " 3  4  5  6  7  8  9\n",
      "10 11 12 13 14 15 16\n",
      "17 18 19 20 21 22 23\n",
      "24 25 26 27 28 29 30\n",
      "31\n",
      "\n"
     ]
    }
   ],
   "source": [
    "print(calendar.month(2022,10))"
   ]
  },
  {
   "cell_type": "code",
   "execution_count": 164,
   "id": "099822b8",
   "metadata": {},
   "outputs": [
    {
     "data": {
      "text/plain": [
       "2"
      ]
     },
     "execution_count": 164,
     "metadata": {},
     "output_type": "execute_result"
    }
   ],
   "source": [
    "calendar.February"
   ]
  },
  {
   "cell_type": "code",
   "execution_count": 166,
   "id": "5a55ef2c",
   "metadata": {},
   "outputs": [
    {
     "data": {
      "text/plain": [
       "['Mon', 'Tue', 'Wed', 'Thu', 'Fri', 'Sat', 'Sun']"
      ]
     },
     "execution_count": 166,
     "metadata": {},
     "output_type": "execute_result"
    }
   ],
   "source": [
    "list(calendar.day_abbr)"
   ]
  },
  {
   "cell_type": "code",
   "execution_count": 167,
   "id": "8cc8d158",
   "metadata": {},
   "outputs": [
    {
     "data": {
      "text/plain": [
       "<calendar._localized_day at 0x1fb7b5b1b80>"
      ]
     },
     "execution_count": 167,
     "metadata": {},
     "output_type": "execute_result"
    }
   ],
   "source": [
    "calendar.day_name"
   ]
  },
  {
   "cell_type": "code",
   "execution_count": 168,
   "id": "5efd7a9b",
   "metadata": {},
   "outputs": [
    {
     "data": {
      "text/plain": [
       "['Monday', 'Tuesday', 'Wednesday', 'Thursday', 'Friday', 'Saturday', 'Sunday']"
      ]
     },
     "execution_count": 168,
     "metadata": {},
     "output_type": "execute_result"
    }
   ],
   "source": [
    "list(calendar.day_name)"
   ]
  },
  {
   "cell_type": "code",
   "execution_count": 171,
   "id": "3ce94818",
   "metadata": {},
   "outputs": [
    {
     "data": {
      "text/plain": [
       "['',\n",
       " 'January',\n",
       " 'February',\n",
       " 'March',\n",
       " 'April',\n",
       " 'May',\n",
       " 'June',\n",
       " 'July',\n",
       " 'August',\n",
       " 'September',\n",
       " 'October',\n",
       " 'November',\n",
       " 'December']"
      ]
     },
     "execution_count": 171,
     "metadata": {},
     "output_type": "execute_result"
    }
   ],
   "source": [
    "list(calendar.month_name)"
   ]
  },
  {
   "cell_type": "code",
   "execution_count": 173,
   "id": "84f2e448",
   "metadata": {},
   "outputs": [
    {
     "data": {
      "text/plain": [
       "' Jan Feb Mar Apr May Jun Jul Aug Sep Oct Nov Dec'"
      ]
     },
     "execution_count": 173,
     "metadata": {},
     "output_type": "execute_result"
    }
   ],
   "source": [
    "' '.join(list(calendar.month_abbr))"
   ]
  },
  {
   "cell_type": "code",
   "execution_count": 175,
   "id": "6d7be921",
   "metadata": {},
   "outputs": [
    {
     "data": {
      "text/plain": [
       "(5, 31)"
      ]
     },
     "execution_count": 175,
     "metadata": {},
     "output_type": "execute_result"
    }
   ],
   "source": [
    "calendar.monthrange(2022,10)"
   ]
  },
  {
   "cell_type": "code",
   "execution_count": 179,
   "id": "7b0a504f",
   "metadata": {},
   "outputs": [
    {
     "data": {
      "text/plain": [
       "8"
      ]
     },
     "execution_count": 179,
     "metadata": {},
     "output_type": "execute_result"
    }
   ],
   "source": [
    "calendar.leapdays(1992,2022)"
   ]
  },
  {
   "cell_type": "code",
   "execution_count": 184,
   "id": "8599ad76",
   "metadata": {},
   "outputs": [
    {
     "data": {
      "text/plain": [
       "True"
      ]
     },
     "execution_count": 184,
     "metadata": {},
     "output_type": "execute_result"
    }
   ],
   "source": [
    "calendar.isleap(2020)"
   ]
  },
  {
   "cell_type": "code",
   "execution_count": 185,
   "id": "9b5f6328",
   "metadata": {},
   "outputs": [
    {
     "data": {
      "text/plain": [
       "'month'"
      ]
     },
     "execution_count": 185,
     "metadata": {},
     "output_type": "execute_result"
    }
   ],
   "source": [
    "calendar."
   ]
  },
  {
   "cell_type": "code",
   "execution_count": 186,
   "id": "98d9d57e",
   "metadata": {},
   "outputs": [],
   "source": [
    "#how to use timedelta object"
   ]
  },
  {
   "cell_type": "code",
   "execution_count": 189,
   "id": "42a8fcb4",
   "metadata": {},
   "outputs": [
    {
     "data": {
      "text/plain": [
       "datetime.timedelta(days=300, seconds=11400)"
      ]
     },
     "execution_count": 189,
     "metadata": {},
     "output_type": "execute_result"
    }
   ],
   "source": [
    "datetime.timedelta(days=300,hours=3,minutes=10)"
   ]
  },
  {
   "cell_type": "code",
   "execution_count": 190,
   "id": "7dd4460e",
   "metadata": {},
   "outputs": [
    {
     "name": "stdout",
     "output_type": "stream",
     "text": [
      "300 days, 3:10:00\n"
     ]
    }
   ],
   "source": [
    "print(datetime.timedelta(days=300,hours=3,minutes=10))"
   ]
  },
  {
   "cell_type": "code",
   "execution_count": 191,
   "id": "b4dcd62f",
   "metadata": {},
   "outputs": [
    {
     "data": {
      "text/plain": [
       "datetime.datetime(2022, 10, 17, 9, 20, 28, 273470)"
      ]
     },
     "execution_count": 191,
     "metadata": {},
     "output_type": "execute_result"
    }
   ],
   "source": [
    "datetime.datetime.now()"
   ]
  },
  {
   "cell_type": "code",
   "execution_count": 192,
   "id": "c0133e23",
   "metadata": {},
   "outputs": [
    {
     "name": "stdout",
     "output_type": "stream",
     "text": [
      "2022-10-17 09:20:54.897829\n"
     ]
    }
   ],
   "source": [
    "print(datetime.datetime.now())"
   ]
  },
  {
   "cell_type": "code",
   "execution_count": 197,
   "id": "c31c7440",
   "metadata": {},
   "outputs": [],
   "source": [
    "delp = datetime.timedelta(days=300,hours=3,minutes=10)\n",
    "now= datetime.datetime.now()"
   ]
  },
  {
   "cell_type": "code",
   "execution_count": 202,
   "id": "34ceffdb",
   "metadata": {},
   "outputs": [
    {
     "name": "stdout",
     "output_type": "stream",
     "text": [
      "2023-08-13 12:33:49.259906\n"
     ]
    }
   ],
   "source": [
    "#find the future date\n",
    "future = delp+now\n",
    "print(future)"
   ]
  },
  {
   "cell_type": "code",
   "execution_count": 201,
   "id": "e4fa0745",
   "metadata": {},
   "outputs": [
    {
     "name": "stdout",
     "output_type": "stream",
     "text": [
      "2021-12-21 06:13:49.259906\n"
     ]
    }
   ],
   "source": [
    "#find the past date\n",
    "past = now-delp\n",
    "print(past)"
   ]
  },
  {
   "cell_type": "code",
   "execution_count": 203,
   "id": "07db121e",
   "metadata": {},
   "outputs": [],
   "source": [
    "Diwali = datetime.date(datetime.datetime.now().year, 10,24)"
   ]
  },
  {
   "cell_type": "code",
   "execution_count": 204,
   "id": "4710413d",
   "metadata": {},
   "outputs": [
    {
     "name": "stdout",
     "output_type": "stream",
     "text": [
      "2022-10-24\n"
     ]
    }
   ],
   "source": [
    "print(Diwali)"
   ]
  },
  {
   "cell_type": "code",
   "execution_count": 205,
   "id": "a1de3a88",
   "metadata": {},
   "outputs": [],
   "source": [
    "today=datetime.date.today()"
   ]
  },
  {
   "cell_type": "code",
   "execution_count": 207,
   "id": "7ac8c710",
   "metadata": {},
   "outputs": [
    {
     "name": "stdout",
     "output_type": "stream",
     "text": [
      "2022-10-17\n"
     ]
    }
   ],
   "source": [
    "print(today)"
   ]
  },
  {
   "cell_type": "code",
   "execution_count": 208,
   "id": "b696a7cb",
   "metadata": {},
   "outputs": [
    {
     "data": {
      "text/plain": [
       "datetime.timedelta(days=7)"
      ]
     },
     "execution_count": 208,
     "metadata": {},
     "output_type": "execute_result"
    }
   ],
   "source": [
    "Diwali-today"
   ]
  },
  {
   "cell_type": "code",
   "execution_count": 217,
   "id": "0d1d62c1",
   "metadata": {},
   "outputs": [
    {
     "name": "stdout",
     "output_type": "stream",
     "text": [
      "11146 days, 0:00:00\n",
      "30.53698630136986\n",
      "30 days, 12:53:15.616438\n"
     ]
    }
   ],
   "source": [
    "#Find age\n",
    "DOB=datetime.date(1992,4,11)\n",
    "today=datetime.date.today()\n",
    "myage=today-DOB\n",
    "print(myage)\n",
    "print(round(int(str(myage).split(\",\")[0].split()[0]))/365)\n",
    "print(myage/365)"
   ]
  },
  {
   "cell_type": "code",
   "execution_count": 228,
   "id": "7499ba53",
   "metadata": {},
   "outputs": [
    {
     "data": {
      "text/plain": [
       "31"
      ]
     },
     "execution_count": 228,
     "metadata": {},
     "output_type": "execute_result"
    }
   ],
   "source": [
    "round(int(str(myage).split(\" \")[0])/365)"
   ]
  },
  {
   "cell_type": "code",
   "execution_count": 230,
   "id": "f02c79d6",
   "metadata": {},
   "outputs": [
    {
     "name": "stdout",
     "output_type": "stream",
     "text": [
      "Help on built-in module gc:\n",
      "\n",
      "NAME\n",
      "    gc - This module provides access to the garbage collector for reference cycles.\n",
      "\n",
      "MODULE REFERENCE\n",
      "    https://docs.python.org/3.9/library/gc\n",
      "    \n",
      "    The following documentation is automatically generated from the Python\n",
      "    source files.  It may be incomplete, incorrect or include features that\n",
      "    are considered implementation detail and may vary between Python\n",
      "    implementations.  When in doubt, consult the module reference at the\n",
      "    location listed above.\n",
      "\n",
      "DESCRIPTION\n",
      "    enable() -- Enable automatic garbage collection.\n",
      "    disable() -- Disable automatic garbage collection.\n",
      "    isenabled() -- Returns true if automatic collection is enabled.\n",
      "    collect() -- Do a full collection right now.\n",
      "    get_count() -- Return the current collection counts.\n",
      "    get_stats() -- Return list of dictionaries containing per-generation stats.\n",
      "    set_debug() -- Set debugging flags.\n",
      "    get_debug() -- Get debugging flags.\n",
      "    set_threshold() -- Set the collection thresholds.\n",
      "    get_threshold() -- Return the current the collection thresholds.\n",
      "    get_objects() -- Return a list of all objects tracked by the collector.\n",
      "    is_tracked() -- Returns true if a given object is tracked.\n",
      "    is_finalized() -- Returns true if a given object has been already finalized.\n",
      "    get_referrers() -- Return the list of objects that refer to an object.\n",
      "    get_referents() -- Return the list of objects that an object refers to.\n",
      "    freeze() -- Freeze all tracked objects and ignore them for future collections.\n",
      "    unfreeze() -- Unfreeze all objects in the permanent generation.\n",
      "    get_freeze_count() -- Return the number of objects in the permanent generation.\n",
      "\n",
      "FUNCTIONS\n",
      "    collect(generation=2)\n",
      "        Run the garbage collector.\n",
      "        \n",
      "        With no arguments, run a full collection.  The optional argument\n",
      "        may be an integer specifying which generation to collect.  A ValueError\n",
      "        is raised if the generation number is invalid.\n",
      "        \n",
      "        The number of unreachable objects is returned.\n",
      "    \n",
      "    disable()\n",
      "        Disable automatic garbage collection.\n",
      "    \n",
      "    enable()\n",
      "        Enable automatic garbage collection.\n",
      "    \n",
      "    freeze()\n",
      "        Freeze all current tracked objects and ignore them for future collections.\n",
      "        \n",
      "        This can be used before a POSIX fork() call to make the gc copy-on-write friendly.\n",
      "        Note: collection before a POSIX fork() call may free pages for future allocation\n",
      "        which can cause copy-on-write.\n",
      "    \n",
      "    get_count()\n",
      "        Return a three-tuple of the current collection counts.\n",
      "    \n",
      "    get_debug()\n",
      "        Get the garbage collection debugging flags.\n",
      "    \n",
      "    get_freeze_count()\n",
      "        Return the number of objects in the permanent generation.\n",
      "    \n",
      "    get_objects(generation=None)\n",
      "        Return a list of objects tracked by the collector (excluding the list returned).\n",
      "        \n",
      "          generation\n",
      "            Generation to extract the objects from.\n",
      "        \n",
      "        If generation is not None, return only the objects tracked by the collector\n",
      "        that are in that generation.\n",
      "    \n",
      "    get_referents(...)\n",
      "        get_referents(*objs) -> list\n",
      "        Return the list of objects that are directly referred to by objs.\n",
      "    \n",
      "    get_referrers(...)\n",
      "        get_referrers(*objs) -> list\n",
      "        Return the list of objects that directly refer to any of objs.\n",
      "    \n",
      "    get_stats()\n",
      "        Return a list of dictionaries containing per-generation statistics.\n",
      "    \n",
      "    get_threshold()\n",
      "        Return the current collection thresholds.\n",
      "    \n",
      "    is_finalized(obj, /)\n",
      "        Returns true if the object has been already finalized by the GC.\n",
      "    \n",
      "    is_tracked(obj, /)\n",
      "        Returns true if the object is tracked by the garbage collector.\n",
      "        \n",
      "        Simple atomic objects will return false.\n",
      "    \n",
      "    isenabled()\n",
      "        Returns true if automatic garbage collection is enabled.\n",
      "    \n",
      "    set_debug(flags, /)\n",
      "        Set the garbage collection debugging flags.\n",
      "        \n",
      "          flags\n",
      "            An integer that can have the following bits turned on:\n",
      "              DEBUG_STATS - Print statistics during collection.\n",
      "              DEBUG_COLLECTABLE - Print collectable objects found.\n",
      "              DEBUG_UNCOLLECTABLE - Print unreachable but uncollectable objects\n",
      "                found.\n",
      "              DEBUG_SAVEALL - Save objects to gc.garbage rather than freeing them.\n",
      "              DEBUG_LEAK - Debug leaking programs (everything but STATS).\n",
      "        \n",
      "        Debugging information is written to sys.stderr.\n",
      "    \n",
      "    set_threshold(...)\n",
      "        set_threshold(threshold0, [threshold1, threshold2]) -> None\n",
      "        \n",
      "        Sets the collection thresholds.  Setting threshold0 to zero disables\n",
      "        collection.\n",
      "    \n",
      "    unfreeze()\n",
      "        Unfreeze all objects in the permanent generation.\n",
      "        \n",
      "        Put all objects in the permanent generation back into oldest generation.\n",
      "\n",
      "DATA\n",
      "    DEBUG_COLLECTABLE = 2\n",
      "    DEBUG_LEAK = 38\n",
      "    DEBUG_SAVEALL = 32\n",
      "    DEBUG_STATS = 1\n",
      "    DEBUG_UNCOLLECTABLE = 4\n",
      "    callbacks = []\n",
      "    garbage = []\n",
      "\n",
      "FILE\n",
      "    (built-in)\n",
      "\n",
      "\n"
     ]
    }
   ],
   "source": [
    "#Garbage collection in python\n",
    "#Garbage is nothing but waste data of the system\n",
    "import gc\n",
    "help(gc)"
   ]
  },
  {
   "cell_type": "code",
   "execution_count": 231,
   "id": "11e9eb39",
   "metadata": {},
   "outputs": [
    {
     "data": {
      "text/plain": [
       "(217, 9, 7)"
      ]
     },
     "execution_count": 231,
     "metadata": {},
     "output_type": "execute_result"
    }
   ],
   "source": [
    "gc.get_count()"
   ]
  },
  {
   "cell_type": "markdown",
   "id": "b7f76e15",
   "metadata": {},
   "source": [
    "# User Defined Modules\n",
    "#local module means file should be in same folder (working folder)\n",
    "#global module means file "
   ]
  },
  {
   "cell_type": "code",
   "execution_count": 232,
   "id": "fd4f8ce3",
   "metadata": {},
   "outputs": [],
   "source": [
    "#Local and global modules"
   ]
  },
  {
   "cell_type": "code",
   "execution_count": 233,
   "id": "f9666a06",
   "metadata": {},
   "outputs": [
    {
     "name": "stdout",
     "output_type": "stream",
     "text": [
      "4\n"
     ]
    }
   ],
   "source": [
    "import localdemo\n",
    "localdemo.hello(4)"
   ]
  },
  {
   "cell_type": "code",
   "execution_count": 235,
   "id": "52b6ac5e",
   "metadata": {},
   "outputs": [
    {
     "name": "stdout",
     "output_type": "stream",
     "text": [
      "Odd\n"
     ]
    }
   ],
   "source": [
    "localdemo.even(321)"
   ]
  },
  {
   "cell_type": "code",
   "execution_count": 236,
   "id": "7cccaea2",
   "metadata": {},
   "outputs": [],
   "source": [
    "#WAP to create a localmodule 1st function generate 1 to n numbers and \n",
    "#2nd function generate divisible by 5 and \n",
    "#3rd function generae divisibles by 12\n"
   ]
  },
  {
   "cell_type": "code",
   "execution_count": 237,
   "id": "cd8bc3b1",
   "metadata": {},
   "outputs": [
    {
     "name": "stdout",
     "output_type": "stream",
     "text": [
      "1 2 3 4 5 6 7 8 9 10 "
     ]
    }
   ],
   "source": [
    "import manoj\n",
    "manoj.generatenumber(10)"
   ]
  },
  {
   "cell_type": "code",
   "execution_count": 238,
   "id": "d9d83c87",
   "metadata": {},
   "outputs": [
    {
     "name": "stdout",
     "output_type": "stream",
     "text": [
      "12 24 36 48 60 72 84 96 108 120 132 144 156 168 180 192 "
     ]
    }
   ],
   "source": [
    "manoj.divisibleby12(200)"
   ]
  },
  {
   "cell_type": "code",
   "execution_count": 239,
   "id": "17223d8a",
   "metadata": {},
   "outputs": [
    {
     "name": "stdout",
     "output_type": "stream",
     "text": [
      "5 10 15 20 "
     ]
    }
   ],
   "source": [
    "manoj.divisibleby5(20)"
   ]
  },
  {
   "cell_type": "code",
   "execution_count": 240,
   "id": "ce927880",
   "metadata": {},
   "outputs": [],
   "source": [
    "#WAP to make a global module"
   ]
  },
  {
   "cell_type": "code",
   "execution_count": 241,
   "id": "3ed00bc1",
   "metadata": {},
   "outputs": [],
   "source": [
    "import gmanoj\n"
   ]
  },
  {
   "cell_type": "code",
   "execution_count": 242,
   "id": "77eefbca",
   "metadata": {},
   "outputs": [
    {
     "data": {
      "text/plain": [
       "<function gmanoj.f1()>"
      ]
     },
     "execution_count": 242,
     "metadata": {},
     "output_type": "execute_result"
    }
   ],
   "source": [
    "gmanoj.f1"
   ]
  },
  {
   "cell_type": "code",
   "execution_count": 244,
   "id": "49e683fd",
   "metadata": {},
   "outputs": [
    {
     "name": "stdout",
     "output_type": "stream",
     "text": [
      "jonam\n"
     ]
    }
   ],
   "source": [
    "gmanoj.f2(\"manoj\")"
   ]
  },
  {
   "cell_type": "code",
   "execution_count": 245,
   "id": "68ee808f",
   "metadata": {},
   "outputs": [],
   "source": [
    "import Manoj.jmanoj as jm"
   ]
  },
  {
   "cell_type": "code",
   "execution_count": 246,
   "id": "a73a19e8",
   "metadata": {},
   "outputs": [
    {
     "name": "stdout",
     "output_type": "stream",
     "text": [
      "madam\n"
     ]
    }
   ],
   "source": [
    "jm.f2('madam')"
   ]
  },
  {
   "cell_type": "code",
   "execution_count": null,
   "id": "0b34649a",
   "metadata": {},
   "outputs": [],
   "source": []
  }
 ],
 "metadata": {
  "kernelspec": {
   "display_name": "Python 3 (ipykernel)",
   "language": "python",
   "name": "python3"
  },
  "language_info": {
   "codemirror_mode": {
    "name": "ipython",
    "version": 3
   },
   "file_extension": ".py",
   "mimetype": "text/x-python",
   "name": "python",
   "nbconvert_exporter": "python",
   "pygments_lexer": "ipython3",
   "version": "3.9.12"
  }
 },
 "nbformat": 4,
 "nbformat_minor": 5
}
