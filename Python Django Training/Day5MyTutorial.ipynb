{
 "cells": [
  {
   "cell_type": "markdown",
   "id": "f8a7fddd",
   "metadata": {},
   "source": [
    "# Functions"
   ]
  },
  {
   "cell_type": "markdown",
   "id": "8bbb758d",
   "metadata": {},
   "source": []
  },
  {
   "cell_type": "markdown",
   "id": "95a50006",
   "metadata": {},
   "source": [
    "### def is a keyword to create a function"
   ]
  },
  {
   "cell_type": "code",
   "execution_count": 4,
   "id": "4238408e",
   "metadata": {
    "vscode": {
     "languageId": "python"
    }
   },
   "outputs": [],
   "source": [
    "def myFun():\n",
    "    print(\"This is my first demo in function\")\n",
    "    print(\"This is a user defined function\")"
   ]
  },
  {
   "cell_type": "code",
   "execution_count": 5,
   "id": "9a645874",
   "metadata": {
    "vscode": {
     "languageId": "python"
    }
   },
   "outputs": [
    {
     "name": "stdout",
     "output_type": "stream",
     "text": [
      "This is my first demo in function\n",
      "This is a user defined function\n"
     ]
    }
   ],
   "source": [
    "myFun()"
   ]
  },
  {
   "cell_type": "code",
   "execution_count": 3,
   "id": "a46b1dbd",
   "metadata": {
    "vscode": {
     "languageId": "python"
    }
   },
   "outputs": [],
   "source": [
    "# dir(\"myFun\")\n",
    "# dir(myFun)"
   ]
  },
  {
   "cell_type": "code",
   "execution_count": null,
   "id": "d73a4129",
   "metadata": {
    "vscode": {
     "languageId": "python"
    }
   },
   "outputs": [],
   "source": [
    "help(myFun)"
   ]
  },
  {
   "cell_type": "code",
   "execution_count": 8,
   "id": "f3e73a22",
   "metadata": {
    "vscode": {
     "languageId": "python"
    }
   },
   "outputs": [
    {
     "data": {
      "text/plain": [
       "<function __main__.myFun()>"
      ]
     },
     "execution_count": 8,
     "metadata": {},
     "output_type": "execute_result"
    }
   ],
   "source": [
    "myFun"
   ]
  },
  {
   "cell_type": "code",
   "execution_count": 10,
   "id": "388d0024",
   "metadata": {
    "vscode": {
     "languageId": "python"
    }
   },
   "outputs": [
    {
     "name": "stdout",
     "output_type": "stream",
     "text": [
      "This is my first demo in function\n",
      "This is a user defined function\n",
      "This is my first demo in function\n",
      "This is a user defined function\n"
     ]
    }
   ],
   "source": [
    "myFun() # Function calling\n",
    "myFun()"
   ]
  },
  {
   "cell_type": "code",
   "execution_count": 17,
   "id": "f0ee4b2a",
   "metadata": {
    "vscode": {
     "languageId": "python"
    }
   },
   "outputs": [],
   "source": [
    "# Above cell is used to call a function and we call it n number of times"
   ]
  },
  {
   "cell_type": "code",
   "execution_count": 15,
   "id": "de683a7e",
   "metadata": {
    "vscode": {
     "languageId": "python"
    }
   },
   "outputs": [],
   "source": [
    "# Function with single arguments/parameters\n",
    "def myEven(number):\n",
    "    print(\"It is an even number\") if number%2==0 else print(\"It is a odd number\")"
   ]
  },
  {
   "cell_type": "code",
   "execution_count": 16,
   "id": "7f853496",
   "metadata": {
    "vscode": {
     "languageId": "python"
    }
   },
   "outputs": [
    {
     "name": "stdout",
     "output_type": "stream",
     "text": [
      "It is a odd number\n"
     ]
    }
   ],
   "source": [
    "myEven(3)"
   ]
  },
  {
   "cell_type": "code",
   "execution_count": 14,
   "id": "0f818f72",
   "metadata": {
    "vscode": {
     "languageId": "python"
    }
   },
   "outputs": [
    {
     "name": "stdout",
     "output_type": "stream",
     "text": [
      "It is even number\n"
     ]
    }
   ],
   "source": [
    "myEven(4)"
   ]
  },
  {
   "cell_type": "code",
   "execution_count": 23,
   "id": "970cd508",
   "metadata": {
    "vscode": {
     "languageId": "python"
    }
   },
   "outputs": [],
   "source": [
    "# Function with two parameters\n",
    "def myAdd(num1, num2):\n",
    "    print(f\"The addition of {num1} and {num2} is {num1+num2}\")"
   ]
  },
  {
   "cell_type": "code",
   "execution_count": 27,
   "id": "5a6dc9d8",
   "metadata": {
    "vscode": {
     "languageId": "python"
    }
   },
   "outputs": [
    {
     "name": "stdout",
     "output_type": "stream",
     "text": [
      "The addition of -1 and 2 is 1\n",
      "The addition of 1 and 2 is 3\n",
      "The addition of 5 and 4 is 9\n"
     ]
    }
   ],
   "source": [
    "myAdd(-1,2)\n",
    "myAdd(1,2)\n",
    "myAdd(1*5,4)"
   ]
  },
  {
   "cell_type": "code",
   "execution_count": 38,
   "id": "ef82f768",
   "metadata": {
    "vscode": {
     "languageId": "python"
    }
   },
   "outputs": [],
   "source": [
    "# Function with n number of parameters\n",
    "# here *a is a tuple operator\n",
    "def nAdd(*a):\n",
    "    print(f\"sum of {a} is {sum(a)}\")\n",
    "    print(type(a))"
   ]
  },
  {
   "cell_type": "code",
   "execution_count": 39,
   "id": "1a152340",
   "metadata": {
    "vscode": {
     "languageId": "python"
    }
   },
   "outputs": [
    {
     "name": "stdout",
     "output_type": "stream",
     "text": [
      "sum of () is 0\n",
      "<class 'tuple'>\n",
      "sum of (1,) is 1\n",
      "<class 'tuple'>\n",
      "sum of (1, 2) is 3\n",
      "<class 'tuple'>\n"
     ]
    }
   ],
   "source": [
    "nAdd()\n",
    "nAdd(1)\n",
    "nAdd(1,2)"
   ]
  },
  {
   "cell_type": "code",
   "execution_count": 42,
   "id": "65627546",
   "metadata": {
    "vscode": {
     "languageId": "python"
    }
   },
   "outputs": [],
   "source": [
    "def myDemo(*num):\n",
    "    print(\"Entered Numbers are: \")\n",
    "    for i in num:\n",
    "        print(i)\n",
    "        if i%2==0:\n",
    "            print(f\"{i} is a even number\")"
   ]
  },
  {
   "cell_type": "code",
   "execution_count": 43,
   "id": "7caf3485",
   "metadata": {
    "vscode": {
     "languageId": "python"
    }
   },
   "outputs": [
    {
     "name": "stdout",
     "output_type": "stream",
     "text": [
      "Entered Numbers are: \n",
      "1\n",
      "2\n",
      "2 is a even number\n",
      "3\n"
     ]
    }
   ],
   "source": [
    "myDemo(1,2,3)"
   ]
  },
  {
   "cell_type": "code",
   "execution_count": 55,
   "id": "d4013d39",
   "metadata": {
    "vscode": {
     "languageId": "python"
    }
   },
   "outputs": [],
   "source": [
    "# How to use our own help\n",
    "## The documentation should be the first line of the program\n",
    "def myFact(n):\n",
    "    \"\"\"\n",
    "    The documentation should be the first line of the program.\n",
    "    This is a factorial Program.\n",
    "    It is a product of n number until 1.\n",
    "    This is written by Sudeb.\n",
    "    \"\"\"\n",
    "    f = 1\n",
    "    for i in range(1,n+1):\n",
    "        f = f * i\n",
    "    print(f\"the factorial of {n} is {f}\")"
   ]
  },
  {
   "cell_type": "code",
   "execution_count": 56,
   "id": "866da26b",
   "metadata": {
    "vscode": {
     "languageId": "python"
    }
   },
   "outputs": [
    {
     "name": "stdout",
     "output_type": "stream",
     "text": [
      "the factorial of 5 is 120\n"
     ]
    }
   ],
   "source": [
    "myFact(5)\n"
   ]
  },
  {
   "cell_type": "code",
   "execution_count": 57,
   "id": "d9b487af",
   "metadata": {
    "vscode": {
     "languageId": "python"
    }
   },
   "outputs": [
    {
     "name": "stdout",
     "output_type": "stream",
     "text": [
      "Help on function myFact in module __main__:\n",
      "\n",
      "myFact(n)\n",
      "    The documentation should be the first line of the program.\n",
      "    This is a factorial Program.\n",
      "    It is a product of n number until 1.\n",
      "    This is written by Sudeb.\n",
      "\n"
     ]
    }
   ],
   "source": [
    "help(myFact)"
   ]
  },
  {
   "cell_type": "code",
   "execution_count": 58,
   "id": "dc1d2791",
   "metadata": {
    "vscode": {
     "languageId": "python"
    }
   },
   "outputs": [
    {
     "data": {
      "text/plain": [
       "'\\nThis is a document\\n'"
      ]
     },
     "execution_count": 58,
     "metadata": {},
     "output_type": "execute_result"
    }
   ],
   "source": [
    "\"\"\"\n",
    "This is a document\n",
    "\"\"\""
   ]
  },
  {
   "cell_type": "code",
   "execution_count": 59,
   "id": "7068ad40",
   "metadata": {
    "vscode": {
     "languageId": "python"
    }
   },
   "outputs": [
    {
     "ename": "TypeError",
     "evalue": "myFact() missing 1 required positional argument: 'n'",
     "output_type": "error",
     "traceback": [
      "\u001b[1;31m---------------------------------------------------------------------------\u001b[0m",
      "\u001b[1;31mTypeError\u001b[0m                                 Traceback (most recent call last)",
      "Input \u001b[1;32mIn [59]\u001b[0m, in \u001b[0;36m<cell line: 1>\u001b[1;34m()\u001b[0m\n\u001b[1;32m----> 1\u001b[0m \u001b[43mmyFact\u001b[49m\u001b[43m(\u001b[49m\u001b[43m)\u001b[49m\n",
      "\u001b[1;31mTypeError\u001b[0m: myFact() missing 1 required positional argument: 'n'"
     ]
    }
   ],
   "source": [
    "myFact()"
   ]
  },
  {
   "cell_type": "code",
   "execution_count": 63,
   "id": "a3557a59",
   "metadata": {
    "vscode": {
     "languageId": "python"
    }
   },
   "outputs": [
    {
     "name": "stdout",
     "output_type": "stream",
     "text": [
      "3\n"
     ]
    }
   ],
   "source": [
    "# Default Parameter in Python.\n",
    "def hello(a=1,b=2):\n",
    "    print(a+b)\n",
    "hello()"
   ]
  },
  {
   "cell_type": "code",
   "execution_count": 62,
   "id": "dcf7df60",
   "metadata": {
    "vscode": {
     "languageId": "python"
    }
   },
   "outputs": [
    {
     "name": "stdout",
     "output_type": "stream",
     "text": [
      "3\n"
     ]
    }
   ],
   "source": [
    "hello()\n"
   ]
  },
  {
   "cell_type": "code",
   "execution_count": 64,
   "id": "345857dc",
   "metadata": {
    "vscode": {
     "languageId": "python"
    }
   },
   "outputs": [
    {
     "name": "stdout",
     "output_type": "stream",
     "text": [
      "102\n"
     ]
    }
   ],
   "source": [
    "hello(100)"
   ]
  },
  {
   "cell_type": "code",
   "execution_count": 71,
   "id": "8f72fce9",
   "metadata": {
    "vscode": {
     "languageId": "python"
    }
   },
   "outputs": [
    {
     "ename": "TypeError",
     "evalue": "hello() takes from 0 to 2 positional arguments but 3 were given",
     "output_type": "error",
     "traceback": [
      "\u001b[1;31m---------------------------------------------------------------------------\u001b[0m",
      "\u001b[1;31mTypeError\u001b[0m                                 Traceback (most recent call last)",
      "Input \u001b[1;32mIn [71]\u001b[0m, in \u001b[0;36m<cell line: 3>\u001b[1;34m()\u001b[0m\n\u001b[0;32m      1\u001b[0m \u001b[38;5;66;03m# python executes from left to right\u001b[39;00m\n\u001b[0;32m      2\u001b[0m \u001b[38;5;66;03m# hello(,2) \u001b[39;00m\n\u001b[1;32m----> 3\u001b[0m \u001b[43mhello\u001b[49m\u001b[43m(\u001b[49m\u001b[38;5;241;43m1\u001b[39;49m\u001b[43m,\u001b[49m\u001b[38;5;241;43m2\u001b[39;49m\u001b[43m,\u001b[49m\u001b[38;5;241;43m3\u001b[39;49m\u001b[43m)\u001b[49m\n",
      "\u001b[1;31mTypeError\u001b[0m: hello() takes from 0 to 2 positional arguments but 3 were given"
     ]
    }
   ],
   "source": [
    "# python executes from left to right\n",
    "hello(,2) \n",
    "hello(1,2,3)"
   ]
  },
  {
   "cell_type": "code",
   "execution_count": 67,
   "id": "80d17e16",
   "metadata": {
    "vscode": {
     "languageId": "python"
    }
   },
   "outputs": [],
   "source": [
    "def demo(a,b,c,d='Hello'):\n",
    "    pass"
   ]
  },
  {
   "cell_type": "code",
   "execution_count": 68,
   "id": "47c46f9a",
   "metadata": {
    "vscode": {
     "languageId": "python"
    }
   },
   "outputs": [],
   "source": [
    "demo(10,20,30)"
   ]
  },
  {
   "cell_type": "code",
   "execution_count": 69,
   "id": "533f9716",
   "metadata": {
    "vscode": {
     "languageId": "python"
    }
   },
   "outputs": [
    {
     "ename": "TypeError",
     "evalue": "demo() missing 1 required positional argument: 'c'",
     "output_type": "error",
     "traceback": [
      "\u001b[1;31m---------------------------------------------------------------------------\u001b[0m",
      "\u001b[1;31mTypeError\u001b[0m                                 Traceback (most recent call last)",
      "Input \u001b[1;32mIn [69]\u001b[0m, in \u001b[0;36m<cell line: 1>\u001b[1;34m()\u001b[0m\n\u001b[1;32m----> 1\u001b[0m \u001b[43mdemo\u001b[49m\u001b[43m(\u001b[49m\u001b[38;5;241;43m10\u001b[39;49m\u001b[43m,\u001b[49m\u001b[38;5;241;43m20\u001b[39;49m\u001b[43m)\u001b[49m\n",
      "\u001b[1;31mTypeError\u001b[0m: demo() missing 1 required positional argument: 'c'"
     ]
    }
   ],
   "source": [
    "demo(10,20)"
   ]
  },
  {
   "cell_type": "code",
   "execution_count": 70,
   "id": "168301c3",
   "metadata": {
    "vscode": {
     "languageId": "python"
    }
   },
   "outputs": [
    {
     "ename": "SyntaxError",
     "evalue": "non-default argument follows default argument (3066940825.py, line 1)",
     "output_type": "error",
     "traceback": [
      "\u001b[1;36m  Input \u001b[1;32mIn [70]\u001b[1;36m\u001b[0m\n\u001b[1;33m    def aDemo(a=1,b,c=2):\u001b[0m\n\u001b[1;37m                    ^\u001b[0m\n\u001b[1;31mSyntaxError\u001b[0m\u001b[1;31m:\u001b[0m non-default argument follows default argument\n"
     ]
    }
   ],
   "source": [
    "def aDemo(a=1,b,c=2):\n",
    "    pass"
   ]
  },
  {
   "cell_type": "code",
   "execution_count": 74,
   "id": "216387de",
   "metadata": {
    "vscode": {
     "languageId": "python"
    }
   },
   "outputs": [
    {
     "ename": "SyntaxError",
     "evalue": "non-default argument follows default argument (705315446.py, line 1)",
     "output_type": "error",
     "traceback": [
      "\u001b[1;36m  Input \u001b[1;32mIn [74]\u001b[1;36m\u001b[0m\n\u001b[1;33m    def bDemo(a=1, b=2, c):\u001b[0m\n\u001b[1;37m                         ^\u001b[0m\n\u001b[1;31mSyntaxError\u001b[0m\u001b[1;31m:\u001b[0m non-default argument follows default argument\n"
     ]
    }
   ],
   "source": [
    "def bDemo(a=1, b=2, c):\n",
    "    pass"
   ]
  },
  {
   "cell_type": "code",
   "execution_count": 76,
   "id": "723ea0cd",
   "metadata": {
    "vscode": {
     "languageId": "python"
    }
   },
   "outputs": [],
   "source": [
    "def cDemo(a, b=2):\n",
    "    pass\n",
    "# default parameters should follow non default parameters\n",
    "# default parameters should not be in the middle of parameters."
   ]
  },
  {
   "cell_type": "code",
   "execution_count": 78,
   "id": "7f79d032",
   "metadata": {
    "vscode": {
     "languageId": "python"
    }
   },
   "outputs": [],
   "source": [
    "def dDemo(*a):\n",
    "    pass"
   ]
  },
  {
   "cell_type": "code",
   "execution_count": 79,
   "id": "c942a9b6",
   "metadata": {
    "vscode": {
     "languageId": "python"
    }
   },
   "outputs": [],
   "source": [
    "dDemo()"
   ]
  },
  {
   "cell_type": "code",
   "execution_count": 84,
   "id": "8ef95e51",
   "metadata": {
    "vscode": {
     "languageId": "python"
    }
   },
   "outputs": [
    {
     "name": "stdout",
     "output_type": "stream",
     "text": [
      "This is my first demo in function\n",
      "This is a user defined function\n",
      "None\n",
      "The addition of 1 and 2 is 3\n",
      "None\n"
     ]
    }
   ],
   "source": [
    "# Checking the return type\n",
    "print(myFun())\n",
    "print(myAdd(1,2))"
   ]
  },
  {
   "cell_type": "code",
   "execution_count": 82,
   "id": "57907977",
   "metadata": {
    "vscode": {
     "languageId": "python"
    }
   },
   "outputs": [
    {
     "name": "stdout",
     "output_type": "stream",
     "text": [
      "None\n"
     ]
    }
   ],
   "source": [
    "print(dDemo())"
   ]
  },
  {
   "cell_type": "code",
   "execution_count": 85,
   "id": "d4da7b03",
   "metadata": {
    "vscode": {
     "languageId": "python"
    }
   },
   "outputs": [],
   "source": [
    "def myReturn(a,b):\n",
    "    return a+b, a-b, a*b, a//b"
   ]
  },
  {
   "cell_type": "code",
   "execution_count": 86,
   "id": "af3061dc",
   "metadata": {
    "vscode": {
     "languageId": "python"
    }
   },
   "outputs": [
    {
     "data": {
      "text/plain": [
       "(15, 9, 36, 4)"
      ]
     },
     "execution_count": 86,
     "metadata": {},
     "output_type": "execute_result"
    }
   ],
   "source": [
    "myReturn(12, 3)"
   ]
  },
  {
   "cell_type": "code",
   "execution_count": 88,
   "id": "e718b793",
   "metadata": {
    "vscode": {
     "languageId": "python"
    }
   },
   "outputs": [
    {
     "name": "stdout",
     "output_type": "stream",
     "text": [
      "(15, 9, 36, 4)\n"
     ]
    }
   ],
   "source": [
    "print(myReturn(12,3))"
   ]
  },
  {
   "cell_type": "code",
   "execution_count": 90,
   "id": "d11c7fa4",
   "metadata": {
    "vscode": {
     "languageId": "python"
    }
   },
   "outputs": [],
   "source": [
    "c = myReturn(12,3)"
   ]
  },
  {
   "cell_type": "code",
   "execution_count": 91,
   "id": "e21b4d6b",
   "metadata": {
    "vscode": {
     "languageId": "python"
    }
   },
   "outputs": [
    {
     "data": {
      "text/plain": [
       "(15, 9, 36, 4)"
      ]
     },
     "execution_count": 91,
     "metadata": {},
     "output_type": "execute_result"
    }
   ],
   "source": [
    "c"
   ]
  },
  {
   "cell_type": "code",
   "execution_count": 92,
   "id": "590662d4",
   "metadata": {
    "vscode": {
     "languageId": "python"
    }
   },
   "outputs": [
    {
     "name": "stdout",
     "output_type": "stream",
     "text": [
      "This is my first demo in function\n",
      "This is a user defined function\n"
     ]
    }
   ],
   "source": [
    "d = myFun()"
   ]
  },
  {
   "cell_type": "code",
   "execution_count": 96,
   "id": "935473f6",
   "metadata": {
    "vscode": {
     "languageId": "python"
    }
   },
   "outputs": [
    {
     "name": "stdout",
     "output_type": "stream",
     "text": [
      "None\n"
     ]
    }
   ],
   "source": [
    "print(d)"
   ]
  },
  {
   "cell_type": "code",
   "execution_count": 97,
   "id": "456a56d2",
   "metadata": {
    "vscode": {
     "languageId": "python"
    }
   },
   "outputs": [],
   "source": [
    "# unpacking the return\n",
    "add, sub, mul, div = myReturn(12,3)"
   ]
  },
  {
   "cell_type": "code",
   "execution_count": 98,
   "id": "b2406da0",
   "metadata": {
    "vscode": {
     "languageId": "python"
    }
   },
   "outputs": [
    {
     "data": {
      "text/plain": [
       "15"
      ]
     },
     "execution_count": 98,
     "metadata": {},
     "output_type": "execute_result"
    }
   ],
   "source": [
    "add"
   ]
  },
  {
   "cell_type": "code",
   "execution_count": 99,
   "id": "9ddc8592",
   "metadata": {
    "vscode": {
     "languageId": "python"
    }
   },
   "outputs": [
    {
     "data": {
      "text/plain": [
       "9"
      ]
     },
     "execution_count": 99,
     "metadata": {},
     "output_type": "execute_result"
    }
   ],
   "source": [
    "sub"
   ]
  },
  {
   "cell_type": "code",
   "execution_count": 102,
   "id": "be31f44d",
   "metadata": {
    "vscode": {
     "languageId": "python"
    }
   },
   "outputs": [
    {
     "data": {
      "text/plain": [
       "36"
      ]
     },
     "execution_count": 102,
     "metadata": {},
     "output_type": "execute_result"
    }
   ],
   "source": [
    "mul"
   ]
  },
  {
   "cell_type": "code",
   "execution_count": 103,
   "id": "02ff53af",
   "metadata": {
    "vscode": {
     "languageId": "python"
    }
   },
   "outputs": [
    {
     "data": {
      "text/plain": [
       "4"
      ]
     },
     "execution_count": 103,
     "metadata": {},
     "output_type": "execute_result"
    }
   ],
   "source": [
    "div"
   ]
  },
  {
   "cell_type": "code",
   "execution_count": 104,
   "id": "d06a89c0",
   "metadata": {
    "vscode": {
     "languageId": "python"
    }
   },
   "outputs": [
    {
     "name": "stdout",
     "output_type": "stream",
     "text": [
      "15 9 36 4\n"
     ]
    }
   ],
   "source": [
    "print(add, sub, mul, div)"
   ]
  },
  {
   "cell_type": "code",
   "execution_count": 105,
   "id": "d105274a",
   "metadata": {
    "vscode": {
     "languageId": "python"
    }
   },
   "outputs": [],
   "source": [
    "a1, a2, a3 = [\"Name1\", \"Name2\", 'Name3']"
   ]
  },
  {
   "cell_type": "code",
   "execution_count": 119,
   "id": "473215e6",
   "metadata": {
    "vscode": {
     "languageId": "python"
    }
   },
   "outputs": [
    {
     "data": {
      "text/plain": [
       "'Name3'"
      ]
     },
     "execution_count": 119,
     "metadata": {},
     "output_type": "execute_result"
    }
   ],
   "source": [
    "a1\n",
    "a2\n",
    "a3"
   ]
  },
  {
   "cell_type": "code",
   "execution_count": 108,
   "id": "8a906523",
   "metadata": {
    "vscode": {
     "languageId": "python"
    }
   },
   "outputs": [
    {
     "name": "stdout",
     "output_type": "stream",
     "text": [
      "Name1 Name2 Name3\n"
     ]
    }
   ],
   "source": [
    "print(a1, a2, a3)"
   ]
  },
  {
   "cell_type": "code",
   "execution_count": 109,
   "id": "442863f5",
   "metadata": {
    "vscode": {
     "languageId": "python"
    }
   },
   "outputs": [
    {
     "data": {
      "text/plain": [
       "tuple"
      ]
     },
     "execution_count": 109,
     "metadata": {},
     "output_type": "execute_result"
    }
   ],
   "source": [
    "type(myReturn(1,2))"
   ]
  },
  {
   "cell_type": "code",
   "execution_count": 137,
   "id": "552d5291",
   "metadata": {
    "vscode": {
     "languageId": "python"
    }
   },
   "outputs": [
    {
     "ename": "IndentationError",
     "evalue": "unindent does not match any outer indentation level (<tokenize>, line 7)",
     "output_type": "error",
     "traceback": [
      "\u001b[1;36m  File \u001b[1;32m<tokenize>:7\u001b[1;36m\u001b[0m\n\u001b[1;33m    eFlag=\"It is Odd\" if num%1==0\u001b[0m\n\u001b[1;37m    ^\u001b[0m\n\u001b[1;31mIndentationError\u001b[0m\u001b[1;31m:\u001b[0m unindent does not match any outer indentation level\n"
     ]
    }
   ],
   "source": [
    "# Create a function for checking the number is even and prime\n",
    "def ep(num):\n",
    "    #eFlag, pFlag = True, True\n",
    "    # eFlag, pFlag = True, \"It is Prime Number\"\n",
    "     eFlag, pFlag = \"It is even\", \"It is Prime Number\"\n",
    "    #eFlag=True if num%2==0 else eFlag=False\n",
    "    #eFlag=\"It is Even\" if num%2==0 else eFlag=\"It is Odd\"\n",
    "    #if num%2==0:\n",
    "    #    eFlag=True\n",
    "    #else:\n",
    "    #    eFlag=False\n",
    "    if num%2==1:\n",
    "        eFlag=\"It is Odd\"\n",
    "    for i in range (2, num):\n",
    "        if num%i==0:\n",
    "            #pFlag=False\n",
    "            pFlag=\"It is not a prime\"\n",
    "            break\n",
    "    return eFlag, pFlag"
   ]
  },
  {
   "cell_type": "code",
   "execution_count": 121,
   "id": "964d0411",
   "metadata": {
    "vscode": {
     "languageId": "python"
    }
   },
   "outputs": [
    {
     "data": {
      "text/plain": [
       "(True, 'It is Prime Number')"
      ]
     },
     "execution_count": 121,
     "metadata": {},
     "output_type": "execute_result"
    }
   ],
   "source": [
    "ep(2)"
   ]
  },
  {
   "cell_type": "code",
   "execution_count": 122,
   "id": "270c781d",
   "metadata": {
    "vscode": {
     "languageId": "python"
    }
   },
   "outputs": [
    {
     "data": {
      "text/plain": [
       "(False, 'It is Prime Number')"
      ]
     },
     "execution_count": 122,
     "metadata": {},
     "output_type": "execute_result"
    }
   ],
   "source": [
    "ep(7)"
   ]
  },
  {
   "cell_type": "code",
   "execution_count": 123,
   "id": "08467727",
   "metadata": {
    "vscode": {
     "languageId": "python"
    }
   },
   "outputs": [
    {
     "name": "stdout",
     "output_type": "stream",
     "text": [
      "It is odd\n"
     ]
    }
   ],
   "source": [
    "if ep(3)[0]:\n",
    "    print(\"It is even\")\n",
    "else:\n",
    "    print(\"It is odd\")"
   ]
  },
  {
   "cell_type": "code",
   "execution_count": 124,
   "id": "57a5ac8a",
   "metadata": {
    "vscode": {
     "languageId": "python"
    }
   },
   "outputs": [
    {
     "data": {
      "text/plain": [
       "(True, 'It is not a prime')"
      ]
     },
     "execution_count": 124,
     "metadata": {},
     "output_type": "execute_result"
    }
   ],
   "source": [
    "ep(4)"
   ]
  },
  {
   "cell_type": "code",
   "execution_count": 127,
   "id": "13dda3ff",
   "metadata": {
    "vscode": {
     "languageId": "python"
    }
   },
   "outputs": [
    {
     "data": {
      "text/plain": [
       "('It is even', 'It is not a prime')"
      ]
     },
     "execution_count": 127,
     "metadata": {},
     "output_type": "execute_result"
    }
   ],
   "source": [
    "ep(4)"
   ]
  },
  {
   "cell_type": "code",
   "execution_count": 138,
   "id": "2aedbb42",
   "metadata": {
    "vscode": {
     "languageId": "python"
    }
   },
   "outputs": [],
   "source": [
    "# Arbitary functions\n",
    "def arbFun(**name):\n",
    "    print(name)"
   ]
  },
  {
   "cell_type": "code",
   "execution_count": 143,
   "id": "9f08cbb8",
   "metadata": {
    "vscode": {
     "languageId": "python"
    }
   },
   "outputs": [
    {
     "name": "stdout",
     "output_type": "stream",
     "text": [
      "{}\n",
      "{'name': 1}\n"
     ]
    }
   ],
   "source": [
    "arbFun()\n",
    "arbFun(name=1)"
   ]
  },
  {
   "cell_type": "code",
   "execution_count": 144,
   "id": "0cc7d678",
   "metadata": {
    "vscode": {
     "languageId": "python"
    }
   },
   "outputs": [],
   "source": [
    "# Multpile keys and Multiple values\n",
    "def mArbFun(**name):\n",
    "    print(name[\"id\"], name[\"dept\"], name[\"company\"])"
   ]
  },
  {
   "cell_type": "code",
   "execution_count": 145,
   "id": "a8ab59f1",
   "metadata": {
    "vscode": {
     "languageId": "python"
    }
   },
   "outputs": [
    {
     "name": "stdout",
     "output_type": "stream",
     "text": [
      "123 Digital co ltd\n"
     ]
    }
   ],
   "source": [
    "mArbFun(id='123', company='co ltd', dept='Digital')"
   ]
  },
  {
   "cell_type": "code",
   "execution_count": 146,
   "id": "57b024dd",
   "metadata": {
    "vscode": {
     "languageId": "python"
    }
   },
   "outputs": [
    {
     "ename": "KeyError",
     "evalue": "'id'",
     "output_type": "error",
     "traceback": [
      "\u001b[1;31m---------------------------------------------------------------------------\u001b[0m",
      "\u001b[1;31mKeyError\u001b[0m                                  Traceback (most recent call last)",
      "Input \u001b[1;32mIn [146]\u001b[0m, in \u001b[0;36m<cell line: 1>\u001b[1;34m()\u001b[0m\n\u001b[1;32m----> 1\u001b[0m \u001b[43mmArbFun\u001b[49m\u001b[43m(\u001b[49m\u001b[43m)\u001b[49m\n",
      "Input \u001b[1;32mIn [144]\u001b[0m, in \u001b[0;36mmArbFun\u001b[1;34m(**name)\u001b[0m\n\u001b[0;32m      2\u001b[0m \u001b[38;5;28;01mdef\u001b[39;00m \u001b[38;5;21mmArbFun\u001b[39m(\u001b[38;5;241m*\u001b[39m\u001b[38;5;241m*\u001b[39mname):\n\u001b[1;32m----> 3\u001b[0m     \u001b[38;5;28mprint\u001b[39m(\u001b[43mname\u001b[49m\u001b[43m[\u001b[49m\u001b[38;5;124;43m\"\u001b[39;49m\u001b[38;5;124;43mid\u001b[39;49m\u001b[38;5;124;43m\"\u001b[39;49m\u001b[43m]\u001b[49m, name[\u001b[38;5;124m\"\u001b[39m\u001b[38;5;124mdept\u001b[39m\u001b[38;5;124m\"\u001b[39m], name[\u001b[38;5;124m\"\u001b[39m\u001b[38;5;124mcompany\u001b[39m\u001b[38;5;124m\"\u001b[39m])\n",
      "\u001b[1;31mKeyError\u001b[0m: 'id'"
     ]
    }
   ],
   "source": [
    "mArbFun()"
   ]
  },
  {
   "cell_type": "code",
   "execution_count": 148,
   "id": "c8057179",
   "metadata": {
    "vscode": {
     "languageId": "python"
    }
   },
   "outputs": [
    {
     "ename": "TypeError",
     "evalue": "mArbFun() takes 0 positional arguments but 1 was given",
     "output_type": "error",
     "traceback": [
      "\u001b[1;31m---------------------------------------------------------------------------\u001b[0m",
      "\u001b[1;31mTypeError\u001b[0m                                 Traceback (most recent call last)",
      "Input \u001b[1;32mIn [148]\u001b[0m, in \u001b[0;36m<cell line: 1>\u001b[1;34m()\u001b[0m\n\u001b[1;32m----> 1\u001b[0m \u001b[43mmArbFun\u001b[49m\u001b[43m(\u001b[49m\u001b[43m{\u001b[49m\u001b[38;5;124;43m\"\u001b[39;49m\u001b[38;5;124;43mid\u001b[39;49m\u001b[38;5;124;43m\"\u001b[39;49m\u001b[43m:\u001b[49m\u001b[43m \u001b[49m\u001b[38;5;241;43m12\u001b[39;49m\u001b[43m,\u001b[49m\u001b[43m \u001b[49m\u001b[38;5;124;43m\"\u001b[39;49m\u001b[38;5;124;43mdept\u001b[39;49m\u001b[38;5;124;43m\"\u001b[39;49m\u001b[43m:\u001b[49m\u001b[43m \u001b[49m\u001b[38;5;124;43m'\u001b[39;49m\u001b[38;5;124;43mDigital\u001b[39;49m\u001b[38;5;124;43m'\u001b[39;49m\u001b[43m,\u001b[49m\u001b[43m \u001b[49m\u001b[38;5;124;43m\"\u001b[39;49m\u001b[38;5;124;43mcompany\u001b[39;49m\u001b[38;5;124;43m\"\u001b[39;49m\u001b[43m:\u001b[49m\u001b[43m \u001b[49m\u001b[38;5;124;43m'\u001b[39;49m\u001b[38;5;124;43mCo LTD\u001b[39;49m\u001b[38;5;124;43m'\u001b[39;49m\u001b[43m}\u001b[49m\u001b[43m)\u001b[49m\n",
      "\u001b[1;31mTypeError\u001b[0m: mArbFun() takes 0 positional arguments but 1 was given"
     ]
    }
   ],
   "source": [
    "mArbFun({\"id\": 12, \"dept\": 'Digital', \"company\": 'Co LTD'})"
   ]
  },
  {
   "cell_type": "code",
   "execution_count": 152,
   "id": "c5cdbb7f",
   "metadata": {
    "vscode": {
     "languageId": "python"
    }
   },
   "outputs": [
    {
     "name": "stdout",
     "output_type": "stream",
     "text": [
      "12 Digital Co LTD\n"
     ]
    }
   ],
   "source": [
    "mArbFun(id= '12', dept= 'Digital', company= 'Co LTD')"
   ]
  },
  {
   "cell_type": "code",
   "execution_count": 153,
   "id": "e12b11f0",
   "metadata": {
    "vscode": {
     "languageId": "python"
    }
   },
   "outputs": [
    {
     "data": {
      "text/plain": [
       "[1, 2, 3, 4, 5, 6, 7, 8, 9]"
      ]
     },
     "execution_count": 153,
     "metadata": {},
     "output_type": "execute_result"
    }
   ],
   "source": [
    "a=list(range(1,10))\n",
    "# a = tuple(range(1,10))\n",
    "a"
   ]
  },
  {
   "cell_type": "code",
   "execution_count": 157,
   "id": "104672f3",
   "metadata": {
    "vscode": {
     "languageId": "python"
    }
   },
   "outputs": [
    {
     "data": {
      "text/plain": [
       "22"
      ]
     },
     "execution_count": 157,
     "metadata": {},
     "output_type": "execute_result"
    }
   ],
   "source": [
    "import random\n",
    "random.randrange(1,30)"
   ]
  },
  {
   "cell_type": "code",
   "execution_count": 158,
   "id": "8eaae0ea",
   "metadata": {
    "vscode": {
     "languageId": "python"
    }
   },
   "outputs": [
    {
     "data": {
      "text/plain": [
       "21"
      ]
     },
     "execution_count": 158,
     "metadata": {},
     "output_type": "execute_result"
    }
   ],
   "source": [
    "random.randrange(1,30,5)"
   ]
  },
  {
   "cell_type": "code",
   "execution_count": 159,
   "id": "a0500cfc",
   "metadata": {
    "vscode": {
     "languageId": "python"
    }
   },
   "outputs": [
    {
     "data": {
      "text/plain": [
       "15"
      ]
     },
     "execution_count": 159,
     "metadata": {},
     "output_type": "execute_result"
    }
   ],
   "source": [
    "random.randrange(0,30,5)"
   ]
  },
  {
   "cell_type": "code",
   "execution_count": 161,
   "id": "0d0a8901",
   "metadata": {
    "vscode": {
     "languageId": "python"
    }
   },
   "outputs": [
    {
     "name": "stdout",
     "output_type": "stream",
     "text": [
      "[51, 67, 185, 133, 116, 208, 186, 297, 193, 199, 106, 29, 283, 59, 179, 302, 49, 125, 254]\n"
     ]
    }
   ],
   "source": [
    "b=[]\n",
    "for i in range(1,20):\n",
    "    b.append(random.randint(0, i+300))\n",
    "print(b)"
   ]
  },
  {
   "cell_type": "code",
   "execution_count": 190,
   "id": "bb3da8a3",
   "metadata": {
    "vscode": {
     "languageId": "python"
    }
   },
   "outputs": [],
   "source": [
    "def sepFun(a):\n",
    "    if type(a) == list or type(a) == tuple:\n",
    "    #if type(a)==type([]) or type(a)==type(()):\n",
    "    #if isinstance(a,list) or isinstance(a,tuple):\n",
    "        e=[]\n",
    "        o=[]\n",
    "        for i in a:\n",
    "            if i%2==0:\n",
    "                e.append(i)\n",
    "            else:\n",
    "                o.append(i)\n",
    "    else:\n",
    "        return \"sorry\"\n",
    "    return e,o"
   ]
  },
  {
   "cell_type": "code",
   "execution_count": 191,
   "id": "caf55ae5",
   "metadata": {
    "vscode": {
     "languageId": "python"
    }
   },
   "outputs": [
    {
     "data": {
      "text/plain": [
       "([116, 208, 186, 106, 302, 254],\n",
       " [51, 67, 185, 133, 297, 193, 199, 29, 283, 59, 179, 49, 125])"
      ]
     },
     "execution_count": 191,
     "metadata": {},
     "output_type": "execute_result"
    }
   ],
   "source": [
    "sepFun(b)"
   ]
  },
  {
   "cell_type": "code",
   "execution_count": 188,
   "id": "ad7c786b",
   "metadata": {
    "vscode": {
     "languageId": "python"
    }
   },
   "outputs": [
    {
     "data": {
      "text/plain": [
       "'sorry'"
      ]
     },
     "execution_count": 188,
     "metadata": {},
     "output_type": "execute_result"
    }
   ],
   "source": [
    "sepFun(5)"
   ]
  },
  {
   "cell_type": "code",
   "execution_count": 189,
   "id": "b5b9d7aa",
   "metadata": {
    "vscode": {
     "languageId": "python"
    }
   },
   "outputs": [
    {
     "data": {
      "text/plain": [
       "list"
      ]
     },
     "execution_count": 189,
     "metadata": {},
     "output_type": "execute_result"
    }
   ],
   "source": [
    "type(b)"
   ]
  },
  {
   "cell_type": "code",
   "execution_count": 192,
   "id": "012f2d01",
   "metadata": {
    "vscode": {
     "languageId": "python"
    }
   },
   "outputs": [
    {
     "name": "stdout",
     "output_type": "stream",
     "text": [
      "<class 'list'>\n"
     ]
    }
   ],
   "source": [
    "print(type(b))"
   ]
  },
  {
   "cell_type": "code",
   "execution_count": 197,
   "id": "3dd7b14d",
   "metadata": {
    "vscode": {
     "languageId": "python"
    }
   },
   "outputs": [],
   "source": [
    "# Checking whether the given input is number or not\n",
    "\n",
    "def checkNum(a):\n",
    "    if str(a).isdigit(): #convert to string and then check\n",
    "        return 'It is a number'\n",
    "    else:\n",
    "        return 'It is not a number'"
   ]
  },
  {
   "cell_type": "code",
   "execution_count": 198,
   "id": "01aac167",
   "metadata": {
    "vscode": {
     "languageId": "python"
    }
   },
   "outputs": [
    {
     "data": {
      "text/plain": [
       "'It is a number'"
      ]
     },
     "execution_count": 198,
     "metadata": {},
     "output_type": "execute_result"
    }
   ],
   "source": [
    "checkNum(1)"
   ]
  },
  {
   "cell_type": "code",
   "execution_count": 199,
   "id": "96dfd5d3",
   "metadata": {
    "vscode": {
     "languageId": "python"
    }
   },
   "outputs": [
    {
     "data": {
      "text/plain": [
       "'It is a number'"
      ]
     },
     "execution_count": 199,
     "metadata": {},
     "output_type": "execute_result"
    }
   ],
   "source": [
    "checkNum('1')"
   ]
  },
  {
   "cell_type": "code",
   "execution_count": 200,
   "id": "2f50d05f",
   "metadata": {
    "vscode": {
     "languageId": "python"
    }
   },
   "outputs": [
    {
     "data": {
      "text/plain": [
       "'It is not a number'"
      ]
     },
     "execution_count": 200,
     "metadata": {},
     "output_type": "execute_result"
    }
   ],
   "source": [
    "checkNum('a')"
   ]
  },
  {
   "cell_type": "markdown",
   "id": "8495b7ad",
   "metadata": {},
   "source": [
    "# Lambda Expression:\n",
    "### Lambda is one line function definition"
   ]
  },
  {
   "cell_type": "code",
   "execution_count": 202,
   "id": "2bb4b7d4",
   "metadata": {
    "vscode": {
     "languageId": "python"
    }
   },
   "outputs": [],
   "source": [
    "a = 10\n",
    "type(a)\n",
    "b = lambda:print('This is lambda')"
   ]
  },
  {
   "cell_type": "code",
   "execution_count": 203,
   "id": "03e7bdbd",
   "metadata": {
    "vscode": {
     "languageId": "python"
    }
   },
   "outputs": [
    {
     "data": {
      "text/plain": [
       "function"
      ]
     },
     "execution_count": 203,
     "metadata": {},
     "output_type": "execute_result"
    }
   ],
   "source": [
    "type(b)"
   ]
  },
  {
   "cell_type": "code",
   "execution_count": 204,
   "id": "7d94af30",
   "metadata": {
    "vscode": {
     "languageId": "python"
    }
   },
   "outputs": [
    {
     "data": {
      "text/plain": [
       "<function __main__.<lambda>()>"
      ]
     },
     "execution_count": 204,
     "metadata": {},
     "output_type": "execute_result"
    }
   ],
   "source": [
    "b"
   ]
  },
  {
   "cell_type": "code",
   "execution_count": 205,
   "id": "e7e3d4ad",
   "metadata": {
    "vscode": {
     "languageId": "python"
    }
   },
   "outputs": [
    {
     "name": "stdout",
     "output_type": "stream",
     "text": [
      "This is lambda\n"
     ]
    }
   ],
   "source": [
    "b()"
   ]
  },
  {
   "cell_type": "code",
   "execution_count": 208,
   "id": "eeab066c",
   "metadata": {
    "vscode": {
     "languageId": "python"
    }
   },
   "outputs": [],
   "source": [
    "c = lambda x: print(f'Cube of {x} is {x**3}')"
   ]
  },
  {
   "cell_type": "code",
   "execution_count": 209,
   "id": "f554ca3b",
   "metadata": {
    "vscode": {
     "languageId": "python"
    }
   },
   "outputs": [
    {
     "name": "stdout",
     "output_type": "stream",
     "text": [
      "Cube of 3 is 27\n"
     ]
    }
   ],
   "source": [
    "c(3)"
   ]
  },
  {
   "cell_type": "code",
   "execution_count": 213,
   "id": "14cc8547",
   "metadata": {
    "vscode": {
     "languageId": "python"
    }
   },
   "outputs": [],
   "source": [
    "d = lambda x, y: x+y"
   ]
  },
  {
   "cell_type": "code",
   "execution_count": 211,
   "id": "e6ba676d",
   "metadata": {
    "vscode": {
     "languageId": "python"
    }
   },
   "outputs": [
    {
     "data": {
      "text/plain": [
       "11"
      ]
     },
     "execution_count": 211,
     "metadata": {},
     "output_type": "execute_result"
    }
   ],
   "source": [
    "d(5,6)"
   ]
  },
  {
   "cell_type": "code",
   "execution_count": 222,
   "id": "392c96c9",
   "metadata": {
    "vscode": {
     "languageId": "python"
    }
   },
   "outputs": [],
   "source": [
    "e = lambda x:print(\"Even\") if x%2==0 else print(\"Odd\")"
   ]
  },
  {
   "cell_type": "code",
   "execution_count": 223,
   "id": "90494f16",
   "metadata": {
    "vscode": {
     "languageId": "python"
    }
   },
   "outputs": [
    {
     "name": "stdout",
     "output_type": "stream",
     "text": [
      "Even\n"
     ]
    }
   ],
   "source": [
    "e(2)"
   ]
  },
  {
   "cell_type": "code",
   "execution_count": 224,
   "id": "9e21da56",
   "metadata": {
    "vscode": {
     "languageId": "python"
    }
   },
   "outputs": [
    {
     "name": "stdout",
     "output_type": "stream",
     "text": [
      "Odd\n"
     ]
    }
   ],
   "source": [
    "e(1)"
   ]
  },
  {
   "cell_type": "code",
   "execution_count": 225,
   "id": "5c765211",
   "metadata": {
    "vscode": {
     "languageId": "python"
    }
   },
   "outputs": [
    {
     "name": "stdout",
     "output_type": "stream",
     "text": [
      "Even\n"
     ]
    }
   ],
   "source": [
    "e(0)"
   ]
  },
  {
   "cell_type": "code",
   "execution_count": 226,
   "id": "39565f0d",
   "metadata": {
    "vscode": {
     "languageId": "python"
    }
   },
   "outputs": [],
   "source": [
    "f = lambda *x: sum(x)"
   ]
  },
  {
   "cell_type": "code",
   "execution_count": 219,
   "id": "0edef6ff",
   "metadata": {
    "vscode": {
     "languageId": "python"
    }
   },
   "outputs": [
    {
     "data": {
      "text/plain": [
       "3"
      ]
     },
     "execution_count": 219,
     "metadata": {},
     "output_type": "execute_result"
    }
   ],
   "source": [
    "f(1,2)"
   ]
  },
  {
   "cell_type": "code",
   "execution_count": 243,
   "id": "e3dfbed2",
   "metadata": {
    "vscode": {
     "languageId": "python"
    }
   },
   "outputs": [
    {
     "name": "stdout",
     "output_type": "stream",
     "text": [
      "Not Palinrome\n"
     ]
    }
   ],
   "source": [
    "# Create a function for checking whether the string is palindrome or not.\n",
    "\n",
    "def checkPalindrome(val):\n",
    "    return val == val[::-1]\n",
    "        \n",
    "# Same Program using Lambda.\n",
    "pal = lambda val: val == val[::-1]\n",
    "if pal(\"Sudeb\"):\n",
    "    print(\"Palindrome\")\n",
    "else:\n",
    "    print(\"Not Palinrome\")\n",
    "# Create a function to count num of space, uppercase in the given sentence.\n"
   ]
  },
  {
   "cell_type": "code",
   "execution_count": 244,
   "id": "eccbca94",
   "metadata": {
    "vscode": {
     "languageId": "python"
    }
   },
   "outputs": [
    {
     "data": {
      "text/plain": [
       "True"
      ]
     },
     "execution_count": 244,
     "metadata": {},
     "output_type": "execute_result"
    }
   ],
   "source": [
    "checkPalindrome('MOM')"
   ]
  },
  {
   "cell_type": "code",
   "execution_count": 246,
   "id": "7f6090fa",
   "metadata": {
    "vscode": {
     "languageId": "python"
    }
   },
   "outputs": [
    {
     "data": {
      "text/plain": [
       "'Not Palindrome'"
      ]
     },
     "execution_count": 246,
     "metadata": {},
     "output_type": "execute_result"
    }
   ],
   "source": [
    "# Create a function for checking whether the string is palindrome or not.\n",
    "\n",
    "def checkPalindrome(val):\n",
    "    return \"Palindrome\" if val == val[::-1] else \"Not Palindrome\"\n",
    "\n",
    "checkPalindrome(\"MOM\")\n",
    "# Same Program using Lambda.\n",
    "pal = lambda val: \"Palindrome\" if val == val[::-1] else \"Not Palindrome\"\n",
    "pal(\"Sudeb\")"
   ]
  },
  {
   "cell_type": "code",
   "execution_count": 247,
   "id": "7bf79185",
   "metadata": {
    "vscode": {
     "languageId": "python"
    }
   },
   "outputs": [
    {
     "data": {
      "text/plain": [
       "'Palindrome'"
      ]
     },
     "execution_count": 247,
     "metadata": {},
     "output_type": "execute_result"
    }
   ],
   "source": [
    "checkPalindrome(\"MOM\")"
   ]
  },
  {
   "cell_type": "code",
   "execution_count": 250,
   "id": "916d9525",
   "metadata": {
    "vscode": {
     "languageId": "python"
    }
   },
   "outputs": [
    {
     "data": {
      "text/plain": [
       "<reversed at 0x209965089d0>"
      ]
     },
     "execution_count": 250,
     "metadata": {},
     "output_type": "execute_result"
    }
   ],
   "source": [
    "name = \"Sudeb\"\n",
    "reversed(name)"
   ]
  },
  {
   "cell_type": "code",
   "execution_count": 251,
   "id": "4cb9a84a",
   "metadata": {
    "vscode": {
     "languageId": "python"
    }
   },
   "outputs": [
    {
     "data": {
      "text/plain": [
       "['b', 'e', 'd', 'u', 'S']"
      ]
     },
     "execution_count": 251,
     "metadata": {},
     "output_type": "execute_result"
    }
   ],
   "source": [
    "list(reversed(name))"
   ]
  },
  {
   "cell_type": "code",
   "execution_count": 252,
   "id": "fb6b440a",
   "metadata": {
    "vscode": {
     "languageId": "python"
    }
   },
   "outputs": [
    {
     "data": {
      "text/plain": [
       "'beduS'"
      ]
     },
     "execution_count": 252,
     "metadata": {},
     "output_type": "execute_result"
    }
   ],
   "source": [
    "\"\".join(list(reversed(name)))"
   ]
  },
  {
   "cell_type": "code",
   "execution_count": 254,
   "id": "0fff0027",
   "metadata": {
    "vscode": {
     "languageId": "python"
    }
   },
   "outputs": [
    {
     "data": {
      "text/plain": [
       "\"['b', 'e', 'd', 'u', 'S']\""
      ]
     },
     "execution_count": 254,
     "metadata": {},
     "output_type": "execute_result"
    }
   ],
   "source": [
    "str(list(reversed(name)))"
   ]
  },
  {
   "cell_type": "code",
   "execution_count": 255,
   "id": "830c1a9b",
   "metadata": {
    "vscode": {
     "languageId": "python"
    }
   },
   "outputs": [
    {
     "name": "stdout",
     "output_type": "stream",
     "text": [
      "b\n",
      "e\n",
      "d\n",
      "u\n",
      "S\n"
     ]
    }
   ],
   "source": [
    "for i in reversed(name):\n",
    "    print(i)"
   ]
  },
  {
   "cell_type": "code",
   "execution_count": 256,
   "id": "3b388445",
   "metadata": {
    "vscode": {
     "languageId": "python"
    }
   },
   "outputs": [
    {
     "data": {
      "text/plain": [
       "False"
      ]
     },
     "execution_count": 256,
     "metadata": {},
     "output_type": "execute_result"
    }
   ],
   "source": [
    "# All Function\n",
    "all([True, True, False, True])"
   ]
  },
  {
   "cell_type": "code",
   "execution_count": 258,
   "id": "531eaa75",
   "metadata": {
    "vscode": {
     "languageId": "python"
    }
   },
   "outputs": [
    {
     "data": {
      "text/plain": [
       "True"
      ]
     },
     "execution_count": 258,
     "metadata": {},
     "output_type": "execute_result"
    }
   ],
   "source": [
    "all([1,1,1])"
   ]
  },
  {
   "cell_type": "code",
   "execution_count": 260,
   "id": "ca268548",
   "metadata": {
    "vscode": {
     "languageId": "python"
    }
   },
   "outputs": [
    {
     "name": "stdout",
     "output_type": "stream",
     "text": [
      "Capital letters are 3\n",
      "Spaces are 2\n"
     ]
    }
   ],
   "source": [
    "def ct(sent):\n",
    "    count,space = 0,0\n",
    "    for i in (sent):\n",
    "        if i.isupper():\n",
    "            count+=1\n",
    "        elif i.isspace():\n",
    "            space+=1\n",
    "        \n",
    "    print(\"Capital letters are {}\\nSpaces are {}\".format(count, space))\n",
    "\n",
    "ct(\"This Is Demo\")\n"
   ]
  },
  {
   "cell_type": "code",
   "execution_count": 261,
   "id": "fcd70b93",
   "metadata": {
    "vscode": {
     "languageId": "python"
    }
   },
   "outputs": [],
   "source": [
    "sudeb = ct"
   ]
  },
  {
   "cell_type": "code",
   "execution_count": 264,
   "id": "54caf229",
   "metadata": {
    "vscode": {
     "languageId": "python"
    }
   },
   "outputs": [
    {
     "name": "stdout",
     "output_type": "stream",
     "text": [
      "Capital letters are 1\n",
      "Spaces are 4\n",
      "Capital letters are 1\n",
      "Spaces are 4\n"
     ]
    }
   ],
   "source": [
    "sudeb(\"This is renaming a function\")\n",
    "ct(\"This is the old function\")"
   ]
  },
  {
   "cell_type": "code",
   "execution_count": 265,
   "id": "b1a39e6c",
   "metadata": {
    "vscode": {
     "languageId": "python"
    }
   },
   "outputs": [],
   "source": [
    "# Zipping function\n",
    "name = [\"Name1\", \"Name2\", \"Name3\", \"Name 4\", \"Name 5\"]\n",
    "word = [\"1\", \"2\", \"3\", \"4\", \"5\"]"
   ]
  },
  {
   "cell_type": "code",
   "execution_count": 266,
   "id": "b37e45f4",
   "metadata": {
    "vscode": {
     "languageId": "python"
    }
   },
   "outputs": [
    {
     "data": {
      "text/plain": [
       "<zip at 0x20995373cc0>"
      ]
     },
     "execution_count": 266,
     "metadata": {},
     "output_type": "execute_result"
    }
   ],
   "source": [
    "zip(name, word)"
   ]
  },
  {
   "cell_type": "code",
   "execution_count": 267,
   "id": "1808b28e",
   "metadata": {
    "vscode": {
     "languageId": "python"
    }
   },
   "outputs": [
    {
     "data": {
      "text/plain": [
       "[('Name1', '1'),\n",
       " ('Name2', '2'),\n",
       " ('Name3', '3'),\n",
       " ('Name 4', '4'),\n",
       " ('Name 5', '5')]"
      ]
     },
     "execution_count": 267,
     "metadata": {},
     "output_type": "execute_result"
    }
   ],
   "source": [
    "list(zip(name, word))"
   ]
  },
  {
   "cell_type": "code",
   "execution_count": 272,
   "id": "307efa34",
   "metadata": {
    "vscode": {
     "languageId": "python"
    }
   },
   "outputs": [
    {
     "data": {
      "text/plain": [
       "[('Name1', '1'),\n",
       " ('Name2', '2'),\n",
       " ('Name3', '3'),\n",
       " ('Name 4', '4'),\n",
       " ('Name 5', '5')]"
      ]
     },
     "execution_count": 272,
     "metadata": {},
     "output_type": "execute_result"
    }
   ],
   "source": [
    "data = lambda x,y:(x,y)\n",
    "list(map(data,name,word))\n",
    "#data(name, word)"
   ]
  },
  {
   "cell_type": "code",
   "execution_count": null,
   "id": "7c2547fa",
   "metadata": {
    "vscode": {
     "languageId": "python"
    }
   },
   "outputs": [],
   "source": []
  }
 ],
 "metadata": {
  "kernelspec": {
   "display_name": "Python 3 (ipykernel)",
   "language": "python",
   "name": "python3"
  },
  "vscode": {
   "interpreter": {
    "hash": "b09ec625f77bf4fd762565a912b97636504ad6ec901eb2d0f4cf5a7de23e1ee5"
   }
  }
 },
 "nbformat": 4,
 "nbformat_minor": 5
}
