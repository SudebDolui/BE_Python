{
 "cells": [
  {
   "cell_type": "markdown",
   "id": "ec311554",
   "metadata": {},
   "source": [
    "# File Handling in Python"
   ]
  },
  {
   "cell_type": "markdown",
   "id": "f192bcd7",
   "metadata": {},
   "source": [
    "File is a set of data used for reading, writing and executing ***Explicit*** operations on the file - open, close, rename."
   ]
  },
  {
   "cell_type": "code",
   "execution_count": 2,
   "id": "934566e2",
   "metadata": {},
   "outputs": [
    {
     "ename": "FileNotFoundError",
     "evalue": "[Errno 2] No such file or directory: 'testDoc.txt'",
     "output_type": "error",
     "traceback": [
      "\u001b[1;31m---------------------------------------------------------------------------\u001b[0m",
      "\u001b[1;31mFileNotFoundError\u001b[0m                         Traceback (most recent call last)",
      "Cell \u001b[1;32mIn [2], line 1\u001b[0m\n\u001b[1;32m----> 1\u001b[0m f1 \u001b[38;5;241m=\u001b[39m \u001b[38;5;28;43mopen\u001b[39;49m\u001b[43m(\u001b[49m\u001b[38;5;124;43m\"\u001b[39;49m\u001b[38;5;124;43mtestDoc.txt\u001b[39;49m\u001b[38;5;124;43m\"\u001b[39;49m\u001b[43m)\u001b[49m\n",
      "\u001b[1;31mFileNotFoundError\u001b[0m: [Errno 2] No such file or directory: 'testDoc.txt'"
     ]
    }
   ],
   "source": [
    "f1 = open(\"testDoc.txt\")"
   ]
  },
  {
   "cell_type": "markdown",
   "id": "8a0c33ed",
   "metadata": {},
   "source": [
    "Above cell, since there is no file \"testDoc.txt\" available, we are getting error"
   ]
  },
  {
   "cell_type": "code",
   "execution_count": 53,
   "id": "0b47a1db",
   "metadata": {},
   "outputs": [
    {
     "data": {
      "text/plain": [
       "19"
      ]
     },
     "execution_count": 53,
     "metadata": {},
     "output_type": "execute_result"
    }
   ],
   "source": [
    "f2 = open(\"testDoc.txt\", \"w\")\n",
    "f2.write(\"This is the first line in the file program\")\n",
    "f2.write(\"\\nThis is a new line\")"
   ]
  },
  {
   "cell_type": "markdown",
   "id": "83d927cc",
   "metadata": {},
   "source": [
    "We did not use the close operation so it was showing this value"
   ]
  },
  {
   "cell_type": "code",
   "execution_count": 55,
   "id": "1b9ddb12",
   "metadata": {},
   "outputs": [],
   "source": [
    "f2 = open(\"testDoc.txt\", \"w\")\n",
    "f2.write(\"This is the first line in the file program\")\n",
    "f2.write(\"\\nThis is a new line\")\n",
    "f2.close()"
   ]
  },
  {
   "cell_type": "markdown",
   "id": "a0f3666d",
   "metadata": {},
   "source": [
    "- Write mode \"w\" always ovwerrides the existing data\n",
    "- To avoid override, we use mode \"a\" which appends data to existing file"
   ]
  },
  {
   "cell_type": "code",
   "execution_count": 11,
   "id": "28a3f708",
   "metadata": {},
   "outputs": [],
   "source": [
    "f2 = open(\"testDoc.txt\", \"a\")\n",
    "f2.write(\"\\nThis is a new line\")\n",
    "f2.close()"
   ]
  },
  {
   "cell_type": "markdown",
   "id": "495ab4cc",
   "metadata": {},
   "source": [
    "- By default if we don't specify the mode it will be in read mode.\n",
    "- We can also use \"r\" to go to read mode.\n",
    "- To read the file content we use read() function."
   ]
  },
  {
   "cell_type": "code",
   "execution_count": 51,
   "id": "ceed57af",
   "metadata": {},
   "outputs": [
    {
     "name": "stdout",
     "output_type": "stream",
     "text": [
      "This is the first line in the file program\n",
      "This is a new line\n",
      "This is a new line\n"
     ]
    }
   ],
   "source": [
    "f3 = open(\"testDoc.txt\")\n",
    "print(f3.read())\n",
    "f3.close()"
   ]
  },
  {
   "cell_type": "code",
   "execution_count": 12,
   "id": "56746945",
   "metadata": {},
   "outputs": [
    {
     "name": "stdout",
     "output_type": "stream",
     "text": [
      "This is the first line in the file program\n",
      "This is a new line\n",
      "This is a new line\n"
     ]
    }
   ],
   "source": [
    "f3 = open(\"testDoc.txt\", \"r\")\n",
    "print(f3.read())\n",
    "f3.close()"
   ]
  },
  {
   "cell_type": "markdown",
   "id": "5ff3a73a",
   "metadata": {},
   "source": [
    "- Read every line as a list item"
   ]
  },
  {
   "cell_type": "code",
   "execution_count": 13,
   "id": "5f9706b5",
   "metadata": {},
   "outputs": [
    {
     "name": "stdout",
     "output_type": "stream",
     "text": [
      "['This is the first line in the file program\\n', 'This is a new line\\n', 'This is a new line']\n"
     ]
    }
   ],
   "source": [
    "f3 = open(\"testDoc.txt\", \"r\")\n",
    "print(f3.readlines())\n",
    "f3.close()"
   ]
  },
  {
   "cell_type": "markdown",
   "id": "0d2bf7c4",
   "metadata": {},
   "source": [
    "- utf-8 encodes all asian languages(hindi, chinese, telugu, bangla, ...)"
   ]
  },
  {
   "cell_type": "code",
   "execution_count": 31,
   "id": "666214fa",
   "metadata": {},
   "outputs": [
    {
     "name": "stdout",
     "output_type": "stream",
     "text": [
      "तू जो रूठा तो कौन हसेगा\n",
      "तू जो छूटा तो\n",
      "कौन रहेगा\n",
      "\n",
      "तू चुप है तो, ये डर लगता है\n",
      "अपना मुझको अब कौन कहेगा\n",
      "तू ही वजह\n",
      "तेरे बिना, बेवजह, बेकार हूँ मैं\n",
      "तेरा यार हूँ मैं.. तेरा यार हूँ मैं\n"
     ]
    }
   ],
   "source": [
    "song = open(\"C:\\\\Users\\\\sudebd\\Python Django Training\\\\Music\\\\teraYaarHuMainSong.txt\", encoding=\"utf-8\")\n",
    "print(song.read())\n",
    "song.close()"
   ]
  },
  {
   "cell_type": "markdown",
   "id": "0bcea9b7",
   "metadata": {},
   "source": [
    "- r is reversing backwards slash due to that we can read file content without"
   ]
  },
  {
   "cell_type": "code",
   "execution_count": 27,
   "id": "493e9e8d",
   "metadata": {},
   "outputs": [
    {
     "name": "stdout",
     "output_type": "stream",
     "text": [
      "तू जो रूठा तो कौन हसेगा\n",
      "तू जो छूटा तो\n",
      "कौन रहेगा\n",
      "\n",
      "तू चुप है तो, ये डर लगता है\n",
      "अपना मुझको अब कौन कहेगा\n",
      "तू ही वजह\n",
      "तेरे बिना, बेवजह, बेकार हूँ मैं\n",
      "तेरा यार हूँ मैं.. तेरा यार हूँ मैं\n"
     ]
    }
   ],
   "source": [
    "song = open(r\"C:\\Users\\sudebd\\Python Django Training\\Music\\teraYaarHuMainSong.txt\", \"r\", encoding=\"utf-8\")\n",
    "print(song.read())\n",
    "song.close()"
   ]
  },
  {
   "cell_type": "code",
   "execution_count": 32,
   "id": "944acdbb",
   "metadata": {},
   "outputs": [
    {
     "name": "stdout",
     "output_type": "stream",
     "text": [
      "तू जो रूठा तो कौन हसेगा\n",
      "\n",
      "तू जो छूटा तो\n",
      "कौन रहेगा\n",
      "\n",
      "तू चुप है तो, ये डर लगता है\n",
      "अपना मुझको अब कौन कहेगा\n",
      "तू ही वजह\n",
      "तेरे बिना, बेवजह, बेकार हूँ मैं\n",
      "तेरा यार हूँ मैं.. तेरा यार हूँ मैं\n"
     ]
    }
   ],
   "source": [
    "song = open(r\"C:\\Users\\sudebd\\Python Django Training\\Music\\teraYaarHuMainSong.txt\", \"r\", encoding=\"utf-8\")\n",
    "print(song.readline()) # function to read one line\n",
    "print(song.read()) # This read will read the content from next line onwards, till readline() has completed\n",
    "song.close()"
   ]
  },
  {
   "cell_type": "markdown",
   "id": "b515bb31",
   "metadata": {},
   "source": [
    "- Writing a file"
   ]
  },
  {
   "cell_type": "code",
   "execution_count": 33,
   "id": "8a105745",
   "metadata": {},
   "outputs": [
    {
     "ename": "NameError",
     "evalue": "name 'rrr' is not defined",
     "output_type": "error",
     "traceback": [
      "\u001b[1;31m---------------------------------------------------------------------------\u001b[0m",
      "\u001b[1;31mNameError\u001b[0m                                 Traceback (most recent call last)",
      "Cell \u001b[1;32mIn [33], line 2\u001b[0m\n\u001b[0;32m      1\u001b[0m rrrSong \u001b[38;5;241m=\u001b[39m \u001b[38;5;28mopen\u001b[39m(\u001b[38;5;124m'\u001b[39m\u001b[38;5;124mrrrSong.txt\u001b[39m\u001b[38;5;124m'\u001b[39m, \u001b[38;5;124m'\u001b[39m\u001b[38;5;124mw\u001b[39m\u001b[38;5;124m'\u001b[39m)\n\u001b[1;32m----> 2\u001b[0m \u001b[43mrrr\u001b[49m\u001b[38;5;241m.\u001b[39mwrite(\u001b[38;5;124m'''\u001b[39m\n\u001b[0;32m      3\u001b[0m \u001b[38;5;124mపొలంగట్టు దుమ్ములోన\u001b[39m\n\u001b[0;32m      4\u001b[0m \u001b[38;5;124mపోట్లగిత్త దూకినట్టు\u001b[39m\n\u001b[0;32m      5\u001b[0m \u001b[38;5;124mపోలేరమ్మ జాతరలో\u001b[39m\n\u001b[0;32m      6\u001b[0m \u001b[38;5;124mపోతరాజు ఊగినట్టుకిర్రు సెప్పులేసుకొని\u001b[39m\n\u001b[0;32m      7\u001b[0m \u001b[38;5;124mకర్రసాము సేసినట్టు\u001b[39m\n\u001b[0;32m      8\u001b[0m \u001b[38;5;124mమర్రిసెట్టు నీడలోన\u001b[39m\n\u001b[0;32m      9\u001b[0m \u001b[38;5;124mకుర్రగుంపు కూడినట్టు\u001b[39m\n\u001b[0;32m     10\u001b[0m \u001b[38;5;124mఎర్రజొన్న రొట్టెలోన\u001b[39m\n\u001b[0;32m     11\u001b[0m \u001b[38;5;124mమిరపతొక్కు కలిపినట్టునా పాట సూడొ\u001b[39m\n\u001b[0;32m     12\u001b[0m \u001b[38;5;124mనా పాట సూడొ\u001b[39m\n\u001b[0;32m     13\u001b[0m \u001b[38;5;124mనా పాట సూడు\u001b[39m\n\u001b[0;32m     14\u001b[0m \u001b[38;5;124m'''\u001b[39m)\n",
      "\u001b[1;31mNameError\u001b[0m: name 'rrr' is not defined"
     ]
    }
   ],
   "source": [
    "rrrSong = open('rrrSong.txt', 'w')\n",
    "rrr.write('''\n",
    "పొలంగట్టు దుమ్ములోన\n",
    "పోట్లగిత్త దూకినట్టు\n",
    "పోలేరమ్మ జాతరలో\n",
    "పోతరాజు ఊగినట్టుకిర్రు సెప్పులేసుకొని\n",
    "కర్రసాము సేసినట్టు\n",
    "మర్రిసెట్టు నీడలోన\n",
    "కుర్రగుంపు కూడినట్టు\n",
    "ఎర్రజొన్న రొట్టెలోన\n",
    "మిరపతొక్కు కలిపినట్టునా పాట సూడొ\n",
    "నా పాట సూడొ\n",
    "నా పాట సూడు\n",
    "''')"
   ]
  },
  {
   "cell_type": "code",
   "execution_count": 108,
   "id": "f7a34dd7",
   "metadata": {},
   "outputs": [],
   "source": [
    "rrrSong = open('rrrSong.txt', 'w', encoding='utf-8')\n",
    "rrrSong.write('''\n",
    "పొలంగట్టు దుమ్ములోన\n",
    "పోట్లగిత్త దూకినట్టు\n",
    "పోలేరమ్మ జాతరలో\n",
    "పోతరాజు ఊగినట్టుకిర్రు సెప్పులేసుకొని\n",
    "కర్రసాము సేసినట్టు\n",
    "మర్రిసెట్టు నీడలోన\n",
    "కుర్రగుంపు కూడినట్టు\n",
    "ఎర్రజొన్న రొట్టెలోన\n",
    "మిరపతొక్కు కలిపినట్టునా పాట సూడొ\n",
    "నా పాట సూడొ\n",
    "నా పాట సూడు\n",
    "''')\n",
    "rrrSong.close()"
   ]
  },
  {
   "cell_type": "code",
   "execution_count": 38,
   "id": "ac1476d3",
   "metadata": {},
   "outputs": [
    {
     "name": "stdout",
     "output_type": "stream",
     "text": [
      "\n",
      "\n",
      "పొలంగట్టు దుమ్ములోన\n",
      "పోట్లగిత్త దూకినట్టు\n",
      "పోలేరమ్మ జాతరలో\n",
      "పోతరాజు ఊగినట్టుకిర్రు సెప్పులేసుకొని\n",
      "కర్రసాము సేసినట్టు\n",
      "మర్రిసెట్టు నీడలోన\n",
      "కుర్రగుంపు కూడినట్టు\n",
      "ఎర్రజొన్న రొట్టెలోన\n",
      "మిరపతొక్కు కలిపినట్టునా పాట సూడొ\n",
      "నా పాట సూడొ\n",
      "నా పాట సూడు\n",
      "\n"
     ]
    }
   ],
   "source": [
    "rrrSong = open('rrrSong.txt', 'r', encoding='utf-8')\n",
    "print(rrrSong.readline())\n",
    "print(rrrSong.read())\n",
    "rrrSong.close()"
   ]
  },
  {
   "cell_type": "code",
   "execution_count": 41,
   "id": "e155bb50",
   "metadata": {},
   "outputs": [
    {
     "name": "stdout",
     "output_type": "stream",
     "text": [
      "\n",
      "-----\n",
      "  -\n",
      "  -\n",
      "-----\n",
      "\n",
      "Name\n",
      "\n"
     ]
    }
   ],
   "source": [
    "print(\"\"\"\n",
    "-----\n",
    "  -\n",
    "  -\n",
    "-----\n",
    "\\nName\n",
    "\"\"\")"
   ]
  },
  {
   "cell_type": "markdown",
   "id": "9c5c5e24",
   "metadata": {},
   "source": [
    "Q.) Write a program to generate even number in even file and odd number in odd file."
   ]
  },
  {
   "cell_type": "code",
   "execution_count": 48,
   "id": "3103ff42",
   "metadata": {},
   "outputs": [],
   "source": [
    "even = open(\"even.txt\", 'w')\n",
    "odd = open(\"odd.txt\", 'w')\n",
    "for i in range(1, 100):\n",
    "    if i%2==0:\n",
    "        even.write(str(i)+\" \")\n",
    "    else:\n",
    "        odd.write(str(i)+\" \")\n",
    "even.close()\n",
    "odd.close()"
   ]
  },
  {
   "cell_type": "code",
   "execution_count": 50,
   "id": "148f54ef",
   "metadata": {},
   "outputs": [
    {
     "name": "stdout",
     "output_type": "stream",
     "text": [
      "2 4 6 8 10 12 14 16 18 20 22 24 26 28 30 32 34 36 38 40 42 44 46 48 50 52 54 56 58 60 62 64 66 68 70 72 74 76 78 80 82 84 86 88 90 92 94 96 98 \n",
      "1 3 5 7 9 11 13 15 17 19 21 23 25 27 29 31 33 35 37 39 41 43 45 47 49 51 53 55 57 59 61 63 65 67 69 71 73 75 77 79 81 83 85 87 89 91 93 95 97 99 \n"
     ]
    }
   ],
   "source": [
    "print(open('even.txt', \"r\").readline())\n",
    "print(open('odd.txt', \"r\").readline())"
   ]
  },
  {
   "cell_type": "markdown",
   "id": "c40222c9",
   "metadata": {},
   "source": [
    "- To write content in file, the writing characters should be of type string"
   ]
  },
  {
   "cell_type": "code",
   "execution_count": 62,
   "id": "5bd5e641",
   "metadata": {},
   "outputs": [
    {
     "name": "stdout",
     "output_type": "stream",
     "text": [
      "1551\n",
      "1551 is odd number\n",
      "1551 reverse is 1551\n"
     ]
    }
   ],
   "source": [
    "num = int (input())\n",
    "file = open(\"file.txt\", 'w')\n",
    "file.write(f\"{num} is even number\") if num%2 == 0 else file.write(f\"{num} is odd number\")\n",
    "file.write(f\"\\n{num} reverse is {str(num)[::-1]}\")\n",
    "file.close()\n",
    "print(open(\"file.txt\").read())"
   ]
  },
  {
   "cell_type": "markdown",
   "id": "69a6d142",
   "metadata": {},
   "source": [
    "- Binary File in python (Reading and Writing)\n",
    "- \"wb\" -> Write Binary\n",
    "- \"rb\" -> Read Binary"
   ]
  },
  {
   "cell_type": "code",
   "execution_count": 63,
   "id": "2a768a9b",
   "metadata": {},
   "outputs": [
    {
     "ename": "TypeError",
     "evalue": "a bytes-like object is required, not 'str'",
     "output_type": "error",
     "traceback": [
      "\u001b[1;31m---------------------------------------------------------------------------\u001b[0m",
      "\u001b[1;31mTypeError\u001b[0m                                 Traceback (most recent call last)",
      "Cell \u001b[1;32mIn [63], line 2\u001b[0m\n\u001b[0;32m      1\u001b[0m f4 \u001b[38;5;241m=\u001b[39m \u001b[38;5;28mopen\u001b[39m(\u001b[38;5;124m\"\u001b[39m\u001b[38;5;124mfile.bin\u001b[39m\u001b[38;5;124m\"\u001b[39m, \u001b[38;5;124m\"\u001b[39m\u001b[38;5;124mwb\u001b[39m\u001b[38;5;124m\"\u001b[39m)\n\u001b[1;32m----> 2\u001b[0m \u001b[43mf4\u001b[49m\u001b[38;5;241;43m.\u001b[39;49m\u001b[43mwrite\u001b[49m\u001b[43m(\u001b[49m\u001b[38;5;124;43m\"\u001b[39;49m\u001b[38;5;124;43mThis is a Binary File Demo\u001b[39;49m\u001b[38;5;124;43m\"\u001b[39;49m\u001b[43m)\u001b[49m\n\u001b[0;32m      3\u001b[0m f4\u001b[38;5;241m.\u001b[39mclose()\n",
      "\u001b[1;31mTypeError\u001b[0m: a bytes-like object is required, not 'str'"
     ]
    }
   ],
   "source": [
    "f4 = open(\"file.bin\", \"wb\")\n",
    "f4.write(\"This is a Binary File Demo\")\n",
    "f4.close()"
   ]
  },
  {
   "cell_type": "code",
   "execution_count": 72,
   "id": "1d6a9510",
   "metadata": {},
   "outputs": [],
   "source": [
    "f4 = open(\"file.bin\", \"wb\")\n",
    "f4.write(b\"This is a Binary File Demo\")\n",
    "f4.close()"
   ]
  },
  {
   "cell_type": "code",
   "execution_count": 73,
   "id": "9aa3738d",
   "metadata": {},
   "outputs": [
    {
     "name": "stdout",
     "output_type": "stream",
     "text": [
      "This is a Binary File Demo\n"
     ]
    }
   ],
   "source": [
    "print(open(\"file.bin\").read())"
   ]
  },
  {
   "cell_type": "code",
   "execution_count": 78,
   "id": "96f87643",
   "metadata": {},
   "outputs": [],
   "source": [
    "f4 = open(\"file\", \"wb\")\n",
    "f4.write(b\"This is a Binary File Demo\")\n",
    "f4.close()"
   ]
  },
  {
   "cell_type": "code",
   "execution_count": 76,
   "id": "6b14758b",
   "metadata": {},
   "outputs": [
    {
     "name": "stdout",
     "output_type": "stream",
     "text": [
      "b'This is a Binary File Demo'\n"
     ]
    }
   ],
   "source": [
    "print(open(\"file.bin\", \"rb\").read())"
   ]
  },
  {
   "cell_type": "code",
   "execution_count": 77,
   "id": "774d7d1f",
   "metadata": {},
   "outputs": [
    {
     "name": "stdout",
     "output_type": "stream",
     "text": [
      "b'This is a Binary File Demo'\n"
     ]
    }
   ],
   "source": [
    "print(open(\"file\", \"rb\").read())"
   ]
  },
  {
   "cell_type": "code",
   "execution_count": 79,
   "id": "6cdf8f60",
   "metadata": {},
   "outputs": [
    {
     "name": "stdout",
     "output_type": "stream",
     "text": [
      "This is a Binary File Demo\n"
     ]
    }
   ],
   "source": [
    "print(open(\"file\").read())"
   ]
  },
  {
   "cell_type": "code",
   "execution_count": 80,
   "id": "3f18861f",
   "metadata": {},
   "outputs": [
    {
     "name": "stdout",
     "output_type": "stream",
     "text": [
      "This is a Binary File Demo\n"
     ]
    }
   ],
   "source": [
    "f5 = open(\"file\", \"rb\")\n",
    "print(f5.read().decode()) # Decode is used to convert from byte format to original format\n",
    "f5.close()"
   ]
  },
  {
   "cell_type": "markdown",
   "id": "b6889edb",
   "metadata": {},
   "source": [
    "- Sometimes we might get error when we use \"r\" to read binary file"
   ]
  },
  {
   "cell_type": "markdown",
   "id": "37f75f7f",
   "metadata": {},
   "source": [
    "### Reading and Writing a File\n",
    "   - use \"r+\" for both reading and writing file.\n",
    "   - use \"latin-1\" for latin text read.\n",
    "   - use \"utf-8\" for max text read.\n",
    "   \n",
    "***Note*** : \n",
    "\"r+\" works good for same language read and write opertaion but when we use other languages it's not a good choice.\n",
    "\"r+\" writes the file directly and does not perform override function."
   ]
  },
  {
   "cell_type": "code",
   "execution_count": 137,
   "id": "042bd523",
   "metadata": {},
   "outputs": [],
   "source": [
    "rrrSong = open('rrrSong.txt', 'w', encoding='utf-8')\n",
    "rrrSong.write('''\n",
    "పొలంగట్టు దుమ్ములోన\n",
    "పోట్లగిత్త దూకినట్టు\n",
    "పోలేరమ్మ జాతరలో\n",
    "పోతరాజు ఊగినట్టుకిర్రు సెప్పులేసుకొని\n",
    "కర్రసాము సేసినట్టు\n",
    "మర్రిసెట్టు నీడలోన\n",
    "కుర్రగుంపు కూడినట్టు\n",
    "ఎర్రజొన్న రొట్టెలోన\n",
    "మిరపతొక్కు కలిపినట్టునా పాట సూడొ\n",
    "నా పాట సూడొ\n",
    "నా పాట సూడు\n",
    "''')\n",
    "rrrSong.close()"
   ]
  },
  {
   "cell_type": "code",
   "execution_count": 113,
   "id": "050c752f",
   "metadata": {},
   "outputs": [
    {
     "name": "stdout",
     "output_type": "stream",
     "text": [
      "\n",
      "పొలంగట్టు దుమ్ములోన\n",
      "పోట్లగిత్త దూకినట్టు\n",
      "పోలేరమ్మ జాతరలో\n",
      "పోతరాజు ఊగినట్టుకిర్రు సెప్పులేసుకొని\n",
      "కర్రసాము సేసినట్టు\n",
      "మర్రిసెట్టు నీడలోన\n",
      "కుర్రగుంపు కూడినట్టు\n",
      "ఎర్రజొన్న రొట్టెలోన\n",
      "మిరపతొక్కు కలిపినట్టునా పాట సూడొ\n",
      "నా పాట సూడొ\n",
      "నా పాట సూడు\n",
      "\n"
     ]
    }
   ],
   "source": [
    "f6 = open(\"rrrSong.txt\", \"r+\", encoding=\"utf-8\")\n",
    "print(f6.read())\n",
    "f6.close()"
   ]
  },
  {
   "cell_type": "code",
   "execution_count": 121,
   "id": "2985e4a5",
   "metadata": {},
   "outputs": [],
   "source": [
    "f6 = open(\"rrrSong.txt\", \"r+\", encoding=\"utf-8\")\n",
    "f6.write(\"Song deleted by User\")\n",
    "f6.close()"
   ]
  },
  {
   "cell_type": "code",
   "execution_count": 123,
   "id": "618b8fbd",
   "metadata": {},
   "outputs": [
    {
     "name": "stdout",
     "output_type": "stream",
     "text": [
      "Song deleted by User్టు దుమ్ములోన\n",
      "పోట్లగిత్త దూకినట్టు\n",
      "పోలేరమ్మ జాతరలో\n",
      "పోతరాజు ఊగినట్టుకిర్రు సెప్పులేసుకొని\n",
      "కర్రసాము సేసినట్టు\n",
      "మర్రిసెట్టు నీడలోన\n",
      "కుర్రగుంపు కూడినట్టు\n",
      "ఎర్రజొన్న రొట్టెలోన\n",
      "మిరపతొక్కు కలిపినట్టునా పాట సూడొ\n",
      "నా పాట సూడొ\n",
      "నా పాట సూడు\n",
      "\n"
     ]
    }
   ],
   "source": [
    "f6 = open(\"rrrSong.txt\", \"r+\", encoding=\"utf-8\")\n",
    "print(f6.read())\n",
    "f6.close()"
   ]
  },
  {
   "cell_type": "code",
   "execution_count": 127,
   "id": "a122a670",
   "metadata": {},
   "outputs": [
    {
     "name": "stdout",
     "output_type": "stream",
     "text": [
      "Song deleted by User్టు దుమ్\n"
     ]
    }
   ],
   "source": [
    "f6 = open(\"rrrSong.txt\", encoding=\"utf-8\")\n",
    "print(f6.read(28))\n",
    "f6.close()"
   ]
  },
  {
   "cell_type": "code",
   "execution_count": 128,
   "id": "135c7dfe",
   "metadata": {},
   "outputs": [],
   "source": [
    "#f6 = open(\"rrrSong.txt\", \"w\", encoding=\"utf-8\")\n",
    "f6 = open(\"rrrSong.txt\", \"w\", encoding=\"utf-8\")\n",
    "f6.write(\"Song deleted by User\")\n",
    "f6.close()"
   ]
  },
  {
   "cell_type": "code",
   "execution_count": 133,
   "id": "08aff6b9",
   "metadata": {},
   "outputs": [
    {
     "name": "stdout",
     "output_type": "stream",
     "text": [
      "This is the first line in the file program\n",
      "This is a new line\n"
     ]
    }
   ],
   "source": [
    "f7 = open(\"testDoc.txt\", \"r+\", encoding=\"utf-8\")\n",
    "print(f7.read())\n",
    "f6.close()"
   ]
  },
  {
   "cell_type": "code",
   "execution_count": 134,
   "id": "cf665928",
   "metadata": {},
   "outputs": [],
   "source": [
    "f7 = open(\"testDoc.txt\", \"r+\", encoding=\"utf-8\")\n",
    "f7.write(\"Line by User\")\n",
    "f7.close()"
   ]
  },
  {
   "cell_type": "code",
   "execution_count": 135,
   "id": "dc426edd",
   "metadata": {},
   "outputs": [
    {
     "name": "stdout",
     "output_type": "stream",
     "text": [
      "Line by Userfirst line in the file program\n",
      "This is a new line\n"
     ]
    }
   ],
   "source": [
    "f7 = open(\"testDoc.txt\", \"r+\", encoding=\"utf-8\")\n",
    "print(f7.read())\n",
    "f7.close()"
   ]
  },
  {
   "cell_type": "markdown",
   "id": "7809d4b6",
   "metadata": {},
   "source": [
    "- with operator closes the file Automatically"
   ]
  },
  {
   "cell_type": "code",
   "execution_count": 138,
   "id": "5db409bd",
   "metadata": {},
   "outputs": [
    {
     "name": "stdout",
     "output_type": "stream",
     "text": [
      "\n",
      "పొలంగట్టు దుమ్ములోన\n",
      "పోట్లగిత్త దూకినట్టు\n",
      "పోలేరమ్మ జాతరలో\n",
      "పోతరాజు ఊగినట్టుకిర్రు సెప్పులేసుకొని\n",
      "కర్రసాము సేసినట్టు\n",
      "మర్రిసెట్టు నీడలోన\n",
      "కుర్రగుంపు కూడినట్టు\n",
      "ఎర్రజొన్న రొట్టెలోన\n",
      "మిరపతొక్కు కలిపినట్టునా పాట సూడొ\n",
      "నా పాట సూడొ\n",
      "నా పాట సూడు\n",
      "\n"
     ]
    }
   ],
   "source": [
    "with open(\"rrrSong.txt\", encoding='utf-8') as f9 :\n",
    "    print(f9.read())"
   ]
  },
  {
   "cell_type": "code",
   "execution_count": 146,
   "id": "f9c7fdf1",
   "metadata": {},
   "outputs": [],
   "source": [
    "with open('file1.txt', 'w') as demo:\n",
    "    demo.write(\"\\nIt is done using with operator\")"
   ]
  },
  {
   "cell_type": "code",
   "execution_count": 145,
   "id": "e6e96082",
   "metadata": {},
   "outputs": [
    {
     "name": "stdout",
     "output_type": "stream",
     "text": [
      "\n",
      "It is done using with operator\n"
     ]
    }
   ],
   "source": [
    "\n",
    "with open('file1.txt', 'r') as demo:\n",
    "    print(demo.read())"
   ]
  },
  {
   "cell_type": "markdown",
   "id": "7dc2e908",
   "metadata": {},
   "source": [
    "- Write a program to reverse the content of given file"
   ]
  },
  {
   "cell_type": "code",
   "execution_count": 162,
   "id": "1136c948",
   "metadata": {},
   "outputs": [],
   "source": [
    "with open('file2.txt', 'w') as f:\n",
    "    f.write(\"\"\"r: open an existing file for a read operation.\n",
    "    w: open an existing file for a write operation. If the file already contains some data then it will be overridden but if the file is not present then it creates the file as well.\n",
    "    a:  open an existing file for append operation. It won’t override existing data.\n",
    "    r+:  To read and write data into the file. The previous data in the file will be overridden.\n",
    "            \"\"\")"
   ]
  },
  {
   "cell_type": "code",
   "execution_count": 163,
   "id": "bb996f8b",
   "metadata": {},
   "outputs": [
    {
     "name": "stdout",
     "output_type": "stream",
     "text": [
      "r: open an existing file for a read operation.\n",
      "\n",
      "    w: open an existing file for a write operation. If the file already contains some data then it will be overridden but if the file is not present then it creates the file as well.\n",
      "    a:  open an existing file for append operation. It won’t override existing data.\n",
      "    r+:  To read and write data into the file. The previous data in the file will be overridden.\n",
      "            \n"
     ]
    }
   ],
   "source": [
    "with open('file2.txt', 'r') as f:\n",
    "    print(f.readline())\n",
    "    print(f.read())"
   ]
  },
  {
   "cell_type": "code",
   "execution_count": 164,
   "id": "cf56e94a",
   "metadata": {},
   "outputs": [
    {
     "name": "stdout",
     "output_type": "stream",
     "text": [
      "\n",
      ".noitarepo daer a rof elif gnitsixe na nepo :r\n",
      "\n",
      ".llew sa elif eht setaerc ti neht tneserp ton si elif eht fi tub neddirrevo eb lliw ti neht atad emos sniatnoc ydaerla elif eht fI .noitarepo etirw a rof elif gnitsixe na nepo :w    \n",
      "\n",
      ".atad gnitsixe edirrevo t’now tI .noitarepo dneppa rof elif gnitsixe na nepo  :a    \n",
      "\n",
      ".neddirrevo eb lliw elif eht ni atad suoiverp ehT .elif eht otni atad etirw dna daer oT  :+r    \n",
      "            \n"
     ]
    }
   ],
   "source": [
    "with open('file2.txt', 'r') as f:\n",
    "    for i in f.readlines():\n",
    "        print(i[::-1])"
   ]
  },
  {
   "cell_type": "code",
   "execution_count": 174,
   "id": "17d5539c",
   "metadata": {},
   "outputs": [
    {
     "name": "stdout",
     "output_type": "stream",
     "text": [
      "['This', 'is', 'file', 'writing.']\n",
      "['This', 'is', 'new', 'topic.']\n",
      "['Purpose', 'of', 'opening', 'the', 'file.']\n",
      "['ile', 'for', 'a', 'write', 'operation.', 'If', 'the', 'file', 'already', 'contains', 'some', 'data', 'then', 'it', 'will', 'be', 'overridden', 'but', 'if', 'the', 'file', 'is', 'not', 'present', 'then', 'it', 'creates', 'the', 'file', 'as', 'well.']\n",
      "['a:', 'open', 'an', 'existing', 'file', 'for', 'append', 'operation.', 'It', 'won’t', 'override', 'existing', 'data.']\n",
      "['r+:', 'To', 'read', 'and', 'write', 'data', 'into', 'the', 'file.', 'The', 'previous', 'data', 'in', 'the', 'file', 'will', 'be', 'overridden.']\n",
      "[]\n"
     ]
    }
   ],
   "source": [
    "with open('file2.txt', 'r') as f:\n",
    "    for i in f.readlines():\n",
    "        print(i.split())"
   ]
  },
  {
   "cell_type": "code",
   "execution_count": 169,
   "id": "3d04ba44",
   "metadata": {},
   "outputs": [],
   "source": [
    "with open('file2.txt', 'r+') as f:\n",
    "    f.write(\"\\nThis is written by user\")"
   ]
  },
  {
   "cell_type": "code",
   "execution_count": 171,
   "id": "1abf9c69",
   "metadata": {},
   "outputs": [],
   "source": [
    "demo = ['This is file writing.\\n', 'This is new topic.\\n'\n",
    "       , 'Purpose of opening the file.\\n']"
   ]
  },
  {
   "cell_type": "code",
   "execution_count": 173,
   "id": "c4833afc",
   "metadata": {},
   "outputs": [],
   "source": [
    "with open('file2.txt', 'r+') as f:\n",
    "    f.writelines(demo)"
   ]
  },
  {
   "cell_type": "code",
   "execution_count": 180,
   "id": "97cc0577",
   "metadata": {},
   "outputs": [
    {
     "name": "stdout",
     "output_type": "stream",
     "text": [
      "0\n",
      "This is file writing.\n",
      "This is new topic.\n",
      "Purpose of opening the file.\n",
      "ile for a write operation. If the file already contains some data then it will be overridden but if the file is not present then it creates the file as well.\n",
      "    a:  open an existing file for append operation. It won’t override existing data.\n",
      "    r+:  To read and write data into the file. The previous data in the file will be overridden.\n",
      "            \n",
      "428\n"
     ]
    }
   ],
   "source": [
    "# Read from a position and Find the position of cursor in the file.\n",
    "with open(\"file2.txt\") as f:\n",
    "    # f.read(4) # used to move cursor to 4th character or to read from 4th character\n",
    "    print(f.tell())\n",
    "    print(f.read())\n",
    "    print(f.tell())"
   ]
  },
  {
   "cell_type": "code",
   "execution_count": 184,
   "id": "caf04207",
   "metadata": {},
   "outputs": [
    {
     "name": "stdout",
     "output_type": "stream",
     "text": [
      "5\n",
      "is file writing\n"
     ]
    }
   ],
   "source": [
    "with open(\"file2.txt\") as f:\n",
    "    f.seek(5) # From which position it should start\n",
    "    print(f.tell())\n",
    "    print(f.read(15))"
   ]
  },
  {
   "cell_type": "code",
   "execution_count": 187,
   "id": "9a708a23",
   "metadata": {},
   "outputs": [
    {
     "name": "stdout",
     "output_type": "stream",
     "text": [
      "2 4 6 8 10 12 14 16 18 20 22 24 26 28 30 32 34 36 38 40 42 44 46 48 50 52 54 56 58 60 62 64 66 68 70 72 74 76 78 80 82 84 86 88 90 92 94 96 98 \n",
      "1 3 5 7 9 11 13 15 17 19 21 23 25 27 29 31 33 35 37 39 41 43 45 47 49 51 53 55 57 59 61 63 65 67 69 71 73 75 77 79 81 83 85 87 89 91 93 95 97 99 \n"
     ]
    }
   ],
   "source": [
    "# Concat two files and store in the third file\n",
    "first = open(\"even.txt\", \"r\")\n",
    "second = open(\"odd.txt\", \"r\")\n",
    "third = open(\"combo.txt\", \"w\")\n",
    "third.write(first.read())\n",
    "third.write('\\n')\n",
    "third.write(second.read())\n",
    "first.close()\n",
    "second.close()\n",
    "third.close()\n",
    "print(open(\"combo.txt\").read())"
   ]
  },
  {
   "cell_type": "code",
   "execution_count": null,
   "id": "25e0c0a9",
   "metadata": {},
   "outputs": [],
   "source": []
  }
 ],
 "metadata": {
  "kernelspec": {
   "display_name": "Python 3 (ipykernel)",
   "language": "python",
   "name": "python3"
  },
  "language_info": {
   "codemirror_mode": {
    "name": "ipython",
    "version": 3
   },
   "file_extension": ".py",
   "mimetype": "text/x-python",
   "name": "python",
   "nbconvert_exporter": "python",
   "pygments_lexer": "ipython3",
   "version": "3.10.8"
  }
 },
 "nbformat": 4,
 "nbformat_minor": 5
}
