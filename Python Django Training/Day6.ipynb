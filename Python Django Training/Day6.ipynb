{
 "cells": [
  {
   "cell_type": "markdown",
   "id": "ae179790",
   "metadata": {},
   "source": [
    "Using the \"key\" parameter in sort method"
   ]
  },
  {
   "cell_type": "code",
   "execution_count": 1,
   "id": "a4f89d94",
   "metadata": {},
   "outputs": [],
   "source": [
    "a = [56,26,48,58,256,46]"
   ]
  },
  {
   "cell_type": "code",
   "execution_count": 2,
   "id": "5c2b2098",
   "metadata": {},
   "outputs": [],
   "source": [
    "a.sort()"
   ]
  },
  {
   "cell_type": "code",
   "execution_count": 3,
   "id": "1d4580b7",
   "metadata": {},
   "outputs": [
    {
     "data": {
      "text/plain": [
       "[26, 46, 48, 56, 58, 256]"
      ]
     },
     "execution_count": 3,
     "metadata": {},
     "output_type": "execute_result"
    }
   ],
   "source": [
    "a"
   ]
  },
  {
   "cell_type": "code",
   "execution_count": 4,
   "id": "7e202871",
   "metadata": {},
   "outputs": [],
   "source": [
    "b = [[5,6],[1,8],[9,2],[0,11],[4,6]]"
   ]
  },
  {
   "cell_type": "code",
   "execution_count": 5,
   "id": "c47f44c2",
   "metadata": {},
   "outputs": [
    {
     "data": {
      "text/plain": [
       "[[0, 11], [1, 8], [4, 6], [5, 6], [9, 2]]"
      ]
     },
     "execution_count": 5,
     "metadata": {},
     "output_type": "execute_result"
    }
   ],
   "source": [
    "b.sort()\n",
    "b"
   ]
  },
  {
   "cell_type": "code",
   "execution_count": 6,
   "id": "d5c095a6",
   "metadata": {},
   "outputs": [],
   "source": [
    "def mySort(l):\n",
    "    return l[1]"
   ]
  },
  {
   "cell_type": "code",
   "execution_count": 9,
   "id": "6f728a17",
   "metadata": {},
   "outputs": [
    {
     "data": {
      "text/plain": [
       "[[9, 2], [4, 6], [5, 6], [1, 8], [0, 11]]"
      ]
     },
     "execution_count": 9,
     "metadata": {},
     "output_type": "execute_result"
    }
   ],
   "source": [
    "b.sort(key = mySort)\n",
    "b"
   ]
  },
  {
   "cell_type": "code",
   "execution_count": 12,
   "id": "de1a19c1",
   "metadata": {},
   "outputs": [
    {
     "data": {
      "text/plain": [
       "[[9, 2], [4, 6], [5, 6], [1, 8], [0, 11]]"
      ]
     },
     "execution_count": 12,
     "metadata": {},
     "output_type": "execute_result"
    }
   ],
   "source": [
    "b.sort(key = lambda x:x[1])\n",
    "b"
   ]
  },
  {
   "cell_type": "code",
   "execution_count": 13,
   "id": "8d141681",
   "metadata": {},
   "outputs": [
    {
     "data": {
      "text/plain": [
       "[26, 46, 48, 56, 58, 256]"
      ]
     },
     "execution_count": 13,
     "metadata": {},
     "output_type": "execute_result"
    }
   ],
   "source": [
    "a"
   ]
  },
  {
   "cell_type": "code",
   "execution_count": 14,
   "id": "2374ec62",
   "metadata": {},
   "outputs": [],
   "source": [
    "a = [56,26,48,58,256,46]"
   ]
  },
  {
   "cell_type": "code",
   "execution_count": 15,
   "id": "a74148ae",
   "metadata": {},
   "outputs": [
    {
     "data": {
      "text/plain": [
       "[26, 46, 48, 56, 58, 256]"
      ]
     },
     "execution_count": 15,
     "metadata": {},
     "output_type": "execute_result"
    }
   ],
   "source": [
    "sorted(a)"
   ]
  },
  {
   "cell_type": "code",
   "execution_count": 18,
   "id": "c5718f85",
   "metadata": {},
   "outputs": [
    {
     "data": {
      "text/plain": [
       "[[9, 2], [4, 6], [5, 6], [1, 8], [0, 11]]"
      ]
     },
     "execution_count": 18,
     "metadata": {},
     "output_type": "execute_result"
    }
   ],
   "source": [
    "sorted(b, key=lambda x:x[1])"
   ]
  },
  {
   "cell_type": "code",
   "execution_count": 25,
   "id": "d302ea86",
   "metadata": {},
   "outputs": [
    {
     "data": {
      "text/plain": [
       "[0, 1, 2, 3, 4]"
      ]
     },
     "execution_count": 25,
     "metadata": {},
     "output_type": "execute_result"
    }
   ],
   "source": [
    "#i = sorted(range(len(b)), key = lambda x:b[1])\n",
    "#i"
   ]
  },
  {
   "cell_type": "markdown",
   "id": "2a7faa7e",
   "metadata": {},
   "source": [
    "# List comprehension in Python"
   ]
  },
  {
   "cell_type": "code",
   "execution_count": 26,
   "id": "c304d30a",
   "metadata": {},
   "outputs": [],
   "source": [
    "# Writing list and the loop in a single line"
   ]
  },
  {
   "cell_type": "code",
   "execution_count": 27,
   "id": "532303a5",
   "metadata": {},
   "outputs": [
    {
     "data": {
      "text/plain": [
       "[1, 2, 3, 4, 5, 6, 7, 8, 9]"
      ]
     },
     "execution_count": 27,
     "metadata": {},
     "output_type": "execute_result"
    }
   ],
   "source": [
    "[i for i in range(1,10)]"
   ]
  },
  {
   "cell_type": "code",
   "execution_count": 28,
   "id": "2a42aaf4",
   "metadata": {},
   "outputs": [
    {
     "data": {
      "text/plain": [
       "[1, 2, 3, 4, 5, 6, 7, 8, 9]"
      ]
     },
     "execution_count": 28,
     "metadata": {},
     "output_type": "execute_result"
    }
   ],
   "source": [
    "c =[]\n",
    "for i in range(1,10):\n",
    "    c.append(i)\n",
    "c"
   ]
  },
  {
   "cell_type": "code",
   "execution_count": 29,
   "id": "926f5b95",
   "metadata": {},
   "outputs": [],
   "source": [
    "# Even numbers using list comprehension"
   ]
  },
  {
   "cell_type": "code",
   "execution_count": 30,
   "id": "43032bed",
   "metadata": {},
   "outputs": [
    {
     "data": {
      "text/plain": [
       "[2, 4, 6, 8, 10, 12, 14, 16, 18]"
      ]
     },
     "execution_count": 30,
     "metadata": {},
     "output_type": "execute_result"
    }
   ],
   "source": [
    "[j for j in range(1,20) if j%2==0]"
   ]
  },
  {
   "cell_type": "code",
   "execution_count": 31,
   "id": "dc8cfc4a",
   "metadata": {},
   "outputs": [
    {
     "data": {
      "text/plain": [
       "[6, 8, 6, 5, 5]"
      ]
     },
     "execution_count": 31,
     "metadata": {},
     "output_type": "execute_result"
    }
   ],
   "source": [
    "name = ['Yogesh', 'Abhishek', 'Soniya', 'Pooja', 'Mohan']\n",
    "[len(i) for i in name]"
   ]
  },
  {
   "cell_type": "code",
   "execution_count": 32,
   "id": "9ed4aea9",
   "metadata": {},
   "outputs": [
    {
     "data": {
      "text/plain": [
       "['YOGESH', 'ABHISHEK', 'SONIYA', 'POOJA', 'MOHAN']"
      ]
     },
     "execution_count": 32,
     "metadata": {},
     "output_type": "execute_result"
    }
   ],
   "source": [
    "[i.upper() for i in name]"
   ]
  },
  {
   "cell_type": "code",
   "execution_count": 33,
   "id": "44299059",
   "metadata": {},
   "outputs": [
    {
     "name": "stdout",
     "output_type": "stream",
     "text": [
      "4\n",
      "3\n",
      "7\n"
     ]
    }
   ],
   "source": [
    "d = [input() for i in range(3)]"
   ]
  },
  {
   "cell_type": "code",
   "execution_count": 34,
   "id": "002fd1be",
   "metadata": {},
   "outputs": [
    {
     "data": {
      "text/plain": [
       "['4', '3', '7']"
      ]
     },
     "execution_count": 34,
     "metadata": {},
     "output_type": "execute_result"
    }
   ],
   "source": [
    "d"
   ]
  },
  {
   "cell_type": "code",
   "execution_count": 36,
   "id": "ccc0b962",
   "metadata": {},
   "outputs": [
    {
     "name": "stdout",
     "output_type": "stream",
     "text": [
      "3\n",
      "4\n",
      "5\n"
     ]
    }
   ],
   "source": [
    "e = [int(input()) for i in range(3)]"
   ]
  },
  {
   "cell_type": "code",
   "execution_count": 37,
   "id": "8c7ecd40",
   "metadata": {},
   "outputs": [
    {
     "data": {
      "text/plain": [
       "[3, 4, 5]"
      ]
     },
     "execution_count": 37,
     "metadata": {},
     "output_type": "execute_result"
    }
   ],
   "source": [
    "e"
   ]
  },
  {
   "cell_type": "code",
   "execution_count": 38,
   "id": "f7bbe183",
   "metadata": {},
   "outputs": [],
   "source": [
    "# above cell is for taking input in new line "
   ]
  },
  {
   "cell_type": "code",
   "execution_count": 39,
   "id": "e6957405",
   "metadata": {},
   "outputs": [
    {
     "name": "stdout",
     "output_type": "stream",
     "text": [
      "4 5 6 7 8\n"
     ]
    }
   ],
   "source": [
    "f=[i for i in input().split(' ')]"
   ]
  },
  {
   "cell_type": "code",
   "execution_count": 40,
   "id": "6b8404d8",
   "metadata": {},
   "outputs": [
    {
     "data": {
      "text/plain": [
       "['4', '5', '6', '7', '8']"
      ]
     },
     "execution_count": 40,
     "metadata": {},
     "output_type": "execute_result"
    }
   ],
   "source": [
    "f"
   ]
  },
  {
   "cell_type": "code",
   "execution_count": 41,
   "id": "277ae717",
   "metadata": {},
   "outputs": [
    {
     "name": "stdout",
     "output_type": "stream",
     "text": [
      "3 4 5 6 7\n"
     ]
    }
   ],
   "source": [
    "g=[int(i) for i in input().split(' ')]"
   ]
  },
  {
   "cell_type": "code",
   "execution_count": 42,
   "id": "9cc36383",
   "metadata": {},
   "outputs": [
    {
     "data": {
      "text/plain": [
       "[3, 4, 5, 6, 7]"
      ]
     },
     "execution_count": 42,
     "metadata": {},
     "output_type": "execute_result"
    }
   ],
   "source": [
    "g"
   ]
  },
  {
   "cell_type": "code",
   "execution_count": 43,
   "id": "f39b6cbd",
   "metadata": {},
   "outputs": [],
   "source": [
    "# above cell is taking input in a single line "
   ]
  },
  {
   "cell_type": "code",
   "execution_count": 44,
   "id": "115bcb64",
   "metadata": {},
   "outputs": [
    {
     "data": {
      "text/plain": [
       "[('4', 3), ('5', 4), ('6', 5), ('7', 6), ('8', 7)]"
      ]
     },
     "execution_count": 44,
     "metadata": {},
     "output_type": "execute_result"
    }
   ],
   "source": [
    "[i for i in zip(f,g)]"
   ]
  },
  {
   "cell_type": "code",
   "execution_count": 45,
   "id": "43b7364a",
   "metadata": {},
   "outputs": [
    {
     "data": {
      "text/plain": [
       "[(4, 3), (5, 4), (6, 5), (7, 6), (8, 7)]"
      ]
     },
     "execution_count": 45,
     "metadata": {},
     "output_type": "execute_result"
    }
   ],
   "source": [
    "[(int(p),q) for p,q in zip(f,g)]"
   ]
  },
  {
   "cell_type": "code",
   "execution_count": 46,
   "id": "8d1b4ce8",
   "metadata": {},
   "outputs": [
    {
     "data": {
      "text/plain": [
       "['Y', 'o', 'g', 'e', 's', 'h']"
      ]
     },
     "execution_count": 46,
     "metadata": {},
     "output_type": "execute_result"
    }
   ],
   "source": [
    "#WAP using list comprehension to generate list of your names characters\n",
    "\n",
    "[i for i in \"Yogesh\"]"
   ]
  },
  {
   "cell_type": "code",
   "execution_count": 47,
   "id": "826730e1",
   "metadata": {},
   "outputs": [
    {
     "data": {
      "text/plain": [
       "['even', 'odd', 'even', 'odd', 'even', 'odd', 'even', 'odd', 'even', 'odd']"
      ]
     },
     "execution_count": 47,
     "metadata": {},
     "output_type": "execute_result"
    }
   ],
   "source": [
    "['even' if i%2==0 else 'odd' for i in range(10)]"
   ]
  },
  {
   "cell_type": "code",
   "execution_count": 52,
   "id": "928fb833",
   "metadata": {},
   "outputs": [
    {
     "data": {
      "text/plain": [
       "[0, 14, 28, 42, 56, 70, 84, 98]"
      ]
     },
     "execution_count": 52,
     "metadata": {},
     "output_type": "execute_result"
    }
   ],
   "source": [
    "[i for i in range(100) if i%2==0 if i%7 == 0]"
   ]
  },
  {
   "cell_type": "code",
   "execution_count": 53,
   "id": "a28951fe",
   "metadata": {},
   "outputs": [],
   "source": [
    "# problem 1"
   ]
  },
  {
   "cell_type": "code",
   "execution_count": 61,
   "id": "8a4fbe40",
   "metadata": {},
   "outputs": [
    {
     "name": "stdout",
     "output_type": "stream",
     "text": [
      "2\n",
      "2\n",
      "2\n",
      "2\n",
      "3\n",
      "2\n",
      "2\n",
      "3\n",
      "3\n",
      "4\n"
     ]
    }
   ],
   "source": [
    "p = [int(input()) for i in range(5)]\n",
    "q = [int(input()) for i in range(5)]"
   ]
  },
  {
   "cell_type": "code",
   "execution_count": 62,
   "id": "21131b70",
   "metadata": {},
   "outputs": [
    {
     "data": {
      "text/plain": [
       "([2, 2, 2, 2, 3], [2, 2, 3, 3, 4])"
      ]
     },
     "execution_count": 62,
     "metadata": {},
     "output_type": "execute_result"
    }
   ],
   "source": [
    "p,q"
   ]
  },
  {
   "cell_type": "code",
   "execution_count": 64,
   "id": "1de75e0a",
   "metadata": {},
   "outputs": [
    {
     "name": "stdout",
     "output_type": "stream",
     "text": [
      "Incompatible\n"
     ]
    }
   ],
   "source": [
    "if len(p)==len(q):\n",
    "    if all([True if i>=j else False for i,j in zip(p,q)]):\n",
    "        print(\"Compatible\")\n",
    "    else:\n",
    "        print(\"Incompatible\")\n",
    "else:\n",
    "    print(\"Incompatible\")"
   ]
  },
  {
   "cell_type": "code",
   "execution_count": 65,
   "id": "32736ee8",
   "metadata": {},
   "outputs": [],
   "source": [
    "# Problem no. 2"
   ]
  },
  {
   "cell_type": "code",
   "execution_count": 66,
   "id": "e61671cc",
   "metadata": {},
   "outputs": [
    {
     "name": "stdout",
     "output_type": "stream",
     "text": [
      "6\n",
      "7 6 8 16 12 3\n"
     ]
    }
   ],
   "source": [
    "n = int(input())\n",
    "a = [int(i) for i in input().split(' ')]"
   ]
  },
  {
   "cell_type": "code",
   "execution_count": 75,
   "id": "a1560c98",
   "metadata": {},
   "outputs": [],
   "source": [
    "a = [7, 6, 8, 16, 12, 3]"
   ]
  },
  {
   "cell_type": "code",
   "execution_count": 76,
   "id": "316bc021",
   "metadata": {},
   "outputs": [
    {
     "name": "stdout",
     "output_type": "stream",
     "text": [
      "[2, 5, 1, 7, 9, 3]\n"
     ]
    }
   ],
   "source": [
    "for i in range(len(a)-1, 0, -1):\n",
    "    a[i-1] = a[i-1]-a[i]\n",
    "print(a)"
   ]
  },
  {
   "cell_type": "code",
   "execution_count": 77,
   "id": "1f8b927d",
   "metadata": {},
   "outputs": [
    {
     "data": {
      "text/plain": [
       "(2, 27)"
      ]
     },
     "execution_count": 77,
     "metadata": {},
     "output_type": "execute_result"
    }
   ],
   "source": [
    "a[0],sum(a)"
   ]
  },
  {
   "cell_type": "markdown",
   "id": "d0d1598a",
   "metadata": {},
   "source": [
    "### Dictionary comprehension"
   ]
  },
  {
   "cell_type": "code",
   "execution_count": 78,
   "id": "2bbbc713",
   "metadata": {},
   "outputs": [
    {
     "data": {
      "text/plain": [
       "{1: 1, 2: 8, 3: 27, 4: 64, 5: 125, 6: 216, 7: 343, 8: 512}"
      ]
     },
     "execution_count": 78,
     "metadata": {},
     "output_type": "execute_result"
    }
   ],
   "source": [
    "{i:i**3 for i in range(1,9)}"
   ]
  },
  {
   "cell_type": "code",
   "execution_count": 79,
   "id": "f0e154f4",
   "metadata": {},
   "outputs": [],
   "source": [
    "product = ['Paneer', 'Milk', 'Curd', 'Cheese']\n",
    "price = [1000, 70, 85, 200]"
   ]
  },
  {
   "cell_type": "code",
   "execution_count": 81,
   "id": "4d0241f1",
   "metadata": {},
   "outputs": [
    {
     "data": {
      "text/plain": [
       "{'Paneer': 1000, 'Milk': 70, 'Curd': 85, 'Cheese': 200}"
      ]
     },
     "execution_count": 81,
     "metadata": {},
     "output_type": "execute_result"
    }
   ],
   "source": [
    "{i:j for i,j in zip(product, price)}"
   ]
  },
  {
   "cell_type": "code",
   "execution_count": 84,
   "id": "4a4e52eb",
   "metadata": {},
   "outputs": [
    {
     "data": {
      "text/plain": [
       "{'Paneer': 12.2, 'Milk': 0.85, 'Curd': 1.04, 'Cheese': 2.44}"
      ]
     },
     "execution_count": 84,
     "metadata": {},
     "output_type": "execute_result"
    }
   ],
   "source": [
    "{i:round(j/82,2) for i,j in zip(product,price)}"
   ]
  },
  {
   "cell_type": "markdown",
   "id": "1f62e32d",
   "metadata": {},
   "source": [
    "Nested loop comprehension"
   ]
  },
  {
   "cell_type": "code",
   "execution_count": 87,
   "id": "1ecc704a",
   "metadata": {},
   "outputs": [
    {
     "data": {
      "text/plain": [
       "[[1, 4], [1, 5], [1, 6], [2, 4], [2, 5], [2, 6], [3, 4], [3, 5], [3, 6]]"
      ]
     },
     "execution_count": 87,
     "metadata": {},
     "output_type": "execute_result"
    }
   ],
   "source": [
    "[[x,y] for x in [1,2,3] for y in [4,5,6]]"
   ]
  },
  {
   "cell_type": "code",
   "execution_count": 88,
   "id": "bd88c58f",
   "metadata": {},
   "outputs": [
    {
     "data": {
      "text/plain": [
       "120"
      ]
     },
     "execution_count": 88,
     "metadata": {},
     "output_type": "execute_result"
    }
   ],
   "source": [
    "eval(\"*\".join(str(i) for i in range(1,6)))"
   ]
  },
  {
   "cell_type": "code",
   "execution_count": 89,
   "id": "c0bec771",
   "metadata": {},
   "outputs": [
    {
     "data": {
      "text/plain": [
       "120"
      ]
     },
     "execution_count": 89,
     "metadata": {},
     "output_type": "execute_result"
    }
   ],
   "source": [
    "eval(\"1*2*3*4*5\")"
   ]
  },
  {
   "cell_type": "code",
   "execution_count": 90,
   "id": "8ec63f10",
   "metadata": {},
   "outputs": [],
   "source": [
    "b = [[5,6],[1,8],[9,2],[0,11],[4,6]]"
   ]
  },
  {
   "cell_type": "code",
   "execution_count": 91,
   "id": "20034f13",
   "metadata": {},
   "outputs": [],
   "source": [
    "f = sorted(range(len(b)),key=b.__getitem__)"
   ]
  },
  {
   "cell_type": "code",
   "execution_count": 92,
   "id": "0d19a3a1",
   "metadata": {},
   "outputs": [
    {
     "data": {
      "text/plain": [
       "[3, 1, 4, 0, 2]"
      ]
     },
     "execution_count": 92,
     "metadata": {},
     "output_type": "execute_result"
    }
   ],
   "source": [
    "f"
   ]
  },
  {
   "cell_type": "code",
   "execution_count": 93,
   "id": "1e6b638d",
   "metadata": {},
   "outputs": [
    {
     "name": "stdout",
     "output_type": "stream",
     "text": [
      "[0, 11]\n",
      "[1, 8]\n",
      "[4, 6]\n",
      "[5, 6]\n",
      "[9, 2]\n"
     ]
    }
   ],
   "source": [
    "for i in f:\n",
    "    print(b[i])"
   ]
  },
  {
   "cell_type": "code",
   "execution_count": 97,
   "id": "cb1b8e7e",
   "metadata": {},
   "outputs": [
    {
     "data": {
      "text/plain": [
       "[0, 1, 2, 3, 4]"
      ]
     },
     "execution_count": 97,
     "metadata": {},
     "output_type": "execute_result"
    }
   ],
   "source": [
    "\n",
    "g = sorted(range(len(b)),key=lambda x:b[0])\n",
    "g"
   ]
  },
  {
   "cell_type": "code",
   "execution_count": 110,
   "id": "2eb6c71d",
   "metadata": {},
   "outputs": [
    {
     "data": {
      "text/plain": [
       "[(3, [0, 11]), (1, [1, 8]), (4, [4, 6]), (0, [5, 6]), (2, [9, 2])]"
      ]
     },
     "execution_count": 110,
     "metadata": {},
     "output_type": "execute_result"
    }
   ],
   "source": [
    "g=sorted(enumerate(b), key=operator.itemgetter(1))\n",
    "g"
   ]
  },
  {
   "cell_type": "markdown",
   "id": "9c8b673a",
   "metadata": {},
   "source": [
    "### Map and Filter function"
   ]
  },
  {
   "cell_type": "code",
   "execution_count": 113,
   "id": "e0607837",
   "metadata": {},
   "outputs": [],
   "source": [
    "# Without using loop pointing to each and every element of the list"
   ]
  },
  {
   "cell_type": "code",
   "execution_count": 114,
   "id": "84886fbc",
   "metadata": {},
   "outputs": [],
   "source": [
    "# Using function on lambda to achieve the above"
   ]
  },
  {
   "cell_type": "code",
   "execution_count": 115,
   "id": "0564da35",
   "metadata": {},
   "outputs": [
    {
     "data": {
      "text/plain": [
       "[1, 2, 3, 4, 5, 6, 7, 8, 9, 10, 11, 12, 13, 14, 15, 16, 17, 18, 19]"
      ]
     },
     "execution_count": 115,
     "metadata": {},
     "output_type": "execute_result"
    }
   ],
   "source": [
    "b = list(range(1,20))\n",
    "b"
   ]
  },
  {
   "cell_type": "code",
   "execution_count": 116,
   "id": "d86f3e4a",
   "metadata": {
    "collapsed": true
   },
   "outputs": [
    {
     "data": {
      "text/plain": [
       "[1,\n",
       " 4,\n",
       " 9,\n",
       " 16,\n",
       " 25,\n",
       " 36,\n",
       " 49,\n",
       " 64,\n",
       " 81,\n",
       " 100,\n",
       " 121,\n",
       " 144,\n",
       " 169,\n",
       " 196,\n",
       " 225,\n",
       " 256,\n",
       " 289,\n",
       " 324,\n",
       " 361]"
      ]
     },
     "execution_count": 116,
     "metadata": {},
     "output_type": "execute_result"
    }
   ],
   "source": [
    "[i**2 for i in b]"
   ]
  },
  {
   "cell_type": "code",
   "execution_count": 117,
   "id": "5f4b6839",
   "metadata": {},
   "outputs": [],
   "source": [
    "def mysq(i):\n",
    "    return i*i"
   ]
  },
  {
   "cell_type": "code",
   "execution_count": 119,
   "id": "3759251b",
   "metadata": {
    "collapsed": true
   },
   "outputs": [
    {
     "data": {
      "text/plain": [
       "[1,\n",
       " 4,\n",
       " 9,\n",
       " 16,\n",
       " 25,\n",
       " 36,\n",
       " 49,\n",
       " 64,\n",
       " 81,\n",
       " 100,\n",
       " 121,\n",
       " 144,\n",
       " 169,\n",
       " 196,\n",
       " 225,\n",
       " 256,\n",
       " 289,\n",
       " 324,\n",
       " 361]"
      ]
     },
     "execution_count": 119,
     "metadata": {},
     "output_type": "execute_result"
    }
   ],
   "source": [
    "list(map(mysq,b))"
   ]
  },
  {
   "cell_type": "code",
   "execution_count": 121,
   "id": "8746d1e5",
   "metadata": {},
   "outputs": [
    {
     "data": {
      "text/plain": [
       "[1,\n",
       " 4,\n",
       " 9,\n",
       " 16,\n",
       " 25,\n",
       " 36,\n",
       " 49,\n",
       " 64,\n",
       " 81,\n",
       " 100,\n",
       " 121,\n",
       " 144,\n",
       " 169,\n",
       " 196,\n",
       " 225,\n",
       " 256,\n",
       " 289,\n",
       " 324,\n",
       " 361]"
      ]
     },
     "execution_count": 121,
     "metadata": {},
     "output_type": "execute_result"
    }
   ],
   "source": [
    "list(map(lambda i:i*i, b))"
   ]
  },
  {
   "cell_type": "code",
   "execution_count": 122,
   "id": "8bd4e333",
   "metadata": {},
   "outputs": [
    {
     "data": {
      "text/plain": [
       "['Yogesh', 'Abhishek', 'Soniya', 'Pooja', 'Mohan']"
      ]
     },
     "execution_count": 122,
     "metadata": {},
     "output_type": "execute_result"
    }
   ],
   "source": [
    "name"
   ]
  },
  {
   "cell_type": "code",
   "execution_count": 124,
   "id": "ff0a24c1",
   "metadata": {},
   "outputs": [
    {
     "data": {
      "text/plain": [
       "[6, 8, 6, 5, 5]"
      ]
     },
     "execution_count": 124,
     "metadata": {},
     "output_type": "execute_result"
    }
   ],
   "source": [
    "list(map(len, name))"
   ]
  },
  {
   "cell_type": "code",
   "execution_count": 125,
   "id": "1c7a0f58",
   "metadata": {},
   "outputs": [
    {
     "name": "stdout",
     "output_type": "stream",
     "text": [
      "Yogesh Mohan Abhishek\n"
     ]
    }
   ],
   "source": [
    "Hello = list(map(str, input().split(' ')))"
   ]
  },
  {
   "cell_type": "code",
   "execution_count": 126,
   "id": "41b4c426",
   "metadata": {},
   "outputs": [
    {
     "data": {
      "text/plain": [
       "['Yogesh', 'Mohan', 'Abhishek']"
      ]
     },
     "execution_count": 126,
     "metadata": {},
     "output_type": "execute_result"
    }
   ],
   "source": [
    "Hello"
   ]
  },
  {
   "cell_type": "code",
   "execution_count": 127,
   "id": "fec5d2fc",
   "metadata": {},
   "outputs": [
    {
     "name": "stdout",
     "output_type": "stream",
     "text": [
      "1 2 3 4\n"
     ]
    }
   ],
   "source": [
    "Hello = list(map(int, input().split(' ')))"
   ]
  },
  {
   "cell_type": "code",
   "execution_count": 128,
   "id": "7c5a0c1e",
   "metadata": {},
   "outputs": [
    {
     "data": {
      "text/plain": [
       "[1, 2, 3, 4]"
      ]
     },
     "execution_count": 128,
     "metadata": {},
     "output_type": "execute_result"
    }
   ],
   "source": [
    "Hello"
   ]
  },
  {
   "cell_type": "code",
   "execution_count": 129,
   "id": "1f024e09",
   "metadata": {},
   "outputs": [
    {
     "data": {
      "text/plain": [
       "[('YOGESH', 6), ('ABHISHEK', 8), ('SONIYA', 6), ('POOJA', 5), ('MOHAN', 5)]"
      ]
     },
     "execution_count": 129,
     "metadata": {},
     "output_type": "execute_result"
    }
   ],
   "source": [
    "#Using map generate tuple of uppercase and length of name\n",
    "def u_l(i):\n",
    "    return i.upper(), len(i)\n",
    "list(map(u_l, name))"
   ]
  },
  {
   "cell_type": "code",
   "execution_count": 130,
   "id": "0bdea9bc",
   "metadata": {},
   "outputs": [
    {
     "data": {
      "text/plain": [
       "[('YOGESH', 6), ('ABHISHEK', 8), ('SONIYA', 6), ('POOJA', 5), ('MOHAN', 5)]"
      ]
     },
     "execution_count": 130,
     "metadata": {},
     "output_type": "execute_result"
    }
   ],
   "source": [
    "list(map(lambda i:(i.upper(),len(i)),name))"
   ]
  },
  {
   "cell_type": "code",
   "execution_count": 131,
   "id": "89a47ef8",
   "metadata": {},
   "outputs": [],
   "source": [
    "d = {'YOGESH': 6, 'ABHISHEK': 8, 'SONIYA': 6, 'POOJA':5, 'MOHAN': 5}"
   ]
  },
  {
   "cell_type": "code",
   "execution_count": 133,
   "id": "6292ba5d",
   "metadata": {},
   "outputs": [
    {
     "data": {
      "text/plain": [
       "[6, 8, 6, 5, 5]"
      ]
     },
     "execution_count": 133,
     "metadata": {},
     "output_type": "execute_result"
    }
   ],
   "source": [
    "list(map(len,d))"
   ]
  },
  {
   "cell_type": "code",
   "execution_count": 134,
   "id": "23616923",
   "metadata": {},
   "outputs": [
    {
     "data": {
      "text/plain": [
       "[36, 64, 36, 25, 25]"
      ]
     },
     "execution_count": 134,
     "metadata": {},
     "output_type": "execute_result"
    }
   ],
   "source": [
    "list(map(lambda i:i**2, d.values()))"
   ]
  },
  {
   "cell_type": "code",
   "execution_count": 135,
   "id": "3a06851c",
   "metadata": {},
   "outputs": [
    {
     "data": {
      "text/plain": [
       "[1, 2, 3, 4, 5, 6, 7, 8, 9, 10, 11, 12, 13, 14, 15, 16, 17, 18, 19]"
      ]
     },
     "execution_count": 135,
     "metadata": {},
     "output_type": "execute_result"
    }
   ],
   "source": [
    "b"
   ]
  },
  {
   "cell_type": "code",
   "execution_count": 137,
   "id": "403f53b5",
   "metadata": {},
   "outputs": [
    {
     "data": {
      "text/plain": [
       "[2, 4, 6, 8, 10, 12, 14, 16, 18]"
      ]
     },
     "execution_count": 137,
     "metadata": {},
     "output_type": "execute_result"
    }
   ],
   "source": [
    "list(filter(lambda i:i%2==0, b))"
   ]
  },
  {
   "cell_type": "code",
   "execution_count": 138,
   "id": "5363fdfb",
   "metadata": {},
   "outputs": [
    {
     "data": {
      "text/plain": [
       "['Yogesh', 'Abhishek', 'Soniya', 'Pooja', 'Mohan']"
      ]
     },
     "execution_count": 138,
     "metadata": {},
     "output_type": "execute_result"
    }
   ],
   "source": [
    "name"
   ]
  },
  {
   "cell_type": "code",
   "execution_count": 139,
   "id": "03a4b9bd",
   "metadata": {},
   "outputs": [],
   "source": [
    "def lenovo(i):\n",
    "    return 's' not in i"
   ]
  },
  {
   "cell_type": "code",
   "execution_count": 140,
   "id": "689423f4",
   "metadata": {},
   "outputs": [
    {
     "data": {
      "text/plain": [
       "['Soniya', 'Pooja', 'Mohan']"
      ]
     },
     "execution_count": 140,
     "metadata": {},
     "output_type": "execute_result"
    }
   ],
   "source": [
    "list(filter(lenovo, name))"
   ]
  },
  {
   "cell_type": "code",
   "execution_count": 141,
   "id": "32979e0e",
   "metadata": {},
   "outputs": [
    {
     "data": {
      "text/plain": [
       "['Soniya', 'Pooja', 'Mohan']"
      ]
     },
     "execution_count": 141,
     "metadata": {},
     "output_type": "execute_result"
    }
   ],
   "source": [
    "list(filter(lambda i:'s' not in i, name))"
   ]
  },
  {
   "cell_type": "code",
   "execution_count": 142,
   "id": "f40cafa2",
   "metadata": {},
   "outputs": [],
   "source": [
    "# filter is taken at the point of bool values"
   ]
  },
  {
   "cell_type": "code",
   "execution_count": 144,
   "id": "eeb6e284",
   "metadata": {},
   "outputs": [
    {
     "name": "stdout",
     "output_type": "stream",
     "text": [
      "2\n",
      "3 10\n",
      "30\n",
      "1 10\n",
      "10\n"
     ]
    }
   ],
   "source": [
    "t = int(input())\n",
    "for i in range(t):\n",
    "    n,m = list(map(int,input().split(' ')))\n",
    "    print(n*m)"
   ]
  },
  {
   "cell_type": "code",
   "execution_count": 146,
   "id": "dac7da20",
   "metadata": {},
   "outputs": [
    {
     "name": "stdout",
     "output_type": "stream",
     "text": [
      "3746 267 3876 1457\n",
      "3746\n"
     ]
    }
   ],
   "source": [
    "t = int(input())\n",
    "for i in range(t):\n",
    "    u = list(map(int,input().split(' ')))\n",
    "    u.sort()\n",
    "    print(u[-2])"
   ]
  },
  {
   "cell_type": "code",
   "execution_count": 149,
   "id": "50729e79",
   "metadata": {},
   "outputs": [
    {
     "name": "stdout",
     "output_type": "stream",
     "text": [
      "20 14\n",
      "6\n"
     ]
    }
   ],
   "source": [
    "t = int(input())\n",
    "for i in range(t):\n",
    "    s,c = list(map(int,input().split(' ')))\n",
    "    if c>=s:\n",
    "        print(0)\n",
    "    else:\n",
    "        print(s-c)"
   ]
  },
  {
   "cell_type": "code",
   "execution_count": 150,
   "id": "5fdb26be",
   "metadata": {},
   "outputs": [
    {
     "name": "stdout",
     "output_type": "stream",
     "text": [
      "1\n",
      "6 6 5\n",
      "36\n"
     ]
    }
   ],
   "source": [
    "t = int(input())\n",
    "for i in range(t):\n",
    "    x,y,z = list(map(int,input().split(' ')))\n",
    "    print(x*4+y*2)"
   ]
  },
  {
   "cell_type": "markdown",
   "id": "381aa4b9",
   "metadata": {},
   "source": [
    "We need to find how many vowels are there in each name in list \"name\"."
   ]
  },
  {
   "cell_type": "code",
   "execution_count": 154,
   "id": "f5511af0",
   "metadata": {},
   "outputs": [
    {
     "name": "stdout",
     "output_type": "stream",
     "text": [
      "[('Yogesh', 2), ('Abhishek', 3), ('Soniya', 3), ('Pooja', 3), ('Mohan', 2)]\n"
     ]
    }
   ],
   "source": [
    "name = ['Yogesh', 'Abhishek', 'Soniya', 'Pooja', 'Mohan']\n",
    "l=[]\n",
    "for i in name:\n",
    "    c=0\n",
    "    for j in i:\n",
    "        if j.lower() in 'aeiou':\n",
    "            c += 1\n",
    "    l.append((i,c))\n",
    "print(l)"
   ]
  },
  {
   "cell_type": "markdown",
   "id": "9c29dcfd",
   "metadata": {},
   "source": [
    "Can we do the same program using list comprehension?"
   ]
  },
  {
   "cell_type": "code",
   "execution_count": 156,
   "id": "c3257206",
   "metadata": {},
   "outputs": [
    {
     "data": {
      "text/plain": [
       "[('Yogesh', 2), ('Abhishek', 3), ('Soniya', 3), ('Pooja', 3), ('Mohan', 2)]"
      ]
     },
     "execution_count": 156,
     "metadata": {},
     "output_type": "execute_result"
    }
   ],
   "source": [
    "def countvowels(s):\n",
    "    c=0\n",
    "    for i in s:\n",
    "        if i.lower() in 'aeiou':\n",
    "            c+=1\n",
    "    return c\n",
    "lc = [(i,countvowels(i)) for i in name]\n",
    "lc"
   ]
  },
  {
   "cell_type": "code",
   "execution_count": null,
   "id": "ce87c719",
   "metadata": {},
   "outputs": [],
   "source": []
  }
 ],
 "metadata": {
  "kernelspec": {
   "display_name": "Python 3 (ipykernel)",
   "language": "python",
   "name": "python3"
  },
  "language_info": {
   "codemirror_mode": {
    "name": "ipython",
    "version": 3
   },
   "file_extension": ".py",
   "mimetype": "text/x-python",
   "name": "python",
   "nbconvert_exporter": "python",
   "pygments_lexer": "ipython3",
   "version": "3.10.6"
  }
 },
 "nbformat": 4,
 "nbformat_minor": 5
}
