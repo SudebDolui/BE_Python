{
 "cells": [
  {
   "cell_type": "markdown",
   "id": "b4cc4457",
   "metadata": {},
   "source": [
    "# Jumping statements in Python"
   ]
  },
  {
   "cell_type": "code",
   "execution_count": 1,
   "id": "ae48ff87",
   "metadata": {},
   "outputs": [],
   "source": [
    "# break\n",
    "# continue\n",
    "# pass"
   ]
  },
  {
   "cell_type": "code",
   "execution_count": 3,
   "id": "3fbb8cd0",
   "metadata": {},
   "outputs": [
    {
     "name": "stdout",
     "output_type": "stream",
     "text": [
      "Y\n",
      "o\n",
      "g\n",
      "e\n",
      "s\n",
      "h\n",
      " \n",
      "B\n",
      "h\n",
      "i\n",
      "m\n"
     ]
    }
   ],
   "source": [
    "name = \"Yogesh Bhimrao Rakate\"\n",
    "for i in name:\n",
    "    print(i)\n",
    "    if i == 'm':\n",
    "        break"
   ]
  },
  {
   "cell_type": "code",
   "execution_count": 5,
   "id": "1ea3f10f",
   "metadata": {},
   "outputs": [
    {
     "name": "stdout",
     "output_type": "stream",
     "text": [
      "1\n",
      "2\n",
      "3\n",
      "4\n",
      "5\n",
      "6\n",
      "7\n"
     ]
    }
   ],
   "source": [
    "for i in range(1,20):\n",
    "    print(i)\n",
    "    if i == 7:\n",
    "        break"
   ]
  },
  {
   "cell_type": "markdown",
   "id": "7cb31d2d",
   "metadata": {},
   "source": [
    "Break terminates the loop at particular point"
   ]
  },
  {
   "cell_type": "markdown",
   "id": "afef1753",
   "metadata": {},
   "source": [
    "continue skips the statement in the loop"
   ]
  },
  {
   "cell_type": "code",
   "execution_count": 7,
   "id": "50dc0e00",
   "metadata": {},
   "outputs": [
    {
     "name": "stdout",
     "output_type": "stream",
     "text": [
      "Y\n",
      "o\n",
      "g\n",
      "e\n",
      "s\n",
      " \n",
      "B\n",
      "i\n",
      "r\n",
      "a\n",
      "o\n",
      " \n",
      "R\n",
      "a\n",
      "k\n",
      "a\n",
      "t\n",
      "e\n"
     ]
    }
   ],
   "source": [
    "for i in name:\n",
    "    if i == 'm' or i == 'h':\n",
    "        continue\n",
    "    print(i)"
   ]
  },
  {
   "cell_type": "code",
   "execution_count": 11,
   "id": "05add86d",
   "metadata": {},
   "outputs": [
    {
     "name": "stdout",
     "output_type": "stream",
     "text": [
      "1 2 3 4 5 6 7 8 9 15 16 17 18 19 20 21 22 23 24 25 26 27 28 29 "
     ]
    }
   ],
   "source": [
    "for j in range(1,30):\n",
    "    if j in range(10, 15):\n",
    "        continue\n",
    "    print(j, end=' ')"
   ]
  },
  {
   "cell_type": "code",
   "execution_count": 13,
   "id": "1eba4dd9",
   "metadata": {},
   "outputs": [
    {
     "name": "stdout",
     "output_type": "stream",
     "text": [
      "Prime number\n"
     ]
    }
   ],
   "source": [
    "#prime number\n",
    "num=5\n",
    "flag = False\n",
    "for k in range(2,num):\n",
    "    if num%k == 0:\n",
    "        flag = True\n",
    "        break\n",
    "if flag:\n",
    "    print(\"Not a prime number\")\n",
    "else:\n",
    "    print(\"Prime number\")"
   ]
  },
  {
   "cell_type": "code",
   "execution_count": 16,
   "id": "43d25b44",
   "metadata": {},
   "outputs": [],
   "source": [
    "# pass\n",
    "for j in range(1,5):\n",
    "    pass"
   ]
  },
  {
   "cell_type": "code",
   "execution_count": 20,
   "id": "fd4ae652",
   "metadata": {},
   "outputs": [],
   "source": [
    "if flag:\n",
    "    pass\n",
    "else:\n",
    "    pass"
   ]
  },
  {
   "cell_type": "markdown",
   "id": "d0dce955",
   "metadata": {},
   "source": [
    "# Predefined data structures in Python"
   ]
  },
  {
   "cell_type": "code",
   "execution_count": 21,
   "id": "18867bfd",
   "metadata": {},
   "outputs": [],
   "source": [
    "a = []\n",
    "b = ()\n",
    "c = {}\n",
    "d = {2}"
   ]
  },
  {
   "cell_type": "code",
   "execution_count": 22,
   "id": "c2b09704",
   "metadata": {},
   "outputs": [
    {
     "data": {
      "text/plain": [
       "list"
      ]
     },
     "execution_count": 22,
     "metadata": {},
     "output_type": "execute_result"
    }
   ],
   "source": [
    "type(a)"
   ]
  },
  {
   "cell_type": "markdown",
   "id": "c1e3f3fe",
   "metadata": {},
   "source": [
    "List is a collection of heterogeneous elements"
   ]
  },
  {
   "cell_type": "code",
   "execution_count": 23,
   "id": "d21cc2d6",
   "metadata": {},
   "outputs": [
    {
     "data": {
      "text/plain": [
       "tuple"
      ]
     },
     "execution_count": 23,
     "metadata": {},
     "output_type": "execute_result"
    }
   ],
   "source": [
    "type(b)"
   ]
  },
  {
   "cell_type": "markdown",
   "id": "2770b34f",
   "metadata": {},
   "source": [
    "Tuple is also a kind of heterogeneous collection (not modifiable) immutable"
   ]
  },
  {
   "cell_type": "code",
   "execution_count": 24,
   "id": "ecd214e7",
   "metadata": {},
   "outputs": [
    {
     "data": {
      "text/plain": [
       "dict"
      ]
     },
     "execution_count": 24,
     "metadata": {},
     "output_type": "execute_result"
    }
   ],
   "source": [
    "type(c)"
   ]
  },
  {
   "cell_type": "markdown",
   "id": "a2aaddb5",
   "metadata": {},
   "source": [
    "Dictionary is the collection of key and value pair"
   ]
  },
  {
   "cell_type": "code",
   "execution_count": 25,
   "id": "00d6be6c",
   "metadata": {},
   "outputs": [
    {
     "data": {
      "text/plain": [
       "set"
      ]
     },
     "execution_count": 25,
     "metadata": {},
     "output_type": "execute_result"
    }
   ],
   "source": [
    "type(d)"
   ]
  },
  {
   "cell_type": "markdown",
   "id": "17747b96",
   "metadata": {},
   "source": [
    "Set is a collection of unique elements"
   ]
  },
  {
   "cell_type": "markdown",
   "id": "27d99e7b",
   "metadata": {},
   "source": [
    "### List and Tuple"
   ]
  },
  {
   "cell_type": "code",
   "execution_count": 26,
   "id": "f76e6f08",
   "metadata": {},
   "outputs": [],
   "source": [
    "a = [1,2,3,4,5]\n",
    "b = (1,2,3,4,5)"
   ]
  },
  {
   "cell_type": "code",
   "execution_count": 27,
   "id": "7d31994e",
   "metadata": {},
   "outputs": [
    {
     "data": {
      "text/plain": [
       "[1, 2, 3, 4, 5]"
      ]
     },
     "execution_count": 27,
     "metadata": {},
     "output_type": "execute_result"
    }
   ],
   "source": [
    "a"
   ]
  },
  {
   "cell_type": "code",
   "execution_count": 28,
   "id": "7f0b1243",
   "metadata": {},
   "outputs": [
    {
     "data": {
      "text/plain": [
       "(1, 2, 3, 4, 5)"
      ]
     },
     "execution_count": 28,
     "metadata": {},
     "output_type": "execute_result"
    }
   ],
   "source": [
    "b"
   ]
  },
  {
   "cell_type": "code",
   "execution_count": 29,
   "id": "c2cbffe8",
   "metadata": {},
   "outputs": [
    {
     "data": {
      "text/plain": [
       "5"
      ]
     },
     "execution_count": 29,
     "metadata": {},
     "output_type": "execute_result"
    }
   ],
   "source": [
    "len(a)"
   ]
  },
  {
   "cell_type": "code",
   "execution_count": 30,
   "id": "135df683",
   "metadata": {},
   "outputs": [
    {
     "data": {
      "text/plain": [
       "5"
      ]
     },
     "execution_count": 30,
     "metadata": {},
     "output_type": "execute_result"
    }
   ],
   "source": [
    "len(b)"
   ]
  },
  {
   "cell_type": "code",
   "execution_count": 31,
   "id": "6ce7bac2",
   "metadata": {},
   "outputs": [
    {
     "data": {
      "text/plain": [
       "15"
      ]
     },
     "execution_count": 31,
     "metadata": {},
     "output_type": "execute_result"
    }
   ],
   "source": [
    "sum(a)"
   ]
  },
  {
   "cell_type": "code",
   "execution_count": 32,
   "id": "91b5a00f",
   "metadata": {},
   "outputs": [
    {
     "data": {
      "text/plain": [
       "15"
      ]
     },
     "execution_count": 32,
     "metadata": {},
     "output_type": "execute_result"
    }
   ],
   "source": [
    "sum(b)"
   ]
  },
  {
   "cell_type": "code",
   "execution_count": 33,
   "id": "f8b9568d",
   "metadata": {},
   "outputs": [
    {
     "data": {
      "text/plain": [
       "5"
      ]
     },
     "execution_count": 33,
     "metadata": {},
     "output_type": "execute_result"
    }
   ],
   "source": [
    "max(a)"
   ]
  },
  {
   "cell_type": "code",
   "execution_count": 34,
   "id": "9d5d8389",
   "metadata": {},
   "outputs": [
    {
     "data": {
      "text/plain": [
       "1"
      ]
     },
     "execution_count": 34,
     "metadata": {},
     "output_type": "execute_result"
    }
   ],
   "source": [
    "min(b)"
   ]
  },
  {
   "cell_type": "code",
   "execution_count": 35,
   "id": "a63eda27",
   "metadata": {},
   "outputs": [
    {
     "data": {
      "text/plain": [
       "1"
      ]
     },
     "execution_count": 35,
     "metadata": {},
     "output_type": "execute_result"
    }
   ],
   "source": [
    "a[0]"
   ]
  },
  {
   "cell_type": "code",
   "execution_count": 36,
   "id": "df5f9447",
   "metadata": {},
   "outputs": [
    {
     "data": {
      "text/plain": [
       "1"
      ]
     },
     "execution_count": 36,
     "metadata": {},
     "output_type": "execute_result"
    }
   ],
   "source": [
    "b[0]"
   ]
  },
  {
   "cell_type": "code",
   "execution_count": 37,
   "id": "dcf20bd5",
   "metadata": {},
   "outputs": [
    {
     "data": {
      "text/plain": [
       "[2, 3]"
      ]
     },
     "execution_count": 37,
     "metadata": {},
     "output_type": "execute_result"
    }
   ],
   "source": [
    "a[1:3]"
   ]
  },
  {
   "cell_type": "code",
   "execution_count": 38,
   "id": "b812881e",
   "metadata": {},
   "outputs": [
    {
     "data": {
      "text/plain": [
       "(2, 3)"
      ]
     },
     "execution_count": 38,
     "metadata": {},
     "output_type": "execute_result"
    }
   ],
   "source": [
    "b[1:3]"
   ]
  },
  {
   "cell_type": "code",
   "execution_count": 39,
   "id": "c45419f7",
   "metadata": {},
   "outputs": [],
   "source": [
    "a[2] = 'Yogesh'"
   ]
  },
  {
   "cell_type": "code",
   "execution_count": 40,
   "id": "249e47ba",
   "metadata": {},
   "outputs": [
    {
     "data": {
      "text/plain": [
       "[1, 2, 'Yogesh', 4, 5]"
      ]
     },
     "execution_count": 40,
     "metadata": {},
     "output_type": "execute_result"
    }
   ],
   "source": [
    "a"
   ]
  },
  {
   "cell_type": "code",
   "execution_count": 41,
   "id": "ae56e880",
   "metadata": {},
   "outputs": [
    {
     "ename": "TypeError",
     "evalue": "'tuple' object does not support item assignment",
     "output_type": "error",
     "traceback": [
      "\u001b[1;31m---------------------------------------------------------------------------\u001b[0m",
      "\u001b[1;31mTypeError\u001b[0m                                 Traceback (most recent call last)",
      "Cell \u001b[1;32mIn [41], line 1\u001b[0m\n\u001b[1;32m----> 1\u001b[0m b[\u001b[38;5;241m2\u001b[39m] \u001b[38;5;241m=\u001b[39m \u001b[38;5;124m'\u001b[39m\u001b[38;5;124mYogesh\u001b[39m\u001b[38;5;124m'\u001b[39m\n",
      "\u001b[1;31mTypeError\u001b[0m: 'tuple' object does not support item assignment"
     ]
    }
   ],
   "source": [
    "b[2] = 'Yogesh'"
   ]
  },
  {
   "cell_type": "code",
   "execution_count": 42,
   "id": "9942c1af",
   "metadata": {},
   "outputs": [],
   "source": [
    "# Examples for tuple are Location co-ordinates and Employee id"
   ]
  },
  {
   "cell_type": "code",
   "execution_count": 43,
   "id": "95fdbec6",
   "metadata": {},
   "outputs": [
    {
     "data": {
      "text/plain": [
       "(1, 2, 3, 4, 5)"
      ]
     },
     "execution_count": 43,
     "metadata": {},
     "output_type": "execute_result"
    }
   ],
   "source": [
    "b"
   ]
  },
  {
   "cell_type": "code",
   "execution_count": 44,
   "id": "57a11ff3",
   "metadata": {},
   "outputs": [
    {
     "data": {
      "text/plain": [
       "3"
      ]
     },
     "execution_count": 44,
     "metadata": {},
     "output_type": "execute_result"
    }
   ],
   "source": [
    "b.index(4)"
   ]
  },
  {
   "cell_type": "code",
   "execution_count": 45,
   "id": "ac4d1c63",
   "metadata": {},
   "outputs": [
    {
     "data": {
      "text/plain": [
       "1"
      ]
     },
     "execution_count": 45,
     "metadata": {},
     "output_type": "execute_result"
    }
   ],
   "source": [
    "b.count(2)"
   ]
  },
  {
   "cell_type": "code",
   "execution_count": 46,
   "id": "3e6ce8b0",
   "metadata": {},
   "outputs": [],
   "source": [
    "a.append(\"Rakate\")"
   ]
  },
  {
   "cell_type": "code",
   "execution_count": 47,
   "id": "bd30e494",
   "metadata": {},
   "outputs": [
    {
     "data": {
      "text/plain": [
       "[1, 2, 'Yogesh', 4, 5, 'Rakate']"
      ]
     },
     "execution_count": 47,
     "metadata": {},
     "output_type": "execute_result"
    }
   ],
   "source": [
    "a"
   ]
  },
  {
   "cell_type": "code",
   "execution_count": 48,
   "id": "ae7a44e9",
   "metadata": {},
   "outputs": [],
   "source": [
    "a.insert(4,'Bhimrao')"
   ]
  },
  {
   "cell_type": "code",
   "execution_count": 49,
   "id": "e3917305",
   "metadata": {},
   "outputs": [
    {
     "data": {
      "text/plain": [
       "[1, 2, 'Yogesh', 4, 'Bhimrao', 5, 'Rakate']"
      ]
     },
     "execution_count": 49,
     "metadata": {},
     "output_type": "execute_result"
    }
   ],
   "source": [
    "a"
   ]
  },
  {
   "cell_type": "code",
   "execution_count": 50,
   "id": "1e51c120",
   "metadata": {},
   "outputs": [
    {
     "data": {
      "text/plain": [
       "'Rakate'"
      ]
     },
     "execution_count": 50,
     "metadata": {},
     "output_type": "execute_result"
    }
   ],
   "source": [
    "a.pop()"
   ]
  },
  {
   "cell_type": "code",
   "execution_count": 51,
   "id": "e5f8e9c4",
   "metadata": {},
   "outputs": [
    {
     "data": {
      "text/plain": [
       "[1, 2, 'Yogesh', 4, 'Bhimrao', 5]"
      ]
     },
     "execution_count": 51,
     "metadata": {},
     "output_type": "execute_result"
    }
   ],
   "source": [
    "a"
   ]
  },
  {
   "cell_type": "code",
   "execution_count": 52,
   "id": "75796c4e",
   "metadata": {},
   "outputs": [
    {
     "data": {
      "text/plain": [
       "'Bhimrao'"
      ]
     },
     "execution_count": 52,
     "metadata": {},
     "output_type": "execute_result"
    }
   ],
   "source": [
    "a.pop(4)"
   ]
  },
  {
   "cell_type": "code",
   "execution_count": 53,
   "id": "6c83e889",
   "metadata": {},
   "outputs": [
    {
     "data": {
      "text/plain": [
       "[1, 2, 'Yogesh', 4, 5]"
      ]
     },
     "execution_count": 53,
     "metadata": {},
     "output_type": "execute_result"
    }
   ],
   "source": [
    "a"
   ]
  },
  {
   "cell_type": "code",
   "execution_count": 54,
   "id": "7007f78d",
   "metadata": {},
   "outputs": [],
   "source": [
    "a.remove('Yogesh')"
   ]
  },
  {
   "cell_type": "code",
   "execution_count": 55,
   "id": "d4a8daea",
   "metadata": {},
   "outputs": [
    {
     "data": {
      "text/plain": [
       "[1, 2, 4, 5]"
      ]
     },
     "execution_count": 55,
     "metadata": {},
     "output_type": "execute_result"
    }
   ],
   "source": [
    "a"
   ]
  },
  {
   "cell_type": "code",
   "execution_count": 56,
   "id": "adfeba42",
   "metadata": {},
   "outputs": [],
   "source": [
    "e = [7,3,6,0]"
   ]
  },
  {
   "cell_type": "code",
   "execution_count": 57,
   "id": "d9a846d1",
   "metadata": {},
   "outputs": [
    {
     "data": {
      "text/plain": [
       "[1, 2, 4, 5, 7, 3, 6, 0]"
      ]
     },
     "execution_count": 57,
     "metadata": {},
     "output_type": "execute_result"
    }
   ],
   "source": [
    "a+e"
   ]
  },
  {
   "cell_type": "code",
   "execution_count": 58,
   "id": "cad620f7",
   "metadata": {},
   "outputs": [
    {
     "data": {
      "text/plain": [
       "[1, 2, 4, 5]"
      ]
     },
     "execution_count": 58,
     "metadata": {},
     "output_type": "execute_result"
    }
   ],
   "source": [
    "a"
   ]
  },
  {
   "cell_type": "code",
   "execution_count": 59,
   "id": "7da1f5a2",
   "metadata": {},
   "outputs": [],
   "source": [
    "a.extend(e)"
   ]
  },
  {
   "cell_type": "code",
   "execution_count": 60,
   "id": "291fda05",
   "metadata": {},
   "outputs": [
    {
     "data": {
      "text/plain": [
       "[1, 2, 4, 5, 7, 3, 6, 0]"
      ]
     },
     "execution_count": 60,
     "metadata": {},
     "output_type": "execute_result"
    }
   ],
   "source": [
    "a"
   ]
  },
  {
   "cell_type": "code",
   "execution_count": 61,
   "id": "45a66468",
   "metadata": {},
   "outputs": [],
   "source": [
    "f = (10,8,9)"
   ]
  },
  {
   "cell_type": "code",
   "execution_count": 62,
   "id": "7164add7",
   "metadata": {},
   "outputs": [],
   "source": [
    "a.extend(f)"
   ]
  },
  {
   "cell_type": "code",
   "execution_count": 63,
   "id": "edb378a8",
   "metadata": {},
   "outputs": [
    {
     "data": {
      "text/plain": [
       "[1, 2, 4, 5, 7, 3, 6, 0, 10, 8, 9]"
      ]
     },
     "execution_count": 63,
     "metadata": {},
     "output_type": "execute_result"
    }
   ],
   "source": [
    "a"
   ]
  },
  {
   "cell_type": "code",
   "execution_count": 64,
   "id": "1a8ba898",
   "metadata": {},
   "outputs": [],
   "source": [
    "a.sort()"
   ]
  },
  {
   "cell_type": "code",
   "execution_count": 65,
   "id": "2ea44423",
   "metadata": {},
   "outputs": [
    {
     "data": {
      "text/plain": [
       "[0, 1, 2, 3, 4, 5, 6, 7, 8, 9, 10]"
      ]
     },
     "execution_count": 65,
     "metadata": {},
     "output_type": "execute_result"
    }
   ],
   "source": [
    "a"
   ]
  },
  {
   "cell_type": "code",
   "execution_count": 66,
   "id": "38da7437",
   "metadata": {},
   "outputs": [],
   "source": [
    "a.sort(reverse=True)"
   ]
  },
  {
   "cell_type": "code",
   "execution_count": 67,
   "id": "e3805869",
   "metadata": {},
   "outputs": [
    {
     "data": {
      "text/plain": [
       "[10, 9, 8, 7, 6, 5, 4, 3, 2, 1, 0]"
      ]
     },
     "execution_count": 67,
     "metadata": {},
     "output_type": "execute_result"
    }
   ],
   "source": [
    "a"
   ]
  },
  {
   "cell_type": "code",
   "execution_count": 68,
   "id": "cc43a445",
   "metadata": {},
   "outputs": [],
   "source": [
    "#Remind the key parameter after functions topic"
   ]
  },
  {
   "cell_type": "code",
   "execution_count": 69,
   "id": "2b91c88c",
   "metadata": {},
   "outputs": [],
   "source": [
    "a.reverse()"
   ]
  },
  {
   "cell_type": "code",
   "execution_count": 70,
   "id": "f1812463",
   "metadata": {},
   "outputs": [
    {
     "data": {
      "text/plain": [
       "[0, 1, 2, 3, 4, 5, 6, 7, 8, 9, 10]"
      ]
     },
     "execution_count": 70,
     "metadata": {},
     "output_type": "execute_result"
    }
   ],
   "source": [
    "a"
   ]
  },
  {
   "cell_type": "code",
   "execution_count": 71,
   "id": "1dac05c8",
   "metadata": {},
   "outputs": [],
   "source": [
    "yogesh = a\n",
    "soniya = a.copy()"
   ]
  },
  {
   "cell_type": "code",
   "execution_count": 72,
   "id": "e999ea3c",
   "metadata": {},
   "outputs": [
    {
     "data": {
      "text/plain": [
       "1419984471296"
      ]
     },
     "execution_count": 72,
     "metadata": {},
     "output_type": "execute_result"
    }
   ],
   "source": [
    "id(yogesh)"
   ]
  },
  {
   "cell_type": "code",
   "execution_count": 73,
   "id": "4a0a9d50",
   "metadata": {},
   "outputs": [
    {
     "data": {
      "text/plain": [
       "1419984471296"
      ]
     },
     "execution_count": 73,
     "metadata": {},
     "output_type": "execute_result"
    }
   ],
   "source": [
    "id(a)"
   ]
  },
  {
   "cell_type": "code",
   "execution_count": 74,
   "id": "0a39bf26",
   "metadata": {},
   "outputs": [
    {
     "data": {
      "text/plain": [
       "1420012620608"
      ]
     },
     "execution_count": 74,
     "metadata": {},
     "output_type": "execute_result"
    }
   ],
   "source": [
    "id(soniya)"
   ]
  },
  {
   "cell_type": "markdown",
   "id": "a1eee50f",
   "metadata": {},
   "source": [
    "a.copy is a shallow copy"
   ]
  },
  {
   "cell_type": "code",
   "execution_count": 75,
   "id": "997c3ca1",
   "metadata": {},
   "outputs": [],
   "source": [
    "a.clear()"
   ]
  },
  {
   "cell_type": "code",
   "execution_count": 76,
   "id": "81a6768c",
   "metadata": {},
   "outputs": [
    {
     "data": {
      "text/plain": [
       "[]"
      ]
     },
     "execution_count": 76,
     "metadata": {},
     "output_type": "execute_result"
    }
   ],
   "source": [
    "a"
   ]
  },
  {
   "cell_type": "code",
   "execution_count": 77,
   "id": "71ff6d7b",
   "metadata": {},
   "outputs": [
    {
     "data": {
      "text/plain": [
       "[]"
      ]
     },
     "execution_count": 77,
     "metadata": {},
     "output_type": "execute_result"
    }
   ],
   "source": [
    "yogesh"
   ]
  },
  {
   "cell_type": "code",
   "execution_count": 78,
   "id": "f3670914",
   "metadata": {},
   "outputs": [
    {
     "data": {
      "text/plain": [
       "[0, 1, 2, 3, 4, 5, 6, 7, 8, 9, 10]"
      ]
     },
     "execution_count": 78,
     "metadata": {},
     "output_type": "execute_result"
    }
   ],
   "source": [
    "soniya"
   ]
  },
  {
   "cell_type": "code",
   "execution_count": 79,
   "id": "8f204ffe",
   "metadata": {},
   "outputs": [
    {
     "data": {
      "text/plain": [
       "(0, 1, 2, 3, 4, 5, 6, 7, 8, 9, 10)"
      ]
     },
     "execution_count": 79,
     "metadata": {},
     "output_type": "execute_result"
    }
   ],
   "source": [
    "tuple(soniya)"
   ]
  },
  {
   "cell_type": "code",
   "execution_count": 80,
   "id": "cd47e20b",
   "metadata": {},
   "outputs": [
    {
     "data": {
      "text/plain": [
       "{0, 1, 2, 3, 4, 5, 6, 7, 8, 9, 10}"
      ]
     },
     "execution_count": 80,
     "metadata": {},
     "output_type": "execute_result"
    }
   ],
   "source": [
    "set(soniya)"
   ]
  },
  {
   "cell_type": "code",
   "execution_count": 81,
   "id": "46f0a97c",
   "metadata": {},
   "outputs": [
    {
     "name": "stdout",
     "output_type": "stream",
     "text": [
      "Help on class list in module builtins:\n",
      "\n",
      "class list(object)\n",
      " |  list(iterable=(), /)\n",
      " |  \n",
      " |  Built-in mutable sequence.\n",
      " |  \n",
      " |  If no argument is given, the constructor creates a new empty list.\n",
      " |  The argument must be an iterable if specified.\n",
      " |  \n",
      " |  Methods defined here:\n",
      " |  \n",
      " |  __add__(self, value, /)\n",
      " |      Return self+value.\n",
      " |  \n",
      " |  __contains__(self, key, /)\n",
      " |      Return key in self.\n",
      " |  \n",
      " |  __delitem__(self, key, /)\n",
      " |      Delete self[key].\n",
      " |  \n",
      " |  __eq__(self, value, /)\n",
      " |      Return self==value.\n",
      " |  \n",
      " |  __ge__(self, value, /)\n",
      " |      Return self>=value.\n",
      " |  \n",
      " |  __getattribute__(self, name, /)\n",
      " |      Return getattr(self, name).\n",
      " |  \n",
      " |  __getitem__(...)\n",
      " |      x.__getitem__(y) <==> x[y]\n",
      " |  \n",
      " |  __gt__(self, value, /)\n",
      " |      Return self>value.\n",
      " |  \n",
      " |  __iadd__(self, value, /)\n",
      " |      Implement self+=value.\n",
      " |  \n",
      " |  __imul__(self, value, /)\n",
      " |      Implement self*=value.\n",
      " |  \n",
      " |  __init__(self, /, *args, **kwargs)\n",
      " |      Initialize self.  See help(type(self)) for accurate signature.\n",
      " |  \n",
      " |  __iter__(self, /)\n",
      " |      Implement iter(self).\n",
      " |  \n",
      " |  __le__(self, value, /)\n",
      " |      Return self<=value.\n",
      " |  \n",
      " |  __len__(self, /)\n",
      " |      Return len(self).\n",
      " |  \n",
      " |  __lt__(self, value, /)\n",
      " |      Return self<value.\n",
      " |  \n",
      " |  __mul__(self, value, /)\n",
      " |      Return self*value.\n",
      " |  \n",
      " |  __ne__(self, value, /)\n",
      " |      Return self!=value.\n",
      " |  \n",
      " |  __repr__(self, /)\n",
      " |      Return repr(self).\n",
      " |  \n",
      " |  __reversed__(self, /)\n",
      " |      Return a reverse iterator over the list.\n",
      " |  \n",
      " |  __rmul__(self, value, /)\n",
      " |      Return value*self.\n",
      " |  \n",
      " |  __setitem__(self, key, value, /)\n",
      " |      Set self[key] to value.\n",
      " |  \n",
      " |  __sizeof__(self, /)\n",
      " |      Return the size of the list in memory, in bytes.\n",
      " |  \n",
      " |  append(self, object, /)\n",
      " |      Append object to the end of the list.\n",
      " |  \n",
      " |  clear(self, /)\n",
      " |      Remove all items from list.\n",
      " |  \n",
      " |  copy(self, /)\n",
      " |      Return a shallow copy of the list.\n",
      " |  \n",
      " |  count(self, value, /)\n",
      " |      Return number of occurrences of value.\n",
      " |  \n",
      " |  extend(self, iterable, /)\n",
      " |      Extend list by appending elements from the iterable.\n",
      " |  \n",
      " |  index(self, value, start=0, stop=9223372036854775807, /)\n",
      " |      Return first index of value.\n",
      " |      \n",
      " |      Raises ValueError if the value is not present.\n",
      " |  \n",
      " |  insert(self, index, object, /)\n",
      " |      Insert object before index.\n",
      " |  \n",
      " |  pop(self, index=-1, /)\n",
      " |      Remove and return item at index (default last).\n",
      " |      \n",
      " |      Raises IndexError if list is empty or index is out of range.\n",
      " |  \n",
      " |  remove(self, value, /)\n",
      " |      Remove first occurrence of value.\n",
      " |      \n",
      " |      Raises ValueError if the value is not present.\n",
      " |  \n",
      " |  reverse(self, /)\n",
      " |      Reverse *IN PLACE*.\n",
      " |  \n",
      " |  sort(self, /, *, key=None, reverse=False)\n",
      " |      Sort the list in ascending order and return None.\n",
      " |      \n",
      " |      The sort is in-place (i.e. the list itself is modified) and stable (i.e. the\n",
      " |      order of two equal elements is maintained).\n",
      " |      \n",
      " |      If a key function is given, apply it once to each list item and sort them,\n",
      " |      ascending or descending, according to their function values.\n",
      " |      \n",
      " |      The reverse flag can be set to sort in descending order.\n",
      " |  \n",
      " |  ----------------------------------------------------------------------\n",
      " |  Class methods defined here:\n",
      " |  \n",
      " |  __class_getitem__(...) from builtins.type\n",
      " |      See PEP 585\n",
      " |  \n",
      " |  ----------------------------------------------------------------------\n",
      " |  Static methods defined here:\n",
      " |  \n",
      " |  __new__(*args, **kwargs) from builtins.type\n",
      " |      Create and return a new object.  See help(type) for accurate signature.\n",
      " |  \n",
      " |  ----------------------------------------------------------------------\n",
      " |  Data and other attributes defined here:\n",
      " |  \n",
      " |  __hash__ = None\n",
      "\n"
     ]
    }
   ],
   "source": [
    "help(list)"
   ]
  },
  {
   "cell_type": "markdown",
   "id": "6fdde37e",
   "metadata": {},
   "source": [
    "### Dictionary"
   ]
  },
  {
   "cell_type": "code",
   "execution_count": 83,
   "id": "a948c5ef",
   "metadata": {},
   "outputs": [
    {
     "data": {
      "text/plain": [
       "5"
      ]
     },
     "execution_count": 83,
     "metadata": {},
     "output_type": "execute_result"
    }
   ],
   "source": [
    "soniya[5]"
   ]
  },
  {
   "cell_type": "markdown",
   "id": "f8ef2ace",
   "metadata": {},
   "source": [
    "Dictionary is accessible on the basis of key whereas list is accessible on the basis of index"
   ]
  },
  {
   "cell_type": "code",
   "execution_count": 85,
   "id": "8a7ce976",
   "metadata": {},
   "outputs": [
    {
     "name": "stdout",
     "output_type": "stream",
     "text": [
      "0\n",
      "2\n",
      "4\n",
      "6\n",
      "8\n",
      "10\n"
     ]
    }
   ],
   "source": [
    "for i in soniya:\n",
    "    if i%2==0:\n",
    "        print(i)"
   ]
  },
  {
   "cell_type": "code",
   "execution_count": 86,
   "id": "43b712f0",
   "metadata": {},
   "outputs": [],
   "source": [
    "yogesh = {}"
   ]
  },
  {
   "cell_type": "code",
   "execution_count": 88,
   "id": "eb29fb89",
   "metadata": {},
   "outputs": [],
   "source": [
    "yogesh[0] = 'Bhimrao'"
   ]
  },
  {
   "cell_type": "code",
   "execution_count": 89,
   "id": "ff097f47",
   "metadata": {},
   "outputs": [],
   "source": [
    "yogesh['dept'] = 'digital transformation'"
   ]
  },
  {
   "cell_type": "code",
   "execution_count": 90,
   "id": "266c3824",
   "metadata": {},
   "outputs": [
    {
     "data": {
      "text/plain": [
       "{0: 'Bhimrao', 'dept': 'digital transformation'}"
      ]
     },
     "execution_count": 90,
     "metadata": {},
     "output_type": "execute_result"
    }
   ],
   "source": [
    "yogesh"
   ]
  },
  {
   "cell_type": "code",
   "execution_count": 91,
   "id": "fbab1091",
   "metadata": {},
   "outputs": [
    {
     "data": {
      "text/plain": [
       "'Bhimrao'"
      ]
     },
     "execution_count": 91,
     "metadata": {},
     "output_type": "execute_result"
    }
   ],
   "source": [
    "yogesh[0]"
   ]
  },
  {
   "cell_type": "code",
   "execution_count": 93,
   "id": "a00dfb0b",
   "metadata": {},
   "outputs": [
    {
     "data": {
      "text/plain": [
       "'digital transformation'"
      ]
     },
     "execution_count": 93,
     "metadata": {},
     "output_type": "execute_result"
    }
   ],
   "source": [
    "yogesh['dept']"
   ]
  },
  {
   "cell_type": "code",
   "execution_count": 94,
   "id": "4529e081",
   "metadata": {},
   "outputs": [],
   "source": [
    "yogesh['dept'] = 'python'"
   ]
  },
  {
   "cell_type": "code",
   "execution_count": 95,
   "id": "02abb0ee",
   "metadata": {},
   "outputs": [
    {
     "data": {
      "text/plain": [
       "{0: 'Bhimrao', 'dept': 'python'}"
      ]
     },
     "execution_count": 95,
     "metadata": {},
     "output_type": "execute_result"
    }
   ],
   "source": [
    "yogesh"
   ]
  },
  {
   "cell_type": "code",
   "execution_count": 96,
   "id": "7b0ab00d",
   "metadata": {},
   "outputs": [],
   "source": [
    "yogesh['salary'] = 100000"
   ]
  },
  {
   "cell_type": "code",
   "execution_count": 97,
   "id": "9e46e298",
   "metadata": {},
   "outputs": [
    {
     "data": {
      "text/plain": [
       "{0: 'Bhimrao', 'dept': 'python', 'salary': 100000}"
      ]
     },
     "execution_count": 97,
     "metadata": {},
     "output_type": "execute_result"
    }
   ],
   "source": [
    "yogesh"
   ]
  },
  {
   "cell_type": "code",
   "execution_count": 98,
   "id": "b3d65137",
   "metadata": {},
   "outputs": [],
   "source": [
    "employee = {'name':'Yogesh', 'gender':'Male', 'city':'Sangli'}"
   ]
  },
  {
   "cell_type": "code",
   "execution_count": 99,
   "id": "1dcd3b86",
   "metadata": {},
   "outputs": [
    {
     "data": {
      "text/plain": [
       "{'name': 'Yogesh', 'gender': 'Male', 'city': 'Sangli'}"
      ]
     },
     "execution_count": 99,
     "metadata": {},
     "output_type": "execute_result"
    }
   ],
   "source": [
    "employee"
   ]
  },
  {
   "cell_type": "code",
   "execution_count": 101,
   "id": "0c5b6509",
   "metadata": {},
   "outputs": [
    {
     "name": "stdout",
     "output_type": "stream",
     "text": [
      "0 Bhimrao\n",
      "dept python\n",
      "salary 100000\n"
     ]
    }
   ],
   "source": [
    "for i in yogesh:\n",
    "    print(i,yogesh[i])"
   ]
  },
  {
   "cell_type": "code",
   "execution_count": 103,
   "id": "3d329e3f",
   "metadata": {},
   "outputs": [
    {
     "name": "stdout",
     "output_type": "stream",
     "text": [
      "name Yogesh\n",
      "gender Male\n",
      "city Sangli\n"
     ]
    }
   ],
   "source": [
    "for j in employee:\n",
    "    print(j, employee[j])"
   ]
  },
  {
   "cell_type": "code",
   "execution_count": 104,
   "id": "7fecee71",
   "metadata": {},
   "outputs": [],
   "source": [
    "fruit = [['apple', 40], ['Banana', 5], ['mango', 50], ['guava', 20]]"
   ]
  },
  {
   "cell_type": "code",
   "execution_count": 129,
   "id": "67e34e67",
   "metadata": {},
   "outputs": [],
   "source": [
    "dfruit = {}\n",
    "for i in fruit:\n",
    "    dfruit[i[0]] = i[1]"
   ]
  },
  {
   "cell_type": "code",
   "execution_count": 130,
   "id": "6fa16481",
   "metadata": {},
   "outputs": [
    {
     "data": {
      "text/plain": [
       "{'apple': 40, 'Banana': 5, 'mango': 50, 'guava': 20}"
      ]
     },
     "execution_count": 130,
     "metadata": {},
     "output_type": "execute_result"
    }
   ],
   "source": [
    "dfruit"
   ]
  },
  {
   "cell_type": "code",
   "execution_count": 131,
   "id": "0e0d1d73",
   "metadata": {},
   "outputs": [
    {
     "data": {
      "text/plain": [
       "{'apple': 40, 'Banana': 5, 'mango': 50, 'guava': 20}"
      ]
     },
     "execution_count": 131,
     "metadata": {},
     "output_type": "execute_result"
    }
   ],
   "source": [
    "dict(fruit)"
   ]
  },
  {
   "cell_type": "code",
   "execution_count": 132,
   "id": "582611c3",
   "metadata": {},
   "outputs": [
    {
     "ename": "TypeError",
     "evalue": "cannot convert dictionary update sequence element #0 to a sequence",
     "output_type": "error",
     "traceback": [
      "\u001b[1;31m---------------------------------------------------------------------------\u001b[0m",
      "\u001b[1;31mTypeError\u001b[0m                                 Traceback (most recent call last)",
      "Cell \u001b[1;32mIn [132], line 1\u001b[0m\n\u001b[1;32m----> 1\u001b[0m \u001b[38;5;28mdict\u001b[39m(soniya)\n",
      "\u001b[1;31mTypeError\u001b[0m: cannot convert dictionary update sequence element #0 to a sequence"
     ]
    }
   ],
   "source": [
    "dict(soniya)"
   ]
  },
  {
   "cell_type": "code",
   "execution_count": 133,
   "id": "ac4778b2",
   "metadata": {},
   "outputs": [
    {
     "name": "stdout",
     "output_type": "stream",
     "text": [
      "apple 40\n",
      "Banana 5\n",
      "mango 50\n",
      "guava 20\n"
     ]
    }
   ],
   "source": [
    "for i,j in fruit:\n",
    "    print(i,j)"
   ]
  },
  {
   "cell_type": "code",
   "execution_count": 134,
   "id": "d9ab10ea",
   "metadata": {},
   "outputs": [
    {
     "data": {
      "text/plain": [
       "dict_keys([0, 'dept', 'salary'])"
      ]
     },
     "execution_count": 134,
     "metadata": {},
     "output_type": "execute_result"
    }
   ],
   "source": [
    "yogesh.keys()"
   ]
  },
  {
   "cell_type": "code",
   "execution_count": 135,
   "id": "77672570",
   "metadata": {},
   "outputs": [
    {
     "data": {
      "text/plain": [
       "dict_keys(['name', 'gender', 'city'])"
      ]
     },
     "execution_count": 135,
     "metadata": {},
     "output_type": "execute_result"
    }
   ],
   "source": [
    "employee.keys()"
   ]
  },
  {
   "cell_type": "code",
   "execution_count": 136,
   "id": "4e0bcf1b",
   "metadata": {},
   "outputs": [
    {
     "data": {
      "text/plain": [
       "dict_keys(['apple', 'Banana', 'mango', 'guava'])"
      ]
     },
     "execution_count": 136,
     "metadata": {},
     "output_type": "execute_result"
    }
   ],
   "source": [
    "dfruit.keys()"
   ]
  },
  {
   "cell_type": "code",
   "execution_count": 137,
   "id": "52caa095",
   "metadata": {},
   "outputs": [
    {
     "data": {
      "text/plain": [
       "{0: None,\n",
       " 1: None,\n",
       " 2: None,\n",
       " 3: None,\n",
       " 4: None,\n",
       " 5: None,\n",
       " 6: None,\n",
       " 7: None,\n",
       " 8: None,\n",
       " 9: None,\n",
       " 10: None}"
      ]
     },
     "execution_count": 137,
     "metadata": {},
     "output_type": "execute_result"
    }
   ],
   "source": [
    "dfruit.fromkeys(soniya)"
   ]
  },
  {
   "cell_type": "code",
   "execution_count": 138,
   "id": "53467571",
   "metadata": {},
   "outputs": [
    {
     "data": {
      "text/plain": [
       "{0: 'Hello',\n",
       " 1: 'Hello',\n",
       " 2: 'Hello',\n",
       " 3: 'Hello',\n",
       " 4: 'Hello',\n",
       " 5: 'Hello',\n",
       " 6: 'Hello',\n",
       " 7: 'Hello',\n",
       " 8: 'Hello',\n",
       " 9: 'Hello',\n",
       " 10: 'Hello'}"
      ]
     },
     "execution_count": 138,
     "metadata": {},
     "output_type": "execute_result"
    }
   ],
   "source": [
    "dfruit.fromkeys(soniya, 'Hello')"
   ]
  },
  {
   "cell_type": "code",
   "execution_count": 139,
   "id": "921bb669",
   "metadata": {},
   "outputs": [
    {
     "data": {
      "text/plain": [
       "40"
      ]
     },
     "execution_count": 139,
     "metadata": {},
     "output_type": "execute_result"
    }
   ],
   "source": [
    "dfruit.get('apple')"
   ]
  },
  {
   "cell_type": "code",
   "execution_count": 140,
   "id": "43e787a2",
   "metadata": {},
   "outputs": [
    {
     "data": {
      "text/plain": [
       "dict_items([('apple', 40), ('Banana', 5), ('mango', 50), ('guava', 20)])"
      ]
     },
     "execution_count": 140,
     "metadata": {},
     "output_type": "execute_result"
    }
   ],
   "source": [
    "dfruit.items()"
   ]
  },
  {
   "cell_type": "code",
   "execution_count": 141,
   "id": "74e56c62",
   "metadata": {},
   "outputs": [
    {
     "data": {
      "text/plain": [
       "20"
      ]
     },
     "execution_count": 141,
     "metadata": {},
     "output_type": "execute_result"
    }
   ],
   "source": [
    "dfruit.pop('guava')"
   ]
  },
  {
   "cell_type": "code",
   "execution_count": 142,
   "id": "3361c464",
   "metadata": {},
   "outputs": [
    {
     "data": {
      "text/plain": [
       "{'apple': 40, 'Banana': 5, 'mango': 50}"
      ]
     },
     "execution_count": 142,
     "metadata": {},
     "output_type": "execute_result"
    }
   ],
   "source": [
    "dfruit"
   ]
  },
  {
   "cell_type": "code",
   "execution_count": 143,
   "id": "d5a9a4f6",
   "metadata": {},
   "outputs": [
    {
     "data": {
      "text/plain": [
       "('mango', 50)"
      ]
     },
     "execution_count": 143,
     "metadata": {},
     "output_type": "execute_result"
    }
   ],
   "source": [
    "dfruit.popitem()"
   ]
  },
  {
   "cell_type": "code",
   "execution_count": 151,
   "id": "a7c5ca12",
   "metadata": {},
   "outputs": [
    {
     "data": {
      "text/plain": [
       "'50'"
      ]
     },
     "execution_count": 151,
     "metadata": {},
     "output_type": "execute_result"
    }
   ],
   "source": [
    "dfruit.setdefault('company','50')"
   ]
  },
  {
   "cell_type": "code",
   "execution_count": 152,
   "id": "a732c03b",
   "metadata": {},
   "outputs": [
    {
     "data": {
      "text/plain": [
       "{'apple': 40, 'Banana': 5, 'starfruit': None, 'company': '50'}"
      ]
     },
     "execution_count": 152,
     "metadata": {},
     "output_type": "execute_result"
    }
   ],
   "source": [
    "dfruit"
   ]
  },
  {
   "cell_type": "code",
   "execution_count": 155,
   "id": "6d5ab732",
   "metadata": {},
   "outputs": [
    {
     "data": {
      "text/plain": [
       "'python'"
      ]
     },
     "execution_count": 155,
     "metadata": {},
     "output_type": "execute_result"
    }
   ],
   "source": [
    "dfruit.setdefault('program', 'java')"
   ]
  },
  {
   "cell_type": "code",
   "execution_count": 156,
   "id": "ee95c896",
   "metadata": {},
   "outputs": [
    {
     "data": {
      "text/plain": [
       "{'apple': 40,\n",
       " 'Banana': 5,\n",
       " 'starfruit': None,\n",
       " 'company': '50',\n",
       " 'program': 'python'}"
      ]
     },
     "execution_count": 156,
     "metadata": {},
     "output_type": "execute_result"
    }
   ],
   "source": [
    "dfruit"
   ]
  },
  {
   "cell_type": "code",
   "execution_count": 157,
   "id": "8a35e1c0",
   "metadata": {},
   "outputs": [],
   "source": [
    "dfruit.update({'starfruit':50, 'company':'MouriTech'})"
   ]
  },
  {
   "cell_type": "code",
   "execution_count": 158,
   "id": "8beb502c",
   "metadata": {},
   "outputs": [
    {
     "data": {
      "text/plain": [
       "{'apple': 40,\n",
       " 'Banana': 5,\n",
       " 'starfruit': 50,\n",
       " 'company': 'MouriTech',\n",
       " 'program': 'python'}"
      ]
     },
     "execution_count": 158,
     "metadata": {},
     "output_type": "execute_result"
    }
   ],
   "source": [
    "dfruit"
   ]
  },
  {
   "cell_type": "code",
   "execution_count": 159,
   "id": "bb0f865a",
   "metadata": {},
   "outputs": [],
   "source": [
    "dfruit['starfruit'],dfruit['company'] = 60,'MouriTech Ltd'"
   ]
  },
  {
   "cell_type": "code",
   "execution_count": 160,
   "id": "bab7ee59",
   "metadata": {},
   "outputs": [
    {
     "data": {
      "text/plain": [
       "{'apple': 40,\n",
       " 'Banana': 5,\n",
       " 'starfruit': 60,\n",
       " 'company': 'MouriTech Ltd',\n",
       " 'program': 'python'}"
      ]
     },
     "execution_count": 160,
     "metadata": {},
     "output_type": "execute_result"
    }
   ],
   "source": [
    "dfruit"
   ]
  },
  {
   "cell_type": "code",
   "execution_count": 161,
   "id": "caeddae0",
   "metadata": {},
   "outputs": [
    {
     "data": {
      "text/plain": [
       "dict_values([40, 5, 60, 'MouriTech Ltd', 'python'])"
      ]
     },
     "execution_count": 161,
     "metadata": {},
     "output_type": "execute_result"
    }
   ],
   "source": [
    "dfruit.values()"
   ]
  },
  {
   "cell_type": "code",
   "execution_count": 162,
   "id": "a80a652a",
   "metadata": {},
   "outputs": [],
   "source": [
    "dfruit.clear()"
   ]
  },
  {
   "cell_type": "code",
   "execution_count": 163,
   "id": "bec260ce",
   "metadata": {},
   "outputs": [
    {
     "data": {
      "text/plain": [
       "{}"
      ]
     },
     "execution_count": 163,
     "metadata": {},
     "output_type": "execute_result"
    }
   ],
   "source": [
    "dfruit"
   ]
  },
  {
   "cell_type": "code",
   "execution_count": 164,
   "id": "b44c481b",
   "metadata": {},
   "outputs": [
    {
     "data": {
      "text/plain": [
       "0"
      ]
     },
     "execution_count": 164,
     "metadata": {},
     "output_type": "execute_result"
    }
   ],
   "source": [
    "len(dfruit)"
   ]
  },
  {
   "cell_type": "code",
   "execution_count": 167,
   "id": "4becbcf2",
   "metadata": {},
   "outputs": [
    {
     "name": "stdout",
     "output_type": "stream",
     "text": [
      "name Yogesh\n",
      "gender Male\n",
      "city Sangli\n"
     ]
    }
   ],
   "source": [
    "for i in employee:\n",
    "    print(i, employee[i])"
   ]
  },
  {
   "cell_type": "code",
   "execution_count": 165,
   "id": "e7439fec",
   "metadata": {},
   "outputs": [
    {
     "name": "stdout",
     "output_type": "stream",
     "text": [
      "Help on class dict in module builtins:\n",
      "\n",
      "class dict(object)\n",
      " |  dict() -> new empty dictionary\n",
      " |  dict(mapping) -> new dictionary initialized from a mapping object's\n",
      " |      (key, value) pairs\n",
      " |  dict(iterable) -> new dictionary initialized as if via:\n",
      " |      d = {}\n",
      " |      for k, v in iterable:\n",
      " |          d[k] = v\n",
      " |  dict(**kwargs) -> new dictionary initialized with the name=value pairs\n",
      " |      in the keyword argument list.  For example:  dict(one=1, two=2)\n",
      " |  \n",
      " |  Built-in subclasses:\n",
      " |      StgDict\n",
      " |  \n",
      " |  Methods defined here:\n",
      " |  \n",
      " |  __contains__(self, key, /)\n",
      " |      True if the dictionary has the specified key, else False.\n",
      " |  \n",
      " |  __delitem__(self, key, /)\n",
      " |      Delete self[key].\n",
      " |  \n",
      " |  __eq__(self, value, /)\n",
      " |      Return self==value.\n",
      " |  \n",
      " |  __ge__(self, value, /)\n",
      " |      Return self>=value.\n",
      " |  \n",
      " |  __getattribute__(self, name, /)\n",
      " |      Return getattr(self, name).\n",
      " |  \n",
      " |  __getitem__(...)\n",
      " |      x.__getitem__(y) <==> x[y]\n",
      " |  \n",
      " |  __gt__(self, value, /)\n",
      " |      Return self>value.\n",
      " |  \n",
      " |  __init__(self, /, *args, **kwargs)\n",
      " |      Initialize self.  See help(type(self)) for accurate signature.\n",
      " |  \n",
      " |  __ior__(self, value, /)\n",
      " |      Return self|=value.\n",
      " |  \n",
      " |  __iter__(self, /)\n",
      " |      Implement iter(self).\n",
      " |  \n",
      " |  __le__(self, value, /)\n",
      " |      Return self<=value.\n",
      " |  \n",
      " |  __len__(self, /)\n",
      " |      Return len(self).\n",
      " |  \n",
      " |  __lt__(self, value, /)\n",
      " |      Return self<value.\n",
      " |  \n",
      " |  __ne__(self, value, /)\n",
      " |      Return self!=value.\n",
      " |  \n",
      " |  __or__(self, value, /)\n",
      " |      Return self|value.\n",
      " |  \n",
      " |  __repr__(self, /)\n",
      " |      Return repr(self).\n",
      " |  \n",
      " |  __reversed__(self, /)\n",
      " |      Return a reverse iterator over the dict keys.\n",
      " |  \n",
      " |  __ror__(self, value, /)\n",
      " |      Return value|self.\n",
      " |  \n",
      " |  __setitem__(self, key, value, /)\n",
      " |      Set self[key] to value.\n",
      " |  \n",
      " |  __sizeof__(...)\n",
      " |      D.__sizeof__() -> size of D in memory, in bytes\n",
      " |  \n",
      " |  clear(...)\n",
      " |      D.clear() -> None.  Remove all items from D.\n",
      " |  \n",
      " |  copy(...)\n",
      " |      D.copy() -> a shallow copy of D\n",
      " |  \n",
      " |  get(self, key, default=None, /)\n",
      " |      Return the value for key if key is in the dictionary, else default.\n",
      " |  \n",
      " |  items(...)\n",
      " |      D.items() -> a set-like object providing a view on D's items\n",
      " |  \n",
      " |  keys(...)\n",
      " |      D.keys() -> a set-like object providing a view on D's keys\n",
      " |  \n",
      " |  pop(...)\n",
      " |      D.pop(k[,d]) -> v, remove specified key and return the corresponding value.\n",
      " |      \n",
      " |      If the key is not found, return the default if given; otherwise,\n",
      " |      raise a KeyError.\n",
      " |  \n",
      " |  popitem(self, /)\n",
      " |      Remove and return a (key, value) pair as a 2-tuple.\n",
      " |      \n",
      " |      Pairs are returned in LIFO (last-in, first-out) order.\n",
      " |      Raises KeyError if the dict is empty.\n",
      " |  \n",
      " |  setdefault(self, key, default=None, /)\n",
      " |      Insert key with a value of default if key is not in the dictionary.\n",
      " |      \n",
      " |      Return the value for key if key is in the dictionary, else default.\n",
      " |  \n",
      " |  update(...)\n",
      " |      D.update([E, ]**F) -> None.  Update D from dict/iterable E and F.\n",
      " |      If E is present and has a .keys() method, then does:  for k in E: D[k] = E[k]\n",
      " |      If E is present and lacks a .keys() method, then does:  for k, v in E: D[k] = v\n",
      " |      In either case, this is followed by: for k in F:  D[k] = F[k]\n",
      " |  \n",
      " |  values(...)\n",
      " |      D.values() -> an object providing a view on D's values\n",
      " |  \n",
      " |  ----------------------------------------------------------------------\n",
      " |  Class methods defined here:\n",
      " |  \n",
      " |  __class_getitem__(...) from builtins.type\n",
      " |      See PEP 585\n",
      " |  \n",
      " |  fromkeys(iterable, value=None, /) from builtins.type\n",
      " |      Create a new dictionary with keys from iterable and values set to value.\n",
      " |  \n",
      " |  ----------------------------------------------------------------------\n",
      " |  Static methods defined here:\n",
      " |  \n",
      " |  __new__(*args, **kwargs) from builtins.type\n",
      " |      Create and return a new object.  See help(type) for accurate signature.\n",
      " |  \n",
      " |  ----------------------------------------------------------------------\n",
      " |  Data and other attributes defined here:\n",
      " |  \n",
      " |  __hash__ = None\n",
      "\n"
     ]
    }
   ],
   "source": [
    "help(dict)"
   ]
  },
  {
   "cell_type": "code",
   "execution_count": 172,
   "id": "52666aeb",
   "metadata": {},
   "outputs": [
    {
     "name": "stdout",
     "output_type": "stream",
     "text": [
      "name Yogesh\n",
      "gender Male\n",
      "city Sangli\n"
     ]
    }
   ],
   "source": [
    "for i,j in employee.items():\n",
    "    print(i,j)"
   ]
  },
  {
   "cell_type": "markdown",
   "id": "7435aadb",
   "metadata": {},
   "source": [
    "### Set"
   ]
  },
  {
   "cell_type": "code",
   "execution_count": 169,
   "id": "c7d36234",
   "metadata": {},
   "outputs": [],
   "source": [
    "d={1,2,3,4,5,6,7,8,2,4,52,3,5}"
   ]
  },
  {
   "cell_type": "code",
   "execution_count": 170,
   "id": "b2ae8aed",
   "metadata": {},
   "outputs": [
    {
     "data": {
      "text/plain": [
       "{1, 2, 3, 4, 5, 6, 7, 8, 52}"
      ]
     },
     "execution_count": 170,
     "metadata": {},
     "output_type": "execute_result"
    }
   ],
   "source": [
    "d"
   ]
  },
  {
   "cell_type": "code",
   "execution_count": 173,
   "id": "974d099b",
   "metadata": {},
   "outputs": [],
   "source": [
    "e={5,6,7,8,9,10}"
   ]
  },
  {
   "cell_type": "code",
   "execution_count": 174,
   "id": "7d60362d",
   "metadata": {},
   "outputs": [],
   "source": [
    "d.add(44)"
   ]
  },
  {
   "cell_type": "code",
   "execution_count": 175,
   "id": "fe1c4233",
   "metadata": {},
   "outputs": [
    {
     "data": {
      "text/plain": [
       "{1, 2, 3, 4, 5, 6, 7, 8, 44, 52}"
      ]
     },
     "execution_count": 175,
     "metadata": {},
     "output_type": "execute_result"
    }
   ],
   "source": [
    "d"
   ]
  },
  {
   "cell_type": "code",
   "execution_count": 176,
   "id": "264dfeec",
   "metadata": {},
   "outputs": [
    {
     "data": {
      "text/plain": [
       "{1, 2, 3, 4, 44, 52}"
      ]
     },
     "execution_count": 176,
     "metadata": {},
     "output_type": "execute_result"
    }
   ],
   "source": [
    "d.difference(e)"
   ]
  },
  {
   "cell_type": "code",
   "execution_count": 177,
   "id": "7ae44bab",
   "metadata": {},
   "outputs": [
    {
     "data": {
      "text/plain": [
       "{9, 10}"
      ]
     },
     "execution_count": 177,
     "metadata": {},
     "output_type": "execute_result"
    }
   ],
   "source": [
    "e.difference(d)"
   ]
  },
  {
   "cell_type": "code",
   "execution_count": 178,
   "id": "26e328bd",
   "metadata": {},
   "outputs": [
    {
     "data": {
      "text/plain": [
       "{5, 6, 7, 8}"
      ]
     },
     "execution_count": 178,
     "metadata": {},
     "output_type": "execute_result"
    }
   ],
   "source": [
    "d.intersection(e)"
   ]
  },
  {
   "cell_type": "code",
   "execution_count": 180,
   "id": "bbb0eeb8",
   "metadata": {},
   "outputs": [
    {
     "data": {
      "text/plain": [
       "False"
      ]
     },
     "execution_count": 180,
     "metadata": {},
     "output_type": "execute_result"
    }
   ],
   "source": [
    "d.isdisjoint(e)"
   ]
  },
  {
   "cell_type": "code",
   "execution_count": 181,
   "id": "cf49c766",
   "metadata": {},
   "outputs": [
    {
     "data": {
      "text/plain": [
       "True"
      ]
     },
     "execution_count": 181,
     "metadata": {},
     "output_type": "execute_result"
    }
   ],
   "source": [
    "f={3, 4, 5}\n",
    "g={4}\n",
    "f.isdisjoint(g)"
   ]
  },
  {
   "cell_type": "code",
   "execution_count": 182,
   "id": "4ddf4ab5",
   "metadata": {},
   "outputs": [
    {
     "data": {
      "text/plain": [
       "False"
      ]
     },
     "execution_count": 182,
     "metadata": {},
     "output_type": "execute_result"
    }
   ],
   "source": [
    "d.issubset(e)"
   ]
  },
  {
   "cell_type": "code",
   "execution_count": 185,
   "id": "faff8710",
   "metadata": {},
   "outputs": [
    {
     "data": {
      "text/plain": [
       "True"
      ]
     },
     "execution_count": 185,
     "metadata": {},
     "output_type": "execute_result"
    }
   ],
   "source": [
    "f.issubset(d)"
   ]
  },
  {
   "cell_type": "code",
   "execution_count": 186,
   "id": "2867ca90",
   "metadata": {},
   "outputs": [
    {
     "data": {
      "text/plain": [
       "True"
      ]
     },
     "execution_count": 186,
     "metadata": {},
     "output_type": "execute_result"
    }
   ],
   "source": [
    "d.issuperset(f)"
   ]
  },
  {
   "cell_type": "code",
   "execution_count": 187,
   "id": "5537619d",
   "metadata": {},
   "outputs": [
    {
     "data": {
      "text/plain": [
       "False"
      ]
     },
     "execution_count": 187,
     "metadata": {},
     "output_type": "execute_result"
    }
   ],
   "source": [
    "f.issuperset(d)"
   ]
  },
  {
   "cell_type": "code",
   "execution_count": 188,
   "id": "e8da8bbf",
   "metadata": {},
   "outputs": [
    {
     "data": {
      "text/plain": [
       "1"
      ]
     },
     "execution_count": 188,
     "metadata": {},
     "output_type": "execute_result"
    }
   ],
   "source": [
    "d.pop()"
   ]
  },
  {
   "cell_type": "code",
   "execution_count": 189,
   "id": "8e837039",
   "metadata": {},
   "outputs": [
    {
     "data": {
      "text/plain": [
       "{2, 3, 4, 5, 6, 7, 8, 44, 52}"
      ]
     },
     "execution_count": 189,
     "metadata": {},
     "output_type": "execute_result"
    }
   ],
   "source": [
    "d"
   ]
  },
  {
   "cell_type": "code",
   "execution_count": 190,
   "id": "6f798f3a",
   "metadata": {},
   "outputs": [],
   "source": [
    "d.remove(44)"
   ]
  },
  {
   "cell_type": "code",
   "execution_count": 191,
   "id": "529c52fe",
   "metadata": {},
   "outputs": [
    {
     "data": {
      "text/plain": [
       "{2, 3, 4, 5, 6, 7, 8, 52}"
      ]
     },
     "execution_count": 191,
     "metadata": {},
     "output_type": "execute_result"
    }
   ],
   "source": [
    "d"
   ]
  },
  {
   "cell_type": "code",
   "execution_count": 192,
   "id": "c5fc38b2",
   "metadata": {},
   "outputs": [
    {
     "data": {
      "text/plain": [
       "{2, 3, 4, 9, 10, 52}"
      ]
     },
     "execution_count": 192,
     "metadata": {},
     "output_type": "execute_result"
    }
   ],
   "source": [
    "d.symmetric_difference(e)"
   ]
  },
  {
   "cell_type": "code",
   "execution_count": 193,
   "id": "9ab3e6b4",
   "metadata": {},
   "outputs": [
    {
     "data": {
      "text/plain": [
       "({2, 3, 4, 5, 6, 7, 8, 52}, {5, 6, 7, 8, 9, 10})"
      ]
     },
     "execution_count": 193,
     "metadata": {},
     "output_type": "execute_result"
    }
   ],
   "source": [
    "d, e"
   ]
  },
  {
   "cell_type": "code",
   "execution_count": 194,
   "id": "305baae7",
   "metadata": {},
   "outputs": [
    {
     "data": {
      "text/plain": [
       "{2, 3, 4, 5, 6, 7, 8, 9, 10, 52}"
      ]
     },
     "execution_count": 194,
     "metadata": {},
     "output_type": "execute_result"
    }
   ],
   "source": [
    "d.union(e)"
   ]
  },
  {
   "cell_type": "code",
   "execution_count": 195,
   "id": "6931a5c1",
   "metadata": {},
   "outputs": [
    {
     "data": {
      "text/plain": [
       "{2, 3, 4, 52}"
      ]
     },
     "execution_count": 195,
     "metadata": {},
     "output_type": "execute_result"
    }
   ],
   "source": [
    "d.difference(e)"
   ]
  },
  {
   "cell_type": "code",
   "execution_count": 196,
   "id": "f485324b",
   "metadata": {},
   "outputs": [
    {
     "data": {
      "text/plain": [
       "{2, 3, 4, 5, 6, 7, 8, 52}"
      ]
     },
     "execution_count": 196,
     "metadata": {},
     "output_type": "execute_result"
    }
   ],
   "source": [
    "d"
   ]
  },
  {
   "cell_type": "code",
   "execution_count": 197,
   "id": "66dcb6cf",
   "metadata": {},
   "outputs": [],
   "source": [
    "d.difference_update(e)"
   ]
  },
  {
   "cell_type": "code",
   "execution_count": 198,
   "id": "4f674df2",
   "metadata": {},
   "outputs": [
    {
     "data": {
      "text/plain": [
       "{2, 3, 4, 52}"
      ]
     },
     "execution_count": 198,
     "metadata": {},
     "output_type": "execute_result"
    }
   ],
   "source": [
    "d"
   ]
  },
  {
   "cell_type": "code",
   "execution_count": 199,
   "id": "4b7fbedd",
   "metadata": {},
   "outputs": [],
   "source": [
    "d.intersection_update(e)"
   ]
  },
  {
   "cell_type": "code",
   "execution_count": 200,
   "id": "dbf9d335",
   "metadata": {},
   "outputs": [
    {
     "data": {
      "text/plain": [
       "set()"
      ]
     },
     "execution_count": 200,
     "metadata": {},
     "output_type": "execute_result"
    }
   ],
   "source": [
    "d"
   ]
  },
  {
   "cell_type": "code",
   "execution_count": 201,
   "id": "f7aff287",
   "metadata": {},
   "outputs": [
    {
     "data": {
      "text/plain": [
       "{5, 6, 7, 8, 9, 10}"
      ]
     },
     "execution_count": 201,
     "metadata": {},
     "output_type": "execute_result"
    }
   ],
   "source": [
    "e"
   ]
  },
  {
   "cell_type": "code",
   "execution_count": 202,
   "id": "89c47d04",
   "metadata": {},
   "outputs": [],
   "source": [
    "d.update(e)"
   ]
  },
  {
   "cell_type": "code",
   "execution_count": 203,
   "id": "4f4f72e5",
   "metadata": {},
   "outputs": [
    {
     "data": {
      "text/plain": [
       "{5, 6, 7, 8, 9, 10}"
      ]
     },
     "execution_count": 203,
     "metadata": {},
     "output_type": "execute_result"
    }
   ],
   "source": [
    "d"
   ]
  },
  {
   "cell_type": "code",
   "execution_count": 209,
   "id": "c1e35b29",
   "metadata": {},
   "outputs": [],
   "source": [
    "name = ('Soniya', 'Abhishek', 'Hrushikesh', 'Nitin')"
   ]
  },
  {
   "cell_type": "code",
   "execution_count": 216,
   "id": "e8ff45ad",
   "metadata": {},
   "outputs": [
    {
     "data": {
      "text/plain": [
       "'Soniya,Abhishek,Hrushikesh,Nitin'"
      ]
     },
     "execution_count": 216,
     "metadata": {},
     "output_type": "execute_result"
    }
   ],
   "source": [
    "','.join(name)"
   ]
  },
  {
   "cell_type": "code",
   "execution_count": 211,
   "id": "2da338c4",
   "metadata": {},
   "outputs": [
    {
     "data": {
      "text/plain": [
       "['Y', 'o', 'g', 'e', 's', 'h']"
      ]
     },
     "execution_count": 211,
     "metadata": {},
     "output_type": "execute_result"
    }
   ],
   "source": [
    "list('Yogesh')"
   ]
  },
  {
   "cell_type": "code",
   "execution_count": 214,
   "id": "997d9cd1",
   "metadata": {},
   "outputs": [
    {
     "data": {
      "text/plain": [
       "['Yogesh', 'likes', 'coding']"
      ]
     },
     "execution_count": 214,
     "metadata": {},
     "output_type": "execute_result"
    }
   ],
   "source": [
    "'Yogesh likes coding'.split(' ')"
   ]
  },
  {
   "cell_type": "code",
   "execution_count": 218,
   "id": "fc65440b",
   "metadata": {},
   "outputs": [],
   "source": [
    "num = [1,2,3,4]\n",
    "snum = []\n",
    "for i in num:\n",
    "    snum.append(str(i))"
   ]
  },
  {
   "cell_type": "code",
   "execution_count": 219,
   "id": "b1d0b2b0",
   "metadata": {},
   "outputs": [
    {
     "data": {
      "text/plain": [
       "['1', '2', '3', '4']"
      ]
     },
     "execution_count": 219,
     "metadata": {},
     "output_type": "execute_result"
    }
   ],
   "source": [
    "snum"
   ]
  },
  {
   "cell_type": "code",
   "execution_count": 220,
   "id": "41f48b0f",
   "metadata": {},
   "outputs": [
    {
     "data": {
      "text/plain": [
       "'1234'"
      ]
     },
     "execution_count": 220,
     "metadata": {},
     "output_type": "execute_result"
    }
   ],
   "source": [
    "''.join(snum)"
   ]
  },
  {
   "cell_type": "code",
   "execution_count": 221,
   "id": "d3a98037",
   "metadata": {},
   "outputs": [],
   "source": [
    "# remove the duplicate elements from the list\n",
    "lis = [2,4,5,3,2,5,7,4]"
   ]
  },
  {
   "cell_type": "code",
   "execution_count": 223,
   "id": "d333aee5",
   "metadata": {},
   "outputs": [
    {
     "data": {
      "text/plain": [
       "[2, 3, 4, 5, 7]"
      ]
     },
     "execution_count": 223,
     "metadata": {},
     "output_type": "execute_result"
    }
   ],
   "source": [
    "list(set(lis))"
   ]
  },
  {
   "cell_type": "code",
   "execution_count": 224,
   "id": "40a999c0",
   "metadata": {},
   "outputs": [],
   "source": [
    "# another way\n",
    "d=[]\n",
    "for i in lis:\n",
    "    if i not in d:\n",
    "        d.append(i)"
   ]
  },
  {
   "cell_type": "code",
   "execution_count": 225,
   "id": "ab00208f",
   "metadata": {},
   "outputs": [
    {
     "data": {
      "text/plain": [
       "[2, 4, 5, 3, 7]"
      ]
     },
     "execution_count": 225,
     "metadata": {},
     "output_type": "execute_result"
    }
   ],
   "source": [
    "d"
   ]
  },
  {
   "cell_type": "code",
   "execution_count": 226,
   "id": "cd2f2ef8",
   "metadata": {},
   "outputs": [],
   "source": [
    "e = []\n",
    "for i in lis:\n",
    "    if e.count(i) == 0:\n",
    "        e.append(i)"
   ]
  },
  {
   "cell_type": "code",
   "execution_count": 227,
   "id": "af75c8de",
   "metadata": {},
   "outputs": [
    {
     "data": {
      "text/plain": [
       "[2, 4, 5, 3, 7]"
      ]
     },
     "execution_count": 227,
     "metadata": {},
     "output_type": "execute_result"
    }
   ],
   "source": [
    "e"
   ]
  },
  {
   "cell_type": "code",
   "execution_count": 228,
   "id": "8059e4bb",
   "metadata": {},
   "outputs": [],
   "source": [
    "# another way\n",
    "import collections"
   ]
  },
  {
   "cell_type": "code",
   "execution_count": 230,
   "id": "53a315ee",
   "metadata": {},
   "outputs": [
    {
     "data": {
      "text/plain": [
       "[2, 4, 5, 3, 7]"
      ]
     },
     "execution_count": 230,
     "metadata": {},
     "output_type": "execute_result"
    }
   ],
   "source": [
    "list(collections.OrderedDict.fromkeys(lis))"
   ]
  },
  {
   "cell_type": "code",
   "execution_count": 232,
   "id": "d99bfde1",
   "metadata": {},
   "outputs": [
    {
     "data": {
      "text/plain": [
       "[(0, 2), (1, 4), (2, 5), (3, 3), (4, 2), (5, 5), (6, 7), (7, 4)]"
      ]
     },
     "execution_count": 232,
     "metadata": {},
     "output_type": "execute_result"
    }
   ],
   "source": [
    "list(enumerate(lis))"
   ]
  },
  {
   "cell_type": "code",
   "execution_count": 233,
   "id": "cc42c3f6",
   "metadata": {},
   "outputs": [
    {
     "name": "stdout",
     "output_type": "stream",
     "text": [
      "(0, 2)\n",
      "(1, 4)\n",
      "(2, 5)\n",
      "(3, 3)\n",
      "(4, 2)\n",
      "(5, 5)\n",
      "(6, 7)\n",
      "(7, 4)\n"
     ]
    }
   ],
   "source": [
    "for i in enumerate(lis):\n",
    "    print(i)"
   ]
  },
  {
   "cell_type": "code",
   "execution_count": 234,
   "id": "cef0305e",
   "metadata": {},
   "outputs": [],
   "source": [
    "#find pilindrome strings in a given sentence"
   ]
  },
  {
   "cell_type": "code",
   "execution_count": 239,
   "id": "9e4c0efb",
   "metadata": {},
   "outputs": [
    {
     "name": "stdout",
     "output_type": "stream",
     "text": [
      "2\n"
     ]
    }
   ],
   "source": [
    "z='Malayalam is difficult language Soniya madam said this.'\n",
    "cz = z.split()\n",
    "c=0\n",
    "for i in cz:\n",
    "    if i.lower() == i.lower()[::-1]:\n",
    "        c+=1\n",
    "print(c)"
   ]
  },
  {
   "cell_type": "code",
   "execution_count": 242,
   "id": "150571bb",
   "metadata": {},
   "outputs": [
    {
     "name": "stdout",
     "output_type": "stream",
     "text": [
      "1234:253:2:3\n",
      "invalid ip address\n"
     ]
    }
   ],
   "source": [
    "#Validate the ip address\n",
    "ip = input().split(':')\n",
    "if 0 <= int(ip[0]) <=255 and 0 <= int(ip[1]) <=255 and 0 <= int(ip[2]) <=255 and 0 <= int(ip[3]) <=255:\n",
    "    print(\"valid ip address\")\n",
    "else:\n",
    "    print('invalid ip address')"
   ]
  },
  {
   "cell_type": "code",
   "execution_count": null,
   "id": "9b58127b",
   "metadata": {},
   "outputs": [],
   "source": []
  }
 ],
 "metadata": {
  "kernelspec": {
   "display_name": "Python 3 (ipykernel)",
   "language": "python",
   "name": "python3"
  },
  "language_info": {
   "codemirror_mode": {
    "name": "ipython",
    "version": 3
   },
   "file_extension": ".py",
   "mimetype": "text/x-python",
   "name": "python",
   "nbconvert_exporter": "python",
   "pygments_lexer": "ipython3",
   "version": "3.10.6"
  }
 },
 "nbformat": 4,
 "nbformat_minor": 5
}
