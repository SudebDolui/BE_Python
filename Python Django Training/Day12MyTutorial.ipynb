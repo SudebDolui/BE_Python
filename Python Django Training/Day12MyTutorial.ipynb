{
 "cells": [
  {
   "cell_type": "markdown",
   "id": "caf8d418",
   "metadata": {},
   "source": [
    "### Interface\n",
    "Definition: Interface is the class having functions without body and we can not create object for an interface class"
   ]
  },
  {
   "cell_type": "code",
   "execution_count": 116,
   "id": "65bb9d7b",
   "metadata": {},
   "outputs": [],
   "source": [
    "from abc import ABC, abstractmethod"
   ]
  },
  {
   "cell_type": "code",
   "execution_count": 119,
   "id": "f5ac13ec",
   "metadata": {},
   "outputs": [],
   "source": [
    "class DemoInterface(ABC):\n",
    "    @abstractmethod\n",
    "    def interest(self,i):\n",
    "        pass\n",
    "    @abstractmethod\n",
    "    def loan(self,a):\n",
    "        pass"
   ]
  },
  {
   "cell_type": "code",
   "execution_count": 120,
   "id": "3ea27dc2",
   "metadata": {},
   "outputs": [
    {
     "data": {
      "text/plain": [
       "abc.ABCMeta"
      ]
     },
     "execution_count": 120,
     "metadata": {},
     "output_type": "execute_result"
    }
   ],
   "source": [
    "type(DemoInterface)"
   ]
  },
  {
   "cell_type": "code",
   "execution_count": 121,
   "id": "2c7156fa",
   "metadata": {},
   "outputs": [
    {
     "ename": "TypeError",
     "evalue": "Can't instantiate abstract class DemoInterface with abstract methods interest, loan",
     "output_type": "error",
     "traceback": [
      "\u001b[1;31m---------------------------------------------------------------------------\u001b[0m",
      "\u001b[1;31mTypeError\u001b[0m                                 Traceback (most recent call last)",
      "Cell \u001b[1;32mIn [121], line 1\u001b[0m\n\u001b[1;32m----> 1\u001b[0m d1 \u001b[38;5;241m=\u001b[39m \u001b[43mDemoInterface\u001b[49m\u001b[43m(\u001b[49m\u001b[43m)\u001b[49m\n",
      "\u001b[1;31mTypeError\u001b[0m: Can't instantiate abstract class DemoInterface with abstract methods interest, loan"
     ]
    }
   ],
   "source": [
    "d1 = DemoInterface()"
   ]
  },
  {
   "cell_type": "code",
   "execution_count": 122,
   "id": "11fd61d3",
   "metadata": {},
   "outputs": [],
   "source": [
    "class SBI(DemoInterface):\n",
    "    def interest(self, i):\n",
    "        print(\"Interest rate of SBI is \", i)\n",
    "    def loan(self, a):\n",
    "        print(\"The loan amount is\", a)"
   ]
  },
  {
   "cell_type": "code",
   "execution_count": 123,
   "id": "b0faf33e",
   "metadata": {},
   "outputs": [],
   "source": [
    "s1 = SBI()"
   ]
  },
  {
   "cell_type": "markdown",
   "id": "2bbda00d",
   "metadata": {},
   "source": [
    "- Interface method should be defined compulsarily"
   ]
  },
  {
   "cell_type": "code",
   "execution_count": 124,
   "id": "45ddbbc9",
   "metadata": {},
   "outputs": [
    {
     "name": "stdout",
     "output_type": "stream",
     "text": [
      "Interest rate of SBI is  6\n"
     ]
    }
   ],
   "source": [
    "s1.interest(6)"
   ]
  },
  {
   "cell_type": "markdown",
   "id": "55f6b5b5",
   "metadata": {},
   "source": [
    "##### Above cells are used for abstract classes"
   ]
  },
  {
   "cell_type": "code",
   "execution_count": 6,
   "id": "8d4de90e",
   "metadata": {},
   "outputs": [
    {
     "name": "stdout",
     "output_type": "stream",
     "text": [
      "Collecting zope\n",
      "  Downloading Zope-5.6-py3-none-any.whl (3.0 MB)\n",
      "     ---------------------------------------- 3.0/3.0 MB 1.7 MB/s eta 0:00:00\n",
      "Collecting zope.size\n",
      "  Downloading zope.size-4.4-py2.py3-none-any.whl (7.9 kB)\n",
      "Collecting PasteDeploy\n",
      "  Downloading PasteDeploy-3.0.1-py3-none-any.whl (16 kB)\n",
      "Collecting zope.i18n[zcml]\n",
      "  Downloading zope.i18n-4.9.0-py2.py3-none-any.whl (793 kB)\n",
      "     -------------------------------------- 793.2/793.2 kB 1.6 MB/s eta 0:00:00\n",
      "Collecting zope.browser\n",
      "  Downloading zope.browser-2.4-py2.py3-none-any.whl (7.7 kB)\n",
      "Collecting zope.deferredimport\n",
      "  Downloading zope.deferredimport-4.4-py2.py3-none-any.whl (10.0 kB)\n",
      "Collecting DateTime\n",
      "  Downloading DateTime-4.7-py2.py3-none-any.whl (52 kB)\n",
      "     ---------------------------------------- 52.2/52.2 kB 1.4 MB/s eta 0:00:00\n",
      "Collecting MultiMapping\n",
      "  Downloading MultiMapping-4.1-py2.py3-none-any.whl (4.3 kB)\n",
      "Collecting zope.configuration\n",
      "  Downloading zope.configuration-4.4.1-py2.py3-none-any.whl (80 kB)\n",
      "     ---------------------------------------- 80.2/80.2 kB 1.1 MB/s eta 0:00:00\n",
      "Collecting zope.processlifetime\n",
      "  Downloading zope.processlifetime-2.4-py2.py3-none-any.whl (5.9 kB)\n",
      "Collecting zope.i18nmessageid\n",
      "  Downloading zope.i18nmessageid-5.0.1.tar.gz (28 kB)\n",
      "  Preparing metadata (setup.py): started\n",
      "  Preparing metadata (setup.py): finished with status 'done'\n",
      "Collecting zope.viewlet\n",
      "  Downloading zope.viewlet-4.3-py2.py3-none-any.whl (33 kB)\n",
      "Collecting zope.container\n",
      "  Downloading zope.container-4.7-cp310-cp310-win_amd64.whl (77 kB)\n",
      "     ---------------------------------------- 77.9/77.9 kB 1.1 MB/s eta 0:00:00\n",
      "Collecting zope.contentprovider\n",
      "  Downloading zope.contentprovider-4.2.1-py2.py3-none-any.whl (12 kB)\n",
      "Collecting waitress\n",
      "  Downloading waitress-2.1.2-py3-none-any.whl (57 kB)\n",
      "     -------------------------------------- 57.7/57.7 kB 754.0 kB/s eta 0:00:00\n",
      "Collecting Acquisition\n",
      "  Downloading Acquisition-4.11-cp310-cp310-win_amd64.whl (65 kB)\n",
      "     ---------------------------------------- 65.7/65.7 kB 1.2 MB/s eta 0:00:00\n",
      "Collecting RestrictedPython\n",
      "  Downloading RestrictedPython-5.2-py2.py3-none-any.whl (28 kB)\n",
      "Collecting BTrees\n",
      "  Downloading BTrees-4.10.1-cp310-cp310-win_amd64.whl (995 kB)\n",
      "     -------------------------------------- 995.7/995.7 kB 1.7 MB/s eta 0:00:00\n",
      "Collecting zope.datetime\n",
      "  Downloading zope.datetime-4.3.0-py2.py3-none-any.whl (43 kB)\n",
      "     ---------------------------------------- 43.4/43.4 kB 1.1 MB/s eta 0:00:00\n",
      "Collecting zope.browserresource>=3.11\n",
      "  Downloading zope.browserresource-4.4-py2.py3-none-any.whl (40 kB)\n",
      "     -------------------------------------- 40.6/40.6 kB 978.4 kB/s eta 0:00:00\n",
      "Collecting zope.testing\n",
      "  Downloading zope.testing-4.10-py2.py3-none-any.whl (43 kB)\n",
      "     ---------------------------------------- 43.1/43.1 kB 1.1 MB/s eta 0:00:00\n",
      "Collecting zope.publisher\n",
      "  Downloading zope.publisher-6.1.0-py2.py3-none-any.whl (122 kB)\n",
      "     -------------------------------------- 122.5/122.5 kB 1.4 MB/s eta 0:00:00\n",
      "Collecting ZODB\n",
      "  Downloading ZODB-5.7.0-py2.py3-none-any.whl (417 kB)\n",
      "     -------------------------------------- 417.6/417.6 kB 1.6 MB/s eta 0:00:00\n",
      "Collecting DocumentTemplate>=4.0\n",
      "  Downloading DocumentTemplate-4.1-py3-none-any.whl (86 kB)\n",
      "     ---------------------------------------- 86.6/86.6 kB 1.6 MB/s eta 0:00:00\n",
      "Collecting zope.security\n",
      "  Downloading zope.security-5.4-cp310-cp310-win_amd64.whl (130 kB)\n",
      "     -------------------------------------- 130.1/130.1 kB 1.5 MB/s eta 0:00:00\n",
      "Collecting zope.interface>=3.8\n",
      "  Downloading zope.interface-5.5.0-cp310-cp310-win_amd64.whl (211 kB)\n",
      "     -------------------------------------- 211.6/211.6 kB 1.6 MB/s eta 0:00:00\n",
      "Collecting Persistence\n",
      "  Downloading Persistence-3.4-cp310-cp310-win_amd64.whl (19 kB)\n",
      "Collecting zope.browsermenu\n",
      "  Downloading zope.browsermenu-4.4-py2.py3-none-any.whl (31 kB)\n",
      "Collecting zope.ptresource\n",
      "  Downloading zope.ptresource-4.3.0-py2.py3-none-any.whl (7.7 kB)\n",
      "Collecting zope.testbrowser\n",
      "  Downloading zope.testbrowser-5.6.1-py2.py3-none-any.whl (64 kB)\n",
      "     ---------------------------------------- 64.9/64.9 kB 1.2 MB/s eta 0:00:00\n",
      "Collecting transaction>=2.4\n",
      "  Downloading transaction-3.0.1-py2.py3-none-any.whl (47 kB)\n",
      "     ---------------------------------------- 47.4/47.4 kB 1.2 MB/s eta 0:00:00\n",
      "Collecting AccessControl>=5.2\n",
      "  Downloading AccessControl-5.5-cp310-cp310-win_amd64.whl (142 kB)\n",
      "     -------------------------------------- 142.2/142.2 kB 1.4 MB/s eta 0:00:00\n",
      "Collecting zope.exceptions\n",
      "  Downloading zope.exceptions-4.5-py2.py3-none-any.whl (18 kB)\n",
      "Collecting zope.pagetemplate>=4.0.2\n",
      "  Downloading zope.pagetemplate-4.6.0-py2.py3-none-any.whl (44 kB)\n",
      "     -------------------------------------- 45.0/45.0 kB 739.5 kB/s eta 0:00:00\n",
      "Collecting zope.tales>=5.0.2\n",
      "  Downloading zope.tales-5.2-py2.py3-none-any.whl (30 kB)\n",
      "Collecting zope.traversing\n",
      "  Downloading zope.traversing-4.4.1-py2.py3-none-any.whl (48 kB)\n",
      "     ---------------------------------------- 48.6/48.6 kB 1.2 MB/s eta 0:00:00\n",
      "Collecting zope.site\n",
      "  Downloading zope.site-4.6.1-py2.py3-none-any.whl (30 kB)\n",
      "Collecting zope.component\n",
      "  Downloading zope.component-5.0.1-py2.py3-none-any.whl (68 kB)\n",
      "     ---------------------------------------- 69.0/69.0 kB 1.2 MB/s eta 0:00:00\n",
      "Collecting zope.globalrequest\n",
      "  Downloading zope.globalrequest-1.6-py2.py3-none-any.whl (5.7 kB)\n",
      "Collecting zope.contenttype\n",
      "  Downloading zope.contenttype-4.6-py2.py3-none-any.whl (14 kB)\n",
      "Collecting zope.browserpage>=4.4.0.dev0\n",
      "  Downloading zope.browserpage-4.4.0-py2.py3-none-any.whl (33 kB)\n",
      "Collecting zope.event\n",
      "  Downloading zope.event-4.5.0-py2.py3-none-any.whl (6.8 kB)\n",
      "Collecting ZConfig>=2.9.2\n",
      "  Downloading ZConfig-3.6.0-py2.py3-none-any.whl (136 kB)\n",
      "     -------------------------------------- 136.9/136.9 kB 1.4 MB/s eta 0:00:00\n",
      "Collecting zExceptions>=3.4\n",
      "  Downloading zExceptions-4.2-py2.py3-none-any.whl (17 kB)\n",
      "Collecting zope.tal\n",
      "  Downloading zope.tal-4.5-py2.py3-none-any.whl (138 kB)\n",
      "     -------------------------------------- 138.6/138.6 kB 1.2 MB/s eta 0:00:00\n",
      "Collecting zope.sequencesort\n",
      "  Downloading zope.sequencesort-4.2-py2.py3-none-any.whl (11 kB)\n",
      "Collecting ExtensionClass\n",
      "  Downloading ExtensionClass-4.7-cp310-cp310-win_amd64.whl (58 kB)\n",
      "     ---------------------------------------- 58.8/58.8 kB 1.0 MB/s eta 0:00:00\n",
      "Collecting zope.lifecycleevent\n",
      "  Downloading zope.lifecycleevent-4.4-py2.py3-none-any.whl (18 kB)\n",
      "Collecting zope.proxy\n",
      "  Downloading zope.proxy-4.5.1-cp310-cp310-win_amd64.whl (42 kB)\n",
      "     -------------------------------------- 42.5/42.5 kB 700.6 kB/s eta 0:00:00\n",
      "Collecting z3c.pt\n",
      "  Downloading z3c.pt-3.3.1-py2.py3-none-any.whl (38 kB)\n",
      "Collecting Chameleon>=3.7.0\n",
      "  Downloading Chameleon-3.10.1.tar.gz (92 kB)\n",
      "     ---------------------------------------- 92.9/92.9 kB 1.3 MB/s eta 0:00:00\n",
      "  Preparing metadata (setup.py): started\n",
      "  Preparing metadata (setup.py): finished with status 'done'\n",
      "Collecting zope.schema\n",
      "  Downloading zope.schema-6.2.1-py2.py3-none-any.whl (86 kB)\n",
      "     ---------------------------------------- 86.3/86.3 kB 1.2 MB/s eta 0:00:00\n",
      "Collecting zope.location\n",
      "  Downloading zope.location-4.2-py2.py3-none-any.whl (21 kB)\n",
      "Requirement already satisfied: setuptools>=36.2 in c:\\users\\sudebd\\appdata\\local\\programs\\python\\python310\\lib\\site-packages (from zope) (65.5.0)\n",
      "Collecting AuthEncoding\n",
      "  Downloading AuthEncoding-4.3-py2.py3-none-any.whl (8.7 kB)\n",
      "Requirement already satisfied: six in c:\\users\\sudebd\\appdata\\roaming\\python\\python310\\site-packages (from AccessControl>=5.2->zope) (1.16.0)\n",
      "Collecting zope.structuredtext\n",
      "  Downloading zope.structuredtext-4.4-py2.py3-none-any.whl (92 kB)\n",
      "     ---------------------------------------- 92.9/92.9 kB 1.3 MB/s eta 0:00:00\n",
      "Collecting RestrictedPython\n",
      "  Downloading RestrictedPython-6.0a1.dev0-py3-none-any.whl (25 kB)\n",
      "Collecting roman\n",
      "  Downloading roman-3.3-py2.py3-none-any.whl (3.9 kB)\n",
      "Collecting persistent>=4.1.1\n",
      "  Downloading persistent-4.9.1-cp310-cp310-win_amd64.whl (158 kB)\n",
      "     -------------------------------------- 158.8/158.8 kB 1.4 MB/s eta 0:00:00\n",
      "Collecting zope.hookable>=4.2.0\n",
      "  Downloading zope.hookable-5.2-cp310-cp310-win_amd64.whl (17 kB)\n",
      "Collecting multipart\n",
      "  Downloading multipart-0.2.4-py3-none-any.whl (7.4 kB)\n",
      "Requirement already satisfied: pytz in c:\\users\\sudebd\\appdata\\local\\programs\\python\\python310\\lib\\site-packages (from DateTime->zope) (2022.4)\n",
      "Collecting zodbpickle>=1.0.1\n",
      "  Downloading zodbpickle-2.4-cp310-cp310-win_amd64.whl (220 kB)\n",
      "     -------------------------------------- 220.5/220.5 kB 1.7 MB/s eta 0:00:00\n",
      "Collecting zc.lockfile\n",
      "  Downloading zc.lockfile-2.0-py2.py3-none-any.whl (9.7 kB)\n",
      "Collecting zope.dottedname\n",
      "  Downloading zope.dottedname-5.0-py3-none-any.whl (6.4 kB)\n",
      "Collecting zope.filerepresentation\n",
      "  Downloading zope.filerepresentation-5.0.0-py2.py3-none-any.whl (8.3 kB)\n",
      "Collecting zope.cachedescriptors\n",
      "  Downloading zope.cachedescriptors-4.4-py2.py3-none-any.whl (13 kB)\n",
      "Collecting zope.deprecation\n",
      "  Downloading zope.deprecation-4.4.0-py2.py3-none-any.whl (10 kB)\n",
      "Collecting python-gettext\n",
      "  Downloading python_gettext-4.1-py2.py3-none-any.whl (13 kB)\n",
      "Collecting zope.annotation\n",
      "  Downloading zope.annotation-4.8-py2.py3-none-any.whl (14 kB)\n",
      "Collecting WSGIProxy2\n",
      "  Downloading WSGIProxy2-0.5.1-py3-none-any.whl (9.2 kB)\n",
      "Collecting WebTest>=2.0.30\n",
      "  Downloading WebTest-3.0.0-py3-none-any.whl (31 kB)\n",
      "Requirement already satisfied: SoupSieve>=1.9.0 in c:\\users\\sudebd\\appdata\\local\\programs\\python\\python310\\lib\\site-packages (from zope.testbrowser->zope) (2.3.2.post1)\n",
      "Requirement already satisfied: BeautifulSoup4 in c:\\users\\sudebd\\appdata\\local\\programs\\python\\python310\\lib\\site-packages (from zope.testbrowser->zope) (4.11.1)\n",
      "Requirement already satisfied: cffi in c:\\users\\sudebd\\appdata\\local\\programs\\python\\python310\\lib\\site-packages (from persistent>=4.1.1->Persistence->zope) (1.15.1)\n",
      "Collecting WebOb>=1.2\n",
      "  Downloading WebOb-1.8.7-py2.py3-none-any.whl (114 kB)\n",
      "     -------------------------------------- 115.0/115.0 kB 1.3 MB/s eta 0:00:00\n",
      "Requirement already satisfied: pycparser in c:\\users\\sudebd\\appdata\\local\\programs\\python\\python310\\lib\\site-packages (from cffi->persistent>=4.1.1->Persistence->zope) (2.21)\n",
      "Building wheels for collected packages: Chameleon, zope.i18nmessageid\n",
      "  Building wheel for Chameleon (setup.py): started\n",
      "  Building wheel for Chameleon (setup.py): finished with status 'done'\n",
      "  Created wheel for Chameleon: filename=Chameleon-3.10.1-py2.py3-none-any.whl size=72160 sha256=fe589e353a006aa356f6e8617485beebbe33e6ce5ceb37856605ed992765491b\n",
      "  Stored in directory: c:\\users\\sudebd\\appdata\\local\\pip\\cache\\wheels\\37\\7d\\2b\\126e85fbadf949a233d5189700d9a2375edfb3c0df6772d036\n",
      "  Building wheel for zope.i18nmessageid (setup.py): started\n",
      "  Building wheel for zope.i18nmessageid (setup.py): finished with status 'done'\n",
      "  Created wheel for zope.i18nmessageid: filename=zope.i18nmessageid-5.0.1-cp310-cp310-win_amd64.whl size=12988 sha256=a9cdd09a8930fc047ac9201b80d73033ccadf036626d720c52e4d48a4af3c56f\n",
      "  Stored in directory: c:\\users\\sudebd\\appdata\\local\\pip\\cache\\wheels\\5e\\7e\\8a\\22f3edd6feccf29591fb9e6cd9667b086fb9f7752503a17f1f\n",
      "Successfully built Chameleon zope.i18nmessageid\n",
      "Installing collected packages: ZConfig, python-gettext, multipart, ExtensionClass, zope.testing, zope.structuredtext, zope.sequencesort, zope.interface, zope.i18nmessageid, zope.hookable, zope.event, zope.dottedname, zope.deprecation, zope.datetime, zope.contenttype, zope.cachedescriptors, zodbpickle, zc.lockfile, WebOb, waitress, roman, RestrictedPython, PasteDeploy, MultiMapping, Chameleon, AuthEncoding, zope.tales, zope.tal, zope.size, zope.schema, zope.proxy, zope.processlifetime, zope.lifecycleevent, zope.exceptions, zope.component, zope.browser, WSGIProxy2, WebTest, transaction, persistent, DateTime, Acquisition, zope.testbrowser, zope.location, zope.i18n, zope.filerepresentation, zope.deferredimport, zope.configuration, Persistence, BTrees, zope.security, zope.annotation, ZODB, zope.publisher, zope.traversing, zope.contentprovider, zExceptions, zope.pagetemplate, zope.globalrequest, zope.container, zope.browserresource, z3c.pt, AccessControl, zope.site, zope.ptresource, zope.browserpage, zope.browsermenu, DocumentTemplate, zope.viewlet, zope\n",
      "Successfully installed AccessControl-5.5 Acquisition-4.11 AuthEncoding-4.3 BTrees-4.10.1 Chameleon-3.10.1 DateTime-4.7 DocumentTemplate-4.1 ExtensionClass-4.7 MultiMapping-4.1 PasteDeploy-3.0.1 Persistence-3.4 RestrictedPython-6.0a1.dev0 WSGIProxy2-0.5.1 WebOb-1.8.7 WebTest-3.0.0 ZConfig-3.6.0 ZODB-5.7.0 multipart-0.2.4 persistent-4.9.1 python-gettext-4.1 roman-3.3 transaction-3.0.1 waitress-2.1.2 z3c.pt-3.3.1 zExceptions-4.2 zc.lockfile-2.0 zodbpickle-2.4 zope-5.6 zope.annotation-4.8 zope.browser-2.4 zope.browsermenu-4.4 zope.browserpage-4.4.0 zope.browserresource-4.4 zope.cachedescriptors-4.4 zope.component-5.0.1 zope.configuration-4.4.1 zope.container-4.7 zope.contentprovider-4.2.1 zope.contenttype-4.6 zope.datetime-4.3.0 zope.deferredimport-4.4 zope.deprecation-4.4.0 zope.dottedname-5.0 zope.event-4.5.0 zope.exceptions-4.5 zope.filerepresentation-5.0.0 zope.globalrequest-1.6 zope.hookable-5.2 zope.i18n-4.9.0 zope.i18nmessageid-5.0.1 zope.interface-5.5.0 zope.lifecycleevent-4.4 zope.location-4.2 zope.pagetemplate-4.6.0 zope.processlifetime-2.4 zope.proxy-4.5.1 zope.ptresource-4.3.0 zope.publisher-6.1.0 zope.schema-6.2.1 zope.security-5.4 zope.sequencesort-4.2 zope.site-4.6.1 zope.size-4.4 zope.structuredtext-4.4 zope.tal-4.5 zope.tales-5.2 zope.testbrowser-5.6.1 zope.testing-4.10 zope.traversing-4.4.1 zope.viewlet-4.3\n"
     ]
    }
   ],
   "source": [
    "!pip install zope"
   ]
  },
  {
   "cell_type": "code",
   "execution_count": 12,
   "id": "1046873e",
   "metadata": {},
   "outputs": [],
   "source": [
    "import zope.interface"
   ]
  },
  {
   "cell_type": "code",
   "execution_count": 11,
   "id": "95655586",
   "metadata": {},
   "outputs": [],
   "source": [
    "class Hotel(zope.interface.Interface):\n",
    "    northFood = zope.interface.Attribute(\"ChickenRotti\")\n",
    "    def eat(self, food):\n",
    "        pass"
   ]
  },
  {
   "cell_type": "code",
   "execution_count": 14,
   "id": "58688c6b",
   "metadata": {},
   "outputs": [
    {
     "ename": "SyntaxError",
     "evalue": "incomplete input (365525625.py, line 1)",
     "output_type": "error",
     "traceback": [
      "\u001b[1;36m  Cell \u001b[1;32mIn [14], line 1\u001b[1;36m\u001b[0m\n\u001b[1;33m    @zope.interface.implementer(Hotel)\u001b[0m\n\u001b[1;37m                                      ^\u001b[0m\n\u001b[1;31mSyntaxError\u001b[0m\u001b[1;31m:\u001b[0m incomplete input\n"
     ]
    }
   ],
   "source": [
    "@zope.interface.implementer(Hotel)"
   ]
  },
  {
   "cell_type": "markdown",
   "id": "35570435",
   "metadata": {},
   "source": [
    "### Exception Handling in Python\n",
    "- Runtime Error Handling or Logical Error Handling\n",
    "\n",
    "#### try, except, else, finally, raise are Exception handling Keywords."
   ]
  },
  {
   "cell_type": "code",
   "execution_count": 15,
   "id": "f42a2111",
   "metadata": {},
   "outputs": [
    {
     "ename": "ZeroDivisionError",
     "evalue": "division by zero",
     "output_type": "error",
     "traceback": [
      "\u001b[1;31m---------------------------------------------------------------------------\u001b[0m",
      "\u001b[1;31mZeroDivisionError\u001b[0m                         Traceback (most recent call last)",
      "Cell \u001b[1;32mIn [15], line 1\u001b[0m\n\u001b[1;32m----> 1\u001b[0m a \u001b[38;5;241m=\u001b[39m \u001b[38;5;241;43m1\u001b[39;49m\u001b[38;5;241;43m/\u001b[39;49m\u001b[38;5;241;43m0\u001b[39;49m\n\u001b[0;32m      2\u001b[0m \u001b[38;5;28mprint\u001b[39m(\u001b[38;5;124m\"\u001b[39m\u001b[38;5;124mThis is my exception handling example\u001b[39m\u001b[38;5;124m\"\u001b[39m)\n",
      "\u001b[1;31mZeroDivisionError\u001b[0m: division by zero"
     ]
    }
   ],
   "source": [
    "a = 1/0\n",
    "print(\"This is my exception handling example\")"
   ]
  },
  {
   "cell_type": "code",
   "execution_count": 16,
   "id": "2788d810",
   "metadata": {},
   "outputs": [
    {
     "name": "stdout",
     "output_type": "stream",
     "text": [
      "Caught the error\n",
      "This is my exception handling example\n"
     ]
    }
   ],
   "source": [
    "try:\n",
    "    a = 1/0\n",
    "except:\n",
    "    print(\"Caught the error\")\n",
    "print(\"This is my exception handling example\")"
   ]
  },
  {
   "cell_type": "code",
   "execution_count": 17,
   "id": "851934e4",
   "metadata": {},
   "outputs": [
    {
     "name": "stdout",
     "output_type": "stream",
     "text": [
      "This is my exception handling example\n"
     ]
    }
   ],
   "source": [
    "try:\n",
    "    a = 1/1\n",
    "except:\n",
    "    print(\"Caught the error\")\n",
    "print(\"This is my exception handling example\")"
   ]
  },
  {
   "cell_type": "code",
   "execution_count": 18,
   "id": "f215d414",
   "metadata": {},
   "outputs": [
    {
     "name": "stdout",
     "output_type": "stream",
     "text": [
      "I have caught the error division by zero\n",
      "This is my exception handling example\n"
     ]
    }
   ],
   "source": [
    "try:\n",
    "    a = 1/0\n",
    "except Exception as sudeb:\n",
    "    print(\"I have caught the error\", sudeb)\n",
    "print(\"This is my exception handling example\")"
   ]
  },
  {
   "cell_type": "markdown",
   "id": "99627c16",
   "metadata": {},
   "source": [
    "- Exception is supermost class of all the exception"
   ]
  },
  {
   "cell_type": "code",
   "execution_count": 25,
   "id": "8b505aa3",
   "metadata": {},
   "outputs": [
    {
     "name": "stdout",
     "output_type": "stream",
     "text": [
      "I have caught the error:  division by zero\n",
      "This is my exception handling example\n"
     ]
    }
   ],
   "source": [
    "# If you know the error name\n",
    "try:\n",
    "    a = 1/0\n",
    "except ZeroDivisionError as a:\n",
    "    print(\"I have caught the error: \", a)\n",
    "print(\"This is my exception handling example\")"
   ]
  },
  {
   "cell_type": "code",
   "execution_count": 21,
   "id": "8f763068",
   "metadata": {},
   "outputs": [
    {
     "name": "stdout",
     "output_type": "stream",
     "text": [
      "Name\n"
     ]
    },
    {
     "ename": "ValueError",
     "evalue": "invalid literal for int() with base 10: 'Name'",
     "output_type": "error",
     "traceback": [
      "\u001b[1;31m---------------------------------------------------------------------------\u001b[0m",
      "\u001b[1;31mValueError\u001b[0m                                Traceback (most recent call last)",
      "Cell \u001b[1;32mIn [21], line 1\u001b[0m\n\u001b[1;32m----> 1\u001b[0m \u001b[38;5;28;43mint\u001b[39;49m\u001b[43m(\u001b[49m\u001b[38;5;28;43minput\u001b[39;49m\u001b[43m(\u001b[49m\u001b[43m)\u001b[49m\u001b[43m)\u001b[49m\n",
      "\u001b[1;31mValueError\u001b[0m: invalid literal for int() with base 10: 'Name'"
     ]
    }
   ],
   "source": [
    "int(input())"
   ]
  },
  {
   "cell_type": "code",
   "execution_count": 23,
   "id": "b6d9b65d",
   "metadata": {},
   "outputs": [
    {
     "name": "stdout",
     "output_type": "stream",
     "text": [
      "Name\n",
      "invalid literal for int() with base 10: 'Name'\n"
     ]
    }
   ],
   "source": [
    "try:\n",
    "    a = int(input())\n",
    "    print(a)\n",
    "except Exception as e:\n",
    "    print(e)"
   ]
  },
  {
   "cell_type": "code",
   "execution_count": 26,
   "id": "9cc4a918",
   "metadata": {},
   "outputs": [],
   "source": [
    "a = [1, 2 ,3]"
   ]
  },
  {
   "cell_type": "code",
   "execution_count": 27,
   "id": "5c23e35e",
   "metadata": {
    "scrolled": true
   },
   "outputs": [
    {
     "ename": "IndexError",
     "evalue": "list index out of range",
     "output_type": "error",
     "traceback": [
      "\u001b[1;31m---------------------------------------------------------------------------\u001b[0m",
      "\u001b[1;31mIndexError\u001b[0m                                Traceback (most recent call last)",
      "Cell \u001b[1;32mIn [27], line 1\u001b[0m\n\u001b[1;32m----> 1\u001b[0m \u001b[43ma\u001b[49m\u001b[43m[\u001b[49m\u001b[38;5;241;43m5\u001b[39;49m\u001b[43m]\u001b[49m\n",
      "\u001b[1;31mIndexError\u001b[0m: list index out of range"
     ]
    }
   ],
   "source": [
    "a[5] # Check error message"
   ]
  },
  {
   "cell_type": "code",
   "execution_count": 28,
   "id": "2bfee2b8",
   "metadata": {},
   "outputs": [
    {
     "ename": "IndexError",
     "evalue": "tuple index out of range",
     "output_type": "error",
     "traceback": [
      "\u001b[1;31m---------------------------------------------------------------------------\u001b[0m",
      "\u001b[1;31mIndexError\u001b[0m                                Traceback (most recent call last)",
      "Cell \u001b[1;32mIn [28], line 2\u001b[0m\n\u001b[0;32m      1\u001b[0m a \u001b[38;5;241m=\u001b[39m (\u001b[38;5;241m1\u001b[39m, \u001b[38;5;241m2\u001b[39m ,\u001b[38;5;241m3\u001b[39m)\n\u001b[1;32m----> 2\u001b[0m \u001b[43ma\u001b[49m\u001b[43m[\u001b[49m\u001b[38;5;241;43m5\u001b[39;49m\u001b[43m]\u001b[49m\n",
      "\u001b[1;31mIndexError\u001b[0m: tuple index out of range"
     ]
    }
   ],
   "source": [
    "a = (1, 2 ,3)\n",
    "a[5] # Check Error Message"
   ]
  },
  {
   "cell_type": "markdown",
   "id": "dd14d028",
   "metadata": {},
   "source": [
    "##### else and finally demo"
   ]
  },
  {
   "cell_type": "code",
   "execution_count": 32,
   "id": "34387d0f",
   "metadata": {},
   "outputs": [
    {
     "name": "stdout",
     "output_type": "stream",
     "text": [
      "2\n",
      "\n",
      "No error to catch\n",
      "\n",
      "This is my exception handling example\n"
     ]
    }
   ],
   "source": [
    "try:\n",
    "    b = [2]\n",
    "    print(b[0])\n",
    "except:\n",
    "    print(\"\\nI have caught the error\")\n",
    "else:\n",
    "    print(\"\\nNo error to catch\")\n",
    "print(\"\\nThis is my exception handling example\")"
   ]
  },
  {
   "cell_type": "code",
   "execution_count": 31,
   "id": "d2deb02f",
   "metadata": {},
   "outputs": [
    {
     "name": "stdout",
     "output_type": "stream",
     "text": [
      "2\n",
      "\n",
      "No error to catch\n",
      "\n",
      " Main Hoon na\n",
      "\n",
      "This is my exception handling example\n"
     ]
    }
   ],
   "source": [
    "try:\n",
    "    b = [2]\n",
    "    print(b[0])\n",
    "except:\n",
    "    print(\"\\nI have caught the error\")\n",
    "else:\n",
    "    print(\"\\nNo error to catch\")\n",
    "finally:\n",
    "    print(\"\\n Main Hoon na\")\n",
    "print(\"\\nThis is my exception handling example\")"
   ]
  },
  {
   "cell_type": "code",
   "execution_count": 33,
   "id": "c0d141d6",
   "metadata": {},
   "outputs": [
    {
     "name": "stdout",
     "output_type": "stream",
     "text": [
      "\n",
      "I have caught the error\n",
      "\n",
      " Main Hoon na\n",
      "\n",
      "This is my exception handling example\n"
     ]
    }
   ],
   "source": [
    "try:\n",
    "    b = [2]\n",
    "    print(b[1])\n",
    "except:\n",
    "    print(\"\\nI have caught the error\")\n",
    "else:\n",
    "    print(\"\\nNo error to catch\")\n",
    "finally:\n",
    "    print(\"\\n Main Hoon na\")\n",
    "print(\"\\nThis is my exception handling example\")"
   ]
  },
  {
   "cell_type": "markdown",
   "id": "4e4916bf",
   "metadata": {},
   "source": [
    "- finally block will execute irrespective of the errors\n",
    "- else block will be executed if there is no error"
   ]
  },
  {
   "cell_type": "code",
   "execution_count": 36,
   "id": "b869efee",
   "metadata": {},
   "outputs": [
    {
     "name": "stdout",
     "output_type": "stream",
     "text": [
      "6\n"
     ]
    },
    {
     "ename": "AssertionError",
     "evalue": "Voter age must be more than 18",
     "output_type": "error",
     "traceback": [
      "\u001b[1;31m---------------------------------------------------------------------------\u001b[0m",
      "\u001b[1;31mAssertionError\u001b[0m                            Traceback (most recent call last)",
      "Cell \u001b[1;32mIn [36], line 3\u001b[0m\n\u001b[0;32m      1\u001b[0m \u001b[38;5;66;03m# own exception creation\u001b[39;00m\n\u001b[0;32m      2\u001b[0m voter_age \u001b[38;5;241m=\u001b[39m \u001b[38;5;28mint\u001b[39m(\u001b[38;5;28minput\u001b[39m())\n\u001b[1;32m----> 3\u001b[0m \u001b[38;5;28;01massert\u001b[39;00m voter_age \u001b[38;5;241m>\u001b[39m \u001b[38;5;241m18\u001b[39m, \u001b[38;5;124m\"\u001b[39m\u001b[38;5;124mVoter age must be more than 18\u001b[39m\u001b[38;5;124m\"\u001b[39m\n",
      "\u001b[1;31mAssertionError\u001b[0m: Voter age must be more than 18"
     ]
    }
   ],
   "source": [
    "# own exception creation\n",
    "voter_age = int(input())\n",
    "assert voter_age > 18, \"Voter age must be more than 18\""
   ]
  },
  {
   "cell_type": "code",
   "execution_count": 39,
   "id": "6bd7ec8a",
   "metadata": {},
   "outputs": [
    {
     "name": "stdout",
     "output_type": "stream",
     "text": [
      "6\n",
      "Error Caught: Voter age must be more than 18\n"
     ]
    }
   ],
   "source": [
    "try:\n",
    "    voter_age = int(input())\n",
    "    assert voter_age > 18, \"Voter age must be more than 18\"\n",
    "except Exception as e:\n",
    "    print(\"Error Caught:\", e)"
   ]
  },
  {
   "cell_type": "code",
   "execution_count": 42,
   "id": "9db50568",
   "metadata": {},
   "outputs": [
    {
     "name": "stdout",
     "output_type": "stream",
     "text": [
      "6\n",
      "Voter age should not be less than 18\n"
     ]
    }
   ],
   "source": [
    "try:\n",
    "    voter_age = int(input())\n",
    "    if voter_age >= 18:\n",
    "        print(\"Your are Eligible\")\n",
    "    else:\n",
    "        raise Exception(\"Voter age should not be less than 18\")\n",
    "except Exception as e:\n",
    "    print(e)"
   ]
  },
  {
   "cell_type": "markdown",
   "id": "4dff3f5c",
   "metadata": {},
   "source": [
    "### Multiple Exception Handling"
   ]
  },
  {
   "cell_type": "code",
   "execution_count": 48,
   "id": "37e6a012",
   "metadata": {},
   "outputs": [
    {
     "name": "stdout",
     "output_type": "stream",
     "text": [
      "n\n",
      "invalid literal for int() with base 10: 'n'\n"
     ]
    }
   ],
   "source": [
    "try:\n",
    "#     a = 1/0\n",
    "#     b = open('day12.pdf')\n",
    "#     c = [1, 2]\n",
    "#     print(c[2])\n",
    "    d = int(input())\n",
    "except ZeroDivisionError as z:\n",
    "    print(z)\n",
    "except IndexError as i:\n",
    "    print(i)\n",
    "except ValueError as v:\n",
    "    print(v)\n",
    "except FileNotFoundError as f:\n",
    "    print(f)\n",
    "    "
   ]
  },
  {
   "cell_type": "code",
   "execution_count": 49,
   "id": "3b1866ca",
   "metadata": {},
   "outputs": [],
   "source": [
    "import urllib.request as ur"
   ]
  },
  {
   "cell_type": "code",
   "execution_count": 50,
   "id": "1174239b",
   "metadata": {},
   "outputs": [
    {
     "ename": "ValueError",
     "evalue": "unknown url type: 'sudeb'",
     "output_type": "error",
     "traceback": [
      "\u001b[1;31m---------------------------------------------------------------------------\u001b[0m",
      "\u001b[1;31mValueError\u001b[0m                                Traceback (most recent call last)",
      "Cell \u001b[1;32mIn [50], line 1\u001b[0m\n\u001b[1;32m----> 1\u001b[0m data \u001b[38;5;241m=\u001b[39m \u001b[43mur\u001b[49m\u001b[38;5;241;43m.\u001b[39;49m\u001b[43murlopen\u001b[49m\u001b[43m(\u001b[49m\u001b[38;5;124;43m\"\u001b[39;49m\u001b[38;5;124;43msudeb\u001b[39;49m\u001b[38;5;124;43m\"\u001b[39;49m\u001b[43m)\u001b[49m\n",
      "File \u001b[1;32m~\\AppData\\Local\\Programs\\Python\\Python310\\lib\\urllib\\request.py:216\u001b[0m, in \u001b[0;36murlopen\u001b[1;34m(url, data, timeout, cafile, capath, cadefault, context)\u001b[0m\n\u001b[0;32m    214\u001b[0m \u001b[38;5;28;01melse\u001b[39;00m:\n\u001b[0;32m    215\u001b[0m     opener \u001b[38;5;241m=\u001b[39m _opener\n\u001b[1;32m--> 216\u001b[0m \u001b[38;5;28;01mreturn\u001b[39;00m \u001b[43mopener\u001b[49m\u001b[38;5;241;43m.\u001b[39;49m\u001b[43mopen\u001b[49m\u001b[43m(\u001b[49m\u001b[43murl\u001b[49m\u001b[43m,\u001b[49m\u001b[43m \u001b[49m\u001b[43mdata\u001b[49m\u001b[43m,\u001b[49m\u001b[43m \u001b[49m\u001b[43mtimeout\u001b[49m\u001b[43m)\u001b[49m\n",
      "File \u001b[1;32m~\\AppData\\Local\\Programs\\Python\\Python310\\lib\\urllib\\request.py:503\u001b[0m, in \u001b[0;36mOpenerDirector.open\u001b[1;34m(self, fullurl, data, timeout)\u001b[0m\n\u001b[0;32m    500\u001b[0m \u001b[38;5;28;01mdef\u001b[39;00m \u001b[38;5;21mopen\u001b[39m(\u001b[38;5;28mself\u001b[39m, fullurl, data\u001b[38;5;241m=\u001b[39m\u001b[38;5;28;01mNone\u001b[39;00m, timeout\u001b[38;5;241m=\u001b[39msocket\u001b[38;5;241m.\u001b[39m_GLOBAL_DEFAULT_TIMEOUT):\n\u001b[0;32m    501\u001b[0m     \u001b[38;5;66;03m# accept a URL or a Request object\u001b[39;00m\n\u001b[0;32m    502\u001b[0m     \u001b[38;5;28;01mif\u001b[39;00m \u001b[38;5;28misinstance\u001b[39m(fullurl, \u001b[38;5;28mstr\u001b[39m):\n\u001b[1;32m--> 503\u001b[0m         req \u001b[38;5;241m=\u001b[39m \u001b[43mRequest\u001b[49m\u001b[43m(\u001b[49m\u001b[43mfullurl\u001b[49m\u001b[43m,\u001b[49m\u001b[43m \u001b[49m\u001b[43mdata\u001b[49m\u001b[43m)\u001b[49m\n\u001b[0;32m    504\u001b[0m     \u001b[38;5;28;01melse\u001b[39;00m:\n\u001b[0;32m    505\u001b[0m         req \u001b[38;5;241m=\u001b[39m fullurl\n",
      "File \u001b[1;32m~\\AppData\\Local\\Programs\\Python\\Python310\\lib\\urllib\\request.py:322\u001b[0m, in \u001b[0;36mRequest.__init__\u001b[1;34m(self, url, data, headers, origin_req_host, unverifiable, method)\u001b[0m\n\u001b[0;32m    319\u001b[0m \u001b[38;5;28;01mdef\u001b[39;00m \u001b[38;5;21m__init__\u001b[39m(\u001b[38;5;28mself\u001b[39m, url, data\u001b[38;5;241m=\u001b[39m\u001b[38;5;28;01mNone\u001b[39;00m, headers\u001b[38;5;241m=\u001b[39m{},\n\u001b[0;32m    320\u001b[0m              origin_req_host\u001b[38;5;241m=\u001b[39m\u001b[38;5;28;01mNone\u001b[39;00m, unverifiable\u001b[38;5;241m=\u001b[39m\u001b[38;5;28;01mFalse\u001b[39;00m,\n\u001b[0;32m    321\u001b[0m              method\u001b[38;5;241m=\u001b[39m\u001b[38;5;28;01mNone\u001b[39;00m):\n\u001b[1;32m--> 322\u001b[0m     \u001b[38;5;28;43mself\u001b[39;49m\u001b[38;5;241;43m.\u001b[39;49m\u001b[43mfull_url\u001b[49m \u001b[38;5;241m=\u001b[39m url\n\u001b[0;32m    323\u001b[0m     \u001b[38;5;28mself\u001b[39m\u001b[38;5;241m.\u001b[39mheaders \u001b[38;5;241m=\u001b[39m {}\n\u001b[0;32m    324\u001b[0m     \u001b[38;5;28mself\u001b[39m\u001b[38;5;241m.\u001b[39munredirected_hdrs \u001b[38;5;241m=\u001b[39m {}\n",
      "File \u001b[1;32m~\\AppData\\Local\\Programs\\Python\\Python310\\lib\\urllib\\request.py:348\u001b[0m, in \u001b[0;36mRequest.full_url\u001b[1;34m(self, url)\u001b[0m\n\u001b[0;32m    346\u001b[0m \u001b[38;5;28mself\u001b[39m\u001b[38;5;241m.\u001b[39m_full_url \u001b[38;5;241m=\u001b[39m unwrap(url)\n\u001b[0;32m    347\u001b[0m \u001b[38;5;28mself\u001b[39m\u001b[38;5;241m.\u001b[39m_full_url, \u001b[38;5;28mself\u001b[39m\u001b[38;5;241m.\u001b[39mfragment \u001b[38;5;241m=\u001b[39m _splittag(\u001b[38;5;28mself\u001b[39m\u001b[38;5;241m.\u001b[39m_full_url)\n\u001b[1;32m--> 348\u001b[0m \u001b[38;5;28;43mself\u001b[39;49m\u001b[38;5;241;43m.\u001b[39;49m\u001b[43m_parse\u001b[49m\u001b[43m(\u001b[49m\u001b[43m)\u001b[49m\n",
      "File \u001b[1;32m~\\AppData\\Local\\Programs\\Python\\Python310\\lib\\urllib\\request.py:377\u001b[0m, in \u001b[0;36mRequest._parse\u001b[1;34m(self)\u001b[0m\n\u001b[0;32m    375\u001b[0m \u001b[38;5;28mself\u001b[39m\u001b[38;5;241m.\u001b[39mtype, rest \u001b[38;5;241m=\u001b[39m _splittype(\u001b[38;5;28mself\u001b[39m\u001b[38;5;241m.\u001b[39m_full_url)\n\u001b[0;32m    376\u001b[0m \u001b[38;5;28;01mif\u001b[39;00m \u001b[38;5;28mself\u001b[39m\u001b[38;5;241m.\u001b[39mtype \u001b[38;5;129;01mis\u001b[39;00m \u001b[38;5;28;01mNone\u001b[39;00m:\n\u001b[1;32m--> 377\u001b[0m     \u001b[38;5;28;01mraise\u001b[39;00m \u001b[38;5;167;01mValueError\u001b[39;00m(\u001b[38;5;124m\"\u001b[39m\u001b[38;5;124munknown url type: \u001b[39m\u001b[38;5;132;01m%r\u001b[39;00m\u001b[38;5;124m\"\u001b[39m \u001b[38;5;241m%\u001b[39m \u001b[38;5;28mself\u001b[39m\u001b[38;5;241m.\u001b[39mfull_url)\n\u001b[0;32m    378\u001b[0m \u001b[38;5;28mself\u001b[39m\u001b[38;5;241m.\u001b[39mhost, \u001b[38;5;28mself\u001b[39m\u001b[38;5;241m.\u001b[39mselector \u001b[38;5;241m=\u001b[39m _splithost(rest)\n\u001b[0;32m    379\u001b[0m \u001b[38;5;28;01mif\u001b[39;00m \u001b[38;5;28mself\u001b[39m\u001b[38;5;241m.\u001b[39mhost:\n",
      "\u001b[1;31mValueError\u001b[0m: unknown url type: 'sudeb'"
     ]
    }
   ],
   "source": [
    "data = ur.urlopen(\"sudeb\")"
   ]
  },
  {
   "cell_type": "code",
   "execution_count": 53,
   "id": "95004e5d",
   "metadata": {},
   "outputs": [
    {
     "ename": "HTTPError",
     "evalue": "HTTP Error 403: Forbidden",
     "output_type": "error",
     "traceback": [
      "\u001b[1;31m---------------------------------------------------------------------------\u001b[0m",
      "\u001b[1;31mHTTPError\u001b[0m                                 Traceback (most recent call last)",
      "Cell \u001b[1;32mIn [53], line 1\u001b[0m\n\u001b[1;32m----> 1\u001b[0m data \u001b[38;5;241m=\u001b[39m \u001b[43mur\u001b[49m\u001b[38;5;241;43m.\u001b[39;49m\u001b[43murlopen\u001b[49m\u001b[43m(\u001b[49m\u001b[38;5;124;43m\"\u001b[39;49m\u001b[38;5;124;43mhttp://sudeb.com\u001b[39;49m\u001b[38;5;124;43m\"\u001b[39;49m\u001b[43m)\u001b[49m\n",
      "File \u001b[1;32m~\\AppData\\Local\\Programs\\Python\\Python310\\lib\\urllib\\request.py:216\u001b[0m, in \u001b[0;36murlopen\u001b[1;34m(url, data, timeout, cafile, capath, cadefault, context)\u001b[0m\n\u001b[0;32m    214\u001b[0m \u001b[38;5;28;01melse\u001b[39;00m:\n\u001b[0;32m    215\u001b[0m     opener \u001b[38;5;241m=\u001b[39m _opener\n\u001b[1;32m--> 216\u001b[0m \u001b[38;5;28;01mreturn\u001b[39;00m \u001b[43mopener\u001b[49m\u001b[38;5;241;43m.\u001b[39;49m\u001b[43mopen\u001b[49m\u001b[43m(\u001b[49m\u001b[43murl\u001b[49m\u001b[43m,\u001b[49m\u001b[43m \u001b[49m\u001b[43mdata\u001b[49m\u001b[43m,\u001b[49m\u001b[43m \u001b[49m\u001b[43mtimeout\u001b[49m\u001b[43m)\u001b[49m\n",
      "File \u001b[1;32m~\\AppData\\Local\\Programs\\Python\\Python310\\lib\\urllib\\request.py:525\u001b[0m, in \u001b[0;36mOpenerDirector.open\u001b[1;34m(self, fullurl, data, timeout)\u001b[0m\n\u001b[0;32m    523\u001b[0m \u001b[38;5;28;01mfor\u001b[39;00m processor \u001b[38;5;129;01min\u001b[39;00m \u001b[38;5;28mself\u001b[39m\u001b[38;5;241m.\u001b[39mprocess_response\u001b[38;5;241m.\u001b[39mget(protocol, []):\n\u001b[0;32m    524\u001b[0m     meth \u001b[38;5;241m=\u001b[39m \u001b[38;5;28mgetattr\u001b[39m(processor, meth_name)\n\u001b[1;32m--> 525\u001b[0m     response \u001b[38;5;241m=\u001b[39m \u001b[43mmeth\u001b[49m\u001b[43m(\u001b[49m\u001b[43mreq\u001b[49m\u001b[43m,\u001b[49m\u001b[43m \u001b[49m\u001b[43mresponse\u001b[49m\u001b[43m)\u001b[49m\n\u001b[0;32m    527\u001b[0m \u001b[38;5;28;01mreturn\u001b[39;00m response\n",
      "File \u001b[1;32m~\\AppData\\Local\\Programs\\Python\\Python310\\lib\\urllib\\request.py:634\u001b[0m, in \u001b[0;36mHTTPErrorProcessor.http_response\u001b[1;34m(self, request, response)\u001b[0m\n\u001b[0;32m    631\u001b[0m \u001b[38;5;66;03m# According to RFC 2616, \"2xx\" code indicates that the client's\u001b[39;00m\n\u001b[0;32m    632\u001b[0m \u001b[38;5;66;03m# request was successfully received, understood, and accepted.\u001b[39;00m\n\u001b[0;32m    633\u001b[0m \u001b[38;5;28;01mif\u001b[39;00m \u001b[38;5;129;01mnot\u001b[39;00m (\u001b[38;5;241m200\u001b[39m \u001b[38;5;241m<\u001b[39m\u001b[38;5;241m=\u001b[39m code \u001b[38;5;241m<\u001b[39m \u001b[38;5;241m300\u001b[39m):\n\u001b[1;32m--> 634\u001b[0m     response \u001b[38;5;241m=\u001b[39m \u001b[38;5;28;43mself\u001b[39;49m\u001b[38;5;241;43m.\u001b[39;49m\u001b[43mparent\u001b[49m\u001b[38;5;241;43m.\u001b[39;49m\u001b[43merror\u001b[49m\u001b[43m(\u001b[49m\n\u001b[0;32m    635\u001b[0m \u001b[43m        \u001b[49m\u001b[38;5;124;43m'\u001b[39;49m\u001b[38;5;124;43mhttp\u001b[39;49m\u001b[38;5;124;43m'\u001b[39;49m\u001b[43m,\u001b[49m\u001b[43m \u001b[49m\u001b[43mrequest\u001b[49m\u001b[43m,\u001b[49m\u001b[43m \u001b[49m\u001b[43mresponse\u001b[49m\u001b[43m,\u001b[49m\u001b[43m \u001b[49m\u001b[43mcode\u001b[49m\u001b[43m,\u001b[49m\u001b[43m \u001b[49m\u001b[43mmsg\u001b[49m\u001b[43m,\u001b[49m\u001b[43m \u001b[49m\u001b[43mhdrs\u001b[49m\u001b[43m)\u001b[49m\n\u001b[0;32m    637\u001b[0m \u001b[38;5;28;01mreturn\u001b[39;00m response\n",
      "File \u001b[1;32m~\\AppData\\Local\\Programs\\Python\\Python310\\lib\\urllib\\request.py:563\u001b[0m, in \u001b[0;36mOpenerDirector.error\u001b[1;34m(self, proto, *args)\u001b[0m\n\u001b[0;32m    561\u001b[0m \u001b[38;5;28;01mif\u001b[39;00m http_err:\n\u001b[0;32m    562\u001b[0m     args \u001b[38;5;241m=\u001b[39m (\u001b[38;5;28mdict\u001b[39m, \u001b[38;5;124m'\u001b[39m\u001b[38;5;124mdefault\u001b[39m\u001b[38;5;124m'\u001b[39m, \u001b[38;5;124m'\u001b[39m\u001b[38;5;124mhttp_error_default\u001b[39m\u001b[38;5;124m'\u001b[39m) \u001b[38;5;241m+\u001b[39m orig_args\n\u001b[1;32m--> 563\u001b[0m     \u001b[38;5;28;01mreturn\u001b[39;00m \u001b[38;5;28;43mself\u001b[39;49m\u001b[38;5;241;43m.\u001b[39;49m\u001b[43m_call_chain\u001b[49m\u001b[43m(\u001b[49m\u001b[38;5;241;43m*\u001b[39;49m\u001b[43margs\u001b[49m\u001b[43m)\u001b[49m\n",
      "File \u001b[1;32m~\\AppData\\Local\\Programs\\Python\\Python310\\lib\\urllib\\request.py:496\u001b[0m, in \u001b[0;36mOpenerDirector._call_chain\u001b[1;34m(self, chain, kind, meth_name, *args)\u001b[0m\n\u001b[0;32m    494\u001b[0m \u001b[38;5;28;01mfor\u001b[39;00m handler \u001b[38;5;129;01min\u001b[39;00m handlers:\n\u001b[0;32m    495\u001b[0m     func \u001b[38;5;241m=\u001b[39m \u001b[38;5;28mgetattr\u001b[39m(handler, meth_name)\n\u001b[1;32m--> 496\u001b[0m     result \u001b[38;5;241m=\u001b[39m \u001b[43mfunc\u001b[49m\u001b[43m(\u001b[49m\u001b[38;5;241;43m*\u001b[39;49m\u001b[43margs\u001b[49m\u001b[43m)\u001b[49m\n\u001b[0;32m    497\u001b[0m     \u001b[38;5;28;01mif\u001b[39;00m result \u001b[38;5;129;01mis\u001b[39;00m \u001b[38;5;129;01mnot\u001b[39;00m \u001b[38;5;28;01mNone\u001b[39;00m:\n\u001b[0;32m    498\u001b[0m         \u001b[38;5;28;01mreturn\u001b[39;00m result\n",
      "File \u001b[1;32m~\\AppData\\Local\\Programs\\Python\\Python310\\lib\\urllib\\request.py:643\u001b[0m, in \u001b[0;36mHTTPDefaultErrorHandler.http_error_default\u001b[1;34m(self, req, fp, code, msg, hdrs)\u001b[0m\n\u001b[0;32m    642\u001b[0m \u001b[38;5;28;01mdef\u001b[39;00m \u001b[38;5;21mhttp_error_default\u001b[39m(\u001b[38;5;28mself\u001b[39m, req, fp, code, msg, hdrs):\n\u001b[1;32m--> 643\u001b[0m     \u001b[38;5;28;01mraise\u001b[39;00m HTTPError(req\u001b[38;5;241m.\u001b[39mfull_url, code, msg, hdrs, fp)\n",
      "\u001b[1;31mHTTPError\u001b[0m: HTTP Error 403: Forbidden"
     ]
    }
   ],
   "source": [
    "data = ur.urlopen(\"http://sudeb.com\")"
   ]
  },
  {
   "cell_type": "code",
   "execution_count": 57,
   "id": "b63973b9",
   "metadata": {},
   "outputs": [
    {
     "ename": "HTTPError",
     "evalue": "HTTP Error 403: Forbidden",
     "output_type": "error",
     "traceback": [
      "\u001b[1;31m---------------------------------------------------------------------------\u001b[0m",
      "\u001b[1;31mHTTPError\u001b[0m                                 Traceback (most recent call last)",
      "Cell \u001b[1;32mIn [57], line 1\u001b[0m\n\u001b[1;32m----> 1\u001b[0m data \u001b[38;5;241m=\u001b[39m \u001b[43mur\u001b[49m\u001b[38;5;241;43m.\u001b[39;49m\u001b[43murlopen\u001b[49m\u001b[43m(\u001b[49m\u001b[38;5;124;43m\"\u001b[39;49m\u001b[38;5;124;43mhttps://sudeb.com\u001b[39;49m\u001b[38;5;124;43m\"\u001b[39;49m\u001b[43m)\u001b[49m\n",
      "File \u001b[1;32m~\\AppData\\Local\\Programs\\Python\\Python310\\lib\\urllib\\request.py:216\u001b[0m, in \u001b[0;36murlopen\u001b[1;34m(url, data, timeout, cafile, capath, cadefault, context)\u001b[0m\n\u001b[0;32m    214\u001b[0m \u001b[38;5;28;01melse\u001b[39;00m:\n\u001b[0;32m    215\u001b[0m     opener \u001b[38;5;241m=\u001b[39m _opener\n\u001b[1;32m--> 216\u001b[0m \u001b[38;5;28;01mreturn\u001b[39;00m \u001b[43mopener\u001b[49m\u001b[38;5;241;43m.\u001b[39;49m\u001b[43mopen\u001b[49m\u001b[43m(\u001b[49m\u001b[43murl\u001b[49m\u001b[43m,\u001b[49m\u001b[43m \u001b[49m\u001b[43mdata\u001b[49m\u001b[43m,\u001b[49m\u001b[43m \u001b[49m\u001b[43mtimeout\u001b[49m\u001b[43m)\u001b[49m\n",
      "File \u001b[1;32m~\\AppData\\Local\\Programs\\Python\\Python310\\lib\\urllib\\request.py:525\u001b[0m, in \u001b[0;36mOpenerDirector.open\u001b[1;34m(self, fullurl, data, timeout)\u001b[0m\n\u001b[0;32m    523\u001b[0m \u001b[38;5;28;01mfor\u001b[39;00m processor \u001b[38;5;129;01min\u001b[39;00m \u001b[38;5;28mself\u001b[39m\u001b[38;5;241m.\u001b[39mprocess_response\u001b[38;5;241m.\u001b[39mget(protocol, []):\n\u001b[0;32m    524\u001b[0m     meth \u001b[38;5;241m=\u001b[39m \u001b[38;5;28mgetattr\u001b[39m(processor, meth_name)\n\u001b[1;32m--> 525\u001b[0m     response \u001b[38;5;241m=\u001b[39m \u001b[43mmeth\u001b[49m\u001b[43m(\u001b[49m\u001b[43mreq\u001b[49m\u001b[43m,\u001b[49m\u001b[43m \u001b[49m\u001b[43mresponse\u001b[49m\u001b[43m)\u001b[49m\n\u001b[0;32m    527\u001b[0m \u001b[38;5;28;01mreturn\u001b[39;00m response\n",
      "File \u001b[1;32m~\\AppData\\Local\\Programs\\Python\\Python310\\lib\\urllib\\request.py:634\u001b[0m, in \u001b[0;36mHTTPErrorProcessor.http_response\u001b[1;34m(self, request, response)\u001b[0m\n\u001b[0;32m    631\u001b[0m \u001b[38;5;66;03m# According to RFC 2616, \"2xx\" code indicates that the client's\u001b[39;00m\n\u001b[0;32m    632\u001b[0m \u001b[38;5;66;03m# request was successfully received, understood, and accepted.\u001b[39;00m\n\u001b[0;32m    633\u001b[0m \u001b[38;5;28;01mif\u001b[39;00m \u001b[38;5;129;01mnot\u001b[39;00m (\u001b[38;5;241m200\u001b[39m \u001b[38;5;241m<\u001b[39m\u001b[38;5;241m=\u001b[39m code \u001b[38;5;241m<\u001b[39m \u001b[38;5;241m300\u001b[39m):\n\u001b[1;32m--> 634\u001b[0m     response \u001b[38;5;241m=\u001b[39m \u001b[38;5;28;43mself\u001b[39;49m\u001b[38;5;241;43m.\u001b[39;49m\u001b[43mparent\u001b[49m\u001b[38;5;241;43m.\u001b[39;49m\u001b[43merror\u001b[49m\u001b[43m(\u001b[49m\n\u001b[0;32m    635\u001b[0m \u001b[43m        \u001b[49m\u001b[38;5;124;43m'\u001b[39;49m\u001b[38;5;124;43mhttp\u001b[39;49m\u001b[38;5;124;43m'\u001b[39;49m\u001b[43m,\u001b[49m\u001b[43m \u001b[49m\u001b[43mrequest\u001b[49m\u001b[43m,\u001b[49m\u001b[43m \u001b[49m\u001b[43mresponse\u001b[49m\u001b[43m,\u001b[49m\u001b[43m \u001b[49m\u001b[43mcode\u001b[49m\u001b[43m,\u001b[49m\u001b[43m \u001b[49m\u001b[43mmsg\u001b[49m\u001b[43m,\u001b[49m\u001b[43m \u001b[49m\u001b[43mhdrs\u001b[49m\u001b[43m)\u001b[49m\n\u001b[0;32m    637\u001b[0m \u001b[38;5;28;01mreturn\u001b[39;00m response\n",
      "File \u001b[1;32m~\\AppData\\Local\\Programs\\Python\\Python310\\lib\\urllib\\request.py:563\u001b[0m, in \u001b[0;36mOpenerDirector.error\u001b[1;34m(self, proto, *args)\u001b[0m\n\u001b[0;32m    561\u001b[0m \u001b[38;5;28;01mif\u001b[39;00m http_err:\n\u001b[0;32m    562\u001b[0m     args \u001b[38;5;241m=\u001b[39m (\u001b[38;5;28mdict\u001b[39m, \u001b[38;5;124m'\u001b[39m\u001b[38;5;124mdefault\u001b[39m\u001b[38;5;124m'\u001b[39m, \u001b[38;5;124m'\u001b[39m\u001b[38;5;124mhttp_error_default\u001b[39m\u001b[38;5;124m'\u001b[39m) \u001b[38;5;241m+\u001b[39m orig_args\n\u001b[1;32m--> 563\u001b[0m     \u001b[38;5;28;01mreturn\u001b[39;00m \u001b[38;5;28;43mself\u001b[39;49m\u001b[38;5;241;43m.\u001b[39;49m\u001b[43m_call_chain\u001b[49m\u001b[43m(\u001b[49m\u001b[38;5;241;43m*\u001b[39;49m\u001b[43margs\u001b[49m\u001b[43m)\u001b[49m\n",
      "File \u001b[1;32m~\\AppData\\Local\\Programs\\Python\\Python310\\lib\\urllib\\request.py:496\u001b[0m, in \u001b[0;36mOpenerDirector._call_chain\u001b[1;34m(self, chain, kind, meth_name, *args)\u001b[0m\n\u001b[0;32m    494\u001b[0m \u001b[38;5;28;01mfor\u001b[39;00m handler \u001b[38;5;129;01min\u001b[39;00m handlers:\n\u001b[0;32m    495\u001b[0m     func \u001b[38;5;241m=\u001b[39m \u001b[38;5;28mgetattr\u001b[39m(handler, meth_name)\n\u001b[1;32m--> 496\u001b[0m     result \u001b[38;5;241m=\u001b[39m \u001b[43mfunc\u001b[49m\u001b[43m(\u001b[49m\u001b[38;5;241;43m*\u001b[39;49m\u001b[43margs\u001b[49m\u001b[43m)\u001b[49m\n\u001b[0;32m    497\u001b[0m     \u001b[38;5;28;01mif\u001b[39;00m result \u001b[38;5;129;01mis\u001b[39;00m \u001b[38;5;129;01mnot\u001b[39;00m \u001b[38;5;28;01mNone\u001b[39;00m:\n\u001b[0;32m    498\u001b[0m         \u001b[38;5;28;01mreturn\u001b[39;00m result\n",
      "File \u001b[1;32m~\\AppData\\Local\\Programs\\Python\\Python310\\lib\\urllib\\request.py:643\u001b[0m, in \u001b[0;36mHTTPDefaultErrorHandler.http_error_default\u001b[1;34m(self, req, fp, code, msg, hdrs)\u001b[0m\n\u001b[0;32m    642\u001b[0m \u001b[38;5;28;01mdef\u001b[39;00m \u001b[38;5;21mhttp_error_default\u001b[39m(\u001b[38;5;28mself\u001b[39m, req, fp, code, msg, hdrs):\n\u001b[1;32m--> 643\u001b[0m     \u001b[38;5;28;01mraise\u001b[39;00m HTTPError(req\u001b[38;5;241m.\u001b[39mfull_url, code, msg, hdrs, fp)\n",
      "\u001b[1;31mHTTPError\u001b[0m: HTTP Error 403: Forbidden"
     ]
    }
   ],
   "source": [
    "data = ur.urlopen(\"https://sudeb.com\")"
   ]
  },
  {
   "cell_type": "code",
   "execution_count": 58,
   "id": "29e53eda",
   "metadata": {},
   "outputs": [
    {
     "ename": "URLError",
     "evalue": "<urlopen error [Errno 11001] getaddrinfo failed>",
     "output_type": "error",
     "traceback": [
      "\u001b[1;31m---------------------------------------------------------------------------\u001b[0m",
      "\u001b[1;31mgaierror\u001b[0m                                  Traceback (most recent call last)",
      "File \u001b[1;32m~\\AppData\\Local\\Programs\\Python\\Python310\\lib\\urllib\\request.py:1348\u001b[0m, in \u001b[0;36mAbstractHTTPHandler.do_open\u001b[1;34m(self, http_class, req, **http_conn_args)\u001b[0m\n\u001b[0;32m   1347\u001b[0m \u001b[38;5;28;01mtry\u001b[39;00m:\n\u001b[1;32m-> 1348\u001b[0m     \u001b[43mh\u001b[49m\u001b[38;5;241;43m.\u001b[39;49m\u001b[43mrequest\u001b[49m\u001b[43m(\u001b[49m\u001b[43mreq\u001b[49m\u001b[38;5;241;43m.\u001b[39;49m\u001b[43mget_method\u001b[49m\u001b[43m(\u001b[49m\u001b[43m)\u001b[49m\u001b[43m,\u001b[49m\u001b[43m \u001b[49m\u001b[43mreq\u001b[49m\u001b[38;5;241;43m.\u001b[39;49m\u001b[43mselector\u001b[49m\u001b[43m,\u001b[49m\u001b[43m \u001b[49m\u001b[43mreq\u001b[49m\u001b[38;5;241;43m.\u001b[39;49m\u001b[43mdata\u001b[49m\u001b[43m,\u001b[49m\u001b[43m \u001b[49m\u001b[43mheaders\u001b[49m\u001b[43m,\u001b[49m\n\u001b[0;32m   1349\u001b[0m \u001b[43m              \u001b[49m\u001b[43mencode_chunked\u001b[49m\u001b[38;5;241;43m=\u001b[39;49m\u001b[43mreq\u001b[49m\u001b[38;5;241;43m.\u001b[39;49m\u001b[43mhas_header\u001b[49m\u001b[43m(\u001b[49m\u001b[38;5;124;43m'\u001b[39;49m\u001b[38;5;124;43mTransfer-encoding\u001b[39;49m\u001b[38;5;124;43m'\u001b[39;49m\u001b[43m)\u001b[49m\u001b[43m)\u001b[49m\n\u001b[0;32m   1350\u001b[0m \u001b[38;5;28;01mexcept\u001b[39;00m \u001b[38;5;167;01mOSError\u001b[39;00m \u001b[38;5;28;01mas\u001b[39;00m err: \u001b[38;5;66;03m# timeout error\u001b[39;00m\n",
      "File \u001b[1;32m~\\AppData\\Local\\Programs\\Python\\Python310\\lib\\http\\client.py:1282\u001b[0m, in \u001b[0;36mHTTPConnection.request\u001b[1;34m(self, method, url, body, headers, encode_chunked)\u001b[0m\n\u001b[0;32m   1281\u001b[0m \u001b[38;5;124;03m\"\"\"Send a complete request to the server.\"\"\"\u001b[39;00m\n\u001b[1;32m-> 1282\u001b[0m \u001b[38;5;28;43mself\u001b[39;49m\u001b[38;5;241;43m.\u001b[39;49m\u001b[43m_send_request\u001b[49m\u001b[43m(\u001b[49m\u001b[43mmethod\u001b[49m\u001b[43m,\u001b[49m\u001b[43m \u001b[49m\u001b[43murl\u001b[49m\u001b[43m,\u001b[49m\u001b[43m \u001b[49m\u001b[43mbody\u001b[49m\u001b[43m,\u001b[49m\u001b[43m \u001b[49m\u001b[43mheaders\u001b[49m\u001b[43m,\u001b[49m\u001b[43m \u001b[49m\u001b[43mencode_chunked\u001b[49m\u001b[43m)\u001b[49m\n",
      "File \u001b[1;32m~\\AppData\\Local\\Programs\\Python\\Python310\\lib\\http\\client.py:1328\u001b[0m, in \u001b[0;36mHTTPConnection._send_request\u001b[1;34m(self, method, url, body, headers, encode_chunked)\u001b[0m\n\u001b[0;32m   1327\u001b[0m     body \u001b[38;5;241m=\u001b[39m _encode(body, \u001b[38;5;124m'\u001b[39m\u001b[38;5;124mbody\u001b[39m\u001b[38;5;124m'\u001b[39m)\n\u001b[1;32m-> 1328\u001b[0m \u001b[38;5;28;43mself\u001b[39;49m\u001b[38;5;241;43m.\u001b[39;49m\u001b[43mendheaders\u001b[49m\u001b[43m(\u001b[49m\u001b[43mbody\u001b[49m\u001b[43m,\u001b[49m\u001b[43m \u001b[49m\u001b[43mencode_chunked\u001b[49m\u001b[38;5;241;43m=\u001b[39;49m\u001b[43mencode_chunked\u001b[49m\u001b[43m)\u001b[49m\n",
      "File \u001b[1;32m~\\AppData\\Local\\Programs\\Python\\Python310\\lib\\http\\client.py:1277\u001b[0m, in \u001b[0;36mHTTPConnection.endheaders\u001b[1;34m(self, message_body, encode_chunked)\u001b[0m\n\u001b[0;32m   1276\u001b[0m     \u001b[38;5;28;01mraise\u001b[39;00m CannotSendHeader()\n\u001b[1;32m-> 1277\u001b[0m \u001b[38;5;28;43mself\u001b[39;49m\u001b[38;5;241;43m.\u001b[39;49m\u001b[43m_send_output\u001b[49m\u001b[43m(\u001b[49m\u001b[43mmessage_body\u001b[49m\u001b[43m,\u001b[49m\u001b[43m \u001b[49m\u001b[43mencode_chunked\u001b[49m\u001b[38;5;241;43m=\u001b[39;49m\u001b[43mencode_chunked\u001b[49m\u001b[43m)\u001b[49m\n",
      "File \u001b[1;32m~\\AppData\\Local\\Programs\\Python\\Python310\\lib\\http\\client.py:1037\u001b[0m, in \u001b[0;36mHTTPConnection._send_output\u001b[1;34m(self, message_body, encode_chunked)\u001b[0m\n\u001b[0;32m   1036\u001b[0m \u001b[38;5;28;01mdel\u001b[39;00m \u001b[38;5;28mself\u001b[39m\u001b[38;5;241m.\u001b[39m_buffer[:]\n\u001b[1;32m-> 1037\u001b[0m \u001b[38;5;28;43mself\u001b[39;49m\u001b[38;5;241;43m.\u001b[39;49m\u001b[43msend\u001b[49m\u001b[43m(\u001b[49m\u001b[43mmsg\u001b[49m\u001b[43m)\u001b[49m\n\u001b[0;32m   1039\u001b[0m \u001b[38;5;28;01mif\u001b[39;00m message_body \u001b[38;5;129;01mis\u001b[39;00m \u001b[38;5;129;01mnot\u001b[39;00m \u001b[38;5;28;01mNone\u001b[39;00m:\n\u001b[0;32m   1040\u001b[0m \n\u001b[0;32m   1041\u001b[0m     \u001b[38;5;66;03m# create a consistent interface to message_body\u001b[39;00m\n",
      "File \u001b[1;32m~\\AppData\\Local\\Programs\\Python\\Python310\\lib\\http\\client.py:975\u001b[0m, in \u001b[0;36mHTTPConnection.send\u001b[1;34m(self, data)\u001b[0m\n\u001b[0;32m    974\u001b[0m \u001b[38;5;28;01mif\u001b[39;00m \u001b[38;5;28mself\u001b[39m\u001b[38;5;241m.\u001b[39mauto_open:\n\u001b[1;32m--> 975\u001b[0m     \u001b[38;5;28;43mself\u001b[39;49m\u001b[38;5;241;43m.\u001b[39;49m\u001b[43mconnect\u001b[49m\u001b[43m(\u001b[49m\u001b[43m)\u001b[49m\n\u001b[0;32m    976\u001b[0m \u001b[38;5;28;01melse\u001b[39;00m:\n",
      "File \u001b[1;32m~\\AppData\\Local\\Programs\\Python\\Python310\\lib\\http\\client.py:941\u001b[0m, in \u001b[0;36mHTTPConnection.connect\u001b[1;34m(self)\u001b[0m\n\u001b[0;32m    940\u001b[0m sys\u001b[38;5;241m.\u001b[39maudit(\u001b[38;5;124m\"\u001b[39m\u001b[38;5;124mhttp.client.connect\u001b[39m\u001b[38;5;124m\"\u001b[39m, \u001b[38;5;28mself\u001b[39m, \u001b[38;5;28mself\u001b[39m\u001b[38;5;241m.\u001b[39mhost, \u001b[38;5;28mself\u001b[39m\u001b[38;5;241m.\u001b[39mport)\n\u001b[1;32m--> 941\u001b[0m \u001b[38;5;28mself\u001b[39m\u001b[38;5;241m.\u001b[39msock \u001b[38;5;241m=\u001b[39m \u001b[38;5;28;43mself\u001b[39;49m\u001b[38;5;241;43m.\u001b[39;49m\u001b[43m_create_connection\u001b[49m\u001b[43m(\u001b[49m\n\u001b[0;32m    942\u001b[0m \u001b[43m    \u001b[49m\u001b[43m(\u001b[49m\u001b[38;5;28;43mself\u001b[39;49m\u001b[38;5;241;43m.\u001b[39;49m\u001b[43mhost\u001b[49m\u001b[43m,\u001b[49m\u001b[38;5;28;43mself\u001b[39;49m\u001b[38;5;241;43m.\u001b[39;49m\u001b[43mport\u001b[49m\u001b[43m)\u001b[49m\u001b[43m,\u001b[49m\u001b[43m \u001b[49m\u001b[38;5;28;43mself\u001b[39;49m\u001b[38;5;241;43m.\u001b[39;49m\u001b[43mtimeout\u001b[49m\u001b[43m,\u001b[49m\u001b[43m \u001b[49m\u001b[38;5;28;43mself\u001b[39;49m\u001b[38;5;241;43m.\u001b[39;49m\u001b[43msource_address\u001b[49m\u001b[43m)\u001b[49m\n\u001b[0;32m    943\u001b[0m \u001b[38;5;66;03m# Might fail in OSs that don't implement TCP_NODELAY\u001b[39;00m\n",
      "File \u001b[1;32m~\\AppData\\Local\\Programs\\Python\\Python310\\lib\\socket.py:824\u001b[0m, in \u001b[0;36mcreate_connection\u001b[1;34m(address, timeout, source_address)\u001b[0m\n\u001b[0;32m    823\u001b[0m err \u001b[38;5;241m=\u001b[39m \u001b[38;5;28;01mNone\u001b[39;00m\n\u001b[1;32m--> 824\u001b[0m \u001b[38;5;28;01mfor\u001b[39;00m res \u001b[38;5;129;01min\u001b[39;00m \u001b[43mgetaddrinfo\u001b[49m\u001b[43m(\u001b[49m\u001b[43mhost\u001b[49m\u001b[43m,\u001b[49m\u001b[43m \u001b[49m\u001b[43mport\u001b[49m\u001b[43m,\u001b[49m\u001b[43m \u001b[49m\u001b[38;5;241;43m0\u001b[39;49m\u001b[43m,\u001b[49m\u001b[43m \u001b[49m\u001b[43mSOCK_STREAM\u001b[49m\u001b[43m)\u001b[49m:\n\u001b[0;32m    825\u001b[0m     af, socktype, proto, canonname, sa \u001b[38;5;241m=\u001b[39m res\n",
      "File \u001b[1;32m~\\AppData\\Local\\Programs\\Python\\Python310\\lib\\socket.py:955\u001b[0m, in \u001b[0;36mgetaddrinfo\u001b[1;34m(host, port, family, type, proto, flags)\u001b[0m\n\u001b[0;32m    954\u001b[0m addrlist \u001b[38;5;241m=\u001b[39m []\n\u001b[1;32m--> 955\u001b[0m \u001b[38;5;28;01mfor\u001b[39;00m res \u001b[38;5;129;01min\u001b[39;00m \u001b[43m_socket\u001b[49m\u001b[38;5;241;43m.\u001b[39;49m\u001b[43mgetaddrinfo\u001b[49m\u001b[43m(\u001b[49m\u001b[43mhost\u001b[49m\u001b[43m,\u001b[49m\u001b[43m \u001b[49m\u001b[43mport\u001b[49m\u001b[43m,\u001b[49m\u001b[43m \u001b[49m\u001b[43mfamily\u001b[49m\u001b[43m,\u001b[49m\u001b[43m \u001b[49m\u001b[38;5;28;43mtype\u001b[39;49m\u001b[43m,\u001b[49m\u001b[43m \u001b[49m\u001b[43mproto\u001b[49m\u001b[43m,\u001b[49m\u001b[43m \u001b[49m\u001b[43mflags\u001b[49m\u001b[43m)\u001b[49m:\n\u001b[0;32m    956\u001b[0m     af, socktype, proto, canonname, sa \u001b[38;5;241m=\u001b[39m res\n",
      "\u001b[1;31mgaierror\u001b[0m: [Errno 11001] getaddrinfo failed",
      "\nDuring handling of the above exception, another exception occurred:\n",
      "\u001b[1;31mURLError\u001b[0m                                  Traceback (most recent call last)",
      "Cell \u001b[1;32mIn [58], line 1\u001b[0m\n\u001b[1;32m----> 1\u001b[0m data \u001b[38;5;241m=\u001b[39m \u001b[43mur\u001b[49m\u001b[38;5;241;43m.\u001b[39;49m\u001b[43murlopen\u001b[49m\u001b[43m(\u001b[49m\u001b[38;5;124;43m\"\u001b[39;49m\u001b[38;5;124;43mhttp://yogesh.com\u001b[39;49m\u001b[38;5;124;43m\"\u001b[39;49m\u001b[43m)\u001b[49m\n",
      "File \u001b[1;32m~\\AppData\\Local\\Programs\\Python\\Python310\\lib\\urllib\\request.py:216\u001b[0m, in \u001b[0;36murlopen\u001b[1;34m(url, data, timeout, cafile, capath, cadefault, context)\u001b[0m\n\u001b[0;32m    214\u001b[0m \u001b[38;5;28;01melse\u001b[39;00m:\n\u001b[0;32m    215\u001b[0m     opener \u001b[38;5;241m=\u001b[39m _opener\n\u001b[1;32m--> 216\u001b[0m \u001b[38;5;28;01mreturn\u001b[39;00m \u001b[43mopener\u001b[49m\u001b[38;5;241;43m.\u001b[39;49m\u001b[43mopen\u001b[49m\u001b[43m(\u001b[49m\u001b[43murl\u001b[49m\u001b[43m,\u001b[49m\u001b[43m \u001b[49m\u001b[43mdata\u001b[49m\u001b[43m,\u001b[49m\u001b[43m \u001b[49m\u001b[43mtimeout\u001b[49m\u001b[43m)\u001b[49m\n",
      "File \u001b[1;32m~\\AppData\\Local\\Programs\\Python\\Python310\\lib\\urllib\\request.py:519\u001b[0m, in \u001b[0;36mOpenerDirector.open\u001b[1;34m(self, fullurl, data, timeout)\u001b[0m\n\u001b[0;32m    516\u001b[0m     req \u001b[38;5;241m=\u001b[39m meth(req)\n\u001b[0;32m    518\u001b[0m sys\u001b[38;5;241m.\u001b[39maudit(\u001b[38;5;124m'\u001b[39m\u001b[38;5;124murllib.Request\u001b[39m\u001b[38;5;124m'\u001b[39m, req\u001b[38;5;241m.\u001b[39mfull_url, req\u001b[38;5;241m.\u001b[39mdata, req\u001b[38;5;241m.\u001b[39mheaders, req\u001b[38;5;241m.\u001b[39mget_method())\n\u001b[1;32m--> 519\u001b[0m response \u001b[38;5;241m=\u001b[39m \u001b[38;5;28;43mself\u001b[39;49m\u001b[38;5;241;43m.\u001b[39;49m\u001b[43m_open\u001b[49m\u001b[43m(\u001b[49m\u001b[43mreq\u001b[49m\u001b[43m,\u001b[49m\u001b[43m \u001b[49m\u001b[43mdata\u001b[49m\u001b[43m)\u001b[49m\n\u001b[0;32m    521\u001b[0m \u001b[38;5;66;03m# post-process response\u001b[39;00m\n\u001b[0;32m    522\u001b[0m meth_name \u001b[38;5;241m=\u001b[39m protocol\u001b[38;5;241m+\u001b[39m\u001b[38;5;124m\"\u001b[39m\u001b[38;5;124m_response\u001b[39m\u001b[38;5;124m\"\u001b[39m\n",
      "File \u001b[1;32m~\\AppData\\Local\\Programs\\Python\\Python310\\lib\\urllib\\request.py:536\u001b[0m, in \u001b[0;36mOpenerDirector._open\u001b[1;34m(self, req, data)\u001b[0m\n\u001b[0;32m    533\u001b[0m     \u001b[38;5;28;01mreturn\u001b[39;00m result\n\u001b[0;32m    535\u001b[0m protocol \u001b[38;5;241m=\u001b[39m req\u001b[38;5;241m.\u001b[39mtype\n\u001b[1;32m--> 536\u001b[0m result \u001b[38;5;241m=\u001b[39m \u001b[38;5;28;43mself\u001b[39;49m\u001b[38;5;241;43m.\u001b[39;49m\u001b[43m_call_chain\u001b[49m\u001b[43m(\u001b[49m\u001b[38;5;28;43mself\u001b[39;49m\u001b[38;5;241;43m.\u001b[39;49m\u001b[43mhandle_open\u001b[49m\u001b[43m,\u001b[49m\u001b[43m \u001b[49m\u001b[43mprotocol\u001b[49m\u001b[43m,\u001b[49m\u001b[43m \u001b[49m\u001b[43mprotocol\u001b[49m\u001b[43m \u001b[49m\u001b[38;5;241;43m+\u001b[39;49m\n\u001b[0;32m    537\u001b[0m \u001b[43m                          \u001b[49m\u001b[38;5;124;43m'\u001b[39;49m\u001b[38;5;124;43m_open\u001b[39;49m\u001b[38;5;124;43m'\u001b[39;49m\u001b[43m,\u001b[49m\u001b[43m \u001b[49m\u001b[43mreq\u001b[49m\u001b[43m)\u001b[49m\n\u001b[0;32m    538\u001b[0m \u001b[38;5;28;01mif\u001b[39;00m result:\n\u001b[0;32m    539\u001b[0m     \u001b[38;5;28;01mreturn\u001b[39;00m result\n",
      "File \u001b[1;32m~\\AppData\\Local\\Programs\\Python\\Python310\\lib\\urllib\\request.py:496\u001b[0m, in \u001b[0;36mOpenerDirector._call_chain\u001b[1;34m(self, chain, kind, meth_name, *args)\u001b[0m\n\u001b[0;32m    494\u001b[0m \u001b[38;5;28;01mfor\u001b[39;00m handler \u001b[38;5;129;01min\u001b[39;00m handlers:\n\u001b[0;32m    495\u001b[0m     func \u001b[38;5;241m=\u001b[39m \u001b[38;5;28mgetattr\u001b[39m(handler, meth_name)\n\u001b[1;32m--> 496\u001b[0m     result \u001b[38;5;241m=\u001b[39m \u001b[43mfunc\u001b[49m\u001b[43m(\u001b[49m\u001b[38;5;241;43m*\u001b[39;49m\u001b[43margs\u001b[49m\u001b[43m)\u001b[49m\n\u001b[0;32m    497\u001b[0m     \u001b[38;5;28;01mif\u001b[39;00m result \u001b[38;5;129;01mis\u001b[39;00m \u001b[38;5;129;01mnot\u001b[39;00m \u001b[38;5;28;01mNone\u001b[39;00m:\n\u001b[0;32m    498\u001b[0m         \u001b[38;5;28;01mreturn\u001b[39;00m result\n",
      "File \u001b[1;32m~\\AppData\\Local\\Programs\\Python\\Python310\\lib\\urllib\\request.py:1377\u001b[0m, in \u001b[0;36mHTTPHandler.http_open\u001b[1;34m(self, req)\u001b[0m\n\u001b[0;32m   1376\u001b[0m \u001b[38;5;28;01mdef\u001b[39;00m \u001b[38;5;21mhttp_open\u001b[39m(\u001b[38;5;28mself\u001b[39m, req):\n\u001b[1;32m-> 1377\u001b[0m     \u001b[38;5;28;01mreturn\u001b[39;00m \u001b[38;5;28;43mself\u001b[39;49m\u001b[38;5;241;43m.\u001b[39;49m\u001b[43mdo_open\u001b[49m\u001b[43m(\u001b[49m\u001b[43mhttp\u001b[49m\u001b[38;5;241;43m.\u001b[39;49m\u001b[43mclient\u001b[49m\u001b[38;5;241;43m.\u001b[39;49m\u001b[43mHTTPConnection\u001b[49m\u001b[43m,\u001b[49m\u001b[43m \u001b[49m\u001b[43mreq\u001b[49m\u001b[43m)\u001b[49m\n",
      "File \u001b[1;32m~\\AppData\\Local\\Programs\\Python\\Python310\\lib\\urllib\\request.py:1351\u001b[0m, in \u001b[0;36mAbstractHTTPHandler.do_open\u001b[1;34m(self, http_class, req, **http_conn_args)\u001b[0m\n\u001b[0;32m   1348\u001b[0m         h\u001b[38;5;241m.\u001b[39mrequest(req\u001b[38;5;241m.\u001b[39mget_method(), req\u001b[38;5;241m.\u001b[39mselector, req\u001b[38;5;241m.\u001b[39mdata, headers,\n\u001b[0;32m   1349\u001b[0m                   encode_chunked\u001b[38;5;241m=\u001b[39mreq\u001b[38;5;241m.\u001b[39mhas_header(\u001b[38;5;124m'\u001b[39m\u001b[38;5;124mTransfer-encoding\u001b[39m\u001b[38;5;124m'\u001b[39m))\n\u001b[0;32m   1350\u001b[0m     \u001b[38;5;28;01mexcept\u001b[39;00m \u001b[38;5;167;01mOSError\u001b[39;00m \u001b[38;5;28;01mas\u001b[39;00m err: \u001b[38;5;66;03m# timeout error\u001b[39;00m\n\u001b[1;32m-> 1351\u001b[0m         \u001b[38;5;28;01mraise\u001b[39;00m URLError(err)\n\u001b[0;32m   1352\u001b[0m     r \u001b[38;5;241m=\u001b[39m h\u001b[38;5;241m.\u001b[39mgetresponse()\n\u001b[0;32m   1353\u001b[0m \u001b[38;5;28;01mexcept\u001b[39;00m:\n",
      "\u001b[1;31mURLError\u001b[0m: <urlopen error [Errno 11001] getaddrinfo failed>"
     ]
    }
   ],
   "source": [
    "data = ur.urlopen(\"http://yogesh.com\")"
   ]
  },
  {
   "cell_type": "code",
   "execution_count": 56,
   "id": "a3f4e266",
   "metadata": {},
   "outputs": [
    {
     "name": "stdout",
     "output_type": "stream",
     "text": [
      "<urlopen error [Errno 11001] getaddrinfo failed>\n"
     ]
    }
   ],
   "source": [
    "try:\n",
    "    data = ur.urlopen(\"http://yogesh.com\")\n",
    "except Exception as e:\n",
    "    print(e)"
   ]
  },
  {
   "cell_type": "code",
   "execution_count": 62,
   "id": "a883299b",
   "metadata": {},
   "outputs": [
    {
     "name": "stdout",
     "output_type": "stream",
     "text": [
      "n\n",
      "Caught an error: invalid literal for int() with base 10: 'n'\n"
     ]
    }
   ],
   "source": [
    "# Write a program to handle division by zero error\n",
    "\n",
    "try:\n",
    "    a = int(input())/0\n",
    "except Exception as e:\n",
    "    print(\"Caught an error:\", e)"
   ]
  },
  {
   "cell_type": "markdown",
   "id": "611778ae",
   "metadata": {},
   "source": [
    "### User Defined Exception Handling using OOPS concept"
   ]
  },
  {
   "cell_type": "code",
   "execution_count": 75,
   "id": "86953e63",
   "metadata": {},
   "outputs": [],
   "source": [
    "class Bank_Balance(Exception):\n",
    "    def __init__(self, b):\n",
    "        self.b = b\n",
    "    def __str__(self):\n",
    "        return \"Your balance should be 5000 or more, but not {}\".format(self.b)"
   ]
  },
  {
   "cell_type": "code",
   "execution_count": 79,
   "id": "1f3cb15f",
   "metadata": {},
   "outputs": [],
   "source": [
    "class Sudeb:\n",
    "    def check(self, b):\n",
    "        if b < 5000:\n",
    "            raise Bank_Balance(b)\n",
    "        else:\n",
    "            print(\"You are eligible\")"
   ]
  },
  {
   "cell_type": "code",
   "execution_count": 80,
   "id": "bd104905",
   "metadata": {},
   "outputs": [],
   "source": [
    "class Sudeb:\n",
    "    def check(self, b):\n",
    "        if b < 5000:\n",
    "            try:\n",
    "                raise Bank_Balance(b)\n",
    "            except Bank_Balance as b:\n",
    "                print(\"Error caught:\", b)\n",
    "            except TypeError as t:\n",
    "                print(\"Error Caught:\", t)\n",
    "        else:\n",
    "            print(\"You are eligible\")"
   ]
  },
  {
   "cell_type": "code",
   "execution_count": 81,
   "id": "edbe7574",
   "metadata": {},
   "outputs": [],
   "source": [
    "S1 = Sudeb()"
   ]
  },
  {
   "cell_type": "code",
   "execution_count": 74,
   "id": "35c6fb99",
   "metadata": {},
   "outputs": [
    {
     "ename": "Bank_Balance",
     "evalue": "4999",
     "output_type": "error",
     "traceback": [
      "\u001b[1;31m---------------------------------------------------------------------------\u001b[0m",
      "\u001b[1;31mBank_Balance\u001b[0m                              Traceback (most recent call last)",
      "Cell \u001b[1;32mIn [74], line 1\u001b[0m\n\u001b[1;32m----> 1\u001b[0m \u001b[43mS1\u001b[49m\u001b[38;5;241;43m.\u001b[39;49m\u001b[43mcheck\u001b[49m\u001b[43m(\u001b[49m\u001b[38;5;241;43m4999\u001b[39;49m\u001b[43m)\u001b[49m\n",
      "Cell \u001b[1;32mIn [72], line 4\u001b[0m, in \u001b[0;36mSudeb.check\u001b[1;34m(self, b)\u001b[0m\n\u001b[0;32m      2\u001b[0m \u001b[38;5;28;01mdef\u001b[39;00m \u001b[38;5;21mcheck\u001b[39m(\u001b[38;5;28mself\u001b[39m, b):\n\u001b[0;32m      3\u001b[0m     \u001b[38;5;28;01mif\u001b[39;00m b \u001b[38;5;241m<\u001b[39m \u001b[38;5;241m5000\u001b[39m:\n\u001b[1;32m----> 4\u001b[0m         \u001b[38;5;28;01mraise\u001b[39;00m Bank_Balance(b)\n\u001b[0;32m      5\u001b[0m     \u001b[38;5;28;01melse\u001b[39;00m:\n\u001b[0;32m      6\u001b[0m         \u001b[38;5;28mprint\u001b[39m(\u001b[38;5;124m\"\u001b[39m\u001b[38;5;124mYou are eligible\u001b[39m\u001b[38;5;124m\"\u001b[39m)\n",
      "\u001b[1;31mBank_Balance\u001b[0m: 4999"
     ]
    }
   ],
   "source": [
    "S1.check(4999) # check Bank_Balance error in End. This case will occur when __str__ is not given"
   ]
  },
  {
   "cell_type": "code",
   "execution_count": 83,
   "id": "a57d9e8b",
   "metadata": {},
   "outputs": [
    {
     "ename": "TypeError",
     "evalue": "'<' not supported between instances of 'str' and 'int'",
     "output_type": "error",
     "traceback": [
      "\u001b[1;31m---------------------------------------------------------------------------\u001b[0m",
      "\u001b[1;31mTypeError\u001b[0m                                 Traceback (most recent call last)",
      "Cell \u001b[1;32mIn [83], line 1\u001b[0m\n\u001b[1;32m----> 1\u001b[0m \u001b[43mS1\u001b[49m\u001b[38;5;241;43m.\u001b[39;49m\u001b[43mcheck\u001b[49m\u001b[43m(\u001b[49m\u001b[38;5;124;43m'\u001b[39;49m\u001b[38;5;124;43m4999\u001b[39;49m\u001b[38;5;124;43m'\u001b[39;49m\u001b[43m)\u001b[49m\n",
      "Cell \u001b[1;32mIn [80], line 3\u001b[0m, in \u001b[0;36mSudeb.check\u001b[1;34m(self, b)\u001b[0m\n\u001b[0;32m      2\u001b[0m \u001b[38;5;28;01mdef\u001b[39;00m \u001b[38;5;21mcheck\u001b[39m(\u001b[38;5;28mself\u001b[39m, b):\n\u001b[1;32m----> 3\u001b[0m     \u001b[38;5;28;01mif\u001b[39;00m \u001b[43mb\u001b[49m\u001b[43m \u001b[49m\u001b[38;5;241;43m<\u001b[39;49m\u001b[43m \u001b[49m\u001b[38;5;241;43m5000\u001b[39;49m:\n\u001b[0;32m      4\u001b[0m         \u001b[38;5;28;01mtry\u001b[39;00m:\n\u001b[0;32m      5\u001b[0m             \u001b[38;5;28;01mraise\u001b[39;00m Bank_Balance(b)\n",
      "\u001b[1;31mTypeError\u001b[0m: '<' not supported between instances of 'str' and 'int'"
     ]
    }
   ],
   "source": [
    "S1.check(4999) # check Bank_Balance error in End. This case will occur when __str__ is given."
   ]
  },
  {
   "cell_type": "code",
   "execution_count": 108,
   "id": "4ac6d488",
   "metadata": {},
   "outputs": [
    {
     "name": "stdout",
     "output_type": "stream",
     "text": [
      "Enter a number5\n",
      "Entered value is too small. Please retry!!!\n",
      "Enter a number9\n",
      "Entered value is too small. Please retry!!!\n",
      "Enter a number10\n",
      "Your guess was correct but your score is poor\n"
     ]
    }
   ],
   "source": [
    "import random\n",
    "class Error(Exception):\n",
    "    \"\"\"\n",
    "    Base class for other exceptions\n",
    "    \"\"\"\n",
    "    pass\n",
    "class ValueTooSmallError(Error):\n",
    "    \"\"\"\n",
    "    Raised when the input value is too small\n",
    "    \"\"\"\n",
    "    pass\n",
    "class ValueTooLargeError(Error):\n",
    "    \"\"\"\n",
    "    Raised when the input value is too large\n",
    "    \"\"\"\n",
    "    pass\n",
    "\n",
    "# guessNumber = 10\n",
    "guessNumber = random.randint(1, 10)\n",
    "count = 0\n",
    "\n",
    "while True:\n",
    "    try:\n",
    "        i_num = int(input(\"Enter a number\"))\n",
    "        count += 1\n",
    "        if(i_num < guessNumber):\n",
    "            raise ValueTooSmallError\n",
    "        elif(i_num > guessNumber):\n",
    "            raise ValueTooLargeError\n",
    "        break\n",
    "    except ValueTooSmallError:\n",
    "        print(\"Entered value is too small. Please retry!!!\")\n",
    "    except ValueTooLargeError:\n",
    "        print(\"Entered value is too large. Please retry!!!\")\n",
    "if count == 1:\n",
    "    print(\"Your Guess is correct and You are an extra ordinary player\")\n",
    "elif 2 <= count <= 5:\n",
    "    print(\"Your Guess is correct and you are an excellent player\")\n",
    "else:\n",
    "    if i_num == guessNumber:\n",
    "        print(\"Your guess was correct but your score is poor\")\n",
    "    else:\n",
    "        print(\"Better luck next time and the number is\", guessNumber)"
   ]
  },
  {
   "cell_type": "code",
   "execution_count": 89,
   "id": "3c04e89c",
   "metadata": {},
   "outputs": [
    {
     "name": "stdout",
     "output_type": "stream",
     "text": [
      "Enter salary amount: 16000\n"
     ]
    },
    {
     "ename": "SalaryNotInRangeError",
     "evalue": "Salary is not in (5000, 15000) range",
     "output_type": "error",
     "traceback": [
      "\u001b[1;31m---------------------------------------------------------------------------\u001b[0m",
      "\u001b[1;31mSalaryNotInRangeError\u001b[0m                     Traceback (most recent call last)",
      "Cell \u001b[1;32mIn [89], line 15\u001b[0m\n\u001b[0;32m     13\u001b[0m salary \u001b[38;5;241m=\u001b[39m \u001b[38;5;28mint\u001b[39m(\u001b[38;5;28minput\u001b[39m(\u001b[38;5;124m\"\u001b[39m\u001b[38;5;124mEnter salary amount: \u001b[39m\u001b[38;5;124m\"\u001b[39m))\n\u001b[0;32m     14\u001b[0m \u001b[38;5;28;01mif\u001b[39;00m \u001b[38;5;129;01mnot\u001b[39;00m \u001b[38;5;241m5000\u001b[39m \u001b[38;5;241m<\u001b[39m salary \u001b[38;5;241m<\u001b[39m \u001b[38;5;241m15000\u001b[39m:\n\u001b[1;32m---> 15\u001b[0m     \u001b[38;5;28;01mraise\u001b[39;00m SalaryNotInRangeError(salary)\n",
      "\u001b[1;31mSalaryNotInRangeError\u001b[0m: Salary is not in (5000, 15000) range"
     ]
    }
   ],
   "source": [
    "class SalaryNotInRangeError(Exception):\n",
    "    \"\"\"Exception raised for errors in the input salary.\n",
    "\n",
    "    Attributes:\n",
    "        salary -- input salary which caused the error\n",
    "        message -- explanation of the error\n",
    "    \"\"\"\n",
    "\n",
    "    def __init__(self, salary, message=\"Salary is not in (5000, 15000) range\"):\n",
    "        self.salary = salary\n",
    "        self.message = message\n",
    "        super().__init__(self.message)\n",
    "salary = int(input(\"Enter salary amount: \"))\n",
    "if not 5000 < salary < 15000:\n",
    "    raise SalaryNotInRangeError(salary)"
   ]
  },
  {
   "cell_type": "code",
   "execution_count": 95,
   "id": "fbcfc991",
   "metadata": {},
   "outputs": [
    {
     "name": "stdout",
     "output_type": "stream",
     "text": [
      "userError\n",
      "<class '__main__.Usererror'>\n",
      "('userError',)\n"
     ]
    }
   ],
   "source": [
    "# User defined error\n",
    "class Usererror(RuntimeError):\n",
    "    def __init__(self, arg):\n",
    "#         self.args = arg\n",
    "        self.arg = arg\n",
    "#     def __str__(self):\n",
    "#         return str(self.args)\n",
    "#         return str(self.arg)\n",
    "try:\n",
    "    raise Usererror(\"userError\")\n",
    "except Usererror as e:\n",
    "    print(e)\n",
    "    print(type(e))\n",
    "    print(e.args)"
   ]
  },
  {
   "cell_type": "code",
   "execution_count": 98,
   "id": "5251b283",
   "metadata": {},
   "outputs": [
    {
     "name": "stdout",
     "output_type": "stream",
     "text": [
      "For Percenatge: 93\n",
      "Congrats you're Enrolled\n",
      "\n",
      "For Percenatge: 102\n",
      "Percentage is invalid\n",
      "\n",
      "\n",
      "For Percenatge: 58\n",
      "The Percentage is lesser than the Cut-off, Please try again!\n",
      "\n"
     ]
    }
   ],
   "source": [
    "# Base class\n",
    "class PercentageError(Exception):\n",
    "    pass\n",
    "        \n",
    "# Exception class for percentage > 100\n",
    "class InvalidPercentageError(PercentageError):\n",
    "    def __init__(self):\n",
    "#         super().__init__(\"Percentage is invalid\")\n",
    "     print(\"Percentage is invalid\") \n",
    "    \n",
    "# Exception class for percentage < 80\n",
    "class LessPercentageError(PercentageError):\n",
    "    def __init__(self):\n",
    "#         super().__init__(\"The Percentage is lesser than the Cut-off, Please try again!\")\n",
    "        print(\"The Percentage is lesser than the Cut-off, Please try again!\")\n",
    "\n",
    "# class to check percentage range\n",
    "class checkPercentage(PercentageError):\n",
    "    def __init__(self, per):\n",
    "        if per<80:\n",
    "            raise LessPercentageError\n",
    "        if per>100:\n",
    "            raise InvalidPercentageError\n",
    "        print(\"Congrats you're Enrolled\")\n",
    "        \n",
    "# different cases and output\n",
    "try:\n",
    "    print(\"For Percenatge: 93\")\n",
    "    checkPercentage(93)\n",
    "except Exception as e:\n",
    "    print(e)\n",
    "    \n",
    "try:\n",
    "    print(\"\\nFor Percenatge: 102\")\n",
    "    checkPercentage(102)\n",
    "except Exception as e:\n",
    "    print(e)\n",
    "    \n",
    "try:\n",
    "    print(\"\\nFor Percenatge: 58\")\n",
    "    checkPercentage(58)\n",
    "except Exception as e:\n",
    "    print(e)\n"
   ]
  },
  {
   "cell_type": "code",
   "execution_count": null,
   "id": "f04782c8",
   "metadata": {},
   "outputs": [],
   "source": []
  }
 ],
 "metadata": {
  "kernelspec": {
   "display_name": "Python 3 (ipykernel)",
   "language": "python",
   "name": "python3"
  },
  "language_info": {
   "codemirror_mode": {
    "name": "ipython",
    "version": 3
   },
   "file_extension": ".py",
   "mimetype": "text/x-python",
   "name": "python",
   "nbconvert_exporter": "python",
   "pygments_lexer": "ipython3",
   "version": "3.10.8"
  }
 },
 "nbformat": 4,
 "nbformat_minor": 5
}
