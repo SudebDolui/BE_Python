{
 "cells": [
  {
   "cell_type": "markdown",
   "id": "f019d211",
   "metadata": {},
   "source": [
    "# Data hiding"
   ]
  },
  {
   "cell_type": "code",
   "execution_count": 1,
   "id": "eadb0872",
   "metadata": {},
   "outputs": [],
   "source": [
    "class Hide:\n",
    "    a = 10\n",
    "    __b = 20"
   ]
  },
  {
   "cell_type": "code",
   "execution_count": 2,
   "id": "18bbc9be",
   "metadata": {},
   "outputs": [],
   "source": [
    "h1 = Hide()"
   ]
  },
  {
   "cell_type": "code",
   "execution_count": 3,
   "id": "c2f8ff1e",
   "metadata": {},
   "outputs": [
    {
     "data": {
      "text/plain": [
       "10"
      ]
     },
     "execution_count": 3,
     "metadata": {},
     "output_type": "execute_result"
    }
   ],
   "source": [
    "h1.a"
   ]
  },
  {
   "cell_type": "code",
   "execution_count": 4,
   "id": "d5e3d653",
   "metadata": {},
   "outputs": [
    {
     "ename": "AttributeError",
     "evalue": "'Hide' object has no attribute '__b'",
     "output_type": "error",
     "traceback": [
      "\u001b[1;31m---------------------------------------------------------------------------\u001b[0m",
      "\u001b[1;31mAttributeError\u001b[0m                            Traceback (most recent call last)",
      "Cell \u001b[1;32mIn [4], line 1\u001b[0m\n\u001b[1;32m----> 1\u001b[0m h1\u001b[38;5;241m.\u001b[39m__b\n",
      "\u001b[1;31mAttributeError\u001b[0m: 'Hide' object has no attribute '__b'"
     ]
    }
   ],
   "source": [
    "h1.__b"
   ]
  },
  {
   "cell_type": "code",
   "execution_count": 5,
   "id": "5d554bef",
   "metadata": {},
   "outputs": [],
   "source": [
    "# \"__variable\" is a hidden variable in python"
   ]
  },
  {
   "cell_type": "code",
   "execution_count": 6,
   "id": "c57fb9ba",
   "metadata": {},
   "outputs": [],
   "source": [
    "# How to get data of hidden variables"
   ]
  },
  {
   "cell_type": "code",
   "execution_count": 7,
   "id": "ce7ce125",
   "metadata": {},
   "outputs": [
    {
     "data": {
      "text/plain": [
       "20"
      ]
     },
     "execution_count": 7,
     "metadata": {},
     "output_type": "execute_result"
    }
   ],
   "source": [
    "h1._Hide__b"
   ]
  },
  {
   "cell_type": "code",
   "execution_count": 8,
   "id": "68c88201",
   "metadata": {},
   "outputs": [],
   "source": [
    "# Above is the first way of getting hidden variable data out of the class"
   ]
  },
  {
   "cell_type": "code",
   "execution_count": 9,
   "id": "fe27bd3d",
   "metadata": {},
   "outputs": [],
   "source": [
    "class Hello:\n",
    "    __pin = 1234\n",
    "    def demo(self):\n",
    "        print(self.__pin)"
   ]
  },
  {
   "cell_type": "code",
   "execution_count": 11,
   "id": "48345fc8",
   "metadata": {},
   "outputs": [
    {
     "name": "stdout",
     "output_type": "stream",
     "text": [
      "1234\n"
     ]
    }
   ],
   "source": [
    "h2 = Hello()\n",
    "h2.demo()"
   ]
  },
  {
   "cell_type": "code",
   "execution_count": 12,
   "id": "61b54816",
   "metadata": {},
   "outputs": [],
   "source": [
    "# Above is the Second way of getting the hidden data"
   ]
  },
  {
   "cell_type": "markdown",
   "id": "98f7cf9c",
   "metadata": {},
   "source": [
    "## Static functions or methods in python"
   ]
  },
  {
   "cell_type": "code",
   "execution_count": 23,
   "id": "ed90f9b0",
   "metadata": {},
   "outputs": [],
   "source": [
    "class Friday:\n",
    "    def demo(self):\n",
    "        print(\"I am in friday class\")\n",
    "    @staticmethod\n",
    "    def yogesh():\n",
    "        print(\"I am a function called without object\")\n",
    "    @staticmethod\n",
    "    def checkMyAge(age):\n",
    "        if age>30:\n",
    "            print(\"You are junior\")\n",
    "        else:\n",
    "            print(\"You are kid\")"
   ]
  },
  {
   "cell_type": "code",
   "execution_count": 24,
   "id": "89608023",
   "metadata": {
    "collapsed": true
   },
   "outputs": [
    {
     "ename": "TypeError",
     "evalue": "Friday.demo() missing 1 required positional argument: 'self'",
     "output_type": "error",
     "traceback": [
      "\u001b[1;31m---------------------------------------------------------------------------\u001b[0m",
      "\u001b[1;31mTypeError\u001b[0m                                 Traceback (most recent call last)",
      "Cell \u001b[1;32mIn [24], line 1\u001b[0m\n\u001b[1;32m----> 1\u001b[0m Friday\u001b[38;5;241m.\u001b[39mdemo()\n",
      "\u001b[1;31mTypeError\u001b[0m: Friday.demo() missing 1 required positional argument: 'self'"
     ]
    }
   ],
   "source": [
    "Friday.demo() #Compulsory we have to use the object to call function of the class"
   ]
  },
  {
   "cell_type": "code",
   "execution_count": 25,
   "id": "4bf0f24b",
   "metadata": {},
   "outputs": [],
   "source": [
    "f1 = Friday()"
   ]
  },
  {
   "cell_type": "code",
   "execution_count": 26,
   "id": "39c5b21b",
   "metadata": {},
   "outputs": [
    {
     "name": "stdout",
     "output_type": "stream",
     "text": [
      "I am in friday class\n"
     ]
    }
   ],
   "source": [
    "f1.demo()"
   ]
  },
  {
   "cell_type": "code",
   "execution_count": 27,
   "id": "3b93bfd2",
   "metadata": {},
   "outputs": [
    {
     "name": "stdout",
     "output_type": "stream",
     "text": [
      "I am a function called without object\n"
     ]
    }
   ],
   "source": [
    "Friday.yogesh()"
   ]
  },
  {
   "cell_type": "code",
   "execution_count": 28,
   "id": "22056ce7",
   "metadata": {},
   "outputs": [
    {
     "name": "stdout",
     "output_type": "stream",
     "text": [
      "You are kid\n"
     ]
    }
   ],
   "source": [
    "Friday.checkMyAge(24)"
   ]
  },
  {
   "cell_type": "markdown",
   "id": "c5486cba",
   "metadata": {},
   "source": [
    "## Class method in python"
   ]
  },
  {
   "cell_type": "code",
   "execution_count": 39,
   "id": "31a3b26e",
   "metadata": {},
   "outputs": [],
   "source": [
    "class Saturday:\n",
    "    salary = 70000\n",
    "    def demo(self, m):\n",
    "        salary = m\n",
    "        print(\"I am in Saturday class\", salary)\n",
    "    "
   ]
  },
  {
   "cell_type": "code",
   "execution_count": 40,
   "id": "c0d7c54f",
   "metadata": {},
   "outputs": [
    {
     "name": "stdout",
     "output_type": "stream",
     "text": [
      "I am in Saturday class 45\n"
     ]
    }
   ],
   "source": [
    "s1 = Saturday()\n",
    "s1.demo(45)"
   ]
  },
  {
   "cell_type": "code",
   "execution_count": 41,
   "id": "68857676",
   "metadata": {},
   "outputs": [
    {
     "data": {
      "text/plain": [
       "70000"
      ]
     },
     "execution_count": 41,
     "metadata": {},
     "output_type": "execute_result"
    }
   ],
   "source": [
    "s1.salary"
   ]
  },
  {
   "cell_type": "code",
   "execution_count": 42,
   "id": "b94d7989",
   "metadata": {},
   "outputs": [],
   "source": [
    "Saturday.demo_demo = classmethod(Saturday.demo)"
   ]
  },
  {
   "cell_type": "code",
   "execution_count": 43,
   "id": "f91eb94e",
   "metadata": {},
   "outputs": [
    {
     "name": "stdout",
     "output_type": "stream",
     "text": [
      "I am in Saturday class 45000\n"
     ]
    }
   ],
   "source": [
    "Saturday.demo_demo(45000)"
   ]
  },
  {
   "cell_type": "code",
   "execution_count": 44,
   "id": "7d392f95",
   "metadata": {},
   "outputs": [
    {
     "data": {
      "text/plain": [
       "70000"
      ]
     },
     "execution_count": 44,
     "metadata": {},
     "output_type": "execute_result"
    }
   ],
   "source": [
    "s1.salary"
   ]
  },
  {
   "cell_type": "code",
   "execution_count": 45,
   "id": "9bbba9e6",
   "metadata": {},
   "outputs": [],
   "source": [
    "from datetime import date\n",
    "class Person:\n",
    "    def __init__(self,age):\n",
    "        self.age = age\n",
    "    @classmethod\n",
    "    def computeAge(cls, year):\n",
    "        return cls(date.today().year-year)\n",
    "    def showAge(self):\n",
    "        print(self.age)"
   ]
  },
  {
   "cell_type": "code",
   "execution_count": 46,
   "id": "bfd4a641",
   "metadata": {},
   "outputs": [],
   "source": [
    "p1 = Person(35)\n"
   ]
  },
  {
   "cell_type": "code",
   "execution_count": 47,
   "id": "e7b59f81",
   "metadata": {},
   "outputs": [
    {
     "data": {
      "text/plain": [
       "35"
      ]
     },
     "execution_count": 47,
     "metadata": {},
     "output_type": "execute_result"
    }
   ],
   "source": [
    "p1.age"
   ]
  },
  {
   "cell_type": "code",
   "execution_count": 51,
   "id": "f4769123",
   "metadata": {},
   "outputs": [],
   "source": [
    "var = p1.computeAge(1990)"
   ]
  },
  {
   "cell_type": "code",
   "execution_count": 52,
   "id": "d27eda4a",
   "metadata": {},
   "outputs": [
    {
     "data": {
      "text/plain": [
       "35"
      ]
     },
     "execution_count": 52,
     "metadata": {},
     "output_type": "execute_result"
    }
   ],
   "source": [
    "p1.age"
   ]
  },
  {
   "cell_type": "code",
   "execution_count": 53,
   "id": "96940fca",
   "metadata": {},
   "outputs": [
    {
     "name": "stdout",
     "output_type": "stream",
     "text": [
      "32\n"
     ]
    }
   ],
   "source": [
    "var.showAge()"
   ]
  },
  {
   "cell_type": "code",
   "execution_count": 54,
   "id": "d5e488c4",
   "metadata": {},
   "outputs": [
    {
     "data": {
      "text/plain": [
       "35"
      ]
     },
     "execution_count": 54,
     "metadata": {},
     "output_type": "execute_result"
    }
   ],
   "source": [
    "p1.age"
   ]
  },
  {
   "cell_type": "code",
   "execution_count": 60,
   "id": "88078de6",
   "metadata": {},
   "outputs": [],
   "source": [
    "class Student:\n",
    "    company = \"MouriTech\"\n",
    "    def Sun(self,c):\n",
    "        self.company = c\n",
    "    @classmethod\n",
    "    def change_company(cls, c):\n",
    "        cls.company = c"
   ]
  },
  {
   "cell_type": "code",
   "execution_count": 61,
   "id": "eff60ddb",
   "metadata": {},
   "outputs": [],
   "source": [
    "s1 = Student()\n",
    "s2 = Student()"
   ]
  },
  {
   "cell_type": "code",
   "execution_count": 62,
   "id": "bdf74777",
   "metadata": {},
   "outputs": [
    {
     "data": {
      "text/plain": [
       "'MouriTech'"
      ]
     },
     "execution_count": 62,
     "metadata": {},
     "output_type": "execute_result"
    }
   ],
   "source": [
    "s1.company"
   ]
  },
  {
   "cell_type": "code",
   "execution_count": 63,
   "id": "2186017e",
   "metadata": {},
   "outputs": [
    {
     "data": {
      "text/plain": [
       "'MouriTech'"
      ]
     },
     "execution_count": 63,
     "metadata": {},
     "output_type": "execute_result"
    }
   ],
   "source": [
    "s2.company"
   ]
  },
  {
   "cell_type": "code",
   "execution_count": 64,
   "id": "619b90f9",
   "metadata": {},
   "outputs": [],
   "source": [
    "s1.Sun(\"TCS\")"
   ]
  },
  {
   "cell_type": "code",
   "execution_count": 65,
   "id": "427cf6b4",
   "metadata": {},
   "outputs": [
    {
     "data": {
      "text/plain": [
       "'TCS'"
      ]
     },
     "execution_count": 65,
     "metadata": {},
     "output_type": "execute_result"
    }
   ],
   "source": [
    "s1.company"
   ]
  },
  {
   "cell_type": "code",
   "execution_count": 66,
   "id": "1752394f",
   "metadata": {},
   "outputs": [
    {
     "data": {
      "text/plain": [
       "'MouriTech'"
      ]
     },
     "execution_count": 66,
     "metadata": {},
     "output_type": "execute_result"
    }
   ],
   "source": [
    "s2.company"
   ]
  },
  {
   "cell_type": "code",
   "execution_count": 67,
   "id": "6e113928",
   "metadata": {},
   "outputs": [],
   "source": [
    "s1.change_company(\"Capgemini\")"
   ]
  },
  {
   "cell_type": "code",
   "execution_count": 68,
   "id": "a02bced7",
   "metadata": {},
   "outputs": [
    {
     "data": {
      "text/plain": [
       "'TCS'"
      ]
     },
     "execution_count": 68,
     "metadata": {},
     "output_type": "execute_result"
    }
   ],
   "source": [
    "s1.company"
   ]
  },
  {
   "cell_type": "code",
   "execution_count": 69,
   "id": "e7511ffb",
   "metadata": {},
   "outputs": [
    {
     "data": {
      "text/plain": [
       "'Capgemini'"
      ]
     },
     "execution_count": 69,
     "metadata": {},
     "output_type": "execute_result"
    }
   ],
   "source": [
    "s2.company"
   ]
  },
  {
   "cell_type": "code",
   "execution_count": 70,
   "id": "7e3d4e20",
   "metadata": {},
   "outputs": [
    {
     "data": {
      "text/plain": [
       "'Capgemini'"
      ]
     },
     "execution_count": 70,
     "metadata": {},
     "output_type": "execute_result"
    }
   ],
   "source": [
    "s3 = Student()\n",
    "s3.company"
   ]
  },
  {
   "cell_type": "code",
   "execution_count": 81,
   "id": "0463cedc",
   "metadata": {},
   "outputs": [],
   "source": [
    "class Student:\n",
    "    company = \"MouriTech\"\n",
    "    def Sun(self,c):\n",
    "        self.company = c\n",
    "    @classmethod\n",
    "    def change_company(cls, c):\n",
    "        cls.company = c"
   ]
  },
  {
   "cell_type": "code",
   "execution_count": 82,
   "id": "f827542c",
   "metadata": {},
   "outputs": [],
   "source": [
    "s1 = Student()"
   ]
  },
  {
   "cell_type": "code",
   "execution_count": 83,
   "id": "26108bff",
   "metadata": {},
   "outputs": [],
   "source": [
    "s2 = Student()"
   ]
  },
  {
   "cell_type": "code",
   "execution_count": 84,
   "id": "becbcd8a",
   "metadata": {},
   "outputs": [
    {
     "data": {
      "text/plain": [
       "('MouriTech', 'MouriTech')"
      ]
     },
     "execution_count": 84,
     "metadata": {},
     "output_type": "execute_result"
    }
   ],
   "source": [
    "s1.company, s2.company"
   ]
  },
  {
   "cell_type": "code",
   "execution_count": 85,
   "id": "1e9cfddf",
   "metadata": {},
   "outputs": [],
   "source": [
    "s1.Sun(\"Google\")"
   ]
  },
  {
   "cell_type": "code",
   "execution_count": 86,
   "id": "c9e42a95",
   "metadata": {},
   "outputs": [
    {
     "data": {
      "text/plain": [
       "('Google', 'MouriTech')"
      ]
     },
     "execution_count": 86,
     "metadata": {},
     "output_type": "execute_result"
    }
   ],
   "source": [
    "s1.company, s2.company"
   ]
  },
  {
   "cell_type": "code",
   "execution_count": 87,
   "id": "abd0fe82",
   "metadata": {},
   "outputs": [],
   "source": [
    "s2.change_company(\"TCS\")"
   ]
  },
  {
   "cell_type": "code",
   "execution_count": 88,
   "id": "28cbfcb7",
   "metadata": {},
   "outputs": [
    {
     "data": {
      "text/plain": [
       "('Google', 'TCS')"
      ]
     },
     "execution_count": 88,
     "metadata": {},
     "output_type": "execute_result"
    }
   ],
   "source": [
    "s1.company, s2.company"
   ]
  },
  {
   "cell_type": "code",
   "execution_count": 89,
   "id": "1c81d113",
   "metadata": {},
   "outputs": [],
   "source": [
    "s3 = Student()"
   ]
  },
  {
   "cell_type": "code",
   "execution_count": 90,
   "id": "fa80e3f6",
   "metadata": {},
   "outputs": [
    {
     "data": {
      "text/plain": [
       "'TCS'"
      ]
     },
     "execution_count": 90,
     "metadata": {},
     "output_type": "execute_result"
    }
   ],
   "source": [
    "s3.company"
   ]
  },
  {
   "cell_type": "code",
   "execution_count": 91,
   "id": "10e46018",
   "metadata": {},
   "outputs": [],
   "source": [
    "#by using the class method we can modify state of the class"
   ]
  },
  {
   "cell_type": "code",
   "execution_count": 103,
   "id": "b3678713",
   "metadata": {},
   "outputs": [],
   "source": [
    "class Emp:\n",
    "    def __init__(self,age):\n",
    "        self.age = age\n",
    "  \n",
    "    @classmethod\n",
    "    def byBday(cls, year):\n",
    "        cls.age = 2022 - year\n",
    "  \n",
    "    def disp(self):\n",
    "        print(\"Emp Age : \", self.age)"
   ]
  },
  {
   "cell_type": "code",
   "execution_count": 106,
   "id": "318108ff",
   "metadata": {},
   "outputs": [],
   "source": [
    "emp1 = Emp(21)\n",
    "emp1 = emp1.byBday(1996)"
   ]
  },
  {
   "cell_type": "code",
   "execution_count": 107,
   "id": "987d2852",
   "metadata": {},
   "outputs": [
    {
     "ename": "AttributeError",
     "evalue": "'NoneType' object has no attribute 'age'",
     "output_type": "error",
     "traceback": [
      "\u001b[1;31m---------------------------------------------------------------------------\u001b[0m",
      "\u001b[1;31mAttributeError\u001b[0m                            Traceback (most recent call last)",
      "Cell \u001b[1;32mIn [107], line 1\u001b[0m\n\u001b[1;32m----> 1\u001b[0m emp1\u001b[38;5;241m.\u001b[39mage\n",
      "\u001b[1;31mAttributeError\u001b[0m: 'NoneType' object has no attribute 'age'"
     ]
    }
   ],
   "source": [
    "emp1.age"
   ]
  },
  {
   "cell_type": "code",
   "execution_count": 102,
   "id": "4fcfd744",
   "metadata": {},
   "outputs": [
    {
     "ename": "AttributeError",
     "evalue": "'NoneType' object has no attribute 'age'",
     "output_type": "error",
     "traceback": [
      "\u001b[1;31m---------------------------------------------------------------------------\u001b[0m",
      "\u001b[1;31mAttributeError\u001b[0m                            Traceback (most recent call last)",
      "Cell \u001b[1;32mIn [102], line 1\u001b[0m\n\u001b[1;32m----> 1\u001b[0m emp2\u001b[38;5;241m.\u001b[39mage\n",
      "\u001b[1;31mAttributeError\u001b[0m: 'NoneType' object has no attribute 'age'"
     ]
    }
   ],
   "source": []
  },
  {
   "cell_type": "code",
   "execution_count": 108,
   "id": "e3091dba",
   "metadata": {},
   "outputs": [],
   "source": [
    "class MessCard:\n",
    "    balance = 5000\n",
    "    def eatBreakfast(self):\n",
    "        self.balance -= 50\n",
    "    def eatLunch(self):\n",
    "        self.balance -= 150"
   ]
  },
  {
   "cell_type": "code",
   "execution_count": 109,
   "id": "c1e2c89c",
   "metadata": {},
   "outputs": [],
   "source": [
    "yogesh = MessCard()"
   ]
  },
  {
   "cell_type": "code",
   "execution_count": 110,
   "id": "b3990ce7",
   "metadata": {},
   "outputs": [],
   "source": [
    "abhishek = MessCard()"
   ]
  },
  {
   "cell_type": "code",
   "execution_count": 111,
   "id": "c9bc0833",
   "metadata": {},
   "outputs": [],
   "source": [
    "yogesh.eatLunch()"
   ]
  },
  {
   "cell_type": "code",
   "execution_count": 112,
   "id": "4ef1cdc8",
   "metadata": {},
   "outputs": [
    {
     "data": {
      "text/plain": [
       "4850"
      ]
     },
     "execution_count": 112,
     "metadata": {},
     "output_type": "execute_result"
    }
   ],
   "source": [
    "yogesh.balance"
   ]
  },
  {
   "cell_type": "code",
   "execution_count": 113,
   "id": "d68b7cab",
   "metadata": {},
   "outputs": [
    {
     "data": {
      "text/plain": [
       "5000"
      ]
     },
     "execution_count": 113,
     "metadata": {},
     "output_type": "execute_result"
    }
   ],
   "source": [
    "abhishek.balance"
   ]
  },
  {
   "cell_type": "code",
   "execution_count": 114,
   "id": "9190701a",
   "metadata": {},
   "outputs": [],
   "source": [
    "class MessCard:\n",
    "    balance = 5000\n",
    "    def eatBreakfast(self):\n",
    "        MessCard.balance -= 50\n",
    "    def eatLunch(self):\n",
    "        MessCard.balance -= 150"
   ]
  },
  {
   "cell_type": "code",
   "execution_count": 115,
   "id": "242c4501",
   "metadata": {},
   "outputs": [],
   "source": [
    "aditya = MessCard()\n",
    "Ramya = MessCard()"
   ]
  },
  {
   "cell_type": "code",
   "execution_count": 116,
   "id": "01ea0b8d",
   "metadata": {},
   "outputs": [],
   "source": [
    "aditya.eatLunch()"
   ]
  },
  {
   "cell_type": "code",
   "execution_count": 117,
   "id": "623b3862",
   "metadata": {},
   "outputs": [
    {
     "data": {
      "text/plain": [
       "4850"
      ]
     },
     "execution_count": 117,
     "metadata": {},
     "output_type": "execute_result"
    }
   ],
   "source": [
    "aditya.balance"
   ]
  },
  {
   "cell_type": "code",
   "execution_count": 118,
   "id": "192e3920",
   "metadata": {},
   "outputs": [
    {
     "data": {
      "text/plain": [
       "4850"
      ]
     },
     "execution_count": 118,
     "metadata": {},
     "output_type": "execute_result"
    }
   ],
   "source": [
    "Ramya.balance"
   ]
  },
  {
   "cell_type": "code",
   "execution_count": 120,
   "id": "25f11ecb",
   "metadata": {},
   "outputs": [],
   "source": [
    "Ramya.eatBreakfast()"
   ]
  },
  {
   "cell_type": "code",
   "execution_count": 121,
   "id": "c29e5939",
   "metadata": {},
   "outputs": [
    {
     "data": {
      "text/plain": [
       "4800"
      ]
     },
     "execution_count": 121,
     "metadata": {},
     "output_type": "execute_result"
    }
   ],
   "source": [
    "Ramya.balance"
   ]
  },
  {
   "cell_type": "code",
   "execution_count": 122,
   "id": "8e13efe4",
   "metadata": {},
   "outputs": [],
   "source": [
    "pooja = MessCard()"
   ]
  },
  {
   "cell_type": "code",
   "execution_count": 123,
   "id": "0ec6ae71",
   "metadata": {},
   "outputs": [
    {
     "data": {
      "text/plain": [
       "4800"
      ]
     },
     "execution_count": 123,
     "metadata": {},
     "output_type": "execute_result"
    }
   ],
   "source": [
    "pooja.balance"
   ]
  },
  {
   "cell_type": "markdown",
   "id": "ee9cc47b",
   "metadata": {},
   "source": [
    "- Data Hiding\n",
    "- static method \n",
    "- class method\n",
    "- class variables"
   ]
  },
  {
   "cell_type": "markdown",
   "id": "48fae4b7",
   "metadata": {},
   "source": [
    "## Inheritance in Python"
   ]
  },
  {
   "cell_type": "code",
   "execution_count": 124,
   "id": "7987821c",
   "metadata": {},
   "outputs": [],
   "source": [
    "class A:\n",
    "    def f1(self):\n",
    "        print(\"I am in class A\")\n",
    "\n",
    "class B:\n",
    "    def f2(self):\n",
    "        print(\"I am in class B\")"
   ]
  },
  {
   "cell_type": "code",
   "execution_count": 125,
   "id": "13cbfa47",
   "metadata": {},
   "outputs": [
    {
     "name": "stdout",
     "output_type": "stream",
     "text": [
      "I am in class A\n",
      "I am in class B\n"
     ]
    }
   ],
   "source": [
    "a1 = A()\n",
    "b1 = B()\n",
    "a1.f1()\n",
    "b1.f2()"
   ]
  },
  {
   "cell_type": "code",
   "execution_count": 130,
   "id": "3b5bf77c",
   "metadata": {},
   "outputs": [],
   "source": [
    "class F:\n",
    "    def f3(self):\n",
    "        print(\"I am in class F\")\n",
    "\n",
    "class G:\n",
    "    def f4(self):\n",
    "        print(\"I am in class G\")\n",
    "class C:\n",
    "    def f1(self):\n",
    "        print(\"I am in class C\")\n",
    "\n",
    "class D(C,F,G): # Multiple inheritance\n",
    "    def f2(self):\n",
    "        print(\"I am in class D\")"
   ]
  },
  {
   "cell_type": "code",
   "execution_count": 131,
   "id": "f5ab6923",
   "metadata": {},
   "outputs": [],
   "source": [
    "d1 = D()"
   ]
  },
  {
   "cell_type": "code",
   "execution_count": 132,
   "id": "8a91693c",
   "metadata": {},
   "outputs": [
    {
     "name": "stdout",
     "output_type": "stream",
     "text": [
      "I am in class C\n"
     ]
    }
   ],
   "source": [
    "d1.f1()"
   ]
  },
  {
   "cell_type": "code",
   "execution_count": 129,
   "id": "4bd44fbd",
   "metadata": {},
   "outputs": [
    {
     "name": "stdout",
     "output_type": "stream",
     "text": [
      "I am in class D\n"
     ]
    }
   ],
   "source": [
    "d1."
   ]
  },
  {
   "cell_type": "code",
   "execution_count": 133,
   "id": "db03949e",
   "metadata": {},
   "outputs": [],
   "source": [
    "class Programmer:\n",
    "    companyName = \"MouriTech\"\n",
    "    def coding(self):\n",
    "        print(\"I like coding\")\n",
    "class Dancer:\n",
    "    groupName = \"MouriTech\"\n",
    "    def dancing(self):\n",
    "        print(\"I like Dancing\")\n",
    "class Singer:\n",
    "    bandName = \"MouriTech\"\n",
    "    def singing(self):\n",
    "        print(\"I like singing\")\n",
    "    def playingGuitar(self):\n",
    "        print(\"I like playing guitar\")\n"
   ]
  },
  {
   "cell_type": "code",
   "execution_count": 134,
   "id": "36e4275e",
   "metadata": {},
   "outputs": [],
   "source": [
    "class Person(Programmer, Dancer, Singer):\n",
    "    def learn(self):\n",
    "        pass\n",
    "    def walk(self):\n",
    "        pass\n",
    "    def eat(self):\n",
    "        pass"
   ]
  },
  {
   "cell_type": "code",
   "execution_count": 135,
   "id": "42df8837",
   "metadata": {},
   "outputs": [
    {
     "data": {
      "text/plain": [
       "'MouriTech'"
      ]
     },
     "execution_count": 135,
     "metadata": {},
     "output_type": "execute_result"
    }
   ],
   "source": [
    "p1 = Person()\n",
    "p1.bandName"
   ]
  },
  {
   "cell_type": "code",
   "execution_count": 136,
   "id": "767b82aa",
   "metadata": {},
   "outputs": [],
   "source": [
    "class Mirage:\n",
    "    def fighter1(self):\n",
    "        print(\"This is fighetr1\")\n",
    "    \n",
    "class Rafale:\n",
    "    def fighter2(self):\n",
    "        print(\"This is fighetr2\")\n",
    "class Fighters(Mirage, Rafale):\n",
    "    def fighterPlanes(self):\n",
    "        print(\"These are fighetr planes\")\n",
    "\n",
    "    \n",
    "class Airbus:\n",
    "    def civil1(self):\n",
    "        print(\"This is civil1\")\n",
    "        \n",
    "class Boeing:\n",
    "    def civil2(self):\n",
    "        print(\"This is civil2\")\n",
    "        \n",
    "class Civilian(Airbus, Boeing):\n",
    "    def civilianPlanes(self):\n",
    "        print(\"These are civilian planes\")\n",
    "        \n",
    "class Aircraft(Fighters, Civilian):\n",
    "    def allAircrafts(self):\n",
    "        print(\"This is aircraft\")"
   ]
  },
  {
   "cell_type": "code",
   "execution_count": 137,
   "id": "dddc69b0",
   "metadata": {},
   "outputs": [],
   "source": [
    "ac = Aircraft()"
   ]
  },
  {
   "cell_type": "code",
   "execution_count": 139,
   "id": "f4171052",
   "metadata": {},
   "outputs": [
    {
     "name": "stdout",
     "output_type": "stream",
     "text": [
      "This is fighetr2\n"
     ]
    }
   ],
   "source": [
    "ac.fighter2()"
   ]
  },
  {
   "cell_type": "code",
   "execution_count": 140,
   "id": "6225b541",
   "metadata": {},
   "outputs": [],
   "source": [
    "class Vehicle():\n",
    "    def fuleAmount(self):\n",
    "        print(\"I like fuelamount\")\n",
    "    def capacity(self):\n",
    "        print(\"I like capacity\")\n",
    "    def applyBreaks(self):\n",
    "        print(\"I like aplybreaks\")\n",
    "class Bus(Vehicle):\n",
    "    companyName=\"AshokLeyland\"\n",
    "    def sleeper(self):\n",
    "        print(\"I like sleeper bus\")\n",
    "class Truck(Vehicle):\n",
    "    groupName=\"Volvo\"\n",
    "    def opentruck(self):\n",
    "        print(\"I like truck\")\n",
    "class Car(Vehicle):\n",
    "    bandName=\"Tata\"\n",
    "    def suv(self):\n",
    "        print(\"I like suv\")\n",
    "    def sedan(self):\n",
    "        print(\"I like sedan\")\n",
    "\n",
    "\n",
    "\n",
    "class Punch(Car):\n",
    "    make= 'Tata'\n",
    "    def engine(self):\n",
    "        print(\"1299cc\")\n",
    "    def seating(self):\n",
    "        print(\"5 seater\")"
   ]
  },
  {
   "cell_type": "markdown",
   "id": "a7f308e3",
   "metadata": {},
   "source": [
    "## Method overriding or function overriding"
   ]
  },
  {
   "cell_type": "code",
   "execution_count": 165,
   "id": "39eeb225",
   "metadata": {},
   "outputs": [],
   "source": [
    "class Yogesh:\n",
    "    def f1(self):\n",
    "        print(\"I am in Yogesh class\")\n",
    "        super().f1()\n",
    "class Soniya:\n",
    "    def f1(self):\n",
    "        \n",
    "        print(\"I am in Soniya class\")\n",
    "class MouriTech(Yogesh,Soniya):\n",
    "    pass"
   ]
  },
  {
   "cell_type": "code",
   "execution_count": 166,
   "id": "02136e6a",
   "metadata": {},
   "outputs": [],
   "source": [
    "m1 = MouriTech()"
   ]
  },
  {
   "cell_type": "code",
   "execution_count": 167,
   "id": "d31d4aa4",
   "metadata": {},
   "outputs": [
    {
     "name": "stdout",
     "output_type": "stream",
     "text": [
      "I am in Yogesh class\n",
      "I am in Soniya class\n"
     ]
    }
   ],
   "source": [
    "m1.f1() # we will get output in the sequence we provide for inheritance"
   ]
  },
  {
   "cell_type": "code",
   "execution_count": 168,
   "id": "58cf35d0",
   "metadata": {},
   "outputs": [],
   "source": [
    "class Last:\n",
    "    a = 100"
   ]
  },
  {
   "cell_type": "code",
   "execution_count": 169,
   "id": "a9458c5d",
   "metadata": {},
   "outputs": [],
   "source": [
    "l1 = Last()"
   ]
  },
  {
   "cell_type": "code",
   "execution_count": 170,
   "id": "fc8f2f4f",
   "metadata": {},
   "outputs": [
    {
     "data": {
      "text/plain": [
       "100"
      ]
     },
     "execution_count": 170,
     "metadata": {},
     "output_type": "execute_result"
    }
   ],
   "source": [
    "l1.a"
   ]
  },
  {
   "cell_type": "code",
   "execution_count": 171,
   "id": "3bbb9d18",
   "metadata": {},
   "outputs": [
    {
     "data": {
      "text/plain": [
       "100"
      ]
     },
     "execution_count": 171,
     "metadata": {},
     "output_type": "execute_result"
    }
   ],
   "source": [
    "getattr(l1,\"a\")"
   ]
  },
  {
   "cell_type": "code",
   "execution_count": 172,
   "id": "ef08ecf7",
   "metadata": {},
   "outputs": [],
   "source": [
    "l1.a = 200"
   ]
  },
  {
   "cell_type": "code",
   "execution_count": 173,
   "id": "eb75d9c7",
   "metadata": {},
   "outputs": [
    {
     "data": {
      "text/plain": [
       "200"
      ]
     },
     "execution_count": 173,
     "metadata": {},
     "output_type": "execute_result"
    }
   ],
   "source": [
    "l1.a"
   ]
  },
  {
   "cell_type": "code",
   "execution_count": 174,
   "id": "dc79ced8",
   "metadata": {},
   "outputs": [],
   "source": [
    "setattr(l1, \"a\", 500)"
   ]
  },
  {
   "cell_type": "code",
   "execution_count": 175,
   "id": "57becfeb",
   "metadata": {},
   "outputs": [
    {
     "data": {
      "text/plain": [
       "500"
      ]
     },
     "execution_count": 175,
     "metadata": {},
     "output_type": "execute_result"
    }
   ],
   "source": [
    "l1.a"
   ]
  },
  {
   "cell_type": "code",
   "execution_count": 176,
   "id": "b8e13e76",
   "metadata": {},
   "outputs": [],
   "source": [
    "class MobilePhones():\n",
    "    def fun1(self):\n",
    "        print(\"This function for MobilePhones .\")\n",
    "        \n",
    "    \n",
    "class CordPhones():\n",
    "    def fun2(self):\n",
    "        print(\"This function for CordPhones.\")\n",
    "        \n",
    "class Phones(MobilePhones,CordPhones):\n",
    "    def fun3(self):\n",
    "        print(\"This function for Phones. \")\n",
    "        \n",
    "class Earplugs():\n",
    "    def fun4(self):\n",
    "        print(\"This function for Earplugs.\")\n",
    "        \n",
    "class Stereos():\n",
    "    def fun5(self):\n",
    "        print(\"This function is in student 3.\")\n",
    "               \n",
    "class SoundSystem(Earplugs,Stereos):\n",
    "    def fun6(self):\n",
    "        print(\"This function SoundSystems.\")\n",
    "        \n",
    "class ElectronicItem(Phones,SoundSystem):\n",
    "    def fun7(self):\n",
    "        print(\"This function for electronic iteams.\")"
   ]
  },
  {
   "cell_type": "code",
   "execution_count": 177,
   "id": "ffcfafbf",
   "metadata": {},
   "outputs": [],
   "source": [
    "e1 = ElectronicItem()"
   ]
  },
  {
   "cell_type": "code",
   "execution_count": 181,
   "id": "d2540b35",
   "metadata": {},
   "outputs": [
    {
     "name": "stdout",
     "output_type": "stream",
     "text": [
      "This function for MobilePhones .\n",
      "This function for CordPhones.\n",
      "This function for Phones. \n",
      "This function for Earplugs.\n",
      "This function is in student 3.\n",
      "This function SoundSystems.\n",
      "This function for electronic iteams.\n"
     ]
    }
   ],
   "source": [
    "e1.fun1()\n",
    "e1.fun2()\n",
    "e1.fun3()\n",
    "e1.fun4()\n",
    "e1.fun5()\n",
    "e1.fun6()\n",
    "e1.fun7()"
   ]
  },
  {
   "cell_type": "code",
   "execution_count": null,
   "id": "fbec462d",
   "metadata": {},
   "outputs": [],
   "source": []
  }
 ],
 "metadata": {
  "kernelspec": {
   "display_name": "Python 3 (ipykernel)",
   "language": "python",
   "name": "python3"
  },
  "language_info": {
   "codemirror_mode": {
    "name": "ipython",
    "version": 3
   },
   "file_extension": ".py",
   "mimetype": "text/x-python",
   "name": "python",
   "nbconvert_exporter": "python",
   "pygments_lexer": "ipython3",
   "version": "3.10.6"
  }
 },
 "nbformat": 4,
 "nbformat_minor": 5
}
