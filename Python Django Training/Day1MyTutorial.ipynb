{
 "cells": [
  {
   "cell_type": "markdown",
   "id": "7b8dd65b",
   "metadata": {},
   "source": [
    "# Introduction\n",
    "\n",
    "## Benefits and Comparison:\n",
    "\n",
    "### Size of Integer in Java - 4 Bytes\n",
    "### Size of Integer in C - No guess based on compiler\n",
    "### Size of Integer in Python - Depends on user input\n",
    "### Pyhton --- Big Data, AI, DS\n",
    "### In year 1993 Creator Guido Van Rossum developed it but from year 2011 python became popular\n",
    "### Python is combination of (C, C++, Java, Perl, ....)\n",
    "### It is an open source under (GNU GPL)\n",
    "### Softwares: IDLE, Anaconda, Py Charm IDE, VS Code, Google Colab - online, etc\n",
    "### Python Uses Interpreter\n",
    "### .py is the extension of python"
   ]
  },
  {
   "cell_type": "markdown",
   "id": "c0dbb9c9",
   "metadata": {},
   "source": [
    "# This is a level 1 heading"
   ]
  },
  {
   "cell_type": "code",
   "execution_count": 1,
   "id": "a558d917",
   "metadata": {},
   "outputs": [],
   "source": [
    "#This is a comment line"
   ]
  },
  {
   "cell_type": "code",
   "execution_count": 2,
   "id": "21b00883",
   "metadata": {},
   "outputs": [
    {
     "data": {
      "text/plain": [
       "51116"
      ]
     },
     "execution_count": 2,
     "metadata": {},
     "output_type": "execute_result"
    }
   ],
   "source": [
    "5+51111"
   ]
  },
  {
   "cell_type": "code",
   "execution_count": 3,
   "id": "f1049fd5",
   "metadata": {},
   "outputs": [
    {
     "data": {
      "text/plain": [
       "'Hello Good Morning'"
      ]
     },
     "execution_count": 3,
     "metadata": {},
     "output_type": "execute_result"
    }
   ],
   "source": [
    "'Hello Good Morning'"
   ]
  },
  {
   "cell_type": "code",
   "execution_count": 4,
   "id": "75eb7d30-db17-487f-af3e-b6b6af78db14",
   "metadata": {},
   "outputs": [
    {
     "data": {
      "text/plain": [
       "'Hello Good Morning'"
      ]
     },
     "execution_count": 4,
     "metadata": {},
     "output_type": "execute_result"
    }
   ],
   "source": [
    "\"Hello Good Morning\"\n"
   ]
  },
  {
   "cell_type": "code",
   "execution_count": 5,
   "id": "0c612124-d2d9-4944-80be-2ef5646546fe",
   "metadata": {},
   "outputs": [
    {
     "data": {
      "text/plain": [
       "'Hello Good Morning'"
      ]
     },
     "execution_count": 5,
     "metadata": {},
     "output_type": "execute_result"
    }
   ],
   "source": [
    "\"\"\"Hello Good Morning\"\"\""
   ]
  },
  {
   "cell_type": "code",
   "execution_count": 6,
   "id": "b6f4fd9d-ef49-490f-8748-904d1a217f06",
   "metadata": {},
   "outputs": [],
   "source": [
    "# Hello this is comment"
   ]
  },
  {
   "cell_type": "markdown",
   "id": "f2c22a36-6a21-4d48-9d03-83d7ef65ff2f",
   "metadata": {
    "tags": []
   },
   "source": [
    "# Heading"
   ]
  },
  {
   "cell_type": "markdown",
   "id": "833fb61b",
   "metadata": {},
   "source": [
    "### Basic Opertaions:\n",
    "   - % Reminder\n",
    "   - / True Division\n",
    "   - // Floor Division"
   ]
  },
  {
   "cell_type": "code",
   "execution_count": 1,
   "id": "39f7e6ff-9617-4772-96d9-97274ec79c24",
   "metadata": {},
   "outputs": [
    {
     "data": {
      "text/plain": [
       "1.3333333333333333"
      ]
     },
     "execution_count": 1,
     "metadata": {},
     "output_type": "execute_result"
    }
   ],
   "source": [
    "8/6 # True Value"
   ]
  },
  {
   "cell_type": "code",
   "execution_count": 2,
   "id": "eae97aa0",
   "metadata": {},
   "outputs": [
    {
     "data": {
      "text/plain": [
       "1"
      ]
     },
     "execution_count": 2,
     "metadata": {},
     "output_type": "execute_result"
    }
   ],
   "source": [
    "8//6 # Floor Value"
   ]
  },
  {
   "cell_type": "code",
   "execution_count": 3,
   "id": "72ee1d91",
   "metadata": {},
   "outputs": [
    {
     "data": {
      "text/plain": [
       "9"
      ]
     },
     "execution_count": 3,
     "metadata": {},
     "output_type": "execute_result"
    }
   ],
   "source": [
    "9%99"
   ]
  },
  {
   "cell_type": "code",
   "execution_count": 5,
   "id": "79b22bc2",
   "metadata": {},
   "outputs": [
    {
     "ename": "TypeError",
     "evalue": "can only concatenate str (not \"int\") to str",
     "output_type": "error",
     "traceback": [
      "\u001b[1;31m---------------------------------------------------------------------------\u001b[0m",
      "\u001b[1;31mTypeError\u001b[0m                                 Traceback (most recent call last)",
      "Cell \u001b[1;32mIn [5], line 1\u001b[0m\n\u001b[1;32m----> 1\u001b[0m \u001b[38;5;124;43m\"\u001b[39;49m\u001b[38;5;124;43mdata\u001b[39;49m\u001b[38;5;124;43m\"\u001b[39;49m\u001b[43m \u001b[49m\u001b[38;5;241;43m+\u001b[39;49m\u001b[43m \u001b[49m\u001b[38;5;241;43m50\u001b[39;49m\n",
      "\u001b[1;31mTypeError\u001b[0m: can only concatenate str (not \"int\") to str"
     ]
    }
   ],
   "source": [
    "\"data\" + 50"
   ]
  },
  {
   "cell_type": "code",
   "execution_count": 6,
   "id": "b316eaa7",
   "metadata": {},
   "outputs": [
    {
     "data": {
      "text/plain": [
       "'data50'"
      ]
     },
     "execution_count": 6,
     "metadata": {},
     "output_type": "execute_result"
    }
   ],
   "source": [
    "\"data\" + str(50)"
   ]
  },
  {
   "cell_type": "code",
   "execution_count": 7,
   "id": "507d68b4",
   "metadata": {},
   "outputs": [
    {
     "data": {
      "text/plain": [
       "'data50'"
      ]
     },
     "execution_count": 7,
     "metadata": {},
     "output_type": "execute_result"
    }
   ],
   "source": [
    "\"data\" + \"50\""
   ]
  },
  {
   "cell_type": "code",
   "execution_count": 8,
   "id": "4740cfdc",
   "metadata": {},
   "outputs": [
    {
     "data": {
      "text/plain": [
       "'datadatadatadatadatadatadatadatadatadata'"
      ]
     },
     "execution_count": 8,
     "metadata": {},
     "output_type": "execute_result"
    }
   ],
   "source": [
    "\"data\" * 10"
   ]
  },
  {
   "cell_type": "code",
   "execution_count": 9,
   "id": "376fe1eb",
   "metadata": {},
   "outputs": [
    {
     "data": {
      "text/plain": [
       "'data\\ndata\\ndata\\ndata\\ndata\\ndata\\ndata\\ndata\\ndata\\ndata\\n'"
      ]
     },
     "execution_count": 9,
     "metadata": {},
     "output_type": "execute_result"
    }
   ],
   "source": [
    "\"data\\n\"*10"
   ]
  },
  {
   "cell_type": "code",
   "execution_count": 10,
   "id": "92ec8fbf",
   "metadata": {},
   "outputs": [
    {
     "name": "stdout",
     "output_type": "stream",
     "text": [
      "data\n",
      "data\n",
      "data\n",
      "data\n",
      "data\n",
      "data\n",
      "data\n",
      "data\n",
      "data\n",
      "data\n",
      "\n"
     ]
    }
   ],
   "source": [
    "print(\"data\\n\"*10)"
   ]
  },
  {
   "cell_type": "markdown",
   "id": "57b2f36b",
   "metadata": {},
   "source": [
    "- ### len, type, int, str, ..."
   ]
  },
  {
   "cell_type": "code",
   "execution_count": 1,
   "id": "2e9dacca",
   "metadata": {},
   "outputs": [
    {
     "name": "stdout",
     "output_type": "stream",
     "text": [
      "['ArithmeticError', 'AssertionError', 'AttributeError', 'BaseException', 'BlockingIOError', 'BrokenPipeError', 'BufferError', 'BytesWarning', 'ChildProcessError', 'ConnectionAbortedError', 'ConnectionError', 'ConnectionRefusedError', 'ConnectionResetError', 'DeprecationWarning', 'EOFError', 'Ellipsis', 'EncodingWarning', 'EnvironmentError', 'Exception', 'False', 'FileExistsError', 'FileNotFoundError', 'FloatingPointError', 'FutureWarning', 'GeneratorExit', 'IOError', 'ImportError', 'ImportWarning', 'IndentationError', 'IndexError', 'InterruptedError', 'IsADirectoryError', 'KeyError', 'KeyboardInterrupt', 'LookupError', 'MemoryError', 'ModuleNotFoundError', 'NameError', 'None', 'NotADirectoryError', 'NotImplemented', 'NotImplementedError', 'OSError', 'OverflowError', 'PendingDeprecationWarning', 'PermissionError', 'ProcessLookupError', 'RecursionError', 'ReferenceError', 'ResourceWarning', 'RuntimeError', 'RuntimeWarning', 'StopAsyncIteration', 'StopIteration', 'SyntaxError', 'SyntaxWarning', 'SystemError', 'SystemExit', 'TabError', 'TimeoutError', 'True', 'TypeError', 'UnboundLocalError', 'UnicodeDecodeError', 'UnicodeEncodeError', 'UnicodeError', 'UnicodeTranslateError', 'UnicodeWarning', 'UserWarning', 'ValueError', 'Warning', 'WindowsError', 'ZeroDivisionError', '__IPYTHON__', '__build_class__', '__debug__', '__doc__', '__import__', '__loader__', '__name__', '__package__', '__spec__', 'abs', 'aiter', 'all', 'anext', 'any', 'ascii', 'bin', 'bool', 'breakpoint', 'bytearray', 'bytes', 'callable', 'chr', 'classmethod', 'compile', 'complex', 'copyright', 'credits', 'delattr', 'dict', 'dir', 'display', 'divmod', 'enumerate', 'eval', 'exec', 'execfile', 'filter', 'float', 'format', 'frozenset', 'get_ipython', 'getattr', 'globals', 'hasattr', 'hash', 'help', 'hex', 'id', 'input', 'int', 'isinstance', 'issubclass', 'iter', 'len', 'license', 'list', 'locals', 'map', 'max', 'memoryview', 'min', 'next', 'object', 'oct', 'open', 'ord', 'pow', 'print', 'property', 'range', 'repr', 'reversed', 'round', 'runfile', 'set', 'setattr', 'slice', 'sorted', 'staticmethod', 'str', 'sum', 'super', 'tuple', 'type', 'vars', 'zip']\n"
     ]
    }
   ],
   "source": [
    "print(dir(__builtins__))"
   ]
  },
  {
   "cell_type": "markdown",
   "id": "08db135c",
   "metadata": {},
   "source": [
    "- Use shift+tab key to see the documentation and use tab to get recomendation"
   ]
  },
  {
   "cell_type": "code",
   "execution_count": 14,
   "id": "372cb418",
   "metadata": {},
   "outputs": [
    {
     "data": {
      "text/plain": [
       "'0b111110100'"
      ]
     },
     "execution_count": 14,
     "metadata": {},
     "output_type": "execute_result"
    }
   ],
   "source": [
    "bin(500)"
   ]
  },
  {
   "cell_type": "code",
   "execution_count": 15,
   "id": "03755ade",
   "metadata": {},
   "outputs": [
    {
     "data": {
      "text/plain": [
       "'0x1f4'"
      ]
     },
     "execution_count": 15,
     "metadata": {},
     "output_type": "execute_result"
    }
   ],
   "source": [
    "hex(500)"
   ]
  },
  {
   "cell_type": "code",
   "execution_count": 16,
   "id": "a9c112f0",
   "metadata": {},
   "outputs": [
    {
     "data": {
      "text/plain": [
       "'0o764'"
      ]
     },
     "execution_count": 16,
     "metadata": {},
     "output_type": "execute_result"
    }
   ],
   "source": [
    "oct(500)"
   ]
  },
  {
   "cell_type": "code",
   "execution_count": 17,
   "id": "24a1994b",
   "metadata": {},
   "outputs": [
    {
     "name": "stdout",
     "output_type": "stream",
     "text": [
      "Help on built-in function id in module builtins:\n",
      "\n",
      "id(obj, /)\n",
      "    Return the identity of an object.\n",
      "    \n",
      "    This is guaranteed to be unique among simultaneously existing objects.\n",
      "    (CPython uses the object's memory address.)\n",
      "\n"
     ]
    }
   ],
   "source": [
    "help(id)"
   ]
  },
  {
   "cell_type": "code",
   "execution_count": 18,
   "id": "c7053155",
   "metadata": {},
   "outputs": [
    {
     "data": {
      "text/plain": [
       "1472628872176"
      ]
     },
     "execution_count": 18,
     "metadata": {},
     "output_type": "execute_result"
    }
   ],
   "source": [
    "id(\"Name\")"
   ]
  },
  {
   "cell_type": "code",
   "execution_count": 19,
   "id": "d21a0b74",
   "metadata": {},
   "outputs": [
    {
     "data": {
      "text/plain": [
       "1472621972816"
      ]
     },
     "execution_count": 19,
     "metadata": {},
     "output_type": "execute_result"
    }
   ],
   "source": [
    "id(100)"
   ]
  },
  {
   "cell_type": "code",
   "execution_count": 20,
   "id": "66be83d5",
   "metadata": {},
   "outputs": [],
   "source": [
    "a=100\n",
    "b=a"
   ]
  },
  {
   "cell_type": "code",
   "execution_count": 21,
   "id": "7ae4c2bb",
   "metadata": {},
   "outputs": [
    {
     "data": {
      "text/plain": [
       "1472621972816"
      ]
     },
     "execution_count": 21,
     "metadata": {},
     "output_type": "execute_result"
    }
   ],
   "source": [
    "id(a)"
   ]
  },
  {
   "cell_type": "code",
   "execution_count": 22,
   "id": "f3c6afe1",
   "metadata": {},
   "outputs": [
    {
     "data": {
      "text/plain": [
       "1472621972816"
      ]
     },
     "execution_count": 22,
     "metadata": {},
     "output_type": "execute_result"
    }
   ],
   "source": [
    "id(b)"
   ]
  },
  {
   "cell_type": "code",
   "execution_count": 25,
   "id": "a89ccf13",
   "metadata": {},
   "outputs": [
    {
     "name": "stdout",
     "output_type": "stream",
     "text": [
      "Help on built-in function bin in module builtins:\n",
      "\n",
      "bin(number, /)\n",
      "    Return the binary representation of an integer.\n",
      "    \n",
      "    >>> bin(2796202)\n",
      "    '0b1010101010101010101010'\n",
      "\n"
     ]
    }
   ],
   "source": [
    "help(bin)"
   ]
  },
  {
   "cell_type": "code",
   "execution_count": 26,
   "id": "d1320e2f",
   "metadata": {},
   "outputs": [
    {
     "name": "stdout",
     "output_type": "stream",
     "text": [
      "Help on class slice in module builtins:\n",
      "\n",
      "class slice(object)\n",
      " |  slice(stop)\n",
      " |  slice(start, stop[, step])\n",
      " |  \n",
      " |  Create a slice object.  This is used for extended slicing (e.g. a[0:10:2]).\n",
      " |  \n",
      " |  Methods defined here:\n",
      " |  \n",
      " |  __eq__(self, value, /)\n",
      " |      Return self==value.\n",
      " |  \n",
      " |  __ge__(self, value, /)\n",
      " |      Return self>=value.\n",
      " |  \n",
      " |  __getattribute__(self, name, /)\n",
      " |      Return getattr(self, name).\n",
      " |  \n",
      " |  __gt__(self, value, /)\n",
      " |      Return self>value.\n",
      " |  \n",
      " |  __le__(self, value, /)\n",
      " |      Return self<=value.\n",
      " |  \n",
      " |  __lt__(self, value, /)\n",
      " |      Return self<value.\n",
      " |  \n",
      " |  __ne__(self, value, /)\n",
      " |      Return self!=value.\n",
      " |  \n",
      " |  __reduce__(...)\n",
      " |      Return state information for pickling.\n",
      " |  \n",
      " |  __repr__(self, /)\n",
      " |      Return repr(self).\n",
      " |  \n",
      " |  indices(...)\n",
      " |      S.indices(len) -> (start, stop, stride)\n",
      " |      \n",
      " |      Assuming a sequence of length len, calculate the start and stop\n",
      " |      indices, and the stride length of the extended slice described by\n",
      " |      S. Out of bounds indices are clipped in a manner consistent with the\n",
      " |      handling of normal slices.\n",
      " |  \n",
      " |  ----------------------------------------------------------------------\n",
      " |  Static methods defined here:\n",
      " |  \n",
      " |  __new__(*args, **kwargs) from builtins.type\n",
      " |      Create and return a new object.  See help(type) for accurate signature.\n",
      " |  \n",
      " |  ----------------------------------------------------------------------\n",
      " |  Data descriptors defined here:\n",
      " |  \n",
      " |  start\n",
      " |  \n",
      " |  step\n",
      " |  \n",
      " |  stop\n",
      " |  \n",
      " |  ----------------------------------------------------------------------\n",
      " |  Data and other attributes defined here:\n",
      " |  \n",
      " |  __hash__ = None\n",
      "\n"
     ]
    }
   ],
   "source": [
    "help(slice)"
   ]
  },
  {
   "cell_type": "code",
   "execution_count": 1,
   "id": "fca02c30",
   "metadata": {},
   "outputs": [],
   "source": [
    "name='Sudeb'"
   ]
  },
  {
   "cell_type": "code",
   "execution_count": 5,
   "id": "0ac2c66d",
   "metadata": {},
   "outputs": [],
   "source": [
    "# b=slice(4)\n",
    "b=slice(1, 4)"
   ]
  },
  {
   "cell_type": "code",
   "execution_count": 6,
   "id": "c34f69e9",
   "metadata": {},
   "outputs": [
    {
     "data": {
      "text/plain": [
       "'ude'"
      ]
     },
     "execution_count": 6,
     "metadata": {},
     "output_type": "execute_result"
    }
   ],
   "source": [
    "name[b]"
   ]
  },
  {
   "cell_type": "code",
   "execution_count": 7,
   "id": "18310deb",
   "metadata": {},
   "outputs": [],
   "source": [
    "a = 10\n",
    "b = 20.36\n",
    "c = \"Python\"\n",
    "d = 5+3j\n",
    "e = False"
   ]
  },
  {
   "cell_type": "code",
   "execution_count": 9,
   "id": "17af222f",
   "metadata": {},
   "outputs": [
    {
     "data": {
      "text/plain": [
       "False"
      ]
     },
     "execution_count": 9,
     "metadata": {},
     "output_type": "execute_result"
    }
   ],
   "source": [
    "a\n",
    "b\n",
    "c\n",
    "d\n",
    "e"
   ]
  },
  {
   "cell_type": "code",
   "execution_count": 10,
   "id": "e16c5b08",
   "metadata": {},
   "outputs": [
    {
     "data": {
      "text/plain": [
       "(5+3j)"
      ]
     },
     "execution_count": 10,
     "metadata": {},
     "output_type": "execute_result"
    }
   ],
   "source": [
    "b\n",
    "c\n",
    "e\n",
    "a\n",
    "d"
   ]
  },
  {
   "cell_type": "code",
   "execution_count": 13,
   "id": "26fbdc1f",
   "metadata": {},
   "outputs": [
    {
     "name": "stdout",
     "output_type": "stream",
     "text": [
      "Python\n",
      "False\n"
     ]
    },
    {
     "data": {
      "text/plain": [
       "(5+3j)"
      ]
     },
     "execution_count": 13,
     "metadata": {},
     "output_type": "execute_result"
    }
   ],
   "source": [
    "b\n",
    "print(c)\n",
    "a\n",
    "print(e)\n",
    "d"
   ]
  },
  {
   "cell_type": "markdown",
   "id": "06f27907",
   "metadata": {},
   "source": [
    "### Python is Top to Bottom Approach"
   ]
  },
  {
   "cell_type": "code",
   "execution_count": 14,
   "id": "dd51ea9f",
   "metadata": {},
   "outputs": [
    {
     "data": {
      "text/plain": [
       "'Python'"
      ]
     },
     "execution_count": 14,
     "metadata": {},
     "output_type": "execute_result"
    }
   ],
   "source": [
    "c"
   ]
  },
  {
   "cell_type": "code",
   "execution_count": 16,
   "id": "bddc7ff2",
   "metadata": {},
   "outputs": [
    {
     "name": "stdout",
     "output_type": "stream",
     "text": [
      "10\n",
      "20.36\n",
      "Python\n",
      "(5+3j)\n",
      "False\n"
     ]
    }
   ],
   "source": [
    "print(a)\n",
    "print(b)\n",
    "print(c)\n",
    "print(d)\n",
    "print(e)"
   ]
  },
  {
   "cell_type": "markdown",
   "id": "2dfcbaa8",
   "metadata": {},
   "source": [
    "### why we get output of print in new line"
   ]
  },
  {
   "cell_type": "code",
   "execution_count": 17,
   "id": "0e75961b",
   "metadata": {},
   "outputs": [
    {
     "name": "stdout",
     "output_type": "stream",
     "text": [
      "Help on built-in function print in module builtins:\n",
      "\n",
      "print(...)\n",
      "    print(value, ..., sep=' ', end='\\n', file=sys.stdout, flush=False)\n",
      "    \n",
      "    Prints the values to a stream, or to sys.stdout by default.\n",
      "    Optional keyword arguments:\n",
      "    file:  a file-like object (stream); defaults to the current sys.stdout.\n",
      "    sep:   string inserted between values, default a space.\n",
      "    end:   string appended after the last value, default a newline.\n",
      "    flush: whether to forcibly flush the stream.\n",
      "\n"
     ]
    }
   ],
   "source": [
    "help(print)"
   ]
  },
  {
   "cell_type": "markdown",
   "id": "c5faed65",
   "metadata": {},
   "source": [
    "### check the help of print in which end is present"
   ]
  },
  {
   "cell_type": "code",
   "execution_count": 22,
   "id": "ac753873",
   "metadata": {},
   "outputs": [
    {
     "name": "stdout",
     "output_type": "stream",
     "text": [
      "10 20.36 Python(5+3j) False\n"
     ]
    }
   ],
   "source": [
    "print(a, end=\" \")\n",
    "print(b, end=' ')\n",
    "print(c, end='')\n",
    "print(d, end=\" \")\n",
    "print(e)"
   ]
  },
  {
   "cell_type": "code",
   "execution_count": 23,
   "id": "a1a20260",
   "metadata": {},
   "outputs": [
    {
     "name": "stdout",
     "output_type": "stream",
     "text": [
      "10.....20.36+++++Python(5+3j) False\n"
     ]
    }
   ],
   "source": [
    "print(a, end=\".....\")\n",
    "print(b, end='+++++')\n",
    "print(c, end='')\n",
    "print(d, end=\" \")\n",
    "print(e)"
   ]
  },
  {
   "cell_type": "code",
   "execution_count": 24,
   "id": "1a0d659b",
   "metadata": {},
   "outputs": [
    {
     "name": "stdout",
     "output_type": "stream",
     "text": [
      "Help on built-in function print in module builtins:\n",
      "\n",
      "print(...)\n",
      "    print(value, ..., sep=' ', end='\\n', file=sys.stdout, flush=False)\n",
      "    \n",
      "    Prints the values to a stream, or to sys.stdout by default.\n",
      "    Optional keyword arguments:\n",
      "    file:  a file-like object (stream); defaults to the current sys.stdout.\n",
      "    sep:   string inserted between values, default a space.\n",
      "    end:   string appended after the last value, default a newline.\n",
      "    flush: whether to forcibly flush the stream.\n",
      "\n"
     ]
    }
   ],
   "source": [
    "help(print) # we will check sep=' '(Seperator) now."
   ]
  },
  {
   "cell_type": "code",
   "execution_count": 25,
   "id": "9f8e29cb",
   "metadata": {},
   "outputs": [
    {
     "name": "stdout",
     "output_type": "stream",
     "text": [
      "10 20.36 Python (5+3j) False\n"
     ]
    }
   ],
   "source": [
    "print(a,b,c,d,e) # No space is given but it still come."
   ]
  },
  {
   "cell_type": "code",
   "execution_count": 26,
   "id": "65d221b8",
   "metadata": {},
   "outputs": [
    {
     "name": "stdout",
     "output_type": "stream",
     "text": [
      "1020.36Python(5+3j)False\n"
     ]
    }
   ],
   "source": [
    "print(a,b,c,d,e, sep='') # No space will come."
   ]
  },
  {
   "cell_type": "code",
   "execution_count": 27,
   "id": "f5a9204a",
   "metadata": {},
   "outputs": [
    {
     "name": "stdout",
     "output_type": "stream",
     "text": [
      "10>20.36>Python>(5+3j)>False\n"
     ]
    }
   ],
   "source": [
    "print(a,b,c,d,e, sep='>')"
   ]
  },
  {
   "cell_type": "code",
   "execution_count": 28,
   "id": "a38d605d",
   "metadata": {},
   "outputs": [],
   "source": [
    "sudeb = print # Here I am appending all the properties of print to the variable sudeb"
   ]
  },
  {
   "cell_type": "code",
   "execution_count": 29,
   "id": "6c20938e",
   "metadata": {},
   "outputs": [
    {
     "name": "stdout",
     "output_type": "stream",
     "text": [
      "10 20.36 Python (5+3j) False\n"
     ]
    }
   ],
   "source": [
    "sudeb(a,b,c,d,e)"
   ]
  },
  {
   "cell_type": "code",
   "execution_count": 40,
   "id": "951e2e2c",
   "metadata": {},
   "outputs": [
    {
     "data": {
      "text/plain": [
       "(23, 20.36, 'Python', (5+3j), False)"
      ]
     },
     "execution_count": 40,
     "metadata": {},
     "output_type": "execute_result"
    }
   ],
   "source": [
    "a,b,c,d,e"
   ]
  },
  {
   "cell_type": "markdown",
   "id": "e748022c",
   "metadata": {},
   "source": [
    "##### Program for converting a number to square root\n",
    "- First Method:"
   ]
  },
  {
   "cell_type": "code",
   "execution_count": 41,
   "id": "73b31999",
   "metadata": {},
   "outputs": [
    {
     "data": {
      "text/plain": [
       "4.795831523312719"
      ]
     },
     "execution_count": 41,
     "metadata": {},
     "output_type": "execute_result"
    }
   ],
   "source": [
    "a = 23\n",
    "# print(a ** 0.5) # 1/2 = 0.5\n",
    "# a ** 0.5\n",
    "a**(1/2)"
   ]
  },
  {
   "cell_type": "markdown",
   "id": "4a9917fb",
   "metadata": {},
   "source": [
    "- Second Method"
   ]
  },
  {
   "cell_type": "code",
   "execution_count": 42,
   "id": "4d65d506",
   "metadata": {},
   "outputs": [
    {
     "data": {
      "text/plain": [
       "4.795831523312719"
      ]
     },
     "execution_count": 42,
     "metadata": {},
     "output_type": "execute_result"
    }
   ],
   "source": [
    "pow(a, 0.5)"
   ]
  },
  {
   "cell_type": "markdown",
   "id": "bb9adbb0",
   "metadata": {},
   "source": [
    "- Third Method"
   ]
  },
  {
   "cell_type": "code",
   "execution_count": 39,
   "id": "e2fa8f09",
   "metadata": {},
   "outputs": [
    {
     "data": {
      "text/plain": [
       "4.795831523312719"
      ]
     },
     "execution_count": 39,
     "metadata": {},
     "output_type": "execute_result"
    }
   ],
   "source": [
    "import math\n",
    "a = 23\n",
    "math.sqrt(a)"
   ]
  },
  {
   "cell_type": "code",
   "execution_count": 43,
   "id": "c0c145ba",
   "metadata": {},
   "outputs": [
    {
     "name": "stdout",
     "output_type": "stream",
     "text": [
      "Square root is:  4.795831523312719\n"
     ]
    }
   ],
   "source": [
    "a = 23\n",
    "print(\"Square root is: \", a**.5)"
   ]
  },
  {
   "cell_type": "code",
   "execution_count": 44,
   "id": "0b13a70e",
   "metadata": {},
   "outputs": [
    {
     "name": "stdout",
     "output_type": "stream",
     "text": [
      "Square root of 23 is 4.795831523312719\n"
     ]
    }
   ],
   "source": [
    "print(\"Square root of\",a ,\"is\", a**.5)"
   ]
  },
  {
   "cell_type": "markdown",
   "id": "75d49c72",
   "metadata": {},
   "source": [
    "### Format sepcifier in C Language\n",
    " in C we use %d, %f, %lf, ...."
   ]
  },
  {
   "cell_type": "code",
   "execution_count": 50,
   "id": "76df8925",
   "metadata": {},
   "outputs": [
    {
     "name": "stdout",
     "output_type": "stream",
     "text": [
      "Square root of 23 is 4.795832\n",
      "Square root of 23 is 4.795831523312719\n",
      "Square root of 23 is 4.79583152331271911351\n"
     ]
    }
   ],
   "source": [
    "print(\"Square root of %d is %f\"%(a, a**0.5))\n",
    "print(\"Square root of %d is %0.15f\"%(a, a**0.5)) # Same output as above\n",
    "print(\"Square root of %d is %0.20f\"%(a, a**0.5))"
   ]
  },
  {
   "cell_type": "code",
   "execution_count": 51,
   "id": "0d5c2eb8",
   "metadata": {},
   "outputs": [
    {
     "name": "stdout",
     "output_type": "stream",
     "text": [
      "Square root of 23 is 4.795831523312719\n"
     ]
    }
   ],
   "source": [
    "print(f\"Square root of {a} is {a**0.5}\")"
   ]
  },
  {
   "cell_type": "code",
   "execution_count": 56,
   "id": "7b124b80",
   "metadata": {},
   "outputs": [
    {
     "name": "stdout",
     "output_type": "stream",
     "text": [
      "Square Root of 23 is 4.795831523312719\n"
     ]
    }
   ],
   "source": [
    "print(\"Square Root of {} is {}\".format(a, a**0.5))"
   ]
  },
  {
   "cell_type": "markdown",
   "id": "a92487ba",
   "metadata": {},
   "source": [
    "### Format also follows index order"
   ]
  },
  {
   "cell_type": "code",
   "execution_count": 55,
   "id": "9eef356e",
   "metadata": {},
   "outputs": [
    {
     "name": "stdout",
     "output_type": "stream",
     "text": [
      "Square Root is 4.795831523312719 of 23\n"
     ]
    }
   ],
   "source": [
    "print(\"Square Root is {1} of {0}\".format(a, a**0.5))"
   ]
  },
  {
   "cell_type": "markdown",
   "id": "82010b61",
   "metadata": {},
   "source": [
    "### Index of any array starts with 0"
   ]
  },
  {
   "cell_type": "code",
   "execution_count": 59,
   "id": "d1d16441",
   "metadata": {},
   "outputs": [
    {
     "name": "stdout",
     "output_type": "stream",
     "text": [
      "1 degree is 0.01746031746031746 Radians\n"
     ]
    }
   ],
   "source": [
    "# Write a Program to convert degree into radian. (n * pi/180)\n",
    "a = (22/7)/180\n",
    "b = 1\n",
    "print(\"{} degree is {} Radians\".format(b, b*a))"
   ]
  },
  {
   "cell_type": "code",
   "execution_count": 60,
   "id": "0c9d42e3",
   "metadata": {},
   "outputs": [
    {
     "name": "stdout",
     "output_type": "stream",
     "text": [
      "1 degree is 0.01746031746031746 Radians\n"
     ]
    }
   ],
   "source": [
    "pi = 22/7\n",
    "a = pi/180\n",
    "b = 1\n",
    "print(\"{} degree is {} Radians\".format(b, b*a))"
   ]
  },
  {
   "cell_type": "code",
   "execution_count": 63,
   "id": "68c51b47",
   "metadata": {},
   "outputs": [
    {
     "data": {
      "text/plain": [
       "0.017453292519943295"
      ]
     },
     "execution_count": 63,
     "metadata": {},
     "output_type": "execute_result"
    }
   ],
   "source": [
    "\n",
    "(math.pi)/180"
   ]
  },
  {
   "cell_type": "code",
   "execution_count": 67,
   "id": "2fc0217e",
   "metadata": {},
   "outputs": [
    {
     "name": "stdout",
     "output_type": "stream",
     "text": [
      "1 degree is 0.0174533 Radians\n"
     ]
    }
   ],
   "source": [
    "pi = math.pi\n",
    "a = pi/180\n",
    "b = 1\n",
    "print(\"%d degree is %0.7f Radians\"%(b, b*a))"
   ]
  },
  {
   "cell_type": "code",
   "execution_count": 71,
   "id": "0532fd2f",
   "metadata": {},
   "outputs": [
    {
     "name": "stdout",
     "output_type": "stream",
     "text": [
      "1 degree is 0.0174533 Radians\n"
     ]
    }
   ],
   "source": [
    "pi = math.pi\n",
    "a = 1\n",
    "print(\"{} degree is {} Radians\".format(a,round(a*(pi/180), 7)))"
   ]
  },
  {
   "cell_type": "code",
   "execution_count": 78,
   "id": "fcc5f7b3",
   "metadata": {},
   "outputs": [
    {
     "name": "stdout",
     "output_type": "stream",
     "text": [
      "7\n",
      "8\n",
      "7\n",
      "8\n",
      "7.6155\n",
      "7.61\n",
      "7.62\n"
     ]
    }
   ],
   "source": [
    "print(round(7.4))\n",
    "print(round(7.5))\n",
    "print(round(7.49))\n",
    "print(round(7.6))\n",
    "print(round(7.6155, 4))\n",
    "print(round(7.6125, 2))\n",
    "print(round(7.6155, 2))"
   ]
  },
  {
   "cell_type": "markdown",
   "id": "f6be964b",
   "metadata": {},
   "source": [
    "- name, roll no.\n",
    "- Take three subject marks --- Total marks 300\n",
    "- Find Average, percentage and CGPA"
   ]
  },
  {
   "cell_type": "code",
   "execution_count": 84,
   "id": "3dbc4815",
   "metadata": {},
   "outputs": [
    {
     "name": "stdout",
     "output_type": "stream",
     "text": [
      "Sudeb with ROll No 455 has got an average of 83, with percent 83.0% and CGPA 8.74\n"
     ]
    }
   ],
   "source": [
    "name = \"Sudeb\"\n",
    "roll = 455\n",
    "mathMarks = 87\n",
    "scienceMarks = 77\n",
    "englishMarks = 85\n",
    "totalMarks = mathMarks + scienceMarks + englishMarks\n",
    "avgMarks = round(totalMarks/3)\n",
    "percent = round((totalMarks/300)*100, 2)\n",
    "# cgpa = round(((totalMarks/10)/3), 2)\n",
    "cgpa = round(percent/9.5, 2)\n",
    "print(f\"{name} with ROll No {roll} has got an average of {avgMarks}, with percent {percent}% and CGPA {cgpa}\")"
   ]
  },
  {
   "cell_type": "markdown",
   "id": "bb7795ec",
   "metadata": {},
   "source": [
    "### Single line Assignment"
   ]
  },
  {
   "cell_type": "code",
   "execution_count": 83,
   "id": "2af273d3",
   "metadata": {},
   "outputs": [
    {
     "data": {
      "text/plain": [
       "('Sudeb', 455, 249, 83, 83.0, 8.74)"
      ]
     },
     "execution_count": 83,
     "metadata": {},
     "output_type": "execute_result"
    }
   ],
   "source": [
    "name, roll, mathMarks, scienceMarks, englishMarks = \"Sudeb\", 455, 87, 77, 85\n",
    "totalMarks = mathMarks + scienceMarks + englishMarks\n",
    "avgMarks = round(totalMarks/3)\n",
    "percent = round((totalMarks/300)*100, 2)\n",
    "cgpa = round(percent/9.5, 2)\n",
    "\n",
    "name, roll, totalMarks, avgMarks, percent, cgpa"
   ]
  },
  {
   "cell_type": "code",
   "execution_count": 85,
   "id": "8a7bda8b",
   "metadata": {},
   "outputs": [
    {
     "name": "stdout",
     "output_type": "stream",
     "text": [
      "sssss  pppppp\n",
      "  s      p\n",
      "sssss  pppppp\n"
     ]
    }
   ],
   "source": [
    "# Program to write data in a specific format\n",
    "print(\"sssss  pppppp\")\n",
    "print(\"  s      p\")\n",
    "print(\"sssss  pppppp\")"
   ]
  },
  {
   "cell_type": "code",
   "execution_count": 91,
   "id": "43fa5859",
   "metadata": {},
   "outputs": [
    {
     "name": "stdout",
     "output_type": "stream",
     "text": [
      "sssss pppppp\n",
      "  s      p\n",
      "sssss pppppp\n"
     ]
    }
   ],
   "source": [
    "print('s'*5+' '+'p'*6,' '*2+'s'+' '*6+'p', 's'*5+' '+'p'*6, sep='\\n')"
   ]
  },
  {
   "cell_type": "code",
   "execution_count": 92,
   "id": "959c2c6d",
   "metadata": {},
   "outputs": [
    {
     "name": "stdout",
     "output_type": "stream",
     "text": [
      "\n",
      "sssss pppppp\n",
      "  s      p\n",
      "sssss pppppp\n",
      "\n"
     ]
    }
   ],
   "source": [
    "print(\"\"\"\n",
    "sssss pppppp\n",
    "  s      p\n",
    "sssss pppppp\n",
    "\"\"\")"
   ]
  },
  {
   "cell_type": "code",
   "execution_count": null,
   "id": "c2999725",
   "metadata": {},
   "outputs": [],
   "source": []
  }
 ],
 "metadata": {
  "kernelspec": {
   "display_name": "Python 3 (ipykernel)",
   "language": "python",
   "name": "python3"
  },
  "language_info": {
   "codemirror_mode": {
    "name": "ipython",
    "version": 3
   },
   "file_extension": ".py",
   "mimetype": "text/x-python",
   "name": "python",
   "nbconvert_exporter": "python",
   "pygments_lexer": "ipython3",
   "version": "3.10.8"
  },
  "vscode": {
   "interpreter": {
    "hash": "7b122f01701dac47d559624fa360ef3a94049ff49f14b43fe9ab8ffe83d5f61b"
   }
  }
 },
 "nbformat": 4,
 "nbformat_minor": 5
}
