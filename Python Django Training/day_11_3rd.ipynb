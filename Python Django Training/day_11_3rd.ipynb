{
 "cells": [
  {
   "cell_type": "code",
   "execution_count": 1,
   "id": "f4ff378f",
   "metadata": {},
   "outputs": [
    {
     "name": "stdout",
     "output_type": "stream",
     "text": [
      "0 1 2 3 4 5 6 7 8 9 "
     ]
    }
   ],
   "source": [
    "for i in range(10):\n",
    "    print(i,end=\" \")\n",
    "    i+=5"
   ]
  },
  {
   "cell_type": "code",
   "execution_count": 3,
   "id": "8f4f8351",
   "metadata": {},
   "outputs": [
    {
     "name": "stdout",
     "output_type": "stream",
     "text": [
      "1 2 3 4 5 6 7 8 9 10 11 12 13 14 15 16 17 18 19 20 "
     ]
    }
   ],
   "source": [
    "for j in range(1,21):\n",
    "    print(j,end=\" \")"
   ]
  },
  {
   "cell_type": "code",
   "execution_count": 5,
   "id": "d57c41f3",
   "metadata": {},
   "outputs": [
    {
     "name": "stdout",
     "output_type": "stream",
     "text": [
      "1 3 5 7 9 11 13 15 17 19 "
     ]
    }
   ],
   "source": [
    "for k in range(1,21,2):\n",
    "    print(k,end=\" \")"
   ]
  },
  {
   "cell_type": "code",
   "execution_count": 9,
   "id": "003c482b",
   "metadata": {},
   "outputs": [],
   "source": [
    "for f in range(10,1):\n",
    "    print(f,end=\" \")"
   ]
  },
  {
   "cell_type": "code",
   "execution_count": 11,
   "id": "329839cc",
   "metadata": {},
   "outputs": [
    {
     "name": "stdout",
     "output_type": "stream",
     "text": [
      "10 9 8 7 6 5 4 3 2 1 "
     ]
    }
   ],
   "source": [
    "for f in range(10,0,-1):\n",
    "    print(f,end=\" \")"
   ]
  },
  {
   "cell_type": "code",
   "execution_count": 12,
   "id": "77770694",
   "metadata": {},
   "outputs": [
    {
     "name": "stdout",
     "output_type": "stream",
     "text": [
      "5 * 1 =5\n",
      "5 * 2 =10\n",
      "5 * 3 =15\n",
      "5 * 4 =20\n",
      "5 * 5 =25\n",
      "5 * 6 =30\n",
      "5 * 7 =35\n",
      "5 * 8 =40\n",
      "5 * 9 =45\n",
      "5 * 10 =50\n"
     ]
    }
   ],
   "source": [
    "num = 5\n",
    "for k in range(1,11):\n",
    "    print(f\"{num} * {k} ={num*k}\")"
   ]
  },
  {
   "cell_type": "code",
   "execution_count": 13,
   "id": "6055487c",
   "metadata": {},
   "outputs": [
    {
     "name": "stdout",
     "output_type": "stream",
     "text": [
      "5 * 10 =50\n",
      "5 * 9 =45\n",
      "5 * 8 =40\n",
      "5 * 7 =35\n",
      "5 * 6 =30\n",
      "5 * 5 =25\n",
      "5 * 4 =20\n",
      "5 * 3 =15\n",
      "5 * 2 =10\n",
      "5 * 1 =5\n"
     ]
    }
   ],
   "source": [
    "num = 5\n",
    "for k in range(10,0,-1):\n",
    "    print(f\"{num} * {k} ={num*k}\")"
   ]
  },
  {
   "cell_type": "code",
   "execution_count": 14,
   "id": "cb20f5f7",
   "metadata": {},
   "outputs": [
    {
     "name": "stdout",
     "output_type": "stream",
     "text": [
      "2 4 6 8 10 12 14 16 18 20 "
     ]
    }
   ],
   "source": [
    "for j in range(1,21):\n",
    "    if j%2==0:\n",
    "        print(j,end=\" \")"
   ]
  },
  {
   "cell_type": "code",
   "execution_count": 15,
   "id": "8dcc22eb",
   "metadata": {},
   "outputs": [],
   "source": [
    "#find space in sentence\n",
    "sen =\"Soniya is software engineer\"\n",
    "sp=0\n",
    "for i in sen:\n",
    "    if i == ' ':\n",
    "        sp+=1\n",
    "        "
   ]
  },
  {
   "cell_type": "code",
   "execution_count": 16,
   "id": "946ae51f",
   "metadata": {},
   "outputs": [
    {
     "data": {
      "text/plain": [
       "3"
      ]
     },
     "execution_count": 16,
     "metadata": {},
     "output_type": "execute_result"
    }
   ],
   "source": [
    "sp"
   ]
  },
  {
   "cell_type": "code",
   "execution_count": 17,
   "id": "f975091e",
   "metadata": {},
   "outputs": [],
   "source": [
    "#find vowel in sentence\n",
    "sen =\"Soniya is software engineer\"\n",
    "sp=0\n",
    "for i in sen:\n",
    "    if i.lower() in 'aeiou':\n",
    "        sp+=1"
   ]
  },
  {
   "cell_type": "code",
   "execution_count": 18,
   "id": "b4b22c34",
   "metadata": {},
   "outputs": [
    {
     "data": {
      "text/plain": [
       "11"
      ]
     },
     "execution_count": 18,
     "metadata": {},
     "output_type": "execute_result"
    }
   ],
   "source": [
    "sp"
   ]
  },
  {
   "cell_type": "code",
   "execution_count": 22,
   "id": "376d3d64",
   "metadata": {},
   "outputs": [
    {
     "data": {
      "text/plain": [
       "13"
      ]
     },
     "execution_count": 22,
     "metadata": {},
     "output_type": "execute_result"
    }
   ],
   "source": [
    "#find vowel in sentence\n",
    "sen =\"Soniya is software engineer\"\n",
    "sp=0\n",
    "for i in sen:\n",
    "    if i.lower() not in 'aeiou' and not i.isspace():\n",
    "        sp+=1\n",
    "sp"
   ]
  },
  {
   "cell_type": "code",
   "execution_count": 20,
   "id": "0f50c6d5",
   "metadata": {},
   "outputs": [
    {
     "data": {
      "text/plain": [
       "(3, 11, 13)"
      ]
     },
     "execution_count": 20,
     "metadata": {},
     "output_type": "execute_result"
    }
   ],
   "source": [
    "sen =\"Soniya is software engineer\"\n",
    "sp,v,c=0,0,0\n",
    "i=0\n",
    "while i<len(sen):\n",
    "    if sen[i].isspace():\n",
    "        sp+=1\n",
    "    if sen[i].lower() in 'aeiou':\n",
    "        v+=1\n",
    "    if sen[i].lower() not in 'aeiou' and not sen[i].isspace():\n",
    "        c+=1\n",
    "    i+=1\n",
    "sp,v,c"
   ]
  },
  {
   "cell_type": "code",
   "execution_count": 29,
   "id": "11dc945e",
   "metadata": {},
   "outputs": [
    {
     "name": "stdout",
     "output_type": "stream",
     "text": [
      "15 is not a prime number\n"
     ]
    }
   ],
   "source": [
    "#wap to check weather the given number is prime or not \n",
    "\n",
    "num = 15\n",
    "count = 0 \n",
    "\n",
    "for i in range(1,num+1):\n",
    "    if num % i == 0:\n",
    "        count+=1\n",
    "if count == 2:\n",
    "    print(num,\"is a prime number\")\n",
    "else:\n",
    "    print(num,\"is not a prime number\")"
   ]
  },
  {
   "cell_type": "code",
   "execution_count": 30,
   "id": "4abd9f93",
   "metadata": {},
   "outputs": [
    {
     "name": "stdout",
     "output_type": "stream",
     "text": [
      "2 3 5 7 11 13 17 19 23 29 31 37 41 43 47 53 59 61 67 71 73 79 83 89 97 101 103 107 109 113 127 131 137 139 149 151 157 163 167 173 179 181 191 193 197 199 211 223 227 229 233 239 241 251 257 263 269 271 277 281 283 293 307 311 313 317 331 337 347 349 353 359 367 373 379 383 389 397 401 409 419 421 431 433 439 443 449 457 461 463 467 479 487 491 499 503 509 521 523 541 547 557 563 569 571 577 587 593 599 601 607 613 617 619 631 641 643 647 653 659 661 673 677 683 691 701 709 719 727 733 739 743 751 757 761 769 773 787 797 809 811 821 823 827 829 839 853 857 859 863 877 881 883 887 907 911 919 929 937 941 947 953 967 971 977 983 991 997 "
     ]
    }
   ],
   "source": [
    "#wap program to print prime number in between 1- 1000\n",
    "\n",
    "for j in range(1,1001):\n",
    "    num = j\n",
    "    count = 0 \n",
    "\n",
    "    for i in range(1,num+1):\n",
    "        if num % i == 0:\n",
    "            count+=1\n",
    "    if count == 2:\n",
    "        print(num,end=\" \")"
   ]
  },
  {
   "cell_type": "code",
   "execution_count": 40,
   "id": "52c07f21",
   "metadata": {},
   "outputs": [
    {
     "name": "stdout",
     "output_type": "stream",
     "text": [
      "given number is perfect number\n"
     ]
    }
   ],
   "source": [
    "#wap to check weather the number is perfect or not(using for loop)\n",
    "num = 28\n",
    "s = 0\n",
    "for i in range(1, num//2+1):\n",
    "    if num % i == 0:\n",
    "        s+=i\n",
    "if s == num:\n",
    "    print(\"given number is perfect number\")\n",
    "else:\n",
    "    print(\"given number is not perfect number\")"
   ]
  },
  {
   "cell_type": "code",
   "execution_count": 37,
   "id": "7fc9bf45",
   "metadata": {},
   "outputs": [
    {
     "name": "stdout",
     "output_type": "stream",
     "text": [
      "given number is perfect number\n"
     ]
    }
   ],
   "source": [
    "#wap to check weather the number is perfect or not(using while loop)\n",
    "num = 28\n",
    "s = 0\n",
    "i = 1\n",
    "\n",
    "while i <= num//2:\n",
    "    if num % i == 0:\n",
    "        s+=i\n",
    "    i+=1\n",
    "    \n",
    "if s == num:\n",
    "    print(\"given number is perfect number\")\n",
    "else:\n",
    "    print(\"given number is not perfect number\")"
   ]
  },
  {
   "cell_type": "code",
   "execution_count": 52,
   "id": "362a6542",
   "metadata": {},
   "outputs": [
    {
     "name": "stdout",
     "output_type": "stream",
     "text": [
      "Not a strong\n"
     ]
    }
   ],
   "source": [
    "#strong number usin while\n",
    "\n",
    "num = 124\n",
    "t=num\n",
    "s = 0\n",
    "while num != 0:\n",
    "    rem= num % 10\n",
    "    fact = 1\n",
    "    for i in range(1,rem+1):\n",
    "        fact=fact*i\n",
    "    \n",
    "    s = s+ fact\n",
    "    num=num//10\n",
    "\n",
    "if t == s:\n",
    "    print(\"Strong number\")\n",
    "else:\n",
    "    print(\"Not a strong\")\n",
    "    \n",
    "# print(num%10)\n",
    "\n",
    "# num=num//10\n",
    "# print(num)\n",
    "\n",
    "# print(num%10)\n",
    "\n",
    "# num=num//10\n",
    "# print(num)\n",
    "\n",
    "# print(num%10)\n",
    "\n",
    "# num=num//10\n",
    "# print(num)\n",
    "\n"
   ]
  },
  {
   "cell_type": "code",
   "execution_count": 57,
   "id": "4d911400",
   "metadata": {},
   "outputs": [
    {
     "name": "stdout",
     "output_type": "stream",
     "text": [
      "<class 'str'> 145\n",
      "<class 'str'> 145\n",
      "<class 'str'> 145\n",
      "strong number\n"
     ]
    }
   ],
   "source": [
    "#strong number using for loop\n",
    "\n",
    "num = 145\n",
    "s = 0 \n",
    "for i in str(num):\n",
    "    print(type(i),num)\n",
    "    f = 1\n",
    "    for j in range(1,int(i)+1):\n",
    "        f=f*j\n",
    "    s=s+f\n",
    "if num == s:\n",
    "    print(\"strong number\")\n",
    "else:\n",
    "    print(\"not a strong number\")"
   ]
  },
  {
   "cell_type": "code",
   "execution_count": 59,
   "id": "70401ac2",
   "metadata": {},
   "outputs": [
    {
     "name": "stdout",
     "output_type": "stream",
     "text": [
      "<class 'str'> 1\n",
      "<class 'str'> 4\n",
      "<class 'str'> 5\n",
      "strong number\n"
     ]
    }
   ],
   "source": [
    "import math\n",
    "num = 145\n",
    "s = 0 \n",
    "for i in str(num):\n",
    "    print(type(i),i)\n",
    "    s=s+math.factorial(int(i))\n",
    "if num == s:\n",
    "    print(\"strong number\")\n",
    "else:\n",
    "    print(\"not a strong number\")"
   ]
  },
  {
   "cell_type": "code",
   "execution_count": null,
   "id": "51fb6c45",
   "metadata": {},
   "outputs": [],
   "source": []
  }
 ],
 "metadata": {
  "kernelspec": {
   "display_name": "Python 3 (ipykernel)",
   "language": "python",
   "name": "python3"
  },
  "language_info": {
   "codemirror_mode": {
    "name": "ipython",
    "version": 3
   },
   "file_extension": ".py",
   "mimetype": "text/x-python",
   "name": "python",
   "nbconvert_exporter": "python",
   "pygments_lexer": "ipython3",
   "version": "3.8.10"
  }
 },
 "nbformat": 4,
 "nbformat_minor": 5
}
