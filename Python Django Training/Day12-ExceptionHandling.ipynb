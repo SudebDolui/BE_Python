{
 "cells": [
  {
   "cell_type": "markdown",
   "id": "b5791847",
   "metadata": {},
   "source": [
    "# Interface in python"
   ]
  },
  {
   "cell_type": "markdown",
   "id": "63374647",
   "metadata": {},
   "source": [
    "Interface is the class having functions without body and we can not create object for an interface class"
   ]
  },
  {
   "cell_type": "code",
   "execution_count": 2,
   "id": "4b26a117",
   "metadata": {},
   "outputs": [],
   "source": [
    "from abc import ABC, abstractmethod"
   ]
  },
  {
   "cell_type": "code",
   "execution_count": 3,
   "id": "94b5f68b",
   "metadata": {},
   "outputs": [],
   "source": [
    "class DemoInterface(ABC):\n",
    "    @abstractmethod\n",
    "    def interest(self,i):\n",
    "        pass\n",
    "    @abstractmethod\n",
    "    def loan(self,a):\n",
    "        pass\n",
    "    "
   ]
  },
  {
   "cell_type": "code",
   "execution_count": 4,
   "id": "4265e500",
   "metadata": {},
   "outputs": [
    {
     "data": {
      "text/plain": [
       "abc.ABCMeta"
      ]
     },
     "execution_count": 4,
     "metadata": {},
     "output_type": "execute_result"
    }
   ],
   "source": [
    "type(DemoInterface)"
   ]
  },
  {
   "cell_type": "code",
   "execution_count": 5,
   "id": "54971060",
   "metadata": {},
   "outputs": [
    {
     "ename": "TypeError",
     "evalue": "Can't instantiate abstract class DemoInterface with abstract methods interest, loan",
     "output_type": "error",
     "traceback": [
      "\u001b[1;31m---------------------------------------------------------------------------\u001b[0m",
      "\u001b[1;31mTypeError\u001b[0m                                 Traceback (most recent call last)",
      "Cell \u001b[1;32mIn [5], line 1\u001b[0m\n\u001b[1;32m----> 1\u001b[0m d1 \u001b[38;5;241m=\u001b[39m DemoInterface()\n",
      "\u001b[1;31mTypeError\u001b[0m: Can't instantiate abstract class DemoInterface with abstract methods interest, loan"
     ]
    }
   ],
   "source": [
    "d1 = DemoInterface()"
   ]
  },
  {
   "cell_type": "code",
   "execution_count": 13,
   "id": "750bfdfe",
   "metadata": {},
   "outputs": [],
   "source": [
    "class SBI(DemoInterface):\n",
    "    def interest(self,i):\n",
    "        print(\"Interest rate of SBI is \", i)\n",
    "    def loan(self,a):\n",
    "        print(\"The loan amount is \",a)"
   ]
  },
  {
   "cell_type": "code",
   "execution_count": 14,
   "id": "39d7df22",
   "metadata": {},
   "outputs": [],
   "source": [
    "s1 = SBI()"
   ]
  },
  {
   "cell_type": "code",
   "execution_count": 15,
   "id": "c349649a",
   "metadata": {},
   "outputs": [],
   "source": [
    "# Interface method should be compulsory defined "
   ]
  },
  {
   "cell_type": "code",
   "execution_count": 16,
   "id": "b94288cf",
   "metadata": {},
   "outputs": [
    {
     "name": "stdout",
     "output_type": "stream",
     "text": [
      "Interest rate of SBI is  6\n"
     ]
    }
   ],
   "source": [
    "s1.interest(6)"
   ]
  },
  {
   "cell_type": "code",
   "execution_count": 17,
   "id": "51f7f050",
   "metadata": {},
   "outputs": [],
   "source": [
    "# Above cells are for abstract classes"
   ]
  },
  {
   "cell_type": "code",
   "execution_count": 18,
   "id": "4880b427",
   "metadata": {},
   "outputs": [
    {
     "ename": "ModuleNotFoundError",
     "evalue": "No module named 'zope'",
     "output_type": "error",
     "traceback": [
      "\u001b[1;31m---------------------------------------------------------------------------\u001b[0m",
      "\u001b[1;31mModuleNotFoundError\u001b[0m                       Traceback (most recent call last)",
      "Cell \u001b[1;32mIn [18], line 1\u001b[0m\n\u001b[1;32m----> 1\u001b[0m \u001b[38;5;28;01mfrom\u001b[39;00m \u001b[38;5;21;01mzope\u001b[39;00m \u001b[38;5;28;01mimport\u001b[39;00m interface\n",
      "\u001b[1;31mModuleNotFoundError\u001b[0m: No module named 'zope'"
     ]
    }
   ],
   "source": [
    "from zope import interface"
   ]
  },
  {
   "cell_type": "code",
   "execution_count": 4,
   "id": "a4e1ffea",
   "metadata": {},
   "outputs": [
    {
     "name": "stdout",
     "output_type": "stream",
     "text": [
      "Collecting zope.interface\n",
      "  Using cached zope.interface-5.5.0-cp310-cp310-win_amd64.whl (211 kB)\n",
      "Requirement already satisfied: setuptools in c:\\users\\yogeshr\\appdata\\local\\programs\\python\\python310\\lib\\site-packages (from zope.interface) (63.2.0)\n",
      "Installing collected packages: zope.interface\n",
      "Successfully installed zope.interface-5.5.0\n"
     ]
    },
    {
     "name": "stderr",
     "output_type": "stream",
     "text": [
      "\n",
      "[notice] A new release of pip available: 22.2.1 -> 22.3\n",
      "[notice] To update, run: python.exe -m pip install --upgrade pip\n"
     ]
    }
   ],
   "source": [
    "!pip install zope.interface"
   ]
  },
  {
   "cell_type": "code",
   "execution_count": 5,
   "id": "e670bd14",
   "metadata": {},
   "outputs": [],
   "source": [
    "import zope.interface"
   ]
  },
  {
   "cell_type": "code",
   "execution_count": 11,
   "id": "bb7acd11",
   "metadata": {},
   "outputs": [
    {
     "ename": "SyntaxError",
     "evalue": "incomplete input (4102184332.py, line 6)",
     "output_type": "error",
     "traceback": [
      "\u001b[1;36m  Cell \u001b[1;32mIn [11], line 6\u001b[1;36m\u001b[0m\n\u001b[1;33m    \u001b[0m\n\u001b[1;37m    ^\u001b[0m\n\u001b[1;31mSyntaxError\u001b[0m\u001b[1;31m:\u001b[0m incomplete input\n"
     ]
    }
   ],
   "source": [
    "class Hotel(zope.interface.Interface):\n",
    "    northfood = zope.interface.Attribute(\"PaneerMasala\")\n",
    "    def eat(self,food):\n",
    "        pass\n",
    "    @zope.interface.implementer(Hotel)\n",
    "    "
   ]
  },
  {
   "cell_type": "code",
   "execution_count": 10,
   "id": "c944e4da",
   "metadata": {},
   "outputs": [
    {
     "ename": "SyntaxError",
     "evalue": "incomplete input (365525625.py, line 1)",
     "output_type": "error",
     "traceback": [
      "\u001b[1;36m  Cell \u001b[1;32mIn [10], line 1\u001b[1;36m\u001b[0m\n\u001b[1;33m    @zope.interface.implementer(Hotel)\u001b[0m\n\u001b[1;37m                                      ^\u001b[0m\n\u001b[1;31mSyntaxError\u001b[0m\u001b[1;31m:\u001b[0m incomplete input\n"
     ]
    }
   ],
   "source": []
  },
  {
   "cell_type": "markdown",
   "id": "ef1d0e80",
   "metadata": {},
   "source": [
    "# Exception Handling in Python"
   ]
  },
  {
   "cell_type": "markdown",
   "id": "d20b1ea2",
   "metadata": {},
   "source": [
    "Runtime error handling or logical error handling"
   ]
  },
  {
   "cell_type": "code",
   "execution_count": 16,
   "id": "b0878a71",
   "metadata": {},
   "outputs": [],
   "source": [
    "#Important Keywords in Exception handling try, except, else, finally, raise. "
   ]
  },
  {
   "cell_type": "code",
   "execution_count": 17,
   "id": "cad38c2d",
   "metadata": {},
   "outputs": [
    {
     "ename": "ZeroDivisionError",
     "evalue": "division by zero",
     "output_type": "error",
     "traceback": [
      "\u001b[1;31m---------------------------------------------------------------------------\u001b[0m",
      "\u001b[1;31mZeroDivisionError\u001b[0m                         Traceback (most recent call last)",
      "Cell \u001b[1;32mIn [17], line 1\u001b[0m\n\u001b[1;32m----> 1\u001b[0m a \u001b[38;5;241m=\u001b[39m \u001b[38;5;241m1\u001b[39m\u001b[38;5;241m/\u001b[39m\u001b[38;5;241m0\u001b[39m\n\u001b[0;32m      2\u001b[0m \u001b[38;5;28mprint\u001b[39m(\u001b[38;5;124m\"\u001b[39m\u001b[38;5;124mthis is my exception handling example\u001b[39m\u001b[38;5;124m\"\u001b[39m)\n",
      "\u001b[1;31mZeroDivisionError\u001b[0m: division by zero"
     ]
    }
   ],
   "source": [
    "a = 1/0\n",
    "print(\"this is my exception handling example\")"
   ]
  },
  {
   "cell_type": "code",
   "execution_count": 19,
   "id": "c5a3c54c",
   "metadata": {},
   "outputs": [
    {
     "name": "stdout",
     "output_type": "stream",
     "text": [
      "I have caught the error\n",
      "this is my exception handling example\n"
     ]
    }
   ],
   "source": [
    "try:\n",
    "    a = 1/0\n",
    "except:\n",
    "    print(\"I have caught the error\")\n",
    "print(\"this is my exception handling example\")"
   ]
  },
  {
   "cell_type": "code",
   "execution_count": 20,
   "id": "54ed768a",
   "metadata": {},
   "outputs": [
    {
     "name": "stdout",
     "output_type": "stream",
     "text": [
      "this is my exception handling example\n"
     ]
    }
   ],
   "source": [
    "try:\n",
    "    a = 1/2\n",
    "except:\n",
    "    print(\"I have caught the error\")\n",
    "print(\"this is my exception handling example\")"
   ]
  },
  {
   "cell_type": "code",
   "execution_count": 21,
   "id": "8e9c4034",
   "metadata": {},
   "outputs": [
    {
     "name": "stdout",
     "output_type": "stream",
     "text": [
      "I have caught the error:  division by zero\n",
      "this is my exception handling example\n"
     ]
    }
   ],
   "source": [
    "try:\n",
    "    a = 1/0\n",
    "except Exception as yogesh:\n",
    "    print(\"I have caught the error: \",yogesh)\n",
    "print(\"this is my exception handling example\")"
   ]
  },
  {
   "cell_type": "code",
   "execution_count": 22,
   "id": "1dfe0943",
   "metadata": {},
   "outputs": [],
   "source": [
    "# Exception is supermost class of all the exceptions"
   ]
  },
  {
   "cell_type": "code",
   "execution_count": 25,
   "id": "ed8fb1bd",
   "metadata": {},
   "outputs": [
    {
     "name": "stdout",
     "output_type": "stream",
     "text": [
      "I have caught the error:  division by zero\n",
      "this is my exception handling example\n"
     ]
    }
   ],
   "source": [
    "# If you know the error name then you can use the name itself.\n",
    "try:\n",
    "    a = 1/0\n",
    "except ZeroDivisionError as z:\n",
    "    print(\"I have caught the error: \",z)\n",
    "print(\"this is my exception handling example\")"
   ]
  },
  {
   "cell_type": "code",
   "execution_count": 26,
   "id": "95ca16a8",
   "metadata": {},
   "outputs": [
    {
     "name": "stdout",
     "output_type": "stream",
     "text": [
      "yogesh\n"
     ]
    },
    {
     "ename": "ValueError",
     "evalue": "invalid literal for int() with base 10: 'yogesh'",
     "output_type": "error",
     "traceback": [
      "\u001b[1;31m---------------------------------------------------------------------------\u001b[0m",
      "\u001b[1;31mValueError\u001b[0m                                Traceback (most recent call last)",
      "Cell \u001b[1;32mIn [26], line 1\u001b[0m\n\u001b[1;32m----> 1\u001b[0m \u001b[38;5;28mint\u001b[39m(\u001b[38;5;28minput\u001b[39m())\n",
      "\u001b[1;31mValueError\u001b[0m: invalid literal for int() with base 10: 'yogesh'"
     ]
    }
   ],
   "source": [
    "int(input())"
   ]
  },
  {
   "cell_type": "code",
   "execution_count": 28,
   "id": "1a421727",
   "metadata": {},
   "outputs": [
    {
     "name": "stdout",
     "output_type": "stream",
     "text": [
      "yogesh\n",
      "invalid literal for int() with base 10: 'yogesh'\n"
     ]
    }
   ],
   "source": [
    "try:\n",
    "    a = int(input())\n",
    "    print(a)\n",
    "except Exception as e:\n",
    "    print(e)\n",
    "    "
   ]
  },
  {
   "cell_type": "code",
   "execution_count": 31,
   "id": "918f25da",
   "metadata": {},
   "outputs": [],
   "source": [
    "a = (1,2,3)"
   ]
  },
  {
   "cell_type": "code",
   "execution_count": 32,
   "id": "32de2632",
   "metadata": {},
   "outputs": [
    {
     "ename": "IndexError",
     "evalue": "tuple index out of range",
     "output_type": "error",
     "traceback": [
      "\u001b[1;31m---------------------------------------------------------------------------\u001b[0m",
      "\u001b[1;31mIndexError\u001b[0m                                Traceback (most recent call last)",
      "Cell \u001b[1;32mIn [32], line 1\u001b[0m\n\u001b[1;32m----> 1\u001b[0m a[\u001b[38;5;241m5\u001b[39m]\n",
      "\u001b[1;31mIndexError\u001b[0m: tuple index out of range"
     ]
    }
   ],
   "source": [
    "a[5]"
   ]
  },
  {
   "cell_type": "code",
   "execution_count": 37,
   "id": "bfe1298d",
   "metadata": {},
   "outputs": [
    {
     "name": "stdout",
     "output_type": "stream",
     "text": [
      "I have caught the error\n",
      "Main hoon na\n",
      "this is my exception handling example\n"
     ]
    }
   ],
   "source": [
    "# else and finally demo\n",
    "try:\n",
    "    b = [2]\n",
    "    print(b[1])\n",
    "except:\n",
    "    print(\"I have caught the error\")\n",
    "else:\n",
    "    print(\"No error to catch\")\n",
    "finally:\n",
    "    print(\"Main hoon na\")\n",
    "print(\"this is my exception handling example\")"
   ]
  },
  {
   "cell_type": "code",
   "execution_count": 38,
   "id": "eea848b5",
   "metadata": {},
   "outputs": [],
   "source": [
    "# finally block executes irrespective of the errors\n",
    "# else block will be executed if there is no error"
   ]
  },
  {
   "cell_type": "code",
   "execution_count": 41,
   "id": "a418e8d4",
   "metadata": {},
   "outputs": [
    {
     "name": "stdout",
     "output_type": "stream",
     "text": [
      "6\n"
     ]
    },
    {
     "ename": "AssertionError",
     "evalue": "Voter must be 18 or more",
     "output_type": "error",
     "traceback": [
      "\u001b[1;31m---------------------------------------------------------------------------\u001b[0m",
      "\u001b[1;31mAssertionError\u001b[0m                            Traceback (most recent call last)",
      "Cell \u001b[1;32mIn [41], line 2\u001b[0m\n\u001b[0;32m      1\u001b[0m voter_age \u001b[38;5;241m=\u001b[39m \u001b[38;5;28mint\u001b[39m(\u001b[38;5;28minput\u001b[39m())\n\u001b[1;32m----> 2\u001b[0m \u001b[38;5;28;01massert\u001b[39;00m voter_age \u001b[38;5;241m>\u001b[39m\u001b[38;5;241m=\u001b[39m \u001b[38;5;241m18\u001b[39m, \u001b[38;5;124m\"\u001b[39m\u001b[38;5;124mVoter must be 18 or more\u001b[39m\u001b[38;5;124m\"\u001b[39m\n",
      "\u001b[1;31mAssertionError\u001b[0m: Voter must be 18 or more"
     ]
    }
   ],
   "source": [
    "voter_age = int(input())\n",
    "assert voter_age >= 18, \"Voter must be 18 or more\""
   ]
  },
  {
   "cell_type": "code",
   "execution_count": 46,
   "id": "ab3f36c7",
   "metadata": {},
   "outputs": [
    {
     "name": "stdout",
     "output_type": "stream",
     "text": [
      "6\n",
      "Error caught:  Voter must be 18 or more\n"
     ]
    }
   ],
   "source": [
    "# In case you want to add your own exception message, you can use assert or raise\n",
    "try:\n",
    "    voter_age = int(input())\n",
    "    assert voter_age >= 18, \"Voter must be 18 or more\"\n",
    "except Exception as e:\n",
    "    print(\"Error caught: \",e)"
   ]
  },
  {
   "cell_type": "code",
   "execution_count": 45,
   "id": "d96729dc",
   "metadata": {},
   "outputs": [
    {
     "name": "stdout",
     "output_type": "stream",
     "text": [
      "18\n",
      "You are eligible\n"
     ]
    }
   ],
   "source": [
    "try:\n",
    "    voter_age = int(input())\n",
    "    if voter_age >= 18:\n",
    "        print(\"You are eligible\")\n",
    "    else:\n",
    "        raise Exception(\"voter age should not be less than 18\")\n",
    "except Exception as e:\n",
    "    print(e)"
   ]
  },
  {
   "cell_type": "markdown",
   "id": "79ac5ea3",
   "metadata": {},
   "source": [
    "### Multiple exception handling"
   ]
  },
  {
   "cell_type": "code",
   "execution_count": 51,
   "id": "56418ea2",
   "metadata": {},
   "outputs": [
    {
     "name": "stdout",
     "output_type": "stream",
     "text": [
      "yogesh\n",
      "invalid literal for int() with base 10: 'yogesh'\n"
     ]
    }
   ],
   "source": [
    "try:\n",
    "#    a = 1/0\n",
    "#     b = open(\"day12.pdf\")\n",
    "#     c = [1,2]\n",
    "#     print(c[2])\n",
    "     d = int(input())\n",
    "except ZeroDivisionError as z:\n",
    "    print(z)\n",
    "except IndexError as i:\n",
    "    print(i)\n",
    "except ValueError as v:\n",
    "    print(v)\n",
    "except FileNotFoundError as f:\n",
    "    print(f)\n",
    "    \n",
    "    "
   ]
  },
  {
   "cell_type": "code",
   "execution_count": 52,
   "id": "36fcb484",
   "metadata": {},
   "outputs": [],
   "source": [
    "import urllib.request as ur"
   ]
  },
  {
   "cell_type": "code",
   "execution_count": 55,
   "id": "cb37e5b6",
   "metadata": {},
   "outputs": [
    {
     "name": "stdout",
     "output_type": "stream",
     "text": [
      "<urlopen error [Errno 11001] getaddrinfo failed>\n"
     ]
    }
   ],
   "source": [
    "try:\n",
    "    data = ur.urlopen(\"http://yogesh.com\")\n",
    "except Exception as e:\n",
    "    print(e)"
   ]
  },
  {
   "cell_type": "code",
   "execution_count": 56,
   "id": "5b789ee5",
   "metadata": {},
   "outputs": [
    {
     "name": "stdout",
     "output_type": "stream",
     "text": [
      "Caught an error:  division by zero\n"
     ]
    }
   ],
   "source": [
    "#WAP to handel divisionbyzeroerror\n",
    "try:\n",
    "    a = 3/0\n",
    "    print(a)\n",
    "except Exception as e:\n",
    "    print(\"Caught an error: \",e)\n",
    "    "
   ]
  },
  {
   "cell_type": "markdown",
   "id": "e694b6e9",
   "metadata": {},
   "source": [
    "# User Defined Exception handling using OOPS concept"
   ]
  },
  {
   "cell_type": "code",
   "execution_count": 74,
   "id": "7f510e20",
   "metadata": {},
   "outputs": [],
   "source": [
    "class Bank_balance(Exception):\n",
    "    def __init__(self,b):\n",
    "        self.b = b\n",
    "    def __str__(self):\n",
    "        return \"Your balance should be 5000 or more, but you have {}\".format(self.b)"
   ]
  },
  {
   "cell_type": "code",
   "execution_count": 81,
   "id": "1c4de157",
   "metadata": {},
   "outputs": [],
   "source": [
    "class Yogesh:\n",
    "    def check(self,b):\n",
    "        if b<5000:\n",
    "            try:\n",
    "                raise Bank_balance(b)\n",
    "            except Bank_balance as b:\n",
    "                print(\"Error caught: \",b)\n",
    "        else:\n",
    "            print(\"You are eligible\")"
   ]
  },
  {
   "cell_type": "code",
   "execution_count": 82,
   "id": "88ef88c2",
   "metadata": {},
   "outputs": [],
   "source": [
    "y1 = Yogesh()"
   ]
  },
  {
   "cell_type": "code",
   "execution_count": 83,
   "id": "b74cebf6",
   "metadata": {},
   "outputs": [
    {
     "name": "stdout",
     "output_type": "stream",
     "text": [
      "Error caught:  Your balance should be 5000 or more, but you have 4999\n"
     ]
    }
   ],
   "source": [
    "y1.check(4999)"
   ]
  },
  {
   "cell_type": "code",
   "execution_count": 21,
   "id": "f9dc8924",
   "metadata": {},
   "outputs": [
    {
     "name": "stdout",
     "output_type": "stream",
     "text": [
      "\n",
      "15\n",
      "This value is too large. Please retry!\n",
      "\n",
      "8\n",
      "This value is too small. Please retry!\n",
      "\n",
      "11\n",
      "This value is too small. Please retry!\n",
      "\n",
      "12\n",
      "You are excellent!\n"
     ]
    }
   ],
   "source": [
    "import random\n",
    "class Error(Exception):\n",
    "    pass\n",
    "class ValueTooSmallError(Exception):\n",
    "    pass\n",
    "class ValueTooLargeError(Exception):\n",
    "    pass\n",
    "\n",
    "val = random.randint(1,50)\n",
    "count = 0\n",
    "print()\n",
    "while True:\n",
    "    try:\n",
    "        i_val = int(input())\n",
    "        count+=1\n",
    "        if i_val < val:\n",
    "            raise ValueTooSmallError\n",
    "        elif i_val > val:\n",
    "            raise ValueTooLargeError\n",
    "        break\n",
    "    except ValueTooSmallError:\n",
    "        print(\"This value is too small. Please retry!\")\n",
    "        print()\n",
    "    except ValueTooLargeError:\n",
    "        print(\"This value is too large. Please retry!\")\n",
    "        print()\n",
    "if count == 1:\n",
    "    print(\"You are extra ordinary player\")\n",
    "elif 2 <= count <= 5:\n",
    "    print(\"You are excellent!\")\n",
    "else:\n",
    "    print(\"Better luck next time!\")"
   ]
  },
  {
   "cell_type": "code",
   "execution_count": 4,
   "id": "c8334cff",
   "metadata": {},
   "outputs": [
    {
     "name": "stdout",
     "output_type": "stream",
     "text": [
      "17000\n"
     ]
    },
    {
     "ename": "SalaryNotInRangeError",
     "evalue": "Salary not in between 5000 and 15000",
     "output_type": "error",
     "traceback": [
      "\u001b[1;31m---------------------------------------------------------------------------\u001b[0m",
      "\u001b[1;31mSalaryNotInRangeError\u001b[0m                     Traceback (most recent call last)",
      "Cell \u001b[1;32mIn [4], line 9\u001b[0m\n\u001b[0;32m      7\u001b[0m s \u001b[38;5;241m=\u001b[39m \u001b[38;5;28mint\u001b[39m(\u001b[38;5;28minput\u001b[39m())\n\u001b[0;32m      8\u001b[0m \u001b[38;5;28;01mif\u001b[39;00m \u001b[38;5;129;01mnot\u001b[39;00m \u001b[38;5;241m5000\u001b[39m \u001b[38;5;241m<\u001b[39m s \u001b[38;5;241m<\u001b[39m \u001b[38;5;241m15000\u001b[39m:\n\u001b[1;32m----> 9\u001b[0m     \u001b[38;5;28;01mraise\u001b[39;00m SalaryNotInRangeError(s)\n",
      "\u001b[1;31mSalaryNotInRangeError\u001b[0m: Salary not in between 5000 and 15000"
     ]
    }
   ],
   "source": [
    "class SalaryNotInRangeError(Exception):\n",
    "    def __init__(self,s,msg = \"Salary not in between 5000 and 15000\"):\n",
    "        self.s = s\n",
    "        self.msg = msg\n",
    "        super().__init__(self.msg)\n",
    "        \n",
    "s = int(input())\n",
    "if not 5000 < s < 15000:\n",
    "    raise SalaryNotInRangeError(s)"
   ]
  },
  {
   "cell_type": "code",
   "execution_count": 14,
   "id": "e16ab217",
   "metadata": {},
   "outputs": [
    {
     "name": "stdout",
     "output_type": "stream",
     "text": [
      "<class '__main__.Usererror'>\n",
      "userError\n"
     ]
    }
   ],
   "source": [
    "class Usererror(RuntimeError):\n",
    "    def __init__(self, arg):\n",
    "        self.arg = arg\n",
    "    \n",
    "try:\n",
    "    raise Usererror(\"userError\")\n",
    "except Usererror as e:\n",
    "    print (type(e))\n",
    "    print(e)"
   ]
  },
  {
   "cell_type": "code",
   "execution_count": 17,
   "id": "79fd9e78",
   "metadata": {},
   "outputs": [
    {
     "name": "stdout",
     "output_type": "stream",
     "text": [
      "\n",
      "For percentage 93\n",
      "Congrats! You are enrolled.\n",
      "\n",
      "For percentage 102\n",
      "Found error:  The percentage is invalid.\n",
      "\n",
      "For percentage 68\n",
      "Found error:  The percentage is lesser than required, please try next year!\n"
     ]
    }
   ],
   "source": [
    "class PercentageError(Exception):\n",
    "    pass\n",
    "class InvalidPercentageError(PercentageError):\n",
    "    def __init__(self):\n",
    "        super().__init__(\"The percentage is invalid.\")\n",
    "class LessPercentageError(PercentageError):\n",
    "    def __init__(self):\n",
    "        super().__init__(\"The percentage is lesser than required, please try next year!\")\n",
    "\n",
    "class CheckPercentage(PercentageError):\n",
    "    def __init__(self, p):\n",
    "        self.p = p\n",
    "        if p > 100:\n",
    "            raise InvalidPercentageError\n",
    "        if p < 80:\n",
    "            raise LessPercentageError\n",
    "        print(\"Congrats! You are enrolled.\")\n",
    "try:\n",
    "    print(\"\\nFor percentage 93\")\n",
    "    CheckPercentage(93)\n",
    "except Exception as e:\n",
    "    print(\"Found error: \",e)\n",
    "\n",
    "try:\n",
    "    print(\"\\nFor percentage 102\")\n",
    "    CheckPercentage(102)\n",
    "except Exception as e:\n",
    "    print(\"Found error: \",e)\n",
    "    \n",
    "try:\n",
    "    print(\"\\nFor percentage 68\")\n",
    "    CheckPercentage(68)\n",
    "except Exception as e:\n",
    "    print(\"Found error: \",e)\n",
    "    "
   ]
  },
  {
   "cell_type": "code",
   "execution_count": null,
   "id": "8e979606",
   "metadata": {},
   "outputs": [],
   "source": []
  }
 ],
 "metadata": {
  "kernelspec": {
   "display_name": "Python 3 (ipykernel)",
   "language": "python",
   "name": "python3"
  },
  "language_info": {
   "codemirror_mode": {
    "name": "ipython",
    "version": 3
   },
   "file_extension": ".py",
   "mimetype": "text/x-python",
   "name": "python",
   "nbconvert_exporter": "python",
   "pygments_lexer": "ipython3",
   "version": "3.10.8"
  }
 },
 "nbformat": 4,
 "nbformat_minor": 5
}
