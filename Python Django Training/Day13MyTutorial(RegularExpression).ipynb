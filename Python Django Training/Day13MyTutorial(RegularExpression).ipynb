{
 "cells": [
  {
   "cell_type": "markdown",
   "id": "439e2916",
   "metadata": {},
   "source": [
    "### Regular expression in python:\n",
    "\n",
    "- Regular expression is sequence of characters that form pattern.\n",
    "\n",
    "- The module used is 're' for regular expression"
   ]
  },
  {
   "cell_type": "markdown",
   "id": "ab5e5953",
   "metadata": {},
   "source": [
    "  ### MetaCharacters ------ Description\n",
    "\n",
    "  -         \\\tUsed to drop the special meaning of character following it\n",
    "  -        []\tRepresent a character class\n",
    "  -         ^\tMatches the beginning\n",
    "  -         $\tMatches the end\n",
    "  -         .\tMatches any character except newline\n",
    "  -         |\tMeans OR (Matches with any of the characters separated by it.\n",
    "  -         ?\tMatches zero or one occurrence\n",
    "  -         *\tAny number of occurrences (including 0 occurrences)\n",
    "  -         +\tOne or more occurrences\n",
    "  -        {}\tIndicate the number of occurrences of a preceding regex to match.\n",
    "  -        ()\tEnclose a group of Regex"
   ]
  },
  {
   "cell_type": "markdown",
   "id": "4b620a5a",
   "metadata": {},
   "source": [
    "### List of special sequences \n",
    "\n",
    "Special Sequence\tDescription\n",
    "\n",
    "-    \\A\t            Matches if the string begins with the given character.\n",
    "                    Example: \\Afor \tfor geeks\n",
    "                    \n",
    "-    \\b\t            Matches if the word begins or ends with the given character.\n",
    "                    \\b(string) will check for the beginning of the word and (string)\\b \n",
    "                    will check for the ending of the word.\n",
    "                    Example: \\bge geeksget\n",
    "\n",
    "-    \\B\t            It is the opposite of the \\b i.e. the string should not \n",
    "                    start or end with the given regex.\n",
    "                    Example: \\Bge\ttogether forge\n",
    " \n",
    "-    \\d\t            Matches any decimal digit, this is equivalent to the set class [0-9].\n",
    "                    Example: \\d 123 gee1\n",
    "\n",
    "-    \\D\t            Matches any non-digit character, this is equivalent to the set class [^0-9]\t                   Example: \\D\tgeeks geek1\n",
    "\n",
    "-    \\s\t            Matches any whitespace character.\t\n",
    "                    Example: \\s\tgee ks a bc a\n",
    "\n",
    "-    \\S\t            Matches any non-whitespace character.\t\n",
    "                    Example: \\S\ta bd abcd\n",
    "\n",
    "-    \\w\t            Matches any alphanumeric character, this is equivalent to the class [a-zA-                     Z0-9_].\t\n",
    "                    Example: \\w\t123 geeKs4\n",
    "\n",
    "-    \\W\t            Matches any non-alphanumeric character.\t\n",
    "                    Example: \\W\t>$ gee<>\n",
    "                    \n",
    "-    \\Z\t            Matches if the string ends with the given regex.\n",
    "                    Example: ab\\Z\tabcdab abababab\n"
   ]
  },
  {
   "cell_type": "code",
   "execution_count": 1,
   "id": "8636485d",
   "metadata": {},
   "outputs": [],
   "source": [
    "import re"
   ]
  },
  {
   "cell_type": "code",
   "execution_count": 6,
   "id": "008f8ad8",
   "metadata": {},
   "outputs": [],
   "source": [
    "data = \"this is my first regular expression program\""
   ]
  },
  {
   "cell_type": "code",
   "execution_count": 3,
   "id": "28d156f4",
   "metadata": {},
   "outputs": [
    {
     "name": "stdout",
     "output_type": "stream",
     "text": [
      "<re.Match object; span=(8, 10), match='my'>\n"
     ]
    }
   ],
   "source": [
    "print(re.search('my', data))"
   ]
  },
  {
   "cell_type": "code",
   "execution_count": 4,
   "id": "c11790a4",
   "metadata": {},
   "outputs": [
    {
     "name": "stdout",
     "output_type": "stream",
     "text": [
      "None\n"
     ]
    }
   ],
   "source": [
    "print(re.search(\"my$\", data))"
   ]
  },
  {
   "cell_type": "code",
   "execution_count": 7,
   "id": "b6f8106a",
   "metadata": {},
   "outputs": [
    {
     "name": "stdout",
     "output_type": "stream",
     "text": [
      "<re.Match object; span=(0, 4), match='this'>\n"
     ]
    }
   ],
   "source": [
    "print(re.search(\"^this\", data))"
   ]
  },
  {
   "cell_type": "code",
   "execution_count": 8,
   "id": "edb89c6d",
   "metadata": {},
   "outputs": [
    {
     "name": "stdout",
     "output_type": "stream",
     "text": [
      "None\n"
     ]
    }
   ],
   "source": [
    "print(re.search(\"^regular\", data))"
   ]
  },
  {
   "cell_type": "code",
   "execution_count": 11,
   "id": "874c3b47",
   "metadata": {},
   "outputs": [
    {
     "data": {
      "text/plain": [
       "<re.Match object; span=(0, 1), match='t'>"
      ]
     },
     "execution_count": 11,
     "metadata": {},
     "output_type": "execute_result"
    }
   ],
   "source": [
    "re.match(\"[a-z]\", data)\n",
    "# re.search(\"[a-z]\", data)"
   ]
  },
  {
   "cell_type": "code",
   "execution_count": 15,
   "id": "0968e1f4",
   "metadata": {},
   "outputs": [
    {
     "data": {
      "text/plain": [
       "[]"
      ]
     },
     "execution_count": 15,
     "metadata": {},
     "output_type": "execute_result"
    }
   ],
   "source": [
    "re.findall(\"[A-Z]\", data)\n",
    "# re.findall(\"[a-z]\", data)"
   ]
  },
  {
   "cell_type": "code",
   "execution_count": 57,
   "id": "d5c089de",
   "metadata": {},
   "outputs": [],
   "source": [
    "dob = \"My date of birth is 06-12-1999 booth both\""
   ]
  },
  {
   "cell_type": "code",
   "execution_count": 26,
   "id": "c98e1404",
   "metadata": {},
   "outputs": [
    {
     "data": {
      "text/plain": [
       "9"
      ]
     },
     "execution_count": 26,
     "metadata": {},
     "output_type": "execute_result"
    }
   ],
   "source": [
    "# re.findall(\"[A-Z]\", dob)\n",
    "# re.findall(\"[0-9A-Z]\", dob)\n",
    "len(re.findall(\"[0-9A-Z]\", dob))"
   ]
  },
  {
   "cell_type": "code",
   "execution_count": 28,
   "id": "80b7bfcd",
   "metadata": {},
   "outputs": [
    {
     "data": {
      "text/plain": [
       "['birth', 'booth']"
      ]
     },
     "execution_count": 28,
     "metadata": {},
     "output_type": "execute_result"
    }
   ],
   "source": [
    "re.findall(\"b..th\", dob) # Here dot(.) Matches any character except newline"
   ]
  },
  {
   "cell_type": "code",
   "execution_count": 29,
   "id": "63562631",
   "metadata": {},
   "outputs": [
    {
     "data": {
      "text/plain": [
       "['birth is 06-12-1999 booth']"
      ]
     },
     "execution_count": 29,
     "metadata": {},
     "output_type": "execute_result"
    }
   ],
   "source": [
    "re.findall(\"b.*th\", dob) # Here asterik(*) Matched any number of occurrences (including 0 occurrences)"
   ]
  },
  {
   "cell_type": "code",
   "execution_count": 32,
   "id": "65000dad",
   "metadata": {},
   "outputs": [
    {
     "data": {
      "text/plain": [
       "['birth is 06-12-1999 booth']"
      ]
     },
     "execution_count": 32,
     "metadata": {},
     "output_type": "execute_result"
    }
   ],
   "source": [
    "re.findall(\"b.+th\", dob) # Here asterik(+) Matches One or more occurrences"
   ]
  },
  {
   "cell_type": "code",
   "execution_count": 44,
   "id": "983ee707",
   "metadata": {},
   "outputs": [
    {
     "data": {
      "text/plain": [
       "['both']"
      ]
     },
     "execution_count": 44,
     "metadata": {},
     "output_type": "execute_result"
    }
   ],
   "source": [
    "re.findall(\"bo{1}th\", dob) # Here {} Indicate the number of occurrences of a preceding regex to match.\n",
    "# re.findall(\"bo{2}th\", dob)"
   ]
  },
  {
   "cell_type": "code",
   "execution_count": 50,
   "id": "d9e80b3d",
   "metadata": {},
   "outputs": [
    {
     "data": {
      "text/plain": [
       "['th']"
      ]
     },
     "execution_count": 50,
     "metadata": {},
     "output_type": "execute_result"
    }
   ],
   "source": [
    "re.findall(\"b.*(th)\", dob) # Here () Enclose a group of Regex"
   ]
  },
  {
   "cell_type": "code",
   "execution_count": 51,
   "id": "ca92566b",
   "metadata": {},
   "outputs": [
    {
     "data": {
      "text/plain": [
       "['birth ', ' booth']"
      ]
     },
     "execution_count": 51,
     "metadata": {},
     "output_type": "execute_result"
    }
   ],
   "source": [
    "re.findall(\"birth | booth\", dob) # Here | Means OR (Matches with any of the characters separated by it."
   ]
  },
  {
   "cell_type": "code",
   "execution_count": 53,
   "id": "69092068",
   "metadata": {},
   "outputs": [
    {
     "data": {
      "text/plain": [
       "['1999']"
      ]
     },
     "execution_count": 53,
     "metadata": {},
     "output_type": "execute_result"
    }
   ],
   "source": [
    "# re.findall(\"\\d\", dob) # \n",
    "re.findall(\"\\d{4}\", dob)"
   ]
  },
  {
   "cell_type": "code",
   "execution_count": 62,
   "id": "dbbf3fd5",
   "metadata": {},
   "outputs": [
    {
     "data": {
      "text/plain": [
       "['1-1-1999']"
      ]
     },
     "execution_count": 62,
     "metadata": {},
     "output_type": "execute_result"
    }
   ],
   "source": [
    "dob = \"1-1-1999\"\n",
    "re.findall(\"\\d{1,2}-\\d{1,2}-\\d{4}\", dob)"
   ]
  },
  {
   "cell_type": "code",
   "execution_count": 70,
   "id": "34121ca8",
   "metadata": {},
   "outputs": [
    {
     "data": {
      "text/plain": [
       "['T']"
      ]
     },
     "execution_count": 70,
     "metadata": {},
     "output_type": "execute_result"
    }
   ],
   "source": [
    "regEx = \"This is a Character Example\"\n",
    "re.findall(\"\\AT\", regEx)"
   ]
  },
  {
   "cell_type": "code",
   "execution_count": 90,
   "id": "12567573",
   "metadata": {},
   "outputs": [
    {
     "name": "stdout",
     "output_type": "stream",
     "text": [
      "I have found atleast 1 in the beginning\n"
     ]
    }
   ],
   "source": [
    "regEx = \"This is a Character Example\"\n",
    "# re.findall(\"\\\\bis\", regEx)\n",
    "\n",
    "demo = re.findall(r\"a\\b\", regEx)\n",
    "if demo:\n",
    "    print(\"I have found atleast 1 in the beginning\")\n",
    "else:\n",
    "    print(\"Sorry\")"
   ]
  },
  {
   "cell_type": "code",
   "execution_count": 97,
   "id": "b40b191b",
   "metadata": {},
   "outputs": [],
   "source": [
    "f1 = open(\"C:/Users/sudebd/Documents/Sample Images(JPEG)/Six.jpeg\")\n",
    "f2 = open(\"C:\\\\Users\\\\sudebd\\\\Documents\\\\Sample Images(JPEG)\\\\Six.jpeg\")\n",
    "f3 = open(r\"C:\\Users\\sudebd\\Documents\\Sample Images(JPEG)\\Six.jpeg\")"
   ]
  },
  {
   "cell_type": "code",
   "execution_count": 105,
   "id": "aa1671d3",
   "metadata": {},
   "outputs": [
    {
     "name": "stdout",
     "output_type": "stream",
     "text": [
      "Sorry\n"
     ]
    }
   ],
   "source": [
    "regEx = \"This is a Character Example\"\n",
    "# re.findall(\"\\\\bis\", regEx)\n",
    "\n",
    "# demo = re.findall(r\"a\\B\", regEx)\n",
    "demo = re.findall(r\"is\\B\", regEx) # Checks word and not character\n",
    "if demo:\n",
    "    print(\"I have found atleast 1 in the beginning\", demo)\n",
    "else:\n",
    "    print(\"Sorry\")"
   ]
  },
  {
   "cell_type": "code",
   "execution_count": 109,
   "id": "03dbe932",
   "metadata": {},
   "outputs": [
    {
     "name": "stdout",
     "output_type": "stream",
     "text": [
      "I have found atleast 1 in the beginning ['T', 'h', 'i', 's', ' ', 'i', 's', ' ', 'a', ' ', 'C', 'h', 'a', 'r', 'a', 'c', 't', 'e', 'r', ' ', 'E', 'x', 'a', 'm', 'p', 'l', 'e', ' ']\n"
     ]
    }
   ],
   "source": [
    "regEx = \"This is a Character Example 06\"\n",
    "# re.findall(\"\\\\bis\", regEx)\n",
    "\n",
    "# demo = re.findall(r\"a\\B\", regEx)\n",
    "demo = re.findall(r\"\\D\", regEx) # Checks word and not character\n",
    "if demo:\n",
    "    print(\"I have found atleast 1 in the beginning\", demo)\n",
    "else:\n",
    "    print(\"Sorry\")"
   ]
  },
  {
   "cell_type": "code",
   "execution_count": 110,
   "id": "d1d07aca",
   "metadata": {},
   "outputs": [
    {
     "name": "stdout",
     "output_type": "stream",
     "text": [
      "I have found atleast 1 in the beginning [' ', ' ', ' ', ' ', ' ']\n"
     ]
    }
   ],
   "source": [
    "regEx = \"This is a Character Example 06\"\n",
    "# re.findall(\"\\\\bis\", regEx)\n",
    "\n",
    "# demo = re.findall(r\"a\\B\", regEx)\n",
    "demo = re.findall(r\"\\s\", regEx) # Checks word and not character\n",
    "if demo:\n",
    "    print(\"I have found atleast 1 in the beginning\", demo)\n",
    "else:\n",
    "    print(\"Sorry\")"
   ]
  },
  {
   "cell_type": "code",
   "execution_count": 111,
   "id": "3e52f82f",
   "metadata": {},
   "outputs": [
    {
     "name": "stdout",
     "output_type": "stream",
     "text": [
      "I have found atleast 1 in the beginning ['T', 'h', 'i', 's', 'i', 's', 'a', 'C', 'h', 'a', 'r', 'a', 'c', 't', 'e', 'r', 'E', 'x', 'a', 'm', 'p', 'l', 'e', '0', '6']\n"
     ]
    }
   ],
   "source": [
    "regEx = \"This is a Character Example 06\"\n",
    "# re.findall(\"\\\\bis\", regEx)\n",
    "\n",
    "# demo = re.findall(r\"a\\B\", regEx)\n",
    "demo = re.findall(r\"\\S\", regEx) # Checks word and not character\n",
    "if demo:\n",
    "    print(\"I have found atleast 1 in the beginning\", demo)\n",
    "else:\n",
    "    print(\"Sorry\")"
   ]
  },
  {
   "cell_type": "code",
   "execution_count": 114,
   "id": "397587d9",
   "metadata": {},
   "outputs": [
    {
     "name": "stdout",
     "output_type": "stream",
     "text": [
      "I have found atleast 1 in the beginning ['T', 'h', 'i', 's', 'i', 's', 'a', 'C', 'h', 'a', 'r', 'a', 'c', 't', 'e', 'r', '6', 'E', 'x', 'a', 'm', 'p', 'l', 'e', '0', '6']\n"
     ]
    }
   ],
   "source": [
    "regEx = \"This is a Character6$ Example 06\"\n",
    "# re.findall(\"\\\\bis\", regEx)\n",
    "\n",
    "# demo = re.findall(r\"a\\B\", regEx)\n",
    "demo = re.findall(r\"\\w\", regEx) # Checks word and not character\n",
    "if demo:\n",
    "    print(\"I have found atleast 1 in the beginning\", demo)\n",
    "else:\n",
    "    print(\"Sorry\")"
   ]
  },
  {
   "cell_type": "code",
   "execution_count": 115,
   "id": "fb318918",
   "metadata": {},
   "outputs": [
    {
     "name": "stdout",
     "output_type": "stream",
     "text": [
      "I have found atleast 1 in the beginning [' ', ' ', ' ', '$', ' ', ' ']\n"
     ]
    }
   ],
   "source": [
    "regEx = \"This is a Character6$ Example 06\"\n",
    "# re.findall(\"\\\\bis\", regEx)\n",
    "\n",
    "# demo = re.findall(r\"a\\B\", regEx)\n",
    "demo = re.findall(r\"\\W\", regEx) # Checks word and not character\n",
    "if demo:\n",
    "    print(\"I have found atleast 1 in the beginning\", demo)\n",
    "else:\n",
    "    print(\"Sorry\")"
   ]
  },
  {
   "cell_type": "code",
   "execution_count": 128,
   "id": "583a922e",
   "metadata": {},
   "outputs": [
    {
     "name": "stdout",
     "output_type": "stream",
     "text": [
      "I have found atleast 1 in the beginning ['7']\n"
     ]
    }
   ],
   "source": [
    "regEx = \"This is a Character6# Example 07\"\n",
    "# re.findall(\"\\\\bis\", regEx)\n",
    "\n",
    "# demo = re.findall(r\"a\\B\", regEx)\n",
    "demo = re.findall(r\"7\\Z\", regEx) # Here we place 07 in front of Z\n",
    "if demo:\n",
    "    print(\"I have found atleast 1 in the beginning\", demo)\n",
    "else:\n",
    "    print(\"Sorry\")"
   ]
  },
  {
   "cell_type": "code",
   "execution_count": 136,
   "id": "263a2381",
   "metadata": {},
   "outputs": [
    {
     "name": "stdout",
     "output_type": "stream",
     "text": [
      "['123456789', '987654321']\n"
     ]
    }
   ],
   "source": [
    "# A Python program to demonstrate working of\n",
    "# findall()\n",
    "import re\n",
    "\n",
    "# A sample text string where regular expression\n",
    "# is searched.\n",
    "string = \"\"\"Hello my Number is 123456789 and\n",
    "\t\t\tmy friend's number is 987654321\"\"\"\n",
    "\n",
    "# A sample regular expression to find digits.\n",
    "regex = '\\d+'\n",
    "\n",
    "match = re.findall(regex, string)\n",
    "print(match)\n",
    "\n",
    "# This example is contributed by Ayush Saluja.\n"
   ]
  },
  {
   "cell_type": "code",
   "execution_count": 155,
   "id": "a2aba5ce",
   "metadata": {},
   "outputs": [
    {
     "name": "stdout",
     "output_type": "stream",
     "text": [
      "['A', 'M', 'G', 'S']\n"
     ]
    }
   ],
   "source": [
    "# Module Regular Expression is imported\n",
    "# using __import__().\n",
    "import re\n",
    "\n",
    "# compile() creates regular expression\n",
    "# character class [a-e],\n",
    "# which is equivalent to [abcde].\n",
    "# class [abcde] will match with string with\n",
    "# 'a', 'b', 'c', 'd', 'e'.\n",
    "# p = re.compile('[a-e]')\n",
    "\n",
    "# findall() searches for the Regular Expression\n",
    "# and return a list upon finding\n",
    "print(re.findall('[A-Z]',\"Aye, said Mr. Gibenson Stark\"))\n"
   ]
  },
  {
   "cell_type": "code",
   "execution_count": 158,
   "id": "140283b8",
   "metadata": {},
   "outputs": [
    {
     "name": "stdout",
     "output_type": "stream",
     "text": [
      "\n",
      "      This is a single quote demo\n",
      "      \n"
     ]
    }
   ],
   "source": [
    "# print('\n",
    "#       This is a single quote demo\n",
    "#       ')\n",
    "      \n",
    "print(\"\"\"\n",
    "      This is a single quote demo\n",
    "      \"\"\")"
   ]
  },
  {
   "cell_type": "code",
   "execution_count": 169,
   "id": "1918325e",
   "metadata": {},
   "outputs": [
    {
     "data": {
      "text/plain": [
       "<re.Match object; span=(0, 23), match='sudebd.in@mouritech.com'>"
      ]
     },
     "execution_count": 169,
     "metadata": {},
     "output_type": "execute_result"
    }
   ],
   "source": [
    "# Write a program to validate mail id using regular expression\n",
    "\n",
    "mail = \"sudebd.in@mouritech.com\"\n",
    "re.match(\"\\w.+@\\w+.{2,4}\", mail)"
   ]
  },
  {
   "cell_type": "code",
   "execution_count": 171,
   "id": "67e49a96",
   "metadata": {},
   "outputs": [
    {
     "data": {
      "text/plain": [
       "[' ', ' ', ' ']"
      ]
     },
     "execution_count": 171,
     "metadata": {},
     "output_type": "execute_result"
    }
   ],
   "source": [
    "# Write a program to delete all the spaces from the sentence using regular expression\n",
    "\n",
    "testSentence = \"This is test sentence\"\n",
    "re.findall(\"\\s\", testSentence)"
   ]
  },
  {
   "cell_type": "code",
   "execution_count": 174,
   "id": "e610292a",
   "metadata": {},
   "outputs": [
    {
     "data": {
      "text/plain": [
       "'This😀is😀test😀sentence'"
      ]
     },
     "execution_count": 174,
     "metadata": {},
     "output_type": "execute_result"
    }
   ],
   "source": [
    "replace = \"😀\"\n",
    "pattern = \"\\s+\"\n",
    "re.sub(pattern, replace, testSentence)"
   ]
  },
  {
   "cell_type": "code",
   "execution_count": 180,
   "id": "d881ea6f",
   "metadata": {},
   "outputs": [
    {
     "data": {
      "text/plain": [
       "'This😀is😀test😀sentence'"
      ]
     },
     "execution_count": 180,
     "metadata": {},
     "output_type": "execute_result"
    }
   ],
   "source": [
    "replace = \"😀\"\n",
    "pattern = \"\\s+\"\n",
    "re.sub(pattern, replace, testSentence, 5)"
   ]
  },
  {
   "cell_type": "code",
   "execution_count": 182,
   "id": "86071a0a",
   "metadata": {},
   "outputs": [
    {
     "data": {
      "text/plain": [
       "['On ', 'th Jan ', ', at ', ':', ' AM']"
      ]
     },
     "execution_count": 182,
     "metadata": {},
     "output_type": "execute_result"
    }
   ],
   "source": [
    "re.split(\"\\d+\", \"On 12th Jan 2016, at 11:02 AM\")"
   ]
  },
  {
   "cell_type": "code",
   "execution_count": 193,
   "id": "ee1bf778",
   "metadata": {},
   "outputs": [
    {
     "name": "stdout",
     "output_type": "stream",
     "text": [
      "['', 'y, ', 'oy oh ', 'oy, ', 'om', ' h', 'r', '']\n"
     ]
    }
   ],
   "source": [
    "print(re.split('[a-f]+', 'Aey, Boy oh boy, come here', flags=re.IGNORECASE))"
   ]
  },
  {
   "cell_type": "code",
   "execution_count": 194,
   "id": "5bd9f64a",
   "metadata": {},
   "outputs": [
    {
     "data": {
      "text/plain": [
       "('This😀is😀test😀sentence', 3)"
      ]
     },
     "execution_count": 194,
     "metadata": {},
     "output_type": "execute_result"
    }
   ],
   "source": [
    "replace = \"😀\"\n",
    "pattern = \"\\s+\"\n",
    "re.subn(pattern, replace, testSentence)"
   ]
  },
  {
   "cell_type": "code",
   "execution_count": 195,
   "id": "18147303",
   "metadata": {},
   "outputs": [],
   "source": [
    "data = '39801 356, 2102 1111'"
   ]
  },
  {
   "cell_type": "code",
   "execution_count": 222,
   "id": "f804817c",
   "metadata": {},
   "outputs": [
    {
     "name": "stdout",
     "output_type": "stream",
     "text": [
      "[('39801', '356', '2102')]\n",
      "2102 1111\n"
     ]
    }
   ],
   "source": [
    "print(re.findall(\"(\\d{5}) (\\d{3}), (\\d{4})\", data))\n",
    "print(re.search(\"(\\d{4}) (\\d{4})\", data).group())"
   ]
  },
  {
   "cell_type": "code",
   "execution_count": 224,
   "id": "41924b03",
   "metadata": {},
   "outputs": [
    {
     "name": "stdout",
     "output_type": "stream",
     "text": [
      "['esting', 'regular', 'expressions', 'in', 'ython']\n",
      "['T', 'P']\n",
      "['3', '8']\n",
      "['Testing', 'regular', 'expressions', 'in', 'Python', '3', '8']\n"
     ]
    }
   ],
   "source": [
    "# 1. Write a Python program to check that a string contains only a certain set of characters \n",
    "# (in this case a-z, A-Z and 0-9)\n",
    "\n",
    "testSentence = \"Testing regular expressions in Python 3.8\"\n",
    "print(re.findall(r\"[a-z]+\", testSentence))\n",
    "print(re.findall(r\"[A-Z]+\", testSentence))\n",
    "print(re.findall(r\"[0-9]+\", testSentence))\n",
    "print(re.findall(r\"[a-zA-Z0-9]+\", testSentence))"
   ]
  },
  {
   "cell_type": "code",
   "execution_count": 243,
   "id": "5adaabaf",
   "metadata": {},
   "outputs": [
    {
     "name": "stdout",
     "output_type": "stream",
     "text": [
      "None\n"
     ]
    }
   ],
   "source": [
    "# Write a Python program that matches a string that has an a followed by zero or more b's.\n",
    "\n",
    "test = 'abbbbc'\n",
    "print(re.search(r\"^a(b*)$\", test))"
   ]
  },
  {
   "cell_type": "code",
   "execution_count": 251,
   "id": "2408b3f3",
   "metadata": {},
   "outputs": [
    {
     "name": "stdout",
     "output_type": "stream",
     "text": [
      "<re.Match object; span=(0, 5), match='abbbb'>\n"
     ]
    }
   ],
   "source": [
    "#  Write a Python program that matches a string that has an a followed by one or more b's\n",
    "test = 'abbbb'\n",
    "print(re.search(r\"^a(b+)$\", test))"
   ]
  },
  {
   "cell_type": "code",
   "execution_count": 257,
   "id": "04c91def",
   "metadata": {},
   "outputs": [
    {
     "name": "stdout",
     "output_type": "stream",
     "text": [
      "<re.Match object; span=(0, 2), match='ab'>\n"
     ]
    }
   ],
   "source": [
    "# Write a Python program that matches a string that has an a followed by zero or one 'b'\n",
    "test = 'ab'\n",
    "print(re.search(r\"^a(b?)$\", test))"
   ]
  },
  {
   "cell_type": "code",
   "execution_count": 263,
   "id": "7841c656",
   "metadata": {},
   "outputs": [
    {
     "name": "stdout",
     "output_type": "stream",
     "text": [
      "<re.Match object; span=(0, 4), match='abbb'>\n"
     ]
    }
   ],
   "source": [
    "# Write a Python program that matches a string that has an a followed by three 'b'\n",
    "test = 'abbb abbb'\n",
    "print(re.search(r\"ab{3}?\", test))"
   ]
  },
  {
   "cell_type": "code",
   "execution_count": 269,
   "id": "64fbc819",
   "metadata": {},
   "outputs": [
    {
     "name": "stdout",
     "output_type": "stream",
     "text": [
      "<re.Match object; span=(0, 9), match='name_name'>\n"
     ]
    }
   ],
   "source": [
    "# Write a Python program to find sequences of lowercase letters joined with a underscore\n",
    "test = \"name_name\"\n",
    "print(re.search(r\"^[a-z]+_[a-z]+$\", test))"
   ]
  },
  {
   "cell_type": "code",
   "execution_count": 271,
   "id": "9cbbdb2e",
   "metadata": {},
   "outputs": [
    {
     "name": "stdout",
     "output_type": "stream",
     "text": [
      "<re.Match object; span=(0, 4), match='antb'>\n"
     ]
    }
   ],
   "source": [
    "#  Write a Python program that matches a string that has an 'a' followed by anything, ending in 'b'.\n",
    "test = 'antb'\n",
    "print(re.search(r\"^a.*b$\",test))"
   ]
  },
  {
   "cell_type": "code",
   "execution_count": 274,
   "id": "c1530f14",
   "metadata": {},
   "outputs": [
    {
     "name": "stdout",
     "output_type": "stream",
     "text": [
      "<re.Match object; span=(0, 1), match='1'>\n"
     ]
    }
   ],
   "source": [
    "# Write a Python program where a string will start with a specific number.\n",
    "test = \"11One\"\n",
    "print(re.search(r\"^1\", test))"
   ]
  },
  {
   "cell_type": "code",
   "execution_count": 281,
   "id": "770aa322",
   "metadata": {},
   "outputs": [
    {
     "data": {
      "text/plain": [
       "'123.101.145.198'"
      ]
     },
     "execution_count": 281,
     "metadata": {},
     "output_type": "execute_result"
    }
   ],
   "source": [
    "# Write a Python program to remove leading zeros from an IP address\n",
    "test = \"123.0101.00145.198\"\n",
    "pattern = \"\\.0*\"\n",
    "replace = \".\"\n",
    "re.sub(pattern, replace, test)"
   ]
  },
  {
   "cell_type": "code",
   "execution_count": null,
   "id": "c9e3f136",
   "metadata": {},
   "outputs": [],
   "source": []
  }
 ],
 "metadata": {
  "kernelspec": {
   "display_name": "Python 3 (ipykernel)",
   "language": "python",
   "name": "python3"
  },
  "language_info": {
   "codemirror_mode": {
    "name": "ipython",
    "version": 3
   },
   "file_extension": ".py",
   "mimetype": "text/x-python",
   "name": "python",
   "nbconvert_exporter": "python",
   "pygments_lexer": "ipython3",
   "version": "3.10.8"
  }
 },
 "nbformat": 4,
 "nbformat_minor": 5
}
