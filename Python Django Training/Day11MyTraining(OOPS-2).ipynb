{
 "cells": [
  {
   "cell_type": "markdown",
   "id": "0c59e92f",
   "metadata": {},
   "source": [
    "### Data Hiding\n"
   ]
  },
  {
   "cell_type": "code",
   "execution_count": 1,
   "id": "a74d90fc",
   "metadata": {},
   "outputs": [],
   "source": [
    "class Hide:\n",
    "    a=10\n",
    "    __b = 20"
   ]
  },
  {
   "cell_type": "code",
   "execution_count": 2,
   "id": "bd97add0",
   "metadata": {},
   "outputs": [],
   "source": [
    "h1 = Hide()"
   ]
  },
  {
   "cell_type": "code",
   "execution_count": 3,
   "id": "6a114b2c",
   "metadata": {},
   "outputs": [
    {
     "data": {
      "text/plain": [
       "10"
      ]
     },
     "execution_count": 3,
     "metadata": {},
     "output_type": "execute_result"
    }
   ],
   "source": [
    "h1.a"
   ]
  },
  {
   "cell_type": "code",
   "execution_count": 5,
   "id": "a04217f1",
   "metadata": {},
   "outputs": [
    {
     "ename": "AttributeError",
     "evalue": "'Hide' object has no attribute '__b'",
     "output_type": "error",
     "traceback": [
      "\u001b[1;31m---------------------------------------------------------------------------\u001b[0m",
      "\u001b[1;31mAttributeError\u001b[0m                            Traceback (most recent call last)",
      "Cell \u001b[1;32mIn [5], line 1\u001b[0m\n\u001b[1;32m----> 1\u001b[0m \u001b[43mh1\u001b[49m\u001b[38;5;241;43m.\u001b[39;49m\u001b[43m__b\u001b[49m\n",
      "\u001b[1;31mAttributeError\u001b[0m: 'Hide' object has no attribute '__b'"
     ]
    }
   ],
   "source": [
    "h1.__b # __b is the hidden variable in python."
   ]
  },
  {
   "cell_type": "markdown",
   "id": "8858921c",
   "metadata": {},
   "source": [
    "### \"__variable\" is a hidden variable in python"
   ]
  },
  {
   "cell_type": "markdown",
   "id": "d39716b3",
   "metadata": {},
   "source": [
    "### How to get data of a hidden variable"
   ]
  },
  {
   "cell_type": "markdown",
   "id": "b41a77f1",
   "metadata": {},
   "source": [
    "1. First Method\n",
    "   - Getting Hidden variable data out of the class"
   ]
  },
  {
   "cell_type": "code",
   "execution_count": 6,
   "id": "3c3e2ec8",
   "metadata": {},
   "outputs": [
    {
     "data": {
      "text/plain": [
       "20"
      ]
     },
     "execution_count": 6,
     "metadata": {},
     "output_type": "execute_result"
    }
   ],
   "source": [
    "h1._Hide__b"
   ]
  },
  {
   "cell_type": "markdown",
   "id": "2306810d",
   "metadata": {},
   "source": [
    "2. Second Method\n",
    "    - Getting the Hidden data using function defined inside the class."
   ]
  },
  {
   "cell_type": "code",
   "execution_count": 7,
   "id": "21f8c80a",
   "metadata": {},
   "outputs": [],
   "source": [
    "class Hello:\n",
    "    __pin = 1234\n",
    "    \n",
    "    def demo(self):\n",
    "        print(self.__pin)"
   ]
  },
  {
   "cell_type": "code",
   "execution_count": 8,
   "id": "a79cf90c",
   "metadata": {},
   "outputs": [],
   "source": [
    "h2 = Hello()"
   ]
  },
  {
   "cell_type": "code",
   "execution_count": 9,
   "id": "a56c8ba0",
   "metadata": {},
   "outputs": [
    {
     "name": "stdout",
     "output_type": "stream",
     "text": [
      "1234\n"
     ]
    }
   ],
   "source": [
    "h2.demo()"
   ]
  },
  {
   "cell_type": "markdown",
   "id": "d28a3a6e",
   "metadata": {},
   "source": [
    "### Static functions or methods in Python"
   ]
  },
  {
   "cell_type": "code",
   "execution_count": 23,
   "id": "4bb2aea2",
   "metadata": {},
   "outputs": [],
   "source": [
    "class StaticFun:\n",
    "    def demo(self):\n",
    "        print(\"Today is Friday\")\n",
    "    @staticmethod\n",
    "    def staticDemo():\n",
    "        print(\"I am a function call without object\")\n",
    "    def checkAge(age):\n",
    "        if age>30:\n",
    "            print(\"You are Genius\")\n",
    "        else:\n",
    "            print(\"You are Kid\")"
   ]
  },
  {
   "cell_type": "code",
   "execution_count": 20,
   "id": "8c450c9e",
   "metadata": {},
   "outputs": [
    {
     "ename": "TypeError",
     "evalue": "StaticFun.demo() missing 1 required positional argument: 'self'",
     "output_type": "error",
     "traceback": [
      "\u001b[1;31m---------------------------------------------------------------------------\u001b[0m",
      "\u001b[1;31mTypeError\u001b[0m                                 Traceback (most recent call last)",
      "Cell \u001b[1;32mIn [20], line 1\u001b[0m\n\u001b[1;32m----> 1\u001b[0m \u001b[43mStaticFun\u001b[49m\u001b[38;5;241;43m.\u001b[39;49m\u001b[43mdemo\u001b[49m\u001b[43m(\u001b[49m\u001b[43m)\u001b[49m\n",
      "\u001b[1;31mTypeError\u001b[0m: StaticFun.demo() missing 1 required positional argument: 'self'"
     ]
    }
   ],
   "source": [
    "StaticFun.demo() # Compulsory we have to use the object to call function of the class"
   ]
  },
  {
   "cell_type": "code",
   "execution_count": 15,
   "id": "3e421f5a",
   "metadata": {},
   "outputs": [],
   "source": [
    "f1 = StaticFun()"
   ]
  },
  {
   "cell_type": "code",
   "execution_count": 16,
   "id": "503ca0ca",
   "metadata": {},
   "outputs": [
    {
     "name": "stdout",
     "output_type": "stream",
     "text": [
      "Today is Friday\n"
     ]
    }
   ],
   "source": [
    "f1.demo()"
   ]
  },
  {
   "cell_type": "code",
   "execution_count": 18,
   "id": "244dec56",
   "metadata": {},
   "outputs": [
    {
     "name": "stdout",
     "output_type": "stream",
     "text": [
      "I am a function call without object\n"
     ]
    }
   ],
   "source": [
    "StaticFun.staticDemo()"
   ]
  },
  {
   "cell_type": "code",
   "execution_count": 24,
   "id": "13c99dc5",
   "metadata": {},
   "outputs": [
    {
     "name": "stdout",
     "output_type": "stream",
     "text": [
      "You are Kid\n"
     ]
    }
   ],
   "source": [
    "StaticFun.checkAge(22)"
   ]
  },
  {
   "cell_type": "markdown",
   "id": "15328fec",
   "metadata": {},
   "source": [
    "### Class Method in Python "
   ]
  },
  {
   "cell_type": "code",
   "execution_count": 38,
   "id": "c3bccd4d",
   "metadata": {},
   "outputs": [],
   "source": [
    "class Saturday:\n",
    "    salary = 70000\n",
    "    \n",
    "#     def demo(self, m):\n",
    "#         salary = m\n",
    "#         print(\"I am in saturday class\", salary)\n",
    "        \n",
    "    @classmethod\n",
    "    def demo(cls, m):\n",
    "        salary = m\n",
    "        print(\"I am in saturday class\", salary)\n",
    "    "
   ]
  },
  {
   "cell_type": "code",
   "execution_count": 39,
   "id": "6de0e8ee",
   "metadata": {},
   "outputs": [
    {
     "name": "stdout",
     "output_type": "stream",
     "text": [
      "I am in saturday class 45\n"
     ]
    }
   ],
   "source": [
    "s1 = Saturday()\n",
    "s1.demo(45)"
   ]
  },
  {
   "cell_type": "code",
   "execution_count": 40,
   "id": "30d39586",
   "metadata": {},
   "outputs": [
    {
     "data": {
      "text/plain": [
       "70000"
      ]
     },
     "execution_count": 40,
     "metadata": {},
     "output_type": "execute_result"
    }
   ],
   "source": [
    "s1.salary"
   ]
  },
  {
   "cell_type": "code",
   "execution_count": 41,
   "id": "88f7ce15",
   "metadata": {},
   "outputs": [
    {
     "name": "stdout",
     "output_type": "stream",
     "text": [
      "I am in saturday class 45000\n"
     ]
    }
   ],
   "source": [
    "s1 = Saturday()\n",
    "s1.demo(45000)"
   ]
  },
  {
   "cell_type": "code",
   "execution_count": 42,
   "id": "86aa5981",
   "metadata": {},
   "outputs": [
    {
     "data": {
      "text/plain": [
       "70000"
      ]
     },
     "execution_count": 42,
     "metadata": {},
     "output_type": "execute_result"
    }
   ],
   "source": [
    "s1.salary\n"
   ]
  },
  {
   "cell_type": "code",
   "execution_count": 43,
   "id": "05af27bf",
   "metadata": {},
   "outputs": [],
   "source": [
    "Saturday.demo_demo = classmethod(Saturday.demo)"
   ]
  },
  {
   "cell_type": "code",
   "execution_count": 44,
   "id": "b646a03c",
   "metadata": {},
   "outputs": [
    {
     "name": "stdout",
     "output_type": "stream",
     "text": [
      "I am in saturday class 45000\n"
     ]
    }
   ],
   "source": [
    "Saturday.demo_demo(45000)"
   ]
  },
  {
   "cell_type": "code",
   "execution_count": 45,
   "id": "b28a28c8",
   "metadata": {},
   "outputs": [
    {
     "data": {
      "text/plain": [
       "70000"
      ]
     },
     "execution_count": 45,
     "metadata": {},
     "output_type": "execute_result"
    }
   ],
   "source": [
    "s1.salary"
   ]
  },
  {
   "cell_type": "code",
   "execution_count": 46,
   "id": "bc32f660",
   "metadata": {},
   "outputs": [],
   "source": [
    "from datetime import date\n",
    "class Person:\n",
    "    def __init__(self,age):\n",
    "        self.age = age\n",
    "    \n",
    "    @classmethod\n",
    "    def computeAge(cls, year):\n",
    "        return cls(date.today().year - year)\n",
    "    \n",
    "    def showAge(self):\n",
    "        print(\"Current Age is \", self.age)"
   ]
  },
  {
   "cell_type": "code",
   "execution_count": 52,
   "id": "6527cffa",
   "metadata": {},
   "outputs": [],
   "source": [
    "p1 = Person(35)"
   ]
  },
  {
   "cell_type": "code",
   "execution_count": 53,
   "id": "2fcbfe4a",
   "metadata": {},
   "outputs": [
    {
     "data": {
      "text/plain": [
       "35"
      ]
     },
     "execution_count": 53,
     "metadata": {},
     "output_type": "execute_result"
    }
   ],
   "source": [
    "p1.age"
   ]
  },
  {
   "cell_type": "code",
   "execution_count": 58,
   "id": "9eda67eb",
   "metadata": {},
   "outputs": [],
   "source": [
    "var = p1.computeAge(1999)"
   ]
  },
  {
   "cell_type": "code",
   "execution_count": 55,
   "id": "cfd43e98",
   "metadata": {},
   "outputs": [
    {
     "name": "stdout",
     "output_type": "stream",
     "text": [
      "Current Age is  35\n"
     ]
    }
   ],
   "source": [
    "p1.showAge()"
   ]
  },
  {
   "cell_type": "code",
   "execution_count": 56,
   "id": "ce6c9fc6",
   "metadata": {},
   "outputs": [
    {
     "data": {
      "text/plain": [
       "35"
      ]
     },
     "execution_count": 56,
     "metadata": {},
     "output_type": "execute_result"
    }
   ],
   "source": [
    "p1.age"
   ]
  },
  {
   "cell_type": "code",
   "execution_count": 59,
   "id": "c13820a8",
   "metadata": {},
   "outputs": [
    {
     "name": "stdout",
     "output_type": "stream",
     "text": [
      "Current Age is  23\n"
     ]
    }
   ],
   "source": [
    "var.showAge()"
   ]
  },
  {
   "cell_type": "code",
   "execution_count": 60,
   "id": "492a0faf",
   "metadata": {},
   "outputs": [
    {
     "data": {
      "text/plain": [
       "35"
      ]
     },
     "execution_count": 60,
     "metadata": {},
     "output_type": "execute_result"
    }
   ],
   "source": [
    "p1.age"
   ]
  },
  {
   "cell_type": "code",
   "execution_count": 77,
   "id": "37dac51f",
   "metadata": {},
   "outputs": [],
   "source": [
    "class Student:\n",
    "    company = \"Mouritech\"\n",
    "    def Sun(self, company):\n",
    "        self.company = company\n",
    "    \n",
    "    @classmethod\n",
    "    def change_company(cls, company):\n",
    "        cls.company = company"
   ]
  },
  {
   "cell_type": "code",
   "execution_count": 62,
   "id": "655f0682",
   "metadata": {},
   "outputs": [],
   "source": [
    "s1 = Student()"
   ]
  },
  {
   "cell_type": "code",
   "execution_count": 63,
   "id": "32344147",
   "metadata": {},
   "outputs": [
    {
     "data": {
      "text/plain": [
       "'Mouritech'"
      ]
     },
     "execution_count": 63,
     "metadata": {},
     "output_type": "execute_result"
    }
   ],
   "source": [
    "s1.company"
   ]
  },
  {
   "cell_type": "code",
   "execution_count": 78,
   "id": "fab93669",
   "metadata": {},
   "outputs": [],
   "source": [
    "s1.change_company(\"TCS\")"
   ]
  },
  {
   "cell_type": "code",
   "execution_count": 79,
   "id": "2164be4f",
   "metadata": {},
   "outputs": [
    {
     "data": {
      "text/plain": [
       "'TCS'"
      ]
     },
     "execution_count": 79,
     "metadata": {},
     "output_type": "execute_result"
    }
   ],
   "source": [
    "s1.company"
   ]
  },
  {
   "cell_type": "code",
   "execution_count": 80,
   "id": "91db5a7a",
   "metadata": {},
   "outputs": [],
   "source": [
    "s1 = Student()\n",
    "s2 = Student()"
   ]
  },
  {
   "cell_type": "code",
   "execution_count": 81,
   "id": "ca56e34c",
   "metadata": {},
   "outputs": [
    {
     "data": {
      "text/plain": [
       "'Mouritech'"
      ]
     },
     "execution_count": 81,
     "metadata": {},
     "output_type": "execute_result"
    }
   ],
   "source": [
    "s1.company\n"
   ]
  },
  {
   "cell_type": "code",
   "execution_count": 82,
   "id": "ffc5cbf5",
   "metadata": {},
   "outputs": [
    {
     "data": {
      "text/plain": [
       "'Mouritech'"
      ]
     },
     "execution_count": 82,
     "metadata": {},
     "output_type": "execute_result"
    }
   ],
   "source": [
    "s2.company"
   ]
  },
  {
   "cell_type": "code",
   "execution_count": 83,
   "id": "ef677437",
   "metadata": {},
   "outputs": [],
   "source": [
    "s1.Sun(\"TCS\")"
   ]
  },
  {
   "cell_type": "code",
   "execution_count": 84,
   "id": "c2c27c53",
   "metadata": {},
   "outputs": [
    {
     "data": {
      "text/plain": [
       "'TCS'"
      ]
     },
     "execution_count": 84,
     "metadata": {},
     "output_type": "execute_result"
    }
   ],
   "source": [
    "s1.company"
   ]
  },
  {
   "cell_type": "code",
   "execution_count": 85,
   "id": "3a9ae1c3",
   "metadata": {},
   "outputs": [
    {
     "data": {
      "text/plain": [
       "'Mouritech'"
      ]
     },
     "execution_count": 85,
     "metadata": {},
     "output_type": "execute_result"
    }
   ],
   "source": [
    "s2.company"
   ]
  },
  {
   "cell_type": "code",
   "execution_count": 86,
   "id": "5ce93952",
   "metadata": {},
   "outputs": [],
   "source": [
    "s1.change_company(\"Capgemini\")"
   ]
  },
  {
   "cell_type": "code",
   "execution_count": 87,
   "id": "02f61012",
   "metadata": {},
   "outputs": [
    {
     "data": {
      "text/plain": [
       "'TCS'"
      ]
     },
     "execution_count": 87,
     "metadata": {},
     "output_type": "execute_result"
    }
   ],
   "source": [
    "s1.company"
   ]
  },
  {
   "cell_type": "code",
   "execution_count": 88,
   "id": "0d1ededf",
   "metadata": {},
   "outputs": [
    {
     "data": {
      "text/plain": [
       "'Capgemini'"
      ]
     },
     "execution_count": 88,
     "metadata": {},
     "output_type": "execute_result"
    }
   ],
   "source": [
    "s2.company"
   ]
  },
  {
   "cell_type": "code",
   "execution_count": 90,
   "id": "40930f77",
   "metadata": {},
   "outputs": [
    {
     "data": {
      "text/plain": [
       "'Capgemini'"
      ]
     },
     "execution_count": 90,
     "metadata": {},
     "output_type": "execute_result"
    }
   ],
   "source": [
    "s3 = Student()\n",
    "s3.company"
   ]
  },
  {
   "cell_type": "code",
   "execution_count": 118,
   "id": "1e80400c",
   "metadata": {},
   "outputs": [],
   "source": [
    "class Student:\n",
    "    company = \"Mouritech\"\n",
    "    def Sun(self, company):\n",
    "        self.company = company\n",
    "    \n",
    "    #@classmethod\n",
    "    def change_company(cls, company):\n",
    "        cls.company = company"
   ]
  },
  {
   "cell_type": "code",
   "execution_count": 119,
   "id": "82cd8489",
   "metadata": {},
   "outputs": [],
   "source": [
    "s1 = Student()\n",
    "s2 = Student()"
   ]
  },
  {
   "cell_type": "code",
   "execution_count": 120,
   "id": "525c9570",
   "metadata": {},
   "outputs": [
    {
     "data": {
      "text/plain": [
       "('Mouritech', 'Mouritech')"
      ]
     },
     "execution_count": 120,
     "metadata": {},
     "output_type": "execute_result"
    }
   ],
   "source": [
    "s1.company, s2.company"
   ]
  },
  {
   "cell_type": "code",
   "execution_count": 121,
   "id": "4b80839f",
   "metadata": {},
   "outputs": [],
   "source": [
    "s1.Sun(\"Google\")"
   ]
  },
  {
   "cell_type": "code",
   "execution_count": 122,
   "id": "ccb1a8db",
   "metadata": {},
   "outputs": [
    {
     "data": {
      "text/plain": [
       "('Google', 'Mouritech')"
      ]
     },
     "execution_count": 122,
     "metadata": {},
     "output_type": "execute_result"
    }
   ],
   "source": [
    "s1.company, s2.company"
   ]
  },
  {
   "cell_type": "code",
   "execution_count": 123,
   "id": "db11daf1",
   "metadata": {},
   "outputs": [],
   "source": [
    "s2.change_company(\"TCS\")"
   ]
  },
  {
   "cell_type": "code",
   "execution_count": 124,
   "id": "db218186",
   "metadata": {},
   "outputs": [
    {
     "data": {
      "text/plain": [
       "('Google', 'TCS')"
      ]
     },
     "execution_count": 124,
     "metadata": {},
     "output_type": "execute_result"
    }
   ],
   "source": [
    "s1.company, s2.company"
   ]
  },
  {
   "cell_type": "code",
   "execution_count": 125,
   "id": "792d0080",
   "metadata": {},
   "outputs": [],
   "source": [
    "s3 = Student()"
   ]
  },
  {
   "cell_type": "code",
   "execution_count": 126,
   "id": "c799a4a9",
   "metadata": {},
   "outputs": [
    {
     "data": {
      "text/plain": [
       "'Mouritech'"
      ]
     },
     "execution_count": 126,
     "metadata": {},
     "output_type": "execute_result"
    }
   ],
   "source": [
    "s3.company"
   ]
  },
  {
   "cell_type": "markdown",
   "id": "cf2d2a33",
   "metadata": {},
   "source": [
    "### By using the class method we can modify the state of the class"
   ]
  },
  {
   "cell_type": "code",
   "execution_count": 132,
   "id": "f5444df9",
   "metadata": {},
   "outputs": [],
   "source": [
    "class Emp:\n",
    "    def __init__(self,age):\n",
    "        self.age = age\n",
    "    @classmethod\n",
    "    def byBday(cls, year):\n",
    "        return cls(date.today().year - year)\n",
    "    def disp(self):\n",
    "        print(\"Emp Age : \", self.age)"
   ]
  },
  {
   "cell_type": "code",
   "execution_count": 135,
   "id": "dc0762d3",
   "metadata": {},
   "outputs": [],
   "source": [
    "emp1 = Emp(21)\n",
    "emp1 = Emp.byBday(1996)"
   ]
  },
  {
   "cell_type": "code",
   "execution_count": 136,
   "id": "d56e68ea",
   "metadata": {},
   "outputs": [
    {
     "data": {
      "text/plain": [
       "26"
      ]
     },
     "execution_count": 136,
     "metadata": {},
     "output_type": "execute_result"
    }
   ],
   "source": [
    "emp1.age"
   ]
  },
  {
   "cell_type": "code",
   "execution_count": 137,
   "id": "8349047b",
   "metadata": {},
   "outputs": [
    {
     "name": "stdout",
     "output_type": "stream",
     "text": [
      "Emp Age :  26\n"
     ]
    }
   ],
   "source": [
    "emp1.disp()"
   ]
  },
  {
   "cell_type": "code",
   "execution_count": 138,
   "id": "115fbe2f",
   "metadata": {},
   "outputs": [],
   "source": [
    "class MessCard:\n",
    "    balance = 5000\n",
    "    \n",
    "    def eatBreakfast(self):\n",
    "        self.balance -= 50\n",
    "        \n",
    "    def eatLunch(self):\n",
    "        self.balance -= 150\n",
    "        \n",
    "    def eatDinner(self):\n",
    "        self.balance -= 50"
   ]
  },
  {
   "cell_type": "code",
   "execution_count": 139,
   "id": "b16aaf7a",
   "metadata": {},
   "outputs": [],
   "source": [
    "sudeb = MessCard()\n",
    "ramya = MessCard()"
   ]
  },
  {
   "cell_type": "code",
   "execution_count": 140,
   "id": "09fd881e",
   "metadata": {},
   "outputs": [],
   "source": [
    "sudeb.eatBreakfast()"
   ]
  },
  {
   "cell_type": "code",
   "execution_count": 141,
   "id": "672b0a16",
   "metadata": {},
   "outputs": [
    {
     "data": {
      "text/plain": [
       "4950"
      ]
     },
     "execution_count": 141,
     "metadata": {},
     "output_type": "execute_result"
    }
   ],
   "source": [
    "sudeb.balance"
   ]
  },
  {
   "cell_type": "code",
   "execution_count": 142,
   "id": "cc9ab24e",
   "metadata": {},
   "outputs": [],
   "source": [
    "aditya = MessCard()\n",
    "Ramya = MessCard()"
   ]
  },
  {
   "cell_type": "code",
   "execution_count": 143,
   "id": "56c5539f",
   "metadata": {},
   "outputs": [],
   "source": [
    "ramya.eatLunch()"
   ]
  },
  {
   "cell_type": "code",
   "execution_count": 144,
   "id": "c2f4ad27",
   "metadata": {},
   "outputs": [
    {
     "data": {
      "text/plain": [
       "4950"
      ]
     },
     "execution_count": 144,
     "metadata": {},
     "output_type": "execute_result"
    }
   ],
   "source": [
    "sudeb.balance"
   ]
  },
  {
   "cell_type": "code",
   "execution_count": 145,
   "id": "96e9ce1d",
   "metadata": {},
   "outputs": [
    {
     "data": {
      "text/plain": [
       "4850"
      ]
     },
     "execution_count": 145,
     "metadata": {},
     "output_type": "execute_result"
    }
   ],
   "source": [
    "ramya.balance"
   ]
  },
  {
   "cell_type": "markdown",
   "id": "9acc6dfc",
   "metadata": {},
   "source": [
    "- Data Hiding\n",
    "- Static Method\n",
    "- Class Method\n",
    "- Class Variables"
   ]
  },
  {
   "cell_type": "markdown",
   "id": "88706ae2",
   "metadata": {},
   "source": [
    "### Inheritance in Python"
   ]
  },
  {
   "cell_type": "code",
   "execution_count": 146,
   "id": "a2367df9",
   "metadata": {},
   "outputs": [],
   "source": [
    "class A:\n",
    "    def f1(self):\n",
    "        print(\"I am in class A\")\n",
    "        \n",
    "class B:\n",
    "    def f2(self):\n",
    "        print(\"I am in class B\")"
   ]
  },
  {
   "cell_type": "code",
   "execution_count": 147,
   "id": "027722cd",
   "metadata": {},
   "outputs": [],
   "source": [
    "Sudeb = A()\n",
    "Ramya = A()"
   ]
  },
  {
   "cell_type": "code",
   "execution_count": 148,
   "id": "85693943",
   "metadata": {},
   "outputs": [],
   "source": [
    "Venu = B()\n",
    "Sampath = B()"
   ]
  },
  {
   "cell_type": "code",
   "execution_count": 149,
   "id": "a807e035",
   "metadata": {},
   "outputs": [
    {
     "name": "stdout",
     "output_type": "stream",
     "text": [
      "I am in class A\n",
      "I am in class A\n"
     ]
    }
   ],
   "source": [
    "Sudeb.f1()\n",
    "Ramya.f1()"
   ]
  },
  {
   "cell_type": "code",
   "execution_count": 155,
   "id": "5803c811",
   "metadata": {},
   "outputs": [
    {
     "name": "stdout",
     "output_type": "stream",
     "text": [
      "I am in class B\n",
      "I am in class B\n"
     ]
    }
   ],
   "source": [
    "Venu.f2()\n",
    "Sampath.f2()"
   ]
  },
  {
   "cell_type": "markdown",
   "id": "bd679bb1",
   "metadata": {},
   "source": [
    "### Class Inheritance"
   ]
  },
  {
   "cell_type": "code",
   "execution_count": 151,
   "id": "5308431f",
   "metadata": {},
   "outputs": [],
   "source": [
    "class C:\n",
    "    def f1(self):\n",
    "        print(\"I am in class C\")\n",
    "        \n",
    "class D(C): # Single Inheritance\n",
    "    def f2(self):\n",
    "        print(\"I am in class D\")"
   ]
  },
  {
   "cell_type": "code",
   "execution_count": 152,
   "id": "649dd1a1",
   "metadata": {},
   "outputs": [],
   "source": [
    "d1 = D()"
   ]
  },
  {
   "cell_type": "code",
   "execution_count": 153,
   "id": "1a486582",
   "metadata": {},
   "outputs": [
    {
     "name": "stdout",
     "output_type": "stream",
     "text": [
      "I am in class C\n"
     ]
    }
   ],
   "source": [
    "d1.f1()"
   ]
  },
  {
   "cell_type": "code",
   "execution_count": 154,
   "id": "c1ede805",
   "metadata": {},
   "outputs": [
    {
     "name": "stdout",
     "output_type": "stream",
     "text": [
      "I am in class D\n"
     ]
    }
   ],
   "source": [
    "d1.f2()"
   ]
  },
  {
   "cell_type": "code",
   "execution_count": 160,
   "id": "a636ae4f",
   "metadata": {},
   "outputs": [],
   "source": [
    "class F: # super class of class D.\n",
    "    def f3(self):\n",
    "        print(\"I am in class F\")\n",
    "        \n",
    "class G:\n",
    "    def f4(self):\n",
    "        print(\"I am in class G\")\n",
    "        \n",
    "class C:\n",
    "    def f1(self):\n",
    "        print(\"I am in class C\")\n",
    "        \n",
    "class D(C, F, G): # Multiple inheritance (Super Class)\n",
    "    def f2(self):\n",
    "        print(\"I am in class D\")"
   ]
  },
  {
   "cell_type": "code",
   "execution_count": 161,
   "id": "a2f26fa3",
   "metadata": {},
   "outputs": [],
   "source": [
    "d1 = D()"
   ]
  },
  {
   "cell_type": "code",
   "execution_count": 162,
   "id": "b8f0260b",
   "metadata": {},
   "outputs": [
    {
     "name": "stdout",
     "output_type": "stream",
     "text": [
      "I am in class C\n",
      "I am in class D\n",
      "I am in class F\n",
      "I am in class G\n"
     ]
    }
   ],
   "source": [
    "d1.f1()\n",
    "d1.f2()\n",
    "d1.f3()\n",
    "d1.f4()"
   ]
  },
  {
   "cell_type": "code",
   "execution_count": 163,
   "id": "96598fc5",
   "metadata": {},
   "outputs": [],
   "source": [
    "class Programmer:\n",
    "    companyName = \"MouriTech\"\n",
    "    def coding(self):\n",
    "        print(\"I like coding\")\n",
    "\n",
    "class Dancer:\n",
    "    groupName = \"MouriTech\"\n",
    "    def dancer(self):\n",
    "        print(\"I like dancing\")\n",
    "        \n",
    "class Singer:\n",
    "    bandName = \"MouriTech\"\n",
    "    def singing(self):\n",
    "        print(\"I like singing\")\n",
    "    def playingGuitar(self):\n",
    "        print(\"I like playing Guitar\")"
   ]
  },
  {
   "cell_type": "code",
   "execution_count": 164,
   "id": "06c6ab02",
   "metadata": {},
   "outputs": [],
   "source": [
    "class Person(Programmer, Dancer, Singer): # It is a super class\n",
    "    def learn(self):\n",
    "        pass\n",
    "    def walk(self):\n",
    "        pass\n",
    "    def eat(self):\n",
    "        pass"
   ]
  },
  {
   "cell_type": "code",
   "execution_count": 165,
   "id": "5f256ba8",
   "metadata": {},
   "outputs": [
    {
     "data": {
      "text/plain": [
       "'MouriTech'"
      ]
     },
     "execution_count": 165,
     "metadata": {},
     "output_type": "execute_result"
    }
   ],
   "source": [
    "p1= Person()\n",
    "p1.bandName"
   ]
  },
  {
   "cell_type": "code",
   "execution_count": 168,
   "id": "888bbd06",
   "metadata": {},
   "outputs": [],
   "source": [
    "class Phone:\n",
    "    def phone(self):\n",
    "        print(\"This is Phone\")\n",
    "    def receiveCall(self):\n",
    "        print(\"Someone is calling\")\n",
    "    def makeCall(self):\n",
    "        print(\"You are calling\")\n",
    "        \n",
    "class Laptop:\n",
    "    def laptop(self):\n",
    "        print(\"This is Laptop\")\n",
    "    def software(self):\n",
    "        print(\"It has program related to run various files\")\n",
    "    def folder(self):\n",
    "        print(\"It has various folders to store various data\")\n",
    "    def speaker(self):\n",
    "        print(\"It plays music using speaker\")\n",
    "        \n",
    "class ElectronicItem(Phone, Laptop):\n",
    "    def items(self):\n",
    "        print(\"These are Electronic Items\")\n",
    "        "
   ]
  },
  {
   "cell_type": "code",
   "execution_count": null,
   "id": "181ada4b",
   "metadata": {},
   "outputs": [],
   "source": []
  },
  {
   "cell_type": "markdown",
   "id": "916dcd42",
   "metadata": {},
   "source": [
    "### Method overriding or Function overriding"
   ]
  },
  {
   "cell_type": "code",
   "execution_count": 178,
   "id": "672d0143",
   "metadata": {},
   "outputs": [],
   "source": [
    "class Yogesh:\n",
    "    def f1(self):\n",
    "        print(\"I am in Yogesh Class\")\n",
    "\n",
    "class Soniya:\n",
    "    def f1(self):\n",
    "        print(\"I am in Soniya Class\")\n",
    "        super().f1()\n",
    "#         print(\"I am in Soniya Class\")\n",
    "        \n",
    "# class MouriTech(Yogesh, Soniya):\n",
    "class MouriTech(Soniya, Yogesh):\n",
    "    pass"
   ]
  },
  {
   "cell_type": "code",
   "execution_count": 179,
   "id": "41188512",
   "metadata": {},
   "outputs": [],
   "source": [
    "m1 = MouriTech()"
   ]
  },
  {
   "cell_type": "code",
   "execution_count": 180,
   "id": "6a51f38a",
   "metadata": {},
   "outputs": [
    {
     "name": "stdout",
     "output_type": "stream",
     "text": [
      "I am in Soniya Class\n",
      "I am in Yogesh Class\n"
     ]
    }
   ],
   "source": [
    "m1.f1() # We will get output in the sequence we provide for inheritance"
   ]
  },
  {
   "cell_type": "code",
   "execution_count": 181,
   "id": "f1f0d7e7",
   "metadata": {},
   "outputs": [],
   "source": [
    "class Last:\n",
    "    a = 100"
   ]
  },
  {
   "cell_type": "code",
   "execution_count": 185,
   "id": "e23add28",
   "metadata": {},
   "outputs": [],
   "source": [
    "l1 = Last()"
   ]
  },
  {
   "cell_type": "markdown",
   "id": "ff28440a",
   "metadata": {},
   "source": [
    "### Two ways of getting value from class:\n",
    "   - First Method."
   ]
  },
  {
   "cell_type": "code",
   "execution_count": 186,
   "id": "c04dcf94",
   "metadata": {},
   "outputs": [
    {
     "data": {
      "text/plain": [
       "100"
      ]
     },
     "execution_count": 186,
     "metadata": {},
     "output_type": "execute_result"
    }
   ],
   "source": [
    "l1.a"
   ]
  },
  {
   "cell_type": "markdown",
   "id": "86665c50",
   "metadata": {},
   "source": [
    "- Second Method"
   ]
  },
  {
   "cell_type": "code",
   "execution_count": 188,
   "id": "c253a323",
   "metadata": {},
   "outputs": [
    {
     "data": {
      "text/plain": [
       "100"
      ]
     },
     "execution_count": 188,
     "metadata": {},
     "output_type": "execute_result"
    }
   ],
   "source": [
    "getattr(l1, 'a') # get variable inside class"
   ]
  },
  {
   "cell_type": "markdown",
   "id": "06bc3c62",
   "metadata": {},
   "source": [
    "### Two methods of Setting value in class\n",
    "   - First Method"
   ]
  },
  {
   "cell_type": "code",
   "execution_count": 189,
   "id": "382ab531",
   "metadata": {},
   "outputs": [],
   "source": [
    "l1.a = 200\n"
   ]
  },
  {
   "cell_type": "markdown",
   "id": "3ef71f6a",
   "metadata": {},
   "source": [
    "- Second Method"
   ]
  },
  {
   "cell_type": "code",
   "execution_count": 190,
   "id": "5c480129",
   "metadata": {},
   "outputs": [],
   "source": [
    "setattr(l1, 'a', 300)"
   ]
  },
  {
   "cell_type": "code",
   "execution_count": 191,
   "id": "77b5c1bd",
   "metadata": {},
   "outputs": [
    {
     "data": {
      "text/plain": [
       "300"
      ]
     },
     "execution_count": 191,
     "metadata": {},
     "output_type": "execute_result"
    }
   ],
   "source": [
    "l1.a"
   ]
  },
  {
   "cell_type": "code",
   "execution_count": null,
   "id": "e75c26d3",
   "metadata": {},
   "outputs": [],
   "source": []
  }
 ],
 "metadata": {
  "kernelspec": {
   "display_name": "Python 3 (ipykernel)",
   "language": "python",
   "name": "python3"
  },
  "language_info": {
   "codemirror_mode": {
    "name": "ipython",
    "version": 3
   },
   "file_extension": ".py",
   "mimetype": "text/x-python",
   "name": "python",
   "nbconvert_exporter": "python",
   "pygments_lexer": "ipython3",
   "version": "3.10.8"
  }
 },
 "nbformat": 4,
 "nbformat_minor": 5
}
