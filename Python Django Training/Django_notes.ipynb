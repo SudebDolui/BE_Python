{
 "cells": [
  {
   "cell_type": "markdown",
   "metadata": {},
   "source": [
    "- Django is a python framework to make websites with lot of security concerns.\n",
    "- Django uses the model of MVT(Model View Template).\n",
    "- Django focuses on reusing the components. (DRY - Don't Repeat Yourself)"
   ]
  },
  {
   "cell_type": "markdown",
   "metadata": {},
   "source": [
    "M - Model is used to present data from Database.\n",
    "V - View is returning the HTML content request from user.\n",
    "T - Template is a layout of webpage to display the UI.\n",
    "\n",
    "Django has two modes:\n",
    "1. Administrator Mode.\n",
    "2. Developer Mode.\n",
    "\n",
    "django-admin startproject Project -> Command used to create Django Project\n",
    "\n",
    "cd Project\n",
    "\n",
    "py manage.py runserver -> used to run server\n",
    "\n",
    "py manage.py migrate -> Used to create admin table\n",
    "\n",
    "py manage.py createsuperuser -> Used to create super user.\n",
    "\n",
    "django-admin startapp App -> Used to create Application\n",
    "\n",
    "add 'APP' in settings.py under project folder after creating the application like this we can add n number of appkications."
   ]
  },
  {
   "cell_type": "markdown",
   "metadata": {},
   "source": [
    "pip install virtualenv\n",
    "virtualenv --version\n",
    "python -m venv demoEnv\n",
    "conda activate demoEnv -> Not working.\n",
    "C:\\Users\\sudebd>demoEnv\\scripts/activate -> this works"
   ]
  },
  {
   "cell_type": "markdown",
   "metadata": {},
   "source": [
    "31/10/2022 :-\n",
    "\n",
    "conda activate C:\\Users\\sudebd\\Anaconda3\\envs\\sudeb\n",
    "C:\\Users\\sudebd\\Anaconda3\\Scripts\\conda.exe install -p C:/Users/sudebd/Anaconda3/envs/sudeb jinja2 -y/\n",
    "\n",
    "create varities of froms using Django.\n",
    "import static folder django\n",
    "make jinja2 templates in pycharm"
   ]
  },
  {
   "cell_type": "markdown",
   "metadata": {},
   "source": [
    "1/11/2022\n",
    "\n",
    "py manage.py makemigrations - To create model\n"
   ]
  }
 ],
 "metadata": {
  "language_info": {
   "name": "python"
  },
  "orig_nbformat": 4
 },
 "nbformat": 4,
 "nbformat_minor": 2
}
